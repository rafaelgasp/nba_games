{
 "cells": [
  {
   "cell_type": "code",
   "execution_count": 4,
   "metadata": {
    "ExecuteTime": {
     "end_time": "2018-09-22T22:21:18.284131Z",
     "start_time": "2018-09-22T22:21:18.228164Z"
    }
   },
   "outputs": [],
   "source": [
    "import pandas as pd\n",
    "import numpy as np\n",
    "from datetime import datetime, timedelta\n",
    "import geopy.distance"
   ]
  },
  {
   "cell_type": "code",
   "execution_count": 2,
   "metadata": {
    "ExecuteTime": {
     "end_time": "2018-09-18T01:32:52.028580Z",
     "start_time": "2018-09-18T01:32:50.033372Z"
    },
    "collapsed": true
   },
   "outputs": [],
   "source": [
    "base_nba_per_game = pd.read_csv(\"bases_nba_stats/base_nba_per_game_17_18_arrumada.csv\", sep=\";\")"
   ]
  },
  {
   "cell_type": "code",
   "execution_count": 31,
   "metadata": {
    "ExecuteTime": {
     "end_time": "2018-09-11T03:00:54.496190Z",
     "start_time": "2018-09-11T03:00:54.488705Z"
    },
    "collapsed": true
   },
   "outputs": [],
   "source": [
    "base_nba_per_game[\"fl_home\"] = np.where(base_nba_per_game[\"GAME\"].str[6:9] == base_nba_per_game[\"TEAM_ABBREVIATION\"], 1, 0)"
   ]
  },
  {
   "cell_type": "code",
   "execution_count": 32,
   "metadata": {
    "ExecuteTime": {
     "end_time": "2018-09-11T03:00:54.880225Z",
     "start_time": "2018-09-11T03:00:54.836226Z"
    },
    "collapsed": true
   },
   "outputs": [],
   "source": [
    "home_games = base_nba_per_game[base_nba_per_game[\"fl_home\"] == 1].set_index(\"GAME\")\n",
    "away_games = base_nba_per_game[base_nba_per_game[\"fl_home\"] == 0].set_index(\"GAME\")"
   ]
  },
  {
   "cell_type": "code",
   "execution_count": 33,
   "metadata": {
    "ExecuteTime": {
     "end_time": "2018-09-11T03:00:55.188957Z",
     "start_time": "2018-09-11T03:00:55.182468Z"
    }
   },
   "outputs": [
    {
     "name": "stdout",
     "output_type": "stream",
     "text": [
      "Home (1230, 112)\n",
      "Away (1230, 112)\n"
     ]
    }
   ],
   "source": [
    "print(\"Home\", home_games.shape)\n",
    "print(\"Away\", away_games.shape)"
   ]
  },
  {
   "cell_type": "code",
   "execution_count": 34,
   "metadata": {
    "ExecuteTime": {
     "end_time": "2018-09-11T03:00:55.666516Z",
     "start_time": "2018-09-11T03:00:55.621602Z"
    },
    "collapsed": true
   },
   "outputs": [],
   "source": [
    "all_games = home_games.join(away_games, how=\"inner\", lsuffix=\"_home\", rsuffix=\"_away\")\n",
    "all_games.drop([\"GAME_ID_away\", \"GAME_DATE_away\", \"GAME_PLACE_away\",\n",
    "                \"MIN_home\", \"MIN_away\", 'PTS_hustle_home', 'PTS_hustle_away',\n",
    "                \"fl_home_away\", \"fl_home_home\"], axis=1, inplace=True)"
   ]
  },
  {
   "cell_type": "code",
   "execution_count": 35,
   "metadata": {
    "ExecuteTime": {
     "end_time": "2018-09-11T03:00:56.130982Z",
     "start_time": "2018-09-11T03:00:56.118005Z"
    }
   },
   "outputs": [
    {
     "data": {
      "text/html": [
       "<div>\n",
       "<style scoped>\n",
       "    .dataframe tbody tr th:only-of-type {\n",
       "        vertical-align: middle;\n",
       "    }\n",
       "\n",
       "    .dataframe tbody tr th {\n",
       "        vertical-align: top;\n",
       "    }\n",
       "\n",
       "    .dataframe thead th {\n",
       "        text-align: right;\n",
       "    }\n",
       "</style>\n",
       "<table border=\"1\" class=\"dataframe\">\n",
       "  <thead>\n",
       "    <tr style=\"text-align: right;\">\n",
       "      <th></th>\n",
       "      <th>TEAM_ABBREVIATION_away</th>\n",
       "      <th>PTS_away</th>\n",
       "      <th>TEAM_ABBREVIATION_home</th>\n",
       "      <th>PTS_home</th>\n",
       "    </tr>\n",
       "    <tr>\n",
       "      <th>GAME</th>\n",
       "      <th></th>\n",
       "      <th></th>\n",
       "      <th></th>\n",
       "      <th></th>\n",
       "    </tr>\n",
       "  </thead>\n",
       "  <tbody>\n",
       "    <tr>\n",
       "      <th>BOS @ CLE 2017-10-17</th>\n",
       "      <td>BOS</td>\n",
       "      <td>99</td>\n",
       "      <td>CLE</td>\n",
       "      <td>102</td>\n",
       "    </tr>\n",
       "    <tr>\n",
       "      <th>HOU @ GSW 2017-10-17</th>\n",
       "      <td>HOU</td>\n",
       "      <td>122</td>\n",
       "      <td>GSW</td>\n",
       "      <td>121</td>\n",
       "    </tr>\n",
       "    <tr>\n",
       "      <th>CHA @ DET 2017-10-18</th>\n",
       "      <td>CHA</td>\n",
       "      <td>90</td>\n",
       "      <td>DET</td>\n",
       "      <td>102</td>\n",
       "    </tr>\n",
       "    <tr>\n",
       "      <th>BKN @ IND 2017-10-18</th>\n",
       "      <td>BKN</td>\n",
       "      <td>131</td>\n",
       "      <td>IND</td>\n",
       "      <td>140</td>\n",
       "    </tr>\n",
       "    <tr>\n",
       "      <th>MIA @ ORL 2017-10-18</th>\n",
       "      <td>MIA</td>\n",
       "      <td>109</td>\n",
       "      <td>ORL</td>\n",
       "      <td>116</td>\n",
       "    </tr>\n",
       "  </tbody>\n",
       "</table>\n",
       "</div>"
      ],
      "text/plain": [
       "                     TEAM_ABBREVIATION_away  PTS_away TEAM_ABBREVIATION_home  \\\n",
       "GAME                                                                           \n",
       "BOS @ CLE 2017-10-17                    BOS        99                    CLE   \n",
       "HOU @ GSW 2017-10-17                    HOU       122                    GSW   \n",
       "CHA @ DET 2017-10-18                    CHA        90                    DET   \n",
       "BKN @ IND 2017-10-18                    BKN       131                    IND   \n",
       "MIA @ ORL 2017-10-18                    MIA       109                    ORL   \n",
       "\n",
       "                      PTS_home  \n",
       "GAME                            \n",
       "BOS @ CLE 2017-10-17       102  \n",
       "HOU @ GSW 2017-10-17       121  \n",
       "CHA @ DET 2017-10-18       102  \n",
       "BKN @ IND 2017-10-18       140  \n",
       "MIA @ ORL 2017-10-18       116  "
      ]
     },
     "execution_count": 35,
     "metadata": {},
     "output_type": "execute_result"
    }
   ],
   "source": [
    "all_games[[\"TEAM_ABBREVIATION_away\", \"PTS_away\", \"TEAM_ABBREVIATION_home\", \"PTS_home\"]].head()"
   ]
  },
  {
   "cell_type": "code",
   "execution_count": 12,
   "metadata": {
    "ExecuteTime": {
     "end_time": "2018-09-11T15:11:58.336420Z",
     "start_time": "2018-09-11T15:11:58.315959Z"
    },
    "collapsed": true
   },
   "outputs": [],
   "source": [
    "def get_season(date):\n",
    "    ano = date.year\n",
    "    if(date.month >= 10):\n",
    "        return ano + 1\n",
    "    return ano\n",
    "\n",
    "def is_playoff(date):\n",
    "    # Playoffs 2016\n",
    "    if date >= datetime(2016, 4, 16) and date < datetime(2016, 6, 30):\n",
    "        return 1\n",
    "    \n",
    "    # Playoffs 2017\n",
    "    elif date >= datetime(2017, 4, 15) and date < datetime(2017, 6, 30):\n",
    "        return 1\n",
    "    \n",
    "     # Playoffs 2018\n",
    "    elif date >= datetime(2018, 4, 14) and date < datetime(2018, 6, 30):\n",
    "        return 1\n",
    "    \n",
    "    return 0"
   ]
  },
  {
   "cell_type": "code",
   "execution_count": 13,
   "metadata": {
    "ExecuteTime": {
     "end_time": "2018-09-11T15:11:58.706417Z",
     "start_time": "2018-09-11T15:11:58.652016Z"
    },
    "collapsed": true
   },
   "outputs": [],
   "source": [
    "all_games[\"DATE\"] = [datetime.strptime(str(x), '%d/%m/%Y') for x in all_games.GAME_DATE_home]\n",
    "all_games[\"SEASON\"] = [get_season(x) for x in all_games.DATE]\n",
    "all_games[\"fl_playoff\"] = [is_playoff(x) for x in all_games.DATE]\n",
    "all_games['fl_home_win'] = np.where(all_games['PTS_home'] > all_games['PTS_away'], 1, 0)\n",
    "all_games = all_games.sort_values('DATE')"
   ]
  },
  {
   "cell_type": "code",
   "execution_count": 39,
   "metadata": {
    "ExecuteTime": {
     "end_time": "2018-09-11T03:01:20.341606Z",
     "start_time": "2018-09-11T03:01:20.331126Z"
    },
    "collapsed": true
   },
   "outputs": [],
   "source": [
    "all_games = all_games.rename(columns={'TEAM_ABBREVIATION_home': \"team_home\",\n",
    "                                     'TEAM_ABBREVIATION_away': \"team_away\"})"
   ]
  },
  {
   "cell_type": "code",
   "execution_count": 54,
   "metadata": {
    "ExecuteTime": {
     "end_time": "2018-09-11T03:12:04.166040Z",
     "start_time": "2018-09-11T03:12:04.149568Z"
    },
    "collapsed": true
   },
   "outputs": [],
   "source": [
    "all_games[\"team_home_game_num\"] = all_games.groupby(['team_home']).cumcount() + 1\n",
    "all_games[\"team_away_game_num\"] = all_games.groupby(['team_away']).cumcount() + 1"
   ]
  },
  {
   "cell_type": "code",
   "execution_count": 14,
   "metadata": {
    "ExecuteTime": {
     "end_time": "2018-09-11T15:12:06.796325Z",
     "start_time": "2018-09-11T15:12:01.479055Z"
    },
    "collapsed": true
   },
   "outputs": [],
   "source": [
    "all_games.to_csv(\"./bases_nba_stats/all_games_nba_17_18.csv\")"
   ]
  },
  {
   "cell_type": "markdown",
   "metadata": {},
   "source": [
    "### Matriz de Distância entre os Times"
   ]
  },
  {
   "cell_type": "code",
   "execution_count": 12,
   "metadata": {
    "ExecuteTime": {
     "end_time": "2018-09-22T22:25:45.937680Z",
     "start_time": "2018-09-22T22:25:45.919692Z"
    }
   },
   "outputs": [],
   "source": [
    "base_lat_long = pd.read_excel(\"./lat_long_teams.xlsx\").drop(\"team_id\", axis=1)"
   ]
  },
  {
   "cell_type": "code",
   "execution_count": 38,
   "metadata": {
    "ExecuteTime": {
     "end_time": "2018-09-22T22:37:48.093719Z",
     "start_time": "2018-09-22T22:37:48.079729Z"
    }
   },
   "outputs": [
    {
     "data": {
      "text/html": [
       "<div>\n",
       "<style scoped>\n",
       "    .dataframe tbody tr th:only-of-type {\n",
       "        vertical-align: middle;\n",
       "    }\n",
       "\n",
       "    .dataframe tbody tr th {\n",
       "        vertical-align: top;\n",
       "    }\n",
       "\n",
       "    .dataframe thead th {\n",
       "        text-align: right;\n",
       "    }\n",
       "</style>\n",
       "<table border=\"1\" class=\"dataframe\">\n",
       "  <thead>\n",
       "    <tr style=\"text-align: right;\">\n",
       "      <th></th>\n",
       "      <th>abreviation</th>\n",
       "      <th>team_name</th>\n",
       "      <th>lat</th>\n",
       "      <th>lon</th>\n",
       "    </tr>\n",
       "  </thead>\n",
       "  <tbody>\n",
       "    <tr>\n",
       "      <th>0</th>\n",
       "      <td>MIA</td>\n",
       "      <td>Miami Heat</td>\n",
       "      <td>25.7814</td>\n",
       "      <td>-80.1878</td>\n",
       "    </tr>\n",
       "    <tr>\n",
       "      <th>1</th>\n",
       "      <td>ORL</td>\n",
       "      <td>Orlando Magic</td>\n",
       "      <td>28.5392</td>\n",
       "      <td>-81.3836</td>\n",
       "    </tr>\n",
       "    <tr>\n",
       "      <th>2</th>\n",
       "      <td>SAS</td>\n",
       "      <td>San Antonio Spurs</td>\n",
       "      <td>29.4269</td>\n",
       "      <td>-98.4375</td>\n",
       "    </tr>\n",
       "    <tr>\n",
       "      <th>3</th>\n",
       "      <td>HOU</td>\n",
       "      <td>Houston Rockets</td>\n",
       "      <td>29.7508</td>\n",
       "      <td>-95.3622</td>\n",
       "    </tr>\n",
       "    <tr>\n",
       "      <th>4</th>\n",
       "      <td>NOP</td>\n",
       "      <td>New Orleans Pelicans</td>\n",
       "      <td>29.9489</td>\n",
       "      <td>-90.0822</td>\n",
       "    </tr>\n",
       "  </tbody>\n",
       "</table>\n",
       "</div>"
      ],
      "text/plain": [
       "  abreviation             team_name      lat      lon\n",
       "0         MIA            Miami Heat  25.7814 -80.1878\n",
       "1         ORL         Orlando Magic  28.5392 -81.3836\n",
       "2         SAS     San Antonio Spurs  29.4269 -98.4375\n",
       "3         HOU       Houston Rockets  29.7508 -95.3622\n",
       "4         NOP  New Orleans Pelicans  29.9489 -90.0822"
      ]
     },
     "execution_count": 38,
     "metadata": {},
     "output_type": "execute_result"
    }
   ],
   "source": [
    "base_lat_long.head()"
   ]
  },
  {
   "cell_type": "code",
   "execution_count": 27,
   "metadata": {
    "ExecuteTime": {
     "end_time": "2018-09-22T22:33:33.150912Z",
     "start_time": "2018-09-22T22:33:33.144921Z"
    },
    "collapsed": true
   },
   "outputs": [],
   "source": [
    "teams = base_lat_long.abreviation.unique()"
   ]
  },
  {
   "cell_type": "code",
   "execution_count": 35,
   "metadata": {
    "ExecuteTime": {
     "end_time": "2018-09-22T22:36:24.989803Z",
     "start_time": "2018-09-22T22:36:22.251335Z"
    }
   },
   "outputs": [],
   "source": [
    "teams = base_lat_long.abreviation.unique()\n",
    "df_dist = pd.DataFrame(columns=teams, index=teams)\n",
    "\n",
    "for team in teams:\n",
    "    for team_2 in teams:\n",
    "        team1_location = (base_lat_long[base_lat_long.abreviation == team].lat.iloc[0], \n",
    "                          base_lat_long[base_lat_long.abreviation == team].lon.iloc[0])\n",
    "        \n",
    "        team2_location = (base_lat_long[base_lat_long.abreviation == team_2].lat.iloc[0], \n",
    "                          base_lat_long[base_lat_long.abreviation == team_2].lon.iloc[0])\n",
    "        \n",
    "        df_dist.loc[team, team_2] = geopy.distance.vincenty(team1_location, team2_location).km        "
   ]
  },
  {
   "cell_type": "code",
   "execution_count": 37,
   "metadata": {
    "ExecuteTime": {
     "end_time": "2018-09-22T22:36:51.558094Z",
     "start_time": "2018-09-22T22:36:51.380547Z"
    }
   },
   "outputs": [],
   "source": [
    "df_dist.to_csv(\"dist_matrix_km.csv\")"
   ]
  },
  {
   "cell_type": "markdown",
   "metadata": {},
   "source": [
    "### Cria features de Número de Jogos"
   ]
  },
  {
   "cell_type": "code",
   "execution_count": 65,
   "metadata": {
    "ExecuteTime": {
     "end_time": "2018-09-22T23:01:52.991402Z",
     "start_time": "2018-09-22T23:01:52.907452Z"
    },
    "collapsed": true
   },
   "outputs": [],
   "source": [
    "all_games = pd.read_csv(\"./bases_nba_stats/all_games_nba_17_18.csv\").drop(\"Unnamed: 0\", axis=1)"
   ]
  },
  {
   "cell_type": "code",
   "execution_count": 66,
   "metadata": {
    "ExecuteTime": {
     "end_time": "2018-09-22T23:01:53.225268Z",
     "start_time": "2018-09-22T23:01:53.202285Z"
    },
    "collapsed": true
   },
   "outputs": [],
   "source": [
    "all_games[\"DATE\"] = [datetime.strptime(str(x), '%d/%m/%Y') for x in all_games.GAME_DATE_home]"
   ]
  },
  {
   "cell_type": "code",
   "execution_count": 67,
   "metadata": {
    "ExecuteTime": {
     "end_time": "2018-09-22T23:01:53.476127Z",
     "start_time": "2018-09-22T23:01:53.452140Z"
    },
    "collapsed": true
   },
   "outputs": [],
   "source": [
    "def get_dist_last_game(df, data, team_home, team_away, is_home=True):    \n",
    "    \"\"\"\n",
    "        Retorna a distância em KM percorrida pelo time específico para chegar a um jogo\n",
    "    \"\"\"\n",
    "    \n",
    "    if(is_home):\n",
    "        last_game = get_last_games(df, data, team_home, n = 1)\n",
    "        \n",
    "        if(len(last_game) == 0):\n",
    "            return(0)\n",
    "        \n",
    "        if (last_game.team_home.iloc[0] == team_home):\n",
    "            return(0)\n",
    "        else:\n",
    "            return(df_dist.loc[team_home, last_game.team_home.iloc[0]])        \n",
    "    else:\n",
    "        last_game = get_last_games(df, data, team_away, n = 1)\n",
    "        \n",
    "        if(len(last_game) == 0):\n",
    "            return(df_dist.loc[team_home, team_away])\n",
    "        \n",
    "        if (last_game.team_away.iloc[0] == team_away):\n",
    "            return(df_dist.loc[team_home, last_game.team_away.iloc[0]])\n",
    "        else:\n",
    "            return(df_dist.loc[team_home, team_away])    "
   ]
  },
  {
   "cell_type": "code",
   "execution_count": 68,
   "metadata": {
    "ExecuteTime": {
     "end_time": "2018-09-22T23:02:00.652143Z",
     "start_time": "2018-09-22T23:01:53.904993Z"
    }
   },
   "outputs": [],
   "source": [
    "all_games[\"DISTANCE_KM_home\"] = [get_dist_last_game(all_games, x.DATE, x.team_home, x.team_away, is_home=True) for x in all_games.itertuples()]\n",
    "all_games[\"DISTANCE_KM_away\"] = [get_dist_last_game(all_games, x.DATE, x.team_home, x.team_away, is_home=False) for x in all_games.itertuples()]"
   ]
  },
  {
   "cell_type": "code",
   "execution_count": 69,
   "metadata": {
    "ExecuteTime": {
     "end_time": "2018-09-22T23:02:00.843017Z",
     "start_time": "2018-09-22T23:02:00.808037Z"
    }
   },
   "outputs": [
    {
     "data": {
      "text/html": [
       "<div>\n",
       "<style scoped>\n",
       "    .dataframe tbody tr th:only-of-type {\n",
       "        vertical-align: middle;\n",
       "    }\n",
       "\n",
       "    .dataframe tbody tr th {\n",
       "        vertical-align: top;\n",
       "    }\n",
       "\n",
       "    .dataframe thead th {\n",
       "        text-align: right;\n",
       "    }\n",
       "</style>\n",
       "<table border=\"1\" class=\"dataframe\">\n",
       "  <thead>\n",
       "    <tr style=\"text-align: right;\">\n",
       "      <th></th>\n",
       "      <th>GAME</th>\n",
       "      <th>GAME_ID_home</th>\n",
       "      <th>TEAM_ID_home</th>\n",
       "      <th>TEAM_NAME_home</th>\n",
       "      <th>team_home</th>\n",
       "      <th>TEAM_CITY_home</th>\n",
       "      <th>FGM_home</th>\n",
       "      <th>FGA_home</th>\n",
       "      <th>FG_PCT_home</th>\n",
       "      <th>FG3M_home</th>\n",
       "      <th>...</th>\n",
       "      <th>SCREEN_ASSISTS_away</th>\n",
       "      <th>BOX_OUTS_away</th>\n",
       "      <th>DATE</th>\n",
       "      <th>SEASON</th>\n",
       "      <th>fl_playoff</th>\n",
       "      <th>team_home_game_num</th>\n",
       "      <th>team_away_game_num</th>\n",
       "      <th>fl_home_win</th>\n",
       "      <th>DISTANCE_KM_home</th>\n",
       "      <th>DISTANCE_KM_away</th>\n",
       "    </tr>\n",
       "  </thead>\n",
       "  <tbody>\n",
       "    <tr>\n",
       "      <th>0</th>\n",
       "      <td>BOS @ CLE 2017-10-17</td>\n",
       "      <td>21700001</td>\n",
       "      <td>1610612739</td>\n",
       "      <td>Cavaliers</td>\n",
       "      <td>CLE</td>\n",
       "      <td>Cleveland</td>\n",
       "      <td>38</td>\n",
       "      <td>83</td>\n",
       "      <td>0.458</td>\n",
       "      <td>5</td>\n",
       "      <td>...</td>\n",
       "      <td>9</td>\n",
       "      <td>38</td>\n",
       "      <td>2017-10-17</td>\n",
       "      <td>2018</td>\n",
       "      <td>0</td>\n",
       "      <td>1</td>\n",
       "      <td>1</td>\n",
       "      <td>1</td>\n",
       "      <td>0.0</td>\n",
       "      <td>885.985871</td>\n",
       "    </tr>\n",
       "    <tr>\n",
       "      <th>1</th>\n",
       "      <td>HOU @ GSW 2017-10-17</td>\n",
       "      <td>21700002</td>\n",
       "      <td>1610612744</td>\n",
       "      <td>Warriors</td>\n",
       "      <td>GSW</td>\n",
       "      <td>Golden State</td>\n",
       "      <td>43</td>\n",
       "      <td>80</td>\n",
       "      <td>0.537</td>\n",
       "      <td>16</td>\n",
       "      <td>...</td>\n",
       "      <td>7</td>\n",
       "      <td>21</td>\n",
       "      <td>2017-10-17</td>\n",
       "      <td>2018</td>\n",
       "      <td>0</td>\n",
       "      <td>1</td>\n",
       "      <td>1</td>\n",
       "      <td>0</td>\n",
       "      <td>0.0</td>\n",
       "      <td>2629.261668</td>\n",
       "    </tr>\n",
       "    <tr>\n",
       "      <th>2</th>\n",
       "      <td>NOP @ MEM 2017-10-18</td>\n",
       "      <td>21700008</td>\n",
       "      <td>1610612763</td>\n",
       "      <td>Grizzlies</td>\n",
       "      <td>MEM</td>\n",
       "      <td>Memphis</td>\n",
       "      <td>39</td>\n",
       "      <td>92</td>\n",
       "      <td>0.424</td>\n",
       "      <td>9</td>\n",
       "      <td>...</td>\n",
       "      <td>4</td>\n",
       "      <td>17</td>\n",
       "      <td>2017-10-18</td>\n",
       "      <td>2018</td>\n",
       "      <td>0</td>\n",
       "      <td>1</td>\n",
       "      <td>1</td>\n",
       "      <td>1</td>\n",
       "      <td>0.0</td>\n",
       "      <td>575.494941</td>\n",
       "    </tr>\n",
       "    <tr>\n",
       "      <th>3</th>\n",
       "      <td>HOU @ SAC 2017-10-18</td>\n",
       "      <td>21700013</td>\n",
       "      <td>1610612758</td>\n",
       "      <td>Kings</td>\n",
       "      <td>SAC</td>\n",
       "      <td>Sacramento</td>\n",
       "      <td>42</td>\n",
       "      <td>88</td>\n",
       "      <td>0.477</td>\n",
       "      <td>8</td>\n",
       "      <td>...</td>\n",
       "      <td>5</td>\n",
       "      <td>28</td>\n",
       "      <td>2017-10-18</td>\n",
       "      <td>2018</td>\n",
       "      <td>0</td>\n",
       "      <td>1</td>\n",
       "      <td>2</td>\n",
       "      <td>0</td>\n",
       "      <td>0.0</td>\n",
       "      <td>2593.376343</td>\n",
       "    </tr>\n",
       "    <tr>\n",
       "      <th>4</th>\n",
       "      <td>DEN @ UTA 2017-10-18</td>\n",
       "      <td>21700010</td>\n",
       "      <td>1610612762</td>\n",
       "      <td>Jazz</td>\n",
       "      <td>UTA</td>\n",
       "      <td>Utah</td>\n",
       "      <td>41</td>\n",
       "      <td>81</td>\n",
       "      <td>0.506</td>\n",
       "      <td>9</td>\n",
       "      <td>...</td>\n",
       "      <td>7</td>\n",
       "      <td>21</td>\n",
       "      <td>2017-10-18</td>\n",
       "      <td>2018</td>\n",
       "      <td>0</td>\n",
       "      <td>1</td>\n",
       "      <td>1</td>\n",
       "      <td>1</td>\n",
       "      <td>0.0</td>\n",
       "      <td>597.057075</td>\n",
       "    </tr>\n",
       "  </tbody>\n",
       "</table>\n",
       "<p>5 rows × 224 columns</p>\n",
       "</div>"
      ],
      "text/plain": [
       "                   GAME  GAME_ID_home  TEAM_ID_home TEAM_NAME_home team_home  \\\n",
       "0  BOS @ CLE 2017-10-17      21700001    1610612739      Cavaliers       CLE   \n",
       "1  HOU @ GSW 2017-10-17      21700002    1610612744       Warriors       GSW   \n",
       "2  NOP @ MEM 2017-10-18      21700008    1610612763      Grizzlies       MEM   \n",
       "3  HOU @ SAC 2017-10-18      21700013    1610612758          Kings       SAC   \n",
       "4  DEN @ UTA 2017-10-18      21700010    1610612762           Jazz       UTA   \n",
       "\n",
       "  TEAM_CITY_home  FGM_home  FGA_home  FG_PCT_home  FG3M_home  \\\n",
       "0      Cleveland        38        83        0.458          5   \n",
       "1   Golden State        43        80        0.537         16   \n",
       "2        Memphis        39        92        0.424          9   \n",
       "3     Sacramento        42        88        0.477          8   \n",
       "4           Utah        41        81        0.506          9   \n",
       "\n",
       "         ...         SCREEN_ASSISTS_away  BOX_OUTS_away       DATE  SEASON  \\\n",
       "0        ...                           9             38 2017-10-17    2018   \n",
       "1        ...                           7             21 2017-10-17    2018   \n",
       "2        ...                           4             17 2017-10-18    2018   \n",
       "3        ...                           5             28 2017-10-18    2018   \n",
       "4        ...                           7             21 2017-10-18    2018   \n",
       "\n",
       "   fl_playoff  team_home_game_num  team_away_game_num  fl_home_win  \\\n",
       "0           0                   1                   1            1   \n",
       "1           0                   1                   1            0   \n",
       "2           0                   1                   1            1   \n",
       "3           0                   1                   2            0   \n",
       "4           0                   1                   1            1   \n",
       "\n",
       "   DISTANCE_KM_home  DISTANCE_KM_away  \n",
       "0               0.0        885.985871  \n",
       "1               0.0       2629.261668  \n",
       "2               0.0        575.494941  \n",
       "3               0.0       2593.376343  \n",
       "4               0.0        597.057075  \n",
       "\n",
       "[5 rows x 224 columns]"
      ]
     },
     "execution_count": 69,
     "metadata": {},
     "output_type": "execute_result"
    }
   ],
   "source": [
    "all_games.head()"
   ]
  },
  {
   "cell_type": "markdown",
   "metadata": {},
   "source": [
    "### Últimos 5 Jogos"
   ]
  },
  {
   "cell_type": "code",
   "execution_count": 5,
   "metadata": {
    "ExecuteTime": {
     "end_time": "2018-09-22T14:44:07.810058Z",
     "start_time": "2018-09-22T14:44:07.803063Z"
    },
    "collapsed": true
   },
   "outputs": [],
   "source": [
    "home_columns = [x for x in all_games.columns if x.endswith(\"_home\") and x not in ['GAME_ID_home', 'TEAM_CITY_home', 'GAME_DATE_home', 'GAME_PLACE_home', 'TEAM_NICKNAME_home']]\n",
    "away_columns = [x for x in all_games.columns if x.endswith(\"_away\") and x not in ['TEAM_CITY_away', 'TEAM_NICKNAME_away']]"
   ]
  },
  {
   "cell_type": "code",
   "execution_count": 6,
   "metadata": {
    "ExecuteTime": {
     "end_time": "2018-09-22T14:44:09.544040Z",
     "start_time": "2018-09-22T14:44:09.540024Z"
    },
    "collapsed": true
   },
   "outputs": [],
   "source": [
    "# \"['WIN_HOME_away' 'WIN_AWAY_away' 'WIN_away' 'WIN_HOME_PCT_away'\\n 'WIN_AWAY_PCT_away'\n",
    "# 'WIN_PCT_away' 'NUM_GAMES_HOME_away'\\n 'NUM_GAMES_AWAY_away' 'DAYS_DIFF_TOTAL_away' \n",
    "# 'DAYS_DIFF_NEXT_GAME_away'\\n 'DAYS_DIFF_NEXT_GAMES_STD_away']"
   ]
  },
  {
   "cell_type": "code",
   "execution_count": 7,
   "metadata": {
    "ExecuteTime": {
     "end_time": "2018-09-22T14:44:09.841350Z",
     "start_time": "2018-09-22T14:44:09.836449Z"
    },
    "collapsed": true
   },
   "outputs": [],
   "source": [
    "# extra_columns = []\n",
    "\n",
    "# home_columns += [x + \"_home\" for x in extra_columns]\n",
    "# away_columns += [x + \"_away\" for x in extra_columns]"
   ]
  },
  {
   "cell_type": "code",
   "execution_count": 8,
   "metadata": {
    "ExecuteTime": {
     "end_time": "2018-09-22T14:44:11.117454Z",
     "start_time": "2018-09-22T14:44:10.643194Z"
    },
    "collapsed": true
   },
   "outputs": [],
   "source": [
    "def cria_variaveis_sumarizacao(last_games, team_name, n = 5, data_ref = None, verbose = False):\n",
    "    resp = {}\n",
    "    \n",
    "    # Cria variávies de Win %\n",
    "    # Visão home\n",
    "    resp[\"num_wins_home\"] = [np.where((last_games[\"team_home\"] == team_name) &\n",
    "                             (last_games[\"fl_home_win\"] == 1) , 1, 0).sum()]\n",
    "    resp[\"num_games_home\"] = [np.where(last_games[\"team_home\"] == team_name, 1, 0).sum()]\n",
    "    resp[\"win_home_pct\"] = [(resp[\"num_wins_home\"][0] / resp[\"num_games_home\"][0])]\n",
    "    \n",
    "    # Visão Away\n",
    "    resp[\"num_wins_away\"] = [np.where((last_games[\"team_away\"] == team_name) & \n",
    "                                      (last_games[\"fl_home_win\"] == 0), 1, 0).sum()]\n",
    "    resp[\"num_games_away\"] = [np.where(last_games[\"team_away\"] == team_name, 1, 0).sum()]\n",
    "    resp[\"win_away_pct\"] = [(resp[\"num_wins_away\"][0] / resp[\"num_games_away\"][0])]\n",
    "    \n",
    "    # Visão geral\n",
    "    resp[\"num_wins_total\"] = [resp[\"num_wins_away\"][0] + resp[\"num_wins_home\"][0]]\n",
    "    resp[\"win_pct\"] = [resp[\"num_wins_total\"][0]/n]\n",
    "    \n",
    "    if verbose:\n",
    "        print(\"Win_PCT\", resp[\"win_pct\"][0], resp[\"num_wins_away\"][0], resp[\"num_wins_home\"][0])\n",
    "    \n",
    "    # Cria variáveis de data\n",
    "    if(data_ref is None):\n",
    "        data_ref = np.max(last_games[\"DATE\"]) + timedelta(days=1)\n",
    "    \n",
    "    # Visão da série\n",
    "    resp[\"total_days_diff\"] = [(np.max(last_games[\"DATE\"]) - np.min(last_games[\"DATE\"])).days]\n",
    "    days_diff_last_games = [-x.days if not np.isnan(x.days) else 0 \n",
    "                            for x in last_games[\"DATE\"].sub(last_games[\"DATE\"].shift(-1).fillna(data_ref))]\n",
    "    resp[\"days_diff_last_games_std\"] = [np.std(days_diff_last_games)]\n",
    "    resp[\"days_diff_last_games_mean\"] = [np.mean(days_diff_last_games)]\n",
    "    \n",
    "    if verbose:\n",
    "        print(\"Days_Diff\", days_diff_last_games, resp[\"days_diff_last_games_mean\"][0], resp[\"total_days_diff\"][0]) \n",
    "    \n",
    "    # All\n",
    "    resp[\"num_games_last_2_days\"] = [np.where((last_games[\"DATE\"] >= (data_ref - timedelta(days=2))) & \n",
    "                            (last_games[\"DATE\"] < data_ref) &\n",
    "                            ((last_games[\"team_home\"] == team_name) |\n",
    "                             (last_games[\"team_away\"] == team_name)), 1, 0).sum()]\n",
    "    \n",
    "    resp[\"num_games_last_4_days\"] = [np.where((last_games[\"DATE\"] >= (data_ref - timedelta(days=4))) & \n",
    "                            (last_games[\"DATE\"] < data_ref) &\n",
    "                            ((last_games[\"team_home\"] == team_name) |\n",
    "                             (last_games[\"team_away\"] == team_name)), 1, 0).sum()]\n",
    "                             \n",
    "    resp[\"num_games_last_6_days\"] = [np.where((last_games[\"DATE\"] >= (data_ref - timedelta(days=6))) & \n",
    "                            (last_games[\"DATE\"] < data_ref) &\n",
    "                            ((last_games[\"team_home\"] == team_name) |\n",
    "                             (last_games[\"team_away\"] == team_name)), 1, 0).sum()]\n",
    "    \n",
    "    resp[\"num_games_last_8_days\"] = [np.where((last_games[\"DATE\"] >= (data_ref - timedelta(days=8))) & \n",
    "                            (last_games[\"DATE\"] < data_ref) &\n",
    "                            ((last_games[\"team_home\"] == team_name) |\n",
    "                             (last_games[\"team_away\"] == team_name)), 1, 0).sum()]\n",
    "    \n",
    "    resp[\"num_games_last_10_days\"] = [np.where((last_games[\"DATE\"] >= (data_ref - timedelta(days=10))) & \n",
    "                            (last_games[\"DATE\"] < data_ref) &\n",
    "                            ((last_games[\"team_home\"] == team_name) |\n",
    "                             (last_games[\"team_away\"] == team_name)), 1, 0).sum()]\n",
    "    \n",
    "    # Away\n",
    "    resp[\"num_games_away_last_2_days\"] = [np.where((last_games[\"DATE\"] >= (data_ref - timedelta(days=2))) & \n",
    "                                    (last_games[\"DATE\"] < data_ref) &\n",
    "                                    (last_games[\"team_away\"] == team_name), 1, 0).sum()]\n",
    "    \n",
    "    resp[\"num_games_away_last_4_days\"] = [np.where((last_games[\"DATE\"] >= (data_ref - timedelta(days=4))) & \n",
    "                                    (last_games[\"DATE\"] < data_ref) &\n",
    "                                    (last_games[\"team_away\"] == team_name), 1, 0).sum()]\n",
    "    \n",
    "    resp[\"num_games_away_last_6_days\"] = [np.where((last_games[\"DATE\"] >= (data_ref - timedelta(days=6))) & \n",
    "                                    (last_games[\"DATE\"] < data_ref) &\n",
    "                                    (last_games[\"team_away\"] == team_name), 1, 0).sum()] \n",
    "    \n",
    "    resp[\"num_games_away_last_8_days\"] = [np.where((last_games[\"DATE\"] >= (data_ref - timedelta(days=8))) & \n",
    "                                    (last_games[\"DATE\"] < data_ref) &\n",
    "                                    (last_games[\"team_away\"] == team_name), 1, 0).sum()]\n",
    "    \n",
    "    resp[\"num_games_away_last_8_days\"] = [np.where((last_games[\"DATE\"] >= (data_ref - timedelta(days=10))) & \n",
    "                                    (last_games[\"DATE\"] < data_ref) &\n",
    "                                    (last_games[\"team_away\"] == team_name), 1, 0).sum()]\n",
    "    \n",
    "    # Home    \n",
    "    resp[\"num_games_home_last_2_days\"] = [np.where((last_games[\"DATE\"] >= (data_ref - timedelta(days=2))) & \n",
    "                                    (last_games[\"DATE\"] < data_ref) &\n",
    "                                    (last_games[\"team_home\"] == team_name), 1, 0).sum()]\n",
    "    \n",
    "    resp[\"num_games_home_last_4_days\"] = [np.where((last_games[\"DATE\"] >= (data_ref - timedelta(days=4))) & \n",
    "                                    (last_games[\"DATE\"] < data_ref) &\n",
    "                                    (last_games[\"team_home\"] == team_name), 1, 0).sum()]\n",
    "    \n",
    "    resp[\"num_games_home_last_6_days\"] = [np.where((last_games[\"DATE\"] >= (data_ref - timedelta(days=6))) & \n",
    "                                    (last_games[\"DATE\"] < data_ref) &\n",
    "                                    (last_games[\"team_home\"] == team_name), 1, 0).sum()]\n",
    "    \n",
    "    resp[\"num_games_home_last_8_days\"] = [np.where((last_games[\"DATE\"] >= (data_ref - timedelta(days=8))) & \n",
    "                                    (last_games[\"DATE\"] < data_ref) &\n",
    "                                    (last_games[\"team_home\"] == team_name), 1, 0).sum()]\n",
    "    \n",
    "    resp[\"num_games_home_last_10_days\"] = [np.where((last_games[\"DATE\"] >= (data_ref - timedelta(days=10))) & \n",
    "                                    (last_games[\"DATE\"] < data_ref) &\n",
    "                                    (last_games[\"team_home\"] == team_name), 1, 0).sum()]\n",
    "    \n",
    "    if verbose:\n",
    "        print(\"Num Games Last X Days\", resp[\"num_games_last_6_days\"][0], resp[\"num_games_away_last_6_days\"][0])\n",
    "    \n",
    "    return(pd.DataFrame(resp))"
   ]
  },
  {
   "cell_type": "code",
   "execution_count": 49,
   "metadata": {
    "ExecuteTime": {
     "end_time": "2018-09-22T22:47:35.854679Z",
     "start_time": "2018-09-22T22:47:35.636804Z"
    },
    "collapsed": true
   },
   "outputs": [],
   "source": [
    "def get_last_games(df, data, team_name, n = 5, filter=\"all\", verbose=False):\n",
    "    if(filter == \"all\"):\n",
    "        last_games = df[(df[\"DATE\"] < data) & \n",
    "                        ((df[\"team_home\"] == team_name) | (df[\"team_away\"] == team_name))].tail(n)\n",
    "        \n",
    "    elif(filter == \"home\"):\n",
    "        last_games = df[(df[\"DATE\"] < data) & (df[\"team_home\"] == team_name)].tail(n)\n",
    "    elif(filter == \"away\"):\n",
    "        last_games = df[(df[\"DATE\"] < data) & (df[\"team_away\"] == team_name)].tail(n)\n",
    "\n",
    "    if(verbose):\n",
    "        print(last_games[[\"team_home\", \"team_away\", \"PTS_home\", \"PTS_away\", \"DATE\"]])\n",
    "    \n",
    "    return(last_games)\n",
    "\n",
    "def get_avg_last_games(last_games, team_name, n = 5, data_ref = None, rivals = False, \n",
    "                       to_drop=['fl_home_win', 'fl_playoff', 'fl_win','index', 'team_away_game_num',\n",
    "                                'team_game_num', 'team_home_game_num', \"TEAM_CITY_away\", \"TEAM_CITY_home\",\n",
    "                                \"TEAM_CITY_home\", \"TEAM_ID_home\", \"TEAM_NAME_advanced_home\",\n",
    "                                \"TEAM_NAME_fourfactors_home\", \"TEAM_NAME_hustle_home\",\n",
    "                                \"TEAM_NAME_misc_home\", \"TEAM_NAME_home\", \"TEAM_NAME_playertrack_home\",\n",
    "                                \"TEAM_NAME_scoring_home\", 'TEAM_ID_home', 'TEAM_ID_away', \"TEAM_NAME_advanced_away\",\n",
    "                                \"TEAM_NAME_fourfactors_away\", \"TEAM_NAME_hustle_away\",\n",
    "                                \"TEAM_NAME_misc_away\", \"TEAM_NAME_away\", \"TEAM_NAME_playertrack_away\",\n",
    "                                \"TEAM_NAME_scoring_away\", \"DATE\", \"SEASON\", 'GAME', 'GAME_ID_home', 'GAME_ID_away']):\n",
    "    \n",
    "    if(rivals == False):\n",
    "        last_games_home = last_games[last_games[\"team_home\"] == team_name].drop(away_columns + to_drop, axis=1, errors=\"ignore\").groupby([\"team_home\"]).sum()\n",
    "        last_games_away = last_games[last_games[\"team_away\"] == team_name].drop(home_columns + to_drop, axis=1, errors=\"ignore\").groupby([\"team_away\"]).sum()\n",
    "        last_games_home.columns = [x.replace(\"_home\",\"\") for x in last_games_home.columns]\n",
    "        last_games_away.columns = [x.replace(\"_away\",\"\") for x in last_games_away.columns]\n",
    "    else:\n",
    "        last_games_home = last_games[last_games[\"team_home\"] != team_name].drop(away_columns + to_drop, axis=1, errors=\"ignore\").drop(\"team_home\", axis = 1).sum()\n",
    "        last_games_away = last_games[last_games[\"team_away\"] != team_name].drop(home_columns + to_drop, axis=1, errors=\"ignore\").drop(\"team_away\", axis = 1).sum()\n",
    "          \n",
    "        last_games_home.index = [x.replace(\"_home\",\"_opponent\") for x in last_games_home.index]\n",
    "        last_games_away.index = [x.replace(\"_away\",\"_opponent\") for x in last_games_away.index]\n",
    "    \n",
    "    if(len(last_games_home) == 0):\n",
    "        if(rivals):\n",
    "            resp = (last_games_away/n).to_frame().transpose()\n",
    "        else:\n",
    "            resp = last_games_away/n\n",
    "    \n",
    "    if(len(last_games_away) == 0):\n",
    "        if(rivals):\n",
    "            resp = (last_games_home/n).to_frame().transpose()\n",
    "        else:\n",
    "            resp = last_games_home/n\n",
    "            \n",
    "    if(len(last_games_away) > 0 and len(last_games_home) > 0):\n",
    "        \n",
    "        if(rivals):\n",
    "            resp = ((last_games_home + last_games_away) / n).to_frame().transpose()\n",
    "        else:\n",
    "            resp = ((last_games_home + last_games_away) / n)    \n",
    "    \n",
    "    if not rivals:\n",
    "        var_criadas = cria_variaveis_sumarizacao(last_games, team_name, n = 5, data_ref = None)\n",
    "        resp = pd.concat([resp, var_criadas], axis=1).sum().to_frame().transpose()\n",
    "    \n",
    "    return(resp)"
   ]
  },
  {
   "cell_type": "code",
   "execution_count": 10,
   "metadata": {
    "ExecuteTime": {
     "end_time": "2018-09-22T14:44:12.914017Z",
     "start_time": "2018-09-22T14:44:12.899027Z"
    },
    "collapsed": true
   },
   "outputs": [],
   "source": [
    "teste = all_games[all_games[\"team_home\"] == \"ATL\"]\n",
    "teste = get_last_games(all_games, teste.iloc[10][\"DATE\"], \"ATL\", verbose=False).reset_index()"
   ]
  },
  {
   "cell_type": "code",
   "execution_count": 11,
   "metadata": {
    "ExecuteTime": {
     "end_time": "2018-09-22T14:44:13.644322Z",
     "start_time": "2018-09-22T14:44:13.368369Z"
    }
   },
   "outputs": [
    {
     "data": {
      "text/html": [
       "<div>\n",
       "<style scoped>\n",
       "    .dataframe tbody tr th:only-of-type {\n",
       "        vertical-align: middle;\n",
       "    }\n",
       "\n",
       "    .dataframe tbody tr th {\n",
       "        vertical-align: top;\n",
       "    }\n",
       "\n",
       "    .dataframe thead th {\n",
       "        text-align: right;\n",
       "    }\n",
       "</style>\n",
       "<table border=\"1\" class=\"dataframe\">\n",
       "  <thead>\n",
       "    <tr style=\"text-align: right;\">\n",
       "      <th></th>\n",
       "      <th>index</th>\n",
       "      <th>GAME</th>\n",
       "      <th>GAME_ID_home</th>\n",
       "      <th>TEAM_ID_home</th>\n",
       "      <th>TEAM_NAME_home</th>\n",
       "      <th>team_home</th>\n",
       "      <th>TEAM_CITY_home</th>\n",
       "      <th>FGM_home</th>\n",
       "      <th>FGA_home</th>\n",
       "      <th>FG_PCT_home</th>\n",
       "      <th>...</th>\n",
       "      <th>LOOSE_BALLS_RECOVERED_away</th>\n",
       "      <th>CHARGES_DRAWN_away</th>\n",
       "      <th>SCREEN_ASSISTS_away</th>\n",
       "      <th>BOX_OUTS_away</th>\n",
       "      <th>DATE</th>\n",
       "      <th>SEASON</th>\n",
       "      <th>fl_playoff</th>\n",
       "      <th>team_home_game_num</th>\n",
       "      <th>team_away_game_num</th>\n",
       "      <th>fl_home_win</th>\n",
       "    </tr>\n",
       "  </thead>\n",
       "  <tbody>\n",
       "    <tr>\n",
       "      <th>0</th>\n",
       "      <td>259</td>\n",
       "      <td>LAC @ ATL 2017-11-22</td>\n",
       "      <td>21700256</td>\n",
       "      <td>1610612737</td>\n",
       "      <td>Hawks</td>\n",
       "      <td>ATL</td>\n",
       "      <td>Atlanta</td>\n",
       "      <td>40</td>\n",
       "      <td>83</td>\n",
       "      <td>0.482</td>\n",
       "      <td>...</td>\n",
       "      <td>8</td>\n",
       "      <td>2</td>\n",
       "      <td>4</td>\n",
       "      <td>19</td>\n",
       "      <td>2017-11-22</td>\n",
       "      <td>2018</td>\n",
       "      <td>0</td>\n",
       "      <td>7</td>\n",
       "      <td>9</td>\n",
       "      <td>0</td>\n",
       "    </tr>\n",
       "    <tr>\n",
       "      <th>1</th>\n",
       "      <td>270</td>\n",
       "      <td>NYK @ ATL 2017-11-24</td>\n",
       "      <td>21700268</td>\n",
       "      <td>1610612737</td>\n",
       "      <td>Hawks</td>\n",
       "      <td>ATL</td>\n",
       "      <td>Atlanta</td>\n",
       "      <td>47</td>\n",
       "      <td>99</td>\n",
       "      <td>0.475</td>\n",
       "      <td>...</td>\n",
       "      <td>6</td>\n",
       "      <td>0</td>\n",
       "      <td>7</td>\n",
       "      <td>21</td>\n",
       "      <td>2017-11-24</td>\n",
       "      <td>2018</td>\n",
       "      <td>0</td>\n",
       "      <td>8</td>\n",
       "      <td>6</td>\n",
       "      <td>1</td>\n",
       "    </tr>\n",
       "    <tr>\n",
       "      <th>2</th>\n",
       "      <td>278</td>\n",
       "      <td>TOR @ ATL 2017-11-25</td>\n",
       "      <td>21700280</td>\n",
       "      <td>1610612737</td>\n",
       "      <td>Hawks</td>\n",
       "      <td>ATL</td>\n",
       "      <td>Atlanta</td>\n",
       "      <td>26</td>\n",
       "      <td>75</td>\n",
       "      <td>0.347</td>\n",
       "      <td>...</td>\n",
       "      <td>6</td>\n",
       "      <td>2</td>\n",
       "      <td>8</td>\n",
       "      <td>17</td>\n",
       "      <td>2017-11-25</td>\n",
       "      <td>2018</td>\n",
       "      <td>0</td>\n",
       "      <td>9</td>\n",
       "      <td>12</td>\n",
       "      <td>0</td>\n",
       "    </tr>\n",
       "    <tr>\n",
       "      <th>3</th>\n",
       "      <td>311</td>\n",
       "      <td>CLE @ ATL 2017-11-30</td>\n",
       "      <td>21700313</td>\n",
       "      <td>1610612737</td>\n",
       "      <td>Hawks</td>\n",
       "      <td>ATL</td>\n",
       "      <td>Atlanta</td>\n",
       "      <td>41</td>\n",
       "      <td>79</td>\n",
       "      <td>0.519</td>\n",
       "      <td>...</td>\n",
       "      <td>11</td>\n",
       "      <td>1</td>\n",
       "      <td>9</td>\n",
       "      <td>47</td>\n",
       "      <td>2017-11-30</td>\n",
       "      <td>2018</td>\n",
       "      <td>0</td>\n",
       "      <td>10</td>\n",
       "      <td>11</td>\n",
       "      <td>0</td>\n",
       "    </tr>\n",
       "    <tr>\n",
       "      <th>4</th>\n",
       "      <td>330</td>\n",
       "      <td>ATL @ BKN 2017-12-02</td>\n",
       "      <td>21700328</td>\n",
       "      <td>1610612751</td>\n",
       "      <td>Nets</td>\n",
       "      <td>BKN</td>\n",
       "      <td>Brooklyn</td>\n",
       "      <td>34</td>\n",
       "      <td>82</td>\n",
       "      <td>0.415</td>\n",
       "      <td>...</td>\n",
       "      <td>13</td>\n",
       "      <td>3</td>\n",
       "      <td>18</td>\n",
       "      <td>42</td>\n",
       "      <td>2017-12-02</td>\n",
       "      <td>2018</td>\n",
       "      <td>0</td>\n",
       "      <td>10</td>\n",
       "      <td>12</td>\n",
       "      <td>0</td>\n",
       "    </tr>\n",
       "  </tbody>\n",
       "</table>\n",
       "<p>5 rows × 223 columns</p>\n",
       "</div>"
      ],
      "text/plain": [
       "   index                  GAME  GAME_ID_home  TEAM_ID_home TEAM_NAME_home  \\\n",
       "0    259  LAC @ ATL 2017-11-22      21700256    1610612737          Hawks   \n",
       "1    270  NYK @ ATL 2017-11-24      21700268    1610612737          Hawks   \n",
       "2    278  TOR @ ATL 2017-11-25      21700280    1610612737          Hawks   \n",
       "3    311  CLE @ ATL 2017-11-30      21700313    1610612737          Hawks   \n",
       "4    330  ATL @ BKN 2017-12-02      21700328    1610612751           Nets   \n",
       "\n",
       "  team_home TEAM_CITY_home  FGM_home  FGA_home  FG_PCT_home     ...       \\\n",
       "0       ATL        Atlanta        40        83        0.482     ...        \n",
       "1       ATL        Atlanta        47        99        0.475     ...        \n",
       "2       ATL        Atlanta        26        75        0.347     ...        \n",
       "3       ATL        Atlanta        41        79        0.519     ...        \n",
       "4       BKN       Brooklyn        34        82        0.415     ...        \n",
       "\n",
       "   LOOSE_BALLS_RECOVERED_away  CHARGES_DRAWN_away  SCREEN_ASSISTS_away  \\\n",
       "0                           8                   2                    4   \n",
       "1                           6                   0                    7   \n",
       "2                           6                   2                    8   \n",
       "3                          11                   1                    9   \n",
       "4                          13                   3                   18   \n",
       "\n",
       "   BOX_OUTS_away       DATE  SEASON  fl_playoff  team_home_game_num  \\\n",
       "0             19 2017-11-22    2018           0                   7   \n",
       "1             21 2017-11-24    2018           0                   8   \n",
       "2             17 2017-11-25    2018           0                   9   \n",
       "3             47 2017-11-30    2018           0                  10   \n",
       "4             42 2017-12-02    2018           0                  10   \n",
       "\n",
       "   team_away_game_num  fl_home_win  \n",
       "0                   9            0  \n",
       "1                   6            1  \n",
       "2                  12            0  \n",
       "3                  11            0  \n",
       "4                  12            0  \n",
       "\n",
       "[5 rows x 223 columns]"
      ]
     },
     "execution_count": 11,
     "metadata": {},
     "output_type": "execute_result"
    }
   ],
   "source": [
    "teste"
   ]
  },
  {
   "cell_type": "code",
   "execution_count": 12,
   "metadata": {
    "ExecuteTime": {
     "end_time": "2018-09-22T14:44:14.255991Z",
     "start_time": "2018-09-22T14:44:14.173039Z"
    }
   },
   "outputs": [
    {
     "name": "stdout",
     "output_type": "stream",
     "text": [
      "Win_PCT 0.4 1 1\n",
      "Days_Diff [2, 1, 5, 2, 1] 2.2 10\n",
      "Num Games Last X Days 2 1\n"
     ]
    },
    {
     "data": {
      "text/html": [
       "<div>\n",
       "<style scoped>\n",
       "    .dataframe tbody tr th:only-of-type {\n",
       "        vertical-align: middle;\n",
       "    }\n",
       "\n",
       "    .dataframe tbody tr th {\n",
       "        vertical-align: top;\n",
       "    }\n",
       "\n",
       "    .dataframe thead th {\n",
       "        text-align: right;\n",
       "    }\n",
       "</style>\n",
       "<table border=\"1\" class=\"dataframe\">\n",
       "  <thead>\n",
       "    <tr style=\"text-align: right;\">\n",
       "      <th></th>\n",
       "      <th>num_wins_home</th>\n",
       "      <th>num_games_home</th>\n",
       "      <th>win_home_pct</th>\n",
       "      <th>num_wins_away</th>\n",
       "      <th>num_games_away</th>\n",
       "      <th>win_away_pct</th>\n",
       "      <th>num_wins_total</th>\n",
       "      <th>win_pct</th>\n",
       "      <th>total_days_diff</th>\n",
       "      <th>days_diff_last_games_std</th>\n",
       "      <th>...</th>\n",
       "      <th>num_games_last_10_days</th>\n",
       "      <th>num_games_away_last_2_days</th>\n",
       "      <th>num_games_away_last_4_days</th>\n",
       "      <th>num_games_away_last_6_days</th>\n",
       "      <th>num_games_away_last_8_days</th>\n",
       "      <th>num_games_home_last_2_days</th>\n",
       "      <th>num_games_home_last_4_days</th>\n",
       "      <th>num_games_home_last_6_days</th>\n",
       "      <th>num_games_home_last_8_days</th>\n",
       "      <th>num_games_home_last_10_days</th>\n",
       "    </tr>\n",
       "  </thead>\n",
       "  <tbody>\n",
       "    <tr>\n",
       "      <th>0</th>\n",
       "      <td>1</td>\n",
       "      <td>4</td>\n",
       "      <td>0.25</td>\n",
       "      <td>1</td>\n",
       "      <td>1</td>\n",
       "      <td>1.0</td>\n",
       "      <td>2</td>\n",
       "      <td>0.4</td>\n",
       "      <td>10</td>\n",
       "      <td>1.469694</td>\n",
       "      <td>...</td>\n",
       "      <td>4</td>\n",
       "      <td>1</td>\n",
       "      <td>1</td>\n",
       "      <td>1</td>\n",
       "      <td>1</td>\n",
       "      <td>0</td>\n",
       "      <td>1</td>\n",
       "      <td>1</td>\n",
       "      <td>2</td>\n",
       "      <td>3</td>\n",
       "    </tr>\n",
       "  </tbody>\n",
       "</table>\n",
       "<p>1 rows × 25 columns</p>\n",
       "</div>"
      ],
      "text/plain": [
       "   num_wins_home  num_games_home  win_home_pct  num_wins_away  num_games_away  \\\n",
       "0              1               4          0.25              1               1   \n",
       "\n",
       "   win_away_pct  num_wins_total  win_pct  total_days_diff  \\\n",
       "0           1.0               2      0.4               10   \n",
       "\n",
       "   days_diff_last_games_std             ...               \\\n",
       "0                  1.469694             ...                \n",
       "\n",
       "   num_games_last_10_days  num_games_away_last_2_days  \\\n",
       "0                       4                           1   \n",
       "\n",
       "   num_games_away_last_4_days  num_games_away_last_6_days  \\\n",
       "0                           1                           1   \n",
       "\n",
       "   num_games_away_last_8_days  num_games_home_last_2_days  \\\n",
       "0                           1                           0   \n",
       "\n",
       "   num_games_home_last_4_days  num_games_home_last_6_days  \\\n",
       "0                           1                           1   \n",
       "\n",
       "   num_games_home_last_8_days  num_games_home_last_10_days  \n",
       "0                           2                            3  \n",
       "\n",
       "[1 rows x 25 columns]"
      ]
     },
     "execution_count": 12,
     "metadata": {},
     "output_type": "execute_result"
    }
   ],
   "source": [
    "cria_variaveis_sumarizacao(teste, \"ATL\", verbose = True)"
   ]
  },
  {
   "cell_type": "code",
   "execution_count": 13,
   "metadata": {
    "ExecuteTime": {
     "end_time": "2018-09-22T14:44:15.490344Z",
     "start_time": "2018-09-22T14:44:14.873894Z"
    },
    "collapsed": true
   },
   "outputs": [],
   "source": [
    "resp = get_avg_last_games(teste, \"ATL\", rivals=True)"
   ]
  },
  {
   "cell_type": "code",
   "execution_count": 14,
   "metadata": {
    "ExecuteTime": {
     "end_time": "2018-09-22T14:44:15.933987Z",
     "start_time": "2018-09-22T14:44:15.904996Z"
    }
   },
   "outputs": [
    {
     "data": {
      "text/html": [
       "<div>\n",
       "<style scoped>\n",
       "    .dataframe tbody tr th:only-of-type {\n",
       "        vertical-align: middle;\n",
       "    }\n",
       "\n",
       "    .dataframe tbody tr th {\n",
       "        vertical-align: top;\n",
       "    }\n",
       "\n",
       "    .dataframe thead th {\n",
       "        text-align: right;\n",
       "    }\n",
       "</style>\n",
       "<table border=\"1\" class=\"dataframe\">\n",
       "  <thead>\n",
       "    <tr style=\"text-align: right;\">\n",
       "      <th></th>\n",
       "      <th>AST_PCT_opponent</th>\n",
       "      <th>AST_RATIO_opponent</th>\n",
       "      <th>AST_TOV_opponent</th>\n",
       "      <th>AST_opponent</th>\n",
       "      <th>AST_playertrack_opponent</th>\n",
       "      <th>BLKA_opponent</th>\n",
       "      <th>BLK_misc_opponent</th>\n",
       "      <th>BLK_opponent</th>\n",
       "      <th>BOX_OUTS_opponent</th>\n",
       "      <th>CFGA_opponent</th>\n",
       "      <th>...</th>\n",
       "      <th>STL_opponent</th>\n",
       "      <th>TCHS_opponent</th>\n",
       "      <th>TM_TOV_PCT_fourfactors_opponent</th>\n",
       "      <th>TM_TOV_PCT_opponent</th>\n",
       "      <th>TO_opponent</th>\n",
       "      <th>TS_PCT_opponent</th>\n",
       "      <th>UFGA_opponent</th>\n",
       "      <th>UFGM_opponent</th>\n",
       "      <th>UFG_PCT_opponent</th>\n",
       "      <th>USG_PCT_opponent</th>\n",
       "    </tr>\n",
       "  </thead>\n",
       "  <tbody>\n",
       "    <tr>\n",
       "      <th>0</th>\n",
       "      <td>0.7206</td>\n",
       "      <td>21.72</td>\n",
       "      <td>1.614</td>\n",
       "      <td>29.4</td>\n",
       "      <td>29.4</td>\n",
       "      <td>2.8</td>\n",
       "      <td>5.8</td>\n",
       "      <td>5.8</td>\n",
       "      <td>28</td>\n",
       "      <td>32</td>\n",
       "      <td>...</td>\n",
       "      <td>5.6</td>\n",
       "      <td>442</td>\n",
       "      <td>0.1894</td>\n",
       "      <td>18.955</td>\n",
       "      <td>17.8</td>\n",
       "      <td>0.6336</td>\n",
       "      <td>48</td>\n",
       "      <td>22.4</td>\n",
       "      <td>0.4672</td>\n",
       "      <td>0.1988</td>\n",
       "    </tr>\n",
       "  </tbody>\n",
       "</table>\n",
       "<p>1 rows × 100 columns</p>\n",
       "</div>"
      ],
      "text/plain": [
       "  AST_PCT_opponent AST_RATIO_opponent AST_TOV_opponent AST_opponent  \\\n",
       "0           0.7206              21.72            1.614         29.4   \n",
       "\n",
       "  AST_playertrack_opponent BLKA_opponent BLK_misc_opponent BLK_opponent  \\\n",
       "0                     29.4           2.8               5.8          5.8   \n",
       "\n",
       "  BOX_OUTS_opponent CFGA_opponent       ...        STL_opponent TCHS_opponent  \\\n",
       "0                28            32       ...                 5.6           442   \n",
       "\n",
       "  TM_TOV_PCT_fourfactors_opponent TM_TOV_PCT_opponent TO_opponent  \\\n",
       "0                          0.1894              18.955        17.8   \n",
       "\n",
       "  TS_PCT_opponent UFGA_opponent UFGM_opponent UFG_PCT_opponent  \\\n",
       "0          0.6336            48          22.4           0.4672   \n",
       "\n",
       "  USG_PCT_opponent  \n",
       "0           0.1988  \n",
       "\n",
       "[1 rows x 100 columns]"
      ]
     },
     "execution_count": 14,
     "metadata": {},
     "output_type": "execute_result"
    }
   ],
   "source": [
    "resp"
   ]
  },
  {
   "cell_type": "code",
   "execution_count": 15,
   "metadata": {
    "ExecuteTime": {
     "end_time": "2018-09-22T14:50:03.315889Z",
     "start_time": "2018-09-22T14:44:16.739524Z"
    }
   },
   "outputs": [
    {
     "name": "stderr",
     "output_type": "stream",
     "text": [
      "C:\\Users\\rafae\\Anaconda3\\lib\\site-packages\\ipykernel_launcher.py:9: RuntimeWarning: invalid value encountered in long_scalars\n",
      "  if __name__ == '__main__':\n",
      "C:\\Users\\rafae\\Anaconda3\\lib\\site-packages\\ipykernel_launcher.py:15: RuntimeWarning: invalid value encountered in long_scalars\n",
      "  from ipykernel import kernelapp as app\n",
      "C:\\Users\\rafae\\Anaconda3\\lib\\site-packages\\numpy\\core\\_methods.py:140: RuntimeWarning: Degrees of freedom <= 0 for slice\n",
      "  keepdims=keepdims)\n",
      "C:\\Users\\rafae\\Anaconda3\\lib\\site-packages\\numpy\\core\\_methods.py:110: RuntimeWarning: invalid value encountered in true_divide\n",
      "  arrmean, rcount, out=arrmean, casting='unsafe', subok=False)\n",
      "C:\\Users\\rafae\\Anaconda3\\lib\\site-packages\\numpy\\core\\_methods.py:132: RuntimeWarning: invalid value encountered in double_scalars\n",
      "  ret = ret.dtype.type(ret / rcount)\n",
      "C:\\Users\\rafae\\Anaconda3\\lib\\site-packages\\numpy\\core\\fromnumeric.py:2920: RuntimeWarning: Mean of empty slice.\n",
      "  out=out, **kwargs)\n",
      "C:\\Users\\rafae\\Anaconda3\\lib\\site-packages\\numpy\\core\\_methods.py:85: RuntimeWarning: invalid value encountered in double_scalars\n",
      "  ret = ret.dtype.type(ret / rcount)\n"
     ]
    },
    {
     "name": "stdout",
     "output_type": "stream",
     "text": [
      "HOU @ SAC 2018-04-11\r"
     ]
    }
   ],
   "source": [
    "resp = []\n",
    "season = all_games.reset_index()\n",
    "\n",
    "for index, row in season.iterrows():\n",
    "#for index, row in regular_season.groupby(\"season\").first().iterrows():\n",
    "        # Home team\n",
    "        home_last_games = get_last_games(season, row[\"DATE\"], row[\"team_home\"])\n",
    "        home_avg_last_games = get_avg_last_games(home_last_games, row[\"team_home\"])\n",
    "        home_rivals_last_games = get_avg_last_games(home_last_games, row[\"team_home\"], rivals=True)\n",
    "\n",
    "        home_avg_last_games[\"game_ref\"] = [row.GAME]\n",
    "        home_avg_last_games.set_index(\"game_ref\", inplace=True)\n",
    "        home_avg_last_games.drop([\"team_home\", \"team_away\"],axis=1 ,errors=\"ignore\", inplace=True)\n",
    "\n",
    "        home_rivals_last_games[\"game_ref\"] = [row.GAME]\n",
    "        home_rivals_last_games.set_index(\"game_ref\", inplace=True)\n",
    "        home_rivals_last_games.drop([\"team_home\", \"team_away\"],axis=1 ,errors=\"ignore\", inplace=True)\n",
    "\n",
    "        #print(home_rivals_last_games.index, home_avg_last_games.index)\n",
    "\n",
    "        # Away team\n",
    "        away_last_games = get_last_games(season, row[\"DATE\"], row[\"team_away\"]).reset_index()\n",
    "        away_avg_last_games = get_avg_last_games(away_last_games, row[\"team_away\"])\n",
    "        away_rivals_last_games = get_avg_last_games(away_last_games, row[\"team_away\"], rivals=True)\n",
    "\n",
    "        away_avg_last_games[\"game_ref\"] = [row.GAME]\n",
    "        away_avg_last_games.set_index(\"game_ref\", inplace=True)\n",
    "        away_avg_last_games.drop([\"team_home\", \"team_away\"],axis=1 ,errors=\"ignore\", inplace=True)\n",
    "\n",
    "        away_rivals_last_games[\"game_ref\"] = [row.GAME]\n",
    "        away_rivals_last_games.set_index(\"game_ref\", inplace=True)\n",
    "        away_rivals_last_games.drop([\"team_home\", \"team_away\"],axis=1 ,errors=\"ignore\", inplace=True)\n",
    "\n",
    "        #print(away_rivals_last_games.index, away_avg_last_games.index)\n",
    "\n",
    "        # Junta bases \n",
    "        rivals_last_games = home_rivals_last_games.join(away_rivals_last_games, how=\"inner\",\n",
    "                                            lsuffix='_home_last_5_games', rsuffix='_away_last_5_games').drop('level_0',\n",
    "                                                                                                             axis=1)\n",
    "    \n",
    "        avg_last_games = home_avg_last_games.join(away_avg_last_games, how=\"inner\", \n",
    "                             lsuffix='_home_last_5_games', rsuffix='_away_last_5_games')\n",
    "\n",
    "        \n",
    "        #print(rivals_last_games.columns)\n",
    "        \n",
    "        game_line = avg_last_games.join(rivals_last_games,\n",
    "                                        how=\"inner\")\n",
    "\n",
    "        game_line = pd.concat([row.to_frame().transpose().set_index(\"GAME\"), game_line], axis=1)\n",
    "\n",
    "        print(str(row.GAME), end=\"\\r\")\n",
    "        \n",
    "        resp.append(game_line)"
   ]
  },
  {
   "cell_type": "code",
   "execution_count": 16,
   "metadata": {
    "ExecuteTime": {
     "end_time": "2018-09-22T15:15:09.373774Z",
     "start_time": "2018-09-22T15:15:08.342978Z"
    },
    "collapsed": true
   },
   "outputs": [],
   "source": [
    "df_resp = pd.concat(resp)"
   ]
  },
  {
   "cell_type": "code",
   "execution_count": 24,
   "metadata": {
    "ExecuteTime": {
     "end_time": "2018-09-22T15:18:26.864228Z",
     "start_time": "2018-09-22T15:18:26.817253Z"
    },
    "collapsed": true
   },
   "outputs": [],
   "source": [
    "df_resp.drop('level_0', axis=1, inplace=True)"
   ]
  },
  {
   "cell_type": "code",
   "execution_count": 29,
   "metadata": {
    "ExecuteTime": {
     "end_time": "2018-09-22T15:22:15.686815Z",
     "start_time": "2018-09-22T15:22:15.678310Z"
    },
    "collapsed": true
   },
   "outputs": [],
   "source": [
    "df_resp[\"week\"] = [x.isocalendar()[1] for x in df_resp.DATE]"
   ]
  },
  {
   "cell_type": "code",
   "execution_count": 31,
   "metadata": {
    "ExecuteTime": {
     "end_time": "2018-09-22T15:22:44.808999Z",
     "start_time": "2018-09-22T15:22:44.005458Z"
    },
    "collapsed": true
   },
   "outputs": [],
   "source": [
    "df_resp.to_csv(\"bases_nba_stats/base_last_5_+_jogos.csv\")"
   ]
  },
  {
   "cell_type": "markdown",
   "metadata": {},
   "source": [
    "### Cria base de Modelagem"
   ]
  },
  {
   "cell_type": "code",
   "execution_count": 34,
   "metadata": {
    "ExecuteTime": {
     "end_time": "2018-09-22T15:45:13.650726Z",
     "start_time": "2018-09-22T15:45:13.603735Z"
    },
    "collapsed": true
   },
   "outputs": [],
   "source": [
    "to_drop_modelagem = ['FGM_home', 'FGA_home', 'FG_PCT_home', 'FG3M_home', 'FG3A_home', \n",
    "                     'FG3_PCT_home', 'FTM_home', 'FTA_home', 'FT_PCT_home', 'OREB_home', \n",
    "                     'DREB_home', 'REB_home', 'AST_home', 'STL_home', 'BLK_home', 'TO_home',\n",
    "                     'PF_home', 'TEAM_NAME_advanced_home', 'AST_PCT_home',\n",
    "                     'AST_TOV_home', 'AST_RATIO_home', 'OREB_PCT_home', 'DREB_PCT_home',\n",
    "                     'REB_PCT_home', 'TM_TOV_PCT_home', 'EFG_PCT_home', 'TS_PCT_home', \n",
    "                     'USG_PCT_home', 'PACE_home', 'PIE_home', 'TEAM_NAME_scoring_home', \n",
    "                     'PCT_FGA_2PT_home', 'PCT_FGA_3PT_home', 'PCT_PTS_2PT_home', 'PCT_PTS_2PT_MR_home', \n",
    "                     'PCT_PTS_3PT_home', 'PCT_PTS_FB_home', 'PCT_PTS_FT_home', 'PCT_PTS_OFF_TOV_home', \n",
    "                     'PCT_PTS_PAINT_home', 'PCT_AST_2PM_home', 'PCT_UAST_2PM_home', 'PCT_AST_3PM_home', \n",
    "                     'PCT_UAST_3PM_home', 'PCT_AST_FGM_home', 'PCT_UAST_FGM_home', 'TEAM_NAME_misc_home',\n",
    "                     'PTS_OFF_TOV_home', 'PTS_2ND_CHANCE_home', 'PTS_FB_home', 'PTS_PAINT_home', \n",
    "                     'OPP_PTS_OFF_TOV_home', 'OPP_PTS_2ND_CHANCE_home', 'OPP_PTS_FB_home', \n",
    "                     'OPP_PTS_PAINT_home', 'BLK_misc_home', 'BLKA_home', 'PF_misc_home', 'PFD_home', \n",
    "                     'TEAM_NAME_fourfactors_home', 'EFG_PCT_fourfactors_home', 'FTA_RATE_home', \n",
    "                     'TM_TOV_PCT_fourfactors_home', 'OREB_PCT_fourfactors_home', 'OPP_EFG_PCT_home',\n",
    "                     'OPP_FTA_RATE_home', 'OPP_TOV_PCT_home', 'OPP_OREB_PCT_home', 'TEAM_NAME_playertrack_home',\n",
    "                     'DIST_home', 'ORBC_home', 'DRBC_home', 'RBC_home', 'TCHS_home', 'SAST_home', 'FTAST_home', \n",
    "                     'PASS_home', 'AST_playertrack_home', 'CFGM_home', 'CFGA_home', 'CFG_PCT_home', 'UFGM_home',\n",
    "                     'UFGA_home', 'UFG_PCT_home', 'FG_PCT_playertrack_home', 'DFGM_home', 'DFGA_home', \n",
    "                     'DFG_PCT_home', 'TEAM_NAME_hustle_home', 'CONTESTED_SHOTS_home', 'CONTESTED_SHOTS_2PT_home', \n",
    "                     'CONTESTED_SHOTS_3PT_home', 'DEFLECTIONS_home', 'LOOSE_BALLS_RECOVERED_home', 'CHARGES_DRAWN_home',\n",
    "                     'SCREEN_ASSISTS_home', 'BOX_OUTS_home', 'FGM_away', 'FGA_away', 'FG_PCT_away', \n",
    "                     'FG3M_away', 'FG3A_away', 'FG3_PCT_away', 'FTM_away', 'FTA_away', 'FT_PCT_away', 'OREB_away',\n",
    "                     'DREB_away', 'REB_away', 'AST_away', 'STL_away', 'BLK_away', 'TO_away', 'PF_away',\n",
    "                     'PLUS_MINUS_away', 'TEAM_NAME_advanced_away', 'AST_PCT_away', 'AST_TOV_away',\n",
    "                     'AST_RATIO_away', 'OREB_PCT_away',\n",
    "                     'DREB_PCT_away', 'REB_PCT_away', 'TM_TOV_PCT_away', 'EFG_PCT_away', 'TS_PCT_away', \n",
    "                     'USG_PCT_away', 'PACE_away', 'PIE_away', 'TEAM_NAME_scoring_away', 'PCT_FGA_2PT_away',\n",
    "                     'PCT_FGA_3PT_away', 'PCT_PTS_2PT_away', 'PCT_PTS_2PT_MR_away', 'PCT_PTS_3PT_away', \n",
    "                     'PCT_PTS_FB_away', 'PCT_PTS_FT_away', 'PCT_PTS_OFF_TOV_away', 'PCT_PTS_PAINT_away',\n",
    "                     'PCT_AST_2PM_away', 'PCT_UAST_2PM_away', 'PCT_AST_3PM_away', 'PCT_UAST_3PM_away', \n",
    "                     'PCT_AST_FGM_away', 'PCT_UAST_FGM_away', 'TEAM_NAME_misc_away', 'PTS_OFF_TOV_away', \n",
    "                     'PTS_2ND_CHANCE_away', 'PTS_FB_away', 'PTS_PAINT_away', 'OPP_PTS_OFF_TOV_away', \n",
    "                     'OPP_PTS_2ND_CHANCE_away', 'OPP_PTS_FB_away', 'OPP_PTS_PAINT_away', 'BLK_misc_away',\n",
    "                     'BLKA_away', 'PF_misc_away', 'PFD_away', 'TEAM_NAME_fourfactors_away', 'EFG_PCT_fourfactors_away', \n",
    "                     'FTA_RATE_away', 'TM_TOV_PCT_fourfactors_away', 'OREB_PCT_fourfactors_away', 'OPP_EFG_PCT_away', \n",
    "                     'OPP_FTA_RATE_away', 'OPP_TOV_PCT_away', 'OPP_OREB_PCT_away', 'TEAM_NAME_playertrack_away',\n",
    "                     'DIST_away', 'ORBC_away', 'DRBC_away', 'RBC_away', 'TCHS_away', 'SAST_away', 'FTAST_away', \n",
    "                     'PASS_away', 'AST_playertrack_away', 'CFGM_away', 'CFGA_away', 'CFG_PCT_away', 'UFGM_away',\n",
    "                     'UFGA_away', 'UFG_PCT_away', 'FG_PCT_playertrack_away', 'DFGM_away', 'DFGA_away', 'DFG_PCT_away', \n",
    "                     'TEAM_NAME_hustle_away', 'CONTESTED_SHOTS_away', 'CONTESTED_SHOTS_2PT_away', \n",
    "                     'CONTESTED_SHOTS_3PT_away', 'DEFLECTIONS_away', 'LOOSE_BALLS_RECOVERED_away', \n",
    "                     'CHARGES_DRAWN_away', 'SCREEN_ASSISTS_away', 'BOX_OUTS_away']"
   ]
  },
  {
   "cell_type": "code",
   "execution_count": 40,
   "metadata": {
    "ExecuteTime": {
     "end_time": "2018-09-22T15:48:46.602363Z",
     "start_time": "2018-09-22T15:48:46.569386Z"
    },
    "collapsed": true
   },
   "outputs": [],
   "source": [
    "df_modelagem = df_resp.drop(to_drop_modelagem, axis=1).rename(columns={\"week\":\"year_week\"})"
   ]
  },
  {
   "cell_type": "code",
   "execution_count": 41,
   "metadata": {
    "ExecuteTime": {
     "end_time": "2018-09-22T15:49:24.099114Z",
     "start_time": "2018-09-22T15:49:23.504920Z"
    },
    "collapsed": true
   },
   "outputs": [],
   "source": [
    "df_modelagem.to_csv(\"bases_nba_stats/base_modelagem_nba_17_18.csv\")"
   ]
  },
  {
   "cell_type": "code",
   "execution_count": 42,
   "metadata": {
    "ExecuteTime": {
     "end_time": "2018-09-22T15:50:17.144853Z",
     "start_time": "2018-09-22T15:50:16.336788Z"
    },
    "collapsed": true
   },
   "outputs": [],
   "source": [
    "df_truncada = df_modelagem.copy()\n",
    "df_truncada[df_truncada.select_dtypes(include=['float64']).columns] = df_truncada[df_truncada.select_dtypes(include=['float64']).columns].applymap('{:,.4f}'.format)\n",
    "df_truncada.to_csv(\"bases_nba_stats/base_modelagem_nba_17-18_4_digitos.csv\")"
   ]
  }
 ],
 "metadata": {
  "kernelspec": {
   "display_name": "Python 3",
   "language": "python",
   "name": "python3"
  },
  "language_info": {
   "codemirror_mode": {
    "name": "ipython",
    "version": 3
   },
   "file_extension": ".py",
   "mimetype": "text/x-python",
   "name": "python",
   "nbconvert_exporter": "python",
   "pygments_lexer": "ipython3",
   "version": "3.6.3"
  },
  "toc": {
   "base_numbering": 1,
   "nav_menu": {},
   "number_sections": true,
   "sideBar": true,
   "skip_h1_title": false,
   "title_cell": "Table of Contents",
   "title_sidebar": "Contents",
   "toc_cell": false,
   "toc_position": {},
   "toc_section_display": true,
   "toc_window_display": false
  },
  "varInspector": {
   "cols": {
    "lenName": 16,
    "lenType": 16,
    "lenVar": 40
   },
   "kernels_config": {
    "python": {
     "delete_cmd_postfix": "",
     "delete_cmd_prefix": "del ",
     "library": "var_list.py",
     "varRefreshCmd": "print(var_dic_list())"
    },
    "r": {
     "delete_cmd_postfix": ") ",
     "delete_cmd_prefix": "rm(",
     "library": "var_list.r",
     "varRefreshCmd": "cat(var_dic_list()) "
    }
   },
   "types_to_exclude": [
    "module",
    "function",
    "builtin_function_or_method",
    "instance",
    "_Feature"
   ],
   "window_display": false
  }
 },
 "nbformat": 4,
 "nbformat_minor": 2
}
