{
 "cells": [
  {
   "cell_type": "code",
   "execution_count": 1,
   "metadata": {
    "ExecuteTime": {
     "end_time": "2018-10-03T02:27:24.559966Z",
     "start_time": "2018-10-03T02:27:24.215147Z"
    },
    "collapsed": true
   },
   "outputs": [],
   "source": [
    "import pandas as pd\n",
    "import numpy as np\n",
    "from datetime import datetime, timedelta\n",
    "import geopy.distance"
   ]
  },
  {
   "cell_type": "code",
   "execution_count": 2,
   "metadata": {
    "ExecuteTime": {
     "end_time": "2018-09-18T01:32:52.028580Z",
     "start_time": "2018-09-18T01:32:50.033372Z"
    },
    "collapsed": true
   },
   "outputs": [],
   "source": [
    "base_nba_per_game = pd.read_csv(\"bases_nba_stats/base_nba_per_game_17_18_arrumada.csv\", sep=\";\")"
   ]
  },
  {
   "cell_type": "code",
   "execution_count": 31,
   "metadata": {
    "ExecuteTime": {
     "end_time": "2018-09-11T03:00:54.496190Z",
     "start_time": "2018-09-11T03:00:54.488705Z"
    },
    "collapsed": true
   },
   "outputs": [],
   "source": [
    "base_nba_per_game[\"fl_home\"] = np.where(base_nba_per_game[\"GAME\"].str[6:9] == base_nba_per_game[\"TEAM_ABBREVIATION\"], 1, 0)"
   ]
  },
  {
   "cell_type": "code",
   "execution_count": 32,
   "metadata": {
    "ExecuteTime": {
     "end_time": "2018-09-11T03:00:54.880225Z",
     "start_time": "2018-09-11T03:00:54.836226Z"
    },
    "collapsed": true
   },
   "outputs": [],
   "source": [
    "home_games = base_nba_per_game[base_nba_per_game[\"fl_home\"] == 1].set_index(\"GAME\")\n",
    "away_games = base_nba_per_game[base_nba_per_game[\"fl_home\"] == 0].set_index(\"GAME\")"
   ]
  },
  {
   "cell_type": "code",
   "execution_count": 33,
   "metadata": {
    "ExecuteTime": {
     "end_time": "2018-09-11T03:00:55.188957Z",
     "start_time": "2018-09-11T03:00:55.182468Z"
    }
   },
   "outputs": [
    {
     "name": "stdout",
     "output_type": "stream",
     "text": [
      "Home (1230, 112)\n",
      "Away (1230, 112)\n"
     ]
    }
   ],
   "source": [
    "print(\"Home\", home_games.shape)\n",
    "print(\"Away\", away_games.shape)"
   ]
  },
  {
   "cell_type": "code",
   "execution_count": 34,
   "metadata": {
    "ExecuteTime": {
     "end_time": "2018-09-11T03:00:55.666516Z",
     "start_time": "2018-09-11T03:00:55.621602Z"
    },
    "collapsed": true
   },
   "outputs": [],
   "source": [
    "all_games = home_games.join(away_games, how=\"inner\", lsuffix=\"_home\", rsuffix=\"_away\")\n",
    "all_games.drop([\"GAME_ID_away\", \"GAME_DATE_away\", \"GAME_PLACE_away\",\n",
    "                \"MIN_home\", \"MIN_away\", 'PTS_hustle_home', 'PTS_hustle_away',\n",
    "                \"fl_home_away\", \"fl_home_home\"], axis=1, inplace=True)"
   ]
  },
  {
   "cell_type": "code",
   "execution_count": 35,
   "metadata": {
    "ExecuteTime": {
     "end_time": "2018-09-11T03:00:56.130982Z",
     "start_time": "2018-09-11T03:00:56.118005Z"
    }
   },
   "outputs": [
    {
     "data": {
      "text/html": [
       "<div>\n",
       "<style scoped>\n",
       "    .dataframe tbody tr th:only-of-type {\n",
       "        vertical-align: middle;\n",
       "    }\n",
       "\n",
       "    .dataframe tbody tr th {\n",
       "        vertical-align: top;\n",
       "    }\n",
       "\n",
       "    .dataframe thead th {\n",
       "        text-align: right;\n",
       "    }\n",
       "</style>\n",
       "<table border=\"1\" class=\"dataframe\">\n",
       "  <thead>\n",
       "    <tr style=\"text-align: right;\">\n",
       "      <th></th>\n",
       "      <th>TEAM_ABBREVIATION_away</th>\n",
       "      <th>PTS_away</th>\n",
       "      <th>TEAM_ABBREVIATION_home</th>\n",
       "      <th>PTS_home</th>\n",
       "    </tr>\n",
       "    <tr>\n",
       "      <th>GAME</th>\n",
       "      <th></th>\n",
       "      <th></th>\n",
       "      <th></th>\n",
       "      <th></th>\n",
       "    </tr>\n",
       "  </thead>\n",
       "  <tbody>\n",
       "    <tr>\n",
       "      <th>BOS @ CLE 2017-10-17</th>\n",
       "      <td>BOS</td>\n",
       "      <td>99</td>\n",
       "      <td>CLE</td>\n",
       "      <td>102</td>\n",
       "    </tr>\n",
       "    <tr>\n",
       "      <th>HOU @ GSW 2017-10-17</th>\n",
       "      <td>HOU</td>\n",
       "      <td>122</td>\n",
       "      <td>GSW</td>\n",
       "      <td>121</td>\n",
       "    </tr>\n",
       "    <tr>\n",
       "      <th>CHA @ DET 2017-10-18</th>\n",
       "      <td>CHA</td>\n",
       "      <td>90</td>\n",
       "      <td>DET</td>\n",
       "      <td>102</td>\n",
       "    </tr>\n",
       "    <tr>\n",
       "      <th>BKN @ IND 2017-10-18</th>\n",
       "      <td>BKN</td>\n",
       "      <td>131</td>\n",
       "      <td>IND</td>\n",
       "      <td>140</td>\n",
       "    </tr>\n",
       "    <tr>\n",
       "      <th>MIA @ ORL 2017-10-18</th>\n",
       "      <td>MIA</td>\n",
       "      <td>109</td>\n",
       "      <td>ORL</td>\n",
       "      <td>116</td>\n",
       "    </tr>\n",
       "  </tbody>\n",
       "</table>\n",
       "</div>"
      ],
      "text/plain": [
       "                     TEAM_ABBREVIATION_away  PTS_away TEAM_ABBREVIATION_home  \\\n",
       "GAME                                                                           \n",
       "BOS @ CLE 2017-10-17                    BOS        99                    CLE   \n",
       "HOU @ GSW 2017-10-17                    HOU       122                    GSW   \n",
       "CHA @ DET 2017-10-18                    CHA        90                    DET   \n",
       "BKN @ IND 2017-10-18                    BKN       131                    IND   \n",
       "MIA @ ORL 2017-10-18                    MIA       109                    ORL   \n",
       "\n",
       "                      PTS_home  \n",
       "GAME                            \n",
       "BOS @ CLE 2017-10-17       102  \n",
       "HOU @ GSW 2017-10-17       121  \n",
       "CHA @ DET 2017-10-18       102  \n",
       "BKN @ IND 2017-10-18       140  \n",
       "MIA @ ORL 2017-10-18       116  "
      ]
     },
     "execution_count": 35,
     "metadata": {},
     "output_type": "execute_result"
    }
   ],
   "source": [
    "all_games[[\"TEAM_ABBREVIATION_away\", \"PTS_away\", \"TEAM_ABBREVIATION_home\", \"PTS_home\"]].head()"
   ]
  },
  {
   "cell_type": "code",
   "execution_count": 12,
   "metadata": {
    "ExecuteTime": {
     "end_time": "2018-09-11T15:11:58.336420Z",
     "start_time": "2018-09-11T15:11:58.315959Z"
    },
    "collapsed": true
   },
   "outputs": [],
   "source": [
    "def get_season(date):\n",
    "    ano = date.year\n",
    "    if(date.month >= 10):\n",
    "        return ano + 1\n",
    "    return ano\n",
    "\n",
    "def is_playoff(date):\n",
    "    # Playoffs 2016\n",
    "    if date >= datetime(2016, 4, 16) and date < datetime(2016, 6, 30):\n",
    "        return 1\n",
    "    \n",
    "    # Playoffs 2017\n",
    "    elif date >= datetime(2017, 4, 15) and date < datetime(2017, 6, 30):\n",
    "        return 1\n",
    "    \n",
    "     # Playoffs 2018\n",
    "    elif date >= datetime(2018, 4, 14) and date < datetime(2018, 6, 30):\n",
    "        return 1\n",
    "    \n",
    "    return 0"
   ]
  },
  {
   "cell_type": "code",
   "execution_count": 13,
   "metadata": {
    "ExecuteTime": {
     "end_time": "2018-09-11T15:11:58.706417Z",
     "start_time": "2018-09-11T15:11:58.652016Z"
    },
    "collapsed": true
   },
   "outputs": [],
   "source": [
    "all_games[\"DATE\"] = [datetime.strptime(str(x), '%d/%m/%Y') for x in all_games.GAME_DATE_home]\n",
    "all_games[\"SEASON\"] = [get_season(x) for x in all_games.DATE]\n",
    "all_games[\"fl_playoff\"] = [is_playoff(x) for x in all_games.DATE]\n",
    "all_games['fl_home_win'] = np.where(all_games['PTS_home'] > all_games['PTS_away'], 1, 0)\n",
    "all_games = all_games.sort_values('DATE')"
   ]
  },
  {
   "cell_type": "code",
   "execution_count": 39,
   "metadata": {
    "ExecuteTime": {
     "end_time": "2018-09-11T03:01:20.341606Z",
     "start_time": "2018-09-11T03:01:20.331126Z"
    },
    "collapsed": true
   },
   "outputs": [],
   "source": [
    "all_games = all_games.rename(columns={'TEAM_ABBREVIATION_home': \"team_home\",\n",
    "                                     'TEAM_ABBREVIATION_away': \"team_away\"})"
   ]
  },
  {
   "cell_type": "code",
   "execution_count": 54,
   "metadata": {
    "ExecuteTime": {
     "end_time": "2018-09-11T03:12:04.166040Z",
     "start_time": "2018-09-11T03:12:04.149568Z"
    },
    "collapsed": true
   },
   "outputs": [],
   "source": [
    "all_games[\"team_home_game_num\"] = all_games.groupby(['team_home']).cumcount() + 1\n",
    "all_games[\"team_away_game_num\"] = all_games.groupby(['team_away']).cumcount() + 1"
   ]
  },
  {
   "cell_type": "code",
   "execution_count": 14,
   "metadata": {
    "ExecuteTime": {
     "end_time": "2018-09-11T15:12:06.796325Z",
     "start_time": "2018-09-11T15:12:01.479055Z"
    },
    "collapsed": true
   },
   "outputs": [],
   "source": [
    "all_games.to_csv(\"./bases_nba_stats/all_games_nba_17_18.csv\")"
   ]
  },
  {
   "cell_type": "markdown",
   "metadata": {},
   "source": [
    "### Matriz de Distância entre os Times"
   ]
  },
  {
   "cell_type": "code",
   "execution_count": 10,
   "metadata": {
    "ExecuteTime": {
     "end_time": "2018-10-02T01:47:24.324968Z",
     "start_time": "2018-10-02T01:47:17.907376Z"
    },
    "collapsed": true
   },
   "outputs": [],
   "source": [
    "base_lat_long = pd.read_excel(\"./lat_long_teams.xlsx\").drop(\"team_id\", axis=1)"
   ]
  },
  {
   "cell_type": "code",
   "execution_count": 11,
   "metadata": {
    "ExecuteTime": {
     "end_time": "2018-10-02T01:47:24.634882Z",
     "start_time": "2018-10-02T01:47:24.467886Z"
    }
   },
   "outputs": [
    {
     "data": {
      "text/html": [
       "<div>\n",
       "<style scoped>\n",
       "    .dataframe tbody tr th:only-of-type {\n",
       "        vertical-align: middle;\n",
       "    }\n",
       "\n",
       "    .dataframe tbody tr th {\n",
       "        vertical-align: top;\n",
       "    }\n",
       "\n",
       "    .dataframe thead th {\n",
       "        text-align: right;\n",
       "    }\n",
       "</style>\n",
       "<table border=\"1\" class=\"dataframe\">\n",
       "  <thead>\n",
       "    <tr style=\"text-align: right;\">\n",
       "      <th></th>\n",
       "      <th>abreviation</th>\n",
       "      <th>team_name</th>\n",
       "      <th>lat</th>\n",
       "      <th>lon</th>\n",
       "    </tr>\n",
       "  </thead>\n",
       "  <tbody>\n",
       "    <tr>\n",
       "      <th>0</th>\n",
       "      <td>MIA</td>\n",
       "      <td>Miami Heat</td>\n",
       "      <td>25.7814</td>\n",
       "      <td>-80.1878</td>\n",
       "    </tr>\n",
       "    <tr>\n",
       "      <th>1</th>\n",
       "      <td>ORL</td>\n",
       "      <td>Orlando Magic</td>\n",
       "      <td>28.5392</td>\n",
       "      <td>-81.3836</td>\n",
       "    </tr>\n",
       "    <tr>\n",
       "      <th>2</th>\n",
       "      <td>SAS</td>\n",
       "      <td>San Antonio Spurs</td>\n",
       "      <td>29.4269</td>\n",
       "      <td>-98.4375</td>\n",
       "    </tr>\n",
       "    <tr>\n",
       "      <th>3</th>\n",
       "      <td>HOU</td>\n",
       "      <td>Houston Rockets</td>\n",
       "      <td>29.7508</td>\n",
       "      <td>-95.3622</td>\n",
       "    </tr>\n",
       "    <tr>\n",
       "      <th>4</th>\n",
       "      <td>NOP</td>\n",
       "      <td>New Orleans Pelicans</td>\n",
       "      <td>29.9489</td>\n",
       "      <td>-90.0822</td>\n",
       "    </tr>\n",
       "  </tbody>\n",
       "</table>\n",
       "</div>"
      ],
      "text/plain": [
       "  abreviation             team_name      lat      lon\n",
       "0         MIA            Miami Heat  25.7814 -80.1878\n",
       "1         ORL         Orlando Magic  28.5392 -81.3836\n",
       "2         SAS     San Antonio Spurs  29.4269 -98.4375\n",
       "3         HOU       Houston Rockets  29.7508 -95.3622\n",
       "4         NOP  New Orleans Pelicans  29.9489 -90.0822"
      ]
     },
     "execution_count": 11,
     "metadata": {},
     "output_type": "execute_result"
    }
   ],
   "source": [
    "base_lat_long.head()"
   ]
  },
  {
   "cell_type": "code",
   "execution_count": 12,
   "metadata": {
    "ExecuteTime": {
     "end_time": "2018-10-02T01:47:24.770829Z",
     "start_time": "2018-10-02T01:47:24.763825Z"
    },
    "collapsed": true
   },
   "outputs": [],
   "source": [
    "teams = base_lat_long.abreviation.unique()"
   ]
  },
  {
   "cell_type": "code",
   "execution_count": 13,
   "metadata": {
    "ExecuteTime": {
     "end_time": "2018-10-02T01:47:29.312857Z",
     "start_time": "2018-10-02T01:47:24.867770Z"
    },
    "collapsed": true
   },
   "outputs": [],
   "source": [
    "teams = base_lat_long.abreviation.unique()\n",
    "df_dist = pd.DataFrame(columns=teams, index=teams)\n",
    "\n",
    "for team in teams:\n",
    "    for team_2 in teams:\n",
    "        team1_location = (base_lat_long[base_lat_long.abreviation == team].lat.iloc[0], \n",
    "                          base_lat_long[base_lat_long.abreviation == team].lon.iloc[0])\n",
    "        \n",
    "        team2_location = (base_lat_long[base_lat_long.abreviation == team_2].lat.iloc[0], \n",
    "                          base_lat_long[base_lat_long.abreviation == team_2].lon.iloc[0])\n",
    "        \n",
    "        df_dist.loc[team, team_2] = geopy.distance.vincenty(team1_location, team2_location).km        "
   ]
  },
  {
   "cell_type": "code",
   "execution_count": 14,
   "metadata": {
    "ExecuteTime": {
     "end_time": "2018-10-02T01:47:29.596647Z",
     "start_time": "2018-10-02T01:47:29.455739Z"
    },
    "collapsed": true
   },
   "outputs": [],
   "source": [
    "df_dist.to_csv(\"dist_matrix_km.csv\")"
   ]
  },
  {
   "cell_type": "markdown",
   "metadata": {},
   "source": [
    "### Cria features de Número de Jogos"
   ]
  },
  {
   "cell_type": "code",
   "execution_count": 2,
   "metadata": {
    "ExecuteTime": {
     "end_time": "2018-10-03T02:27:29.539727Z",
     "start_time": "2018-10-03T02:27:29.438785Z"
    },
    "collapsed": true
   },
   "outputs": [],
   "source": [
    "all_games = pd.read_csv(\"./bases_nba_stats/all_games_nba_17_18.csv\").drop(\"Unnamed: 0\", axis=1)"
   ]
  },
  {
   "cell_type": "code",
   "execution_count": 3,
   "metadata": {
    "ExecuteTime": {
     "end_time": "2018-10-03T02:27:29.835558Z",
     "start_time": "2018-10-03T02:27:29.811572Z"
    }
   },
   "outputs": [],
   "source": [
    "all_games[\"DATE\"] = [datetime.strptime(str(x), '%d/%m/%Y') for x in all_games.GAME_DATE_home]"
   ]
  },
  {
   "cell_type": "code",
   "execution_count": 4,
   "metadata": {
    "ExecuteTime": {
     "end_time": "2018-10-02T01:46:41.863774Z",
     "start_time": "2018-10-02T01:46:41.831793Z"
    },
    "collapsed": true
   },
   "outputs": [],
   "source": [
    "def get_dist_last_game(df, data, team_home, team_away, is_home=True):    \n",
    "    \"\"\"\n",
    "        Retorna a distância em KM percorrida pelo time específico para chegar a um jogo\n",
    "    \"\"\"\n",
    "    \n",
    "    if(is_home):\n",
    "        last_game = get_last_games(df, data, team_home, n = 1)\n",
    "        \n",
    "        if(len(last_game) == 0):\n",
    "            return(0)\n",
    "        \n",
    "        if (last_game.team_home.iloc[0] == team_home):\n",
    "            return(0)\n",
    "        else:\n",
    "            return(df_dist.loc[team_home, last_game.team_home.iloc[0]])        \n",
    "    else:\n",
    "        last_game = get_last_games(df, data, team_away, n = 1)\n",
    "        \n",
    "        if(len(last_game) == 0):\n",
    "            return(df_dist.loc[team_home, team_away])\n",
    "        \n",
    "        if (last_game.team_away.iloc[0] == team_away):\n",
    "            return(df_dist.loc[team_home, last_game.team_away.iloc[0]])\n",
    "        else:\n",
    "            return(df_dist.loc[team_home, team_away])    "
   ]
  },
  {
   "cell_type": "code",
   "execution_count": 15,
   "metadata": {
    "ExecuteTime": {
     "end_time": "2018-10-02T01:55:08.119319Z",
     "start_time": "2018-10-02T01:54:59.959488Z"
    }
   },
   "outputs": [],
   "source": [
    "all_games[\"DISTANCE_KM_home\"] = [get_dist_last_game(all_games, x.DATE, x.team_home, x.team_away, is_home=True) for x in all_games.itertuples()]\n",
    "all_games[\"DISTANCE_KM_away\"] = [get_dist_last_game(all_games, x.DATE, x.team_home, x.team_away, is_home=False) for x in all_games.itertuples()]"
   ]
  },
  {
   "cell_type": "code",
   "execution_count": 16,
   "metadata": {
    "ExecuteTime": {
     "end_time": "2018-10-02T01:55:08.269220Z",
     "start_time": "2018-10-02T01:55:08.258225Z"
    },
    "collapsed": true
   },
   "outputs": [],
   "source": [
    "def get_days_from_last_game(df, data, team_name):    \n",
    "    \"\"\"\n",
    "        Retorna o número de dias entre o jogo atual e o jogo passado\n",
    "    \"\"\"\n",
    "    \n",
    "    last_game = get_last_games(df, data, team_name, n = 1)\n",
    "\n",
    "    if(len(last_game) == 0):\n",
    "        return(np.nan)\n",
    "\n",
    "    return(-(last_game.DATE - data).iloc[0].days)"
   ]
  },
  {
   "cell_type": "code",
   "execution_count": 17,
   "metadata": {
    "ExecuteTime": {
     "end_time": "2018-10-02T01:55:17.260111Z",
     "start_time": "2018-10-02T01:55:08.407140Z"
    },
    "collapsed": true
   },
   "outputs": [],
   "source": [
    "all_games[\"DAYS_FROM_LAST_GAME_home\"] = [get_days_from_last_game(all_games, x.DATE, x.team_home) for x in all_games.itertuples()]\n",
    "all_games[\"DAYS_FROM_LAST_GAME_away\"] = [get_days_from_last_game(all_games, x.DATE, x.team_away) for x in all_games.itertuples()]"
   ]
  },
  {
   "cell_type": "code",
   "execution_count": 12,
   "metadata": {
    "ExecuteTime": {
     "end_time": "2018-10-02T23:57:34.621378Z",
     "start_time": "2018-10-02T23:57:34.602373Z"
    }
   },
   "outputs": [
    {
     "data": {
      "text/html": [
       "<div>\n",
       "<style scoped>\n",
       "    .dataframe tbody tr th:only-of-type {\n",
       "        vertical-align: middle;\n",
       "    }\n",
       "\n",
       "    .dataframe tbody tr th {\n",
       "        vertical-align: top;\n",
       "    }\n",
       "\n",
       "    .dataframe thead th {\n",
       "        text-align: right;\n",
       "    }\n",
       "</style>\n",
       "<table border=\"1\" class=\"dataframe\">\n",
       "  <thead>\n",
       "    <tr style=\"text-align: right;\">\n",
       "      <th></th>\n",
       "      <th>GAME</th>\n",
       "      <th>DATE</th>\n",
       "      <th>team_home</th>\n",
       "      <th>team_away</th>\n",
       "      <th>fl_home_win</th>\n",
       "      <th>FG_PCT_home</th>\n",
       "      <th>FG_PCT_away</th>\n",
       "      <th>FG3_PCT_home</th>\n",
       "      <th>FG3_PCT_away</th>\n",
       "    </tr>\n",
       "  </thead>\n",
       "  <tbody>\n",
       "    <tr>\n",
       "      <th>0</th>\n",
       "      <td>BOS @ CLE 2017-10-17</td>\n",
       "      <td>2017-10-17</td>\n",
       "      <td>CLE</td>\n",
       "      <td>BOS</td>\n",
       "      <td>1</td>\n",
       "      <td>0.458</td>\n",
       "      <td>0.409</td>\n",
       "      <td>0.227</td>\n",
       "      <td>0.250</td>\n",
       "    </tr>\n",
       "    <tr>\n",
       "      <th>1</th>\n",
       "      <td>HOU @ GSW 2017-10-17</td>\n",
       "      <td>2017-10-17</td>\n",
       "      <td>GSW</td>\n",
       "      <td>HOU</td>\n",
       "      <td>0</td>\n",
       "      <td>0.537</td>\n",
       "      <td>0.485</td>\n",
       "      <td>0.533</td>\n",
       "      <td>0.366</td>\n",
       "    </tr>\n",
       "    <tr>\n",
       "      <th>2</th>\n",
       "      <td>NOP @ MEM 2017-10-18</td>\n",
       "      <td>2017-10-18</td>\n",
       "      <td>MEM</td>\n",
       "      <td>NOP</td>\n",
       "      <td>1</td>\n",
       "      <td>0.424</td>\n",
       "      <td>0.380</td>\n",
       "      <td>0.310</td>\n",
       "      <td>0.280</td>\n",
       "    </tr>\n",
       "    <tr>\n",
       "      <th>3</th>\n",
       "      <td>HOU @ SAC 2017-10-18</td>\n",
       "      <td>2017-10-18</td>\n",
       "      <td>SAC</td>\n",
       "      <td>HOU</td>\n",
       "      <td>0</td>\n",
       "      <td>0.477</td>\n",
       "      <td>0.398</td>\n",
       "      <td>0.348</td>\n",
       "      <td>0.267</td>\n",
       "    </tr>\n",
       "    <tr>\n",
       "      <th>4</th>\n",
       "      <td>DEN @ UTA 2017-10-18</td>\n",
       "      <td>2017-10-18</td>\n",
       "      <td>UTA</td>\n",
       "      <td>DEN</td>\n",
       "      <td>1</td>\n",
       "      <td>0.506</td>\n",
       "      <td>0.468</td>\n",
       "      <td>0.375</td>\n",
       "      <td>0.481</td>\n",
       "    </tr>\n",
       "  </tbody>\n",
       "</table>\n",
       "</div>"
      ],
      "text/plain": [
       "                   GAME       DATE team_home team_away  fl_home_win  \\\n",
       "0  BOS @ CLE 2017-10-17 2017-10-17       CLE       BOS            1   \n",
       "1  HOU @ GSW 2017-10-17 2017-10-17       GSW       HOU            0   \n",
       "2  NOP @ MEM 2017-10-18 2017-10-18       MEM       NOP            1   \n",
       "3  HOU @ SAC 2017-10-18 2017-10-18       SAC       HOU            0   \n",
       "4  DEN @ UTA 2017-10-18 2017-10-18       UTA       DEN            1   \n",
       "\n",
       "   FG_PCT_home  FG_PCT_away  FG3_PCT_home  FG3_PCT_away  \n",
       "0        0.458        0.409         0.227         0.250  \n",
       "1        0.537        0.485         0.533         0.366  \n",
       "2        0.424        0.380         0.310         0.280  \n",
       "3        0.477        0.398         0.348         0.267  \n",
       "4        0.506        0.468         0.375         0.481  "
      ]
     },
     "execution_count": 12,
     "metadata": {},
     "output_type": "execute_result"
    }
   ],
   "source": [
    "all_games = all_games[[\"GAME\", \"DATE\", \"team_home\", \"team_away\", \"fl_home_win\", \"FG_PCT_home\", \n",
    "                       \"FG_PCT_away\", \"FG3_PCT_home\", \"FG3_PCT_away\"]]\n",
    "all_games.head()"
   ]
  },
  {
   "cell_type": "code",
   "execution_count": 92,
   "metadata": {
    "ExecuteTime": {
     "end_time": "2018-09-24T01:55:25.042797Z",
     "start_time": "2018-09-24T01:55:24.693015Z"
    },
    "collapsed": true
   },
   "outputs": [],
   "source": [
    "# all_games.to_csv(\"./bases_nba_stats/all_games_nba_17_18.csv\")"
   ]
  },
  {
   "cell_type": "markdown",
   "metadata": {},
   "source": [
    "### Últimos 5 Jogos"
   ]
  },
  {
   "cell_type": "code",
   "execution_count": 4,
   "metadata": {
    "ExecuteTime": {
     "end_time": "2018-10-03T02:27:36.157976Z",
     "start_time": "2018-10-03T02:27:36.151993Z"
    },
    "collapsed": true
   },
   "outputs": [],
   "source": [
    "home_columns = [x for x in all_games.columns if x.endswith(\"_home\") and x not in ['GAME_ID_home', 'TEAM_CITY_home', 'GAME_DATE_home', 'GAME_PLACE_home', 'TEAM_NICKNAME_home']]\n",
    "away_columns = [x for x in all_games.columns if x.endswith(\"_away\") and x not in ['TEAM_CITY_away', 'TEAM_NICKNAME_away']]"
   ]
  },
  {
   "cell_type": "code",
   "execution_count": 5,
   "metadata": {
    "ExecuteTime": {
     "end_time": "2018-10-03T02:27:38.201490Z",
     "start_time": "2018-10-03T02:27:38.196497Z"
    },
    "collapsed": true
   },
   "outputs": [],
   "source": [
    "# \"['WIN_HOME_away' 'WIN_AWAY_away' 'WIN_away' 'WIN_HOME_PCT_away'\\n 'WIN_AWAY_PCT_away'\n",
    "# 'WIN_PCT_away' 'NUM_GAMES_HOME_away'\\n 'NUM_GAMES_AWAY_away' 'DAYS_DIFF_TOTAL_away' \n",
    "# 'DAYS_DIFF_NEXT_GAME_away'\\n 'DAYS_DIFF_NEXT_GAMES_STD_away']"
   ]
  },
  {
   "cell_type": "code",
   "execution_count": 6,
   "metadata": {
    "ExecuteTime": {
     "end_time": "2018-10-03T02:27:38.490326Z",
     "start_time": "2018-10-03T02:27:38.484331Z"
    },
    "collapsed": true
   },
   "outputs": [],
   "source": [
    "# extra_columns = []\n",
    "\n",
    "# home_columns += [x + \"_home\" for x in extra_columns]\n",
    "# away_columns += [x + \"_away\" for x in extra_columns]"
   ]
  },
  {
   "cell_type": "code",
   "execution_count": 7,
   "metadata": {
    "ExecuteTime": {
     "end_time": "2018-10-03T02:27:39.507963Z",
     "start_time": "2018-10-03T02:27:38.783378Z"
    },
    "collapsed": true
   },
   "outputs": [],
   "source": [
    "def cria_variaveis_sumarizacao(last_games, team_name, n = 5, data_ref = None, verbose = False):\n",
    "    resp = {}\n",
    "    \n",
    "    # Cria variávies de Win %\n",
    "    # Visão home\n",
    "    resp[\"num_wins_home\"] = [np.where((last_games[\"team_home\"] == team_name) &\n",
    "                             (last_games[\"fl_home_win\"] == 1) , 1, 0).sum()]\n",
    "    resp[\"num_games_home\"] = [np.where(last_games[\"team_home\"] == team_name, 1, 0).sum()]\n",
    "    resp[\"win_home_pct\"] = [(resp[\"num_wins_home\"][0] / resp[\"num_games_home\"][0])]\n",
    "    \n",
    "    # Visão Away\n",
    "    resp[\"num_wins_away\"] = [np.where((last_games[\"team_away\"] == team_name) & \n",
    "                                      (last_games[\"fl_home_win\"] == 0), 1, 0).sum()]\n",
    "    resp[\"num_games_away\"] = [np.where(last_games[\"team_away\"] == team_name, 1, 0).sum()]\n",
    "    resp[\"win_away_pct\"] = [(resp[\"num_wins_away\"][0] / resp[\"num_games_away\"][0])]\n",
    "    \n",
    "    # Visão geral\n",
    "    resp[\"num_wins_total\"] = [resp[\"num_wins_away\"][0] + resp[\"num_wins_home\"][0]]\n",
    "    resp[\"win_pct\"] = [resp[\"num_wins_total\"][0]/n]\n",
    "    \n",
    "    if verbose:\n",
    "        print(\"Win_PCT\", resp[\"win_pct\"][0], resp[\"num_wins_away\"][0], resp[\"num_wins_home\"][0])\n",
    "    \n",
    "    # Cria variáveis de data\n",
    "    if(data_ref is None):\n",
    "        data_ref = np.max(last_games[\"DATE\"]) + timedelta(days=1)\n",
    "    \n",
    "    # Visão da série\n",
    "    resp[\"total_days_diff\"] = [(np.max(last_games[\"DATE\"]) - np.min(last_games[\"DATE\"])).days]\n",
    "    days_diff_last_games = [-x.days if not np.isnan(x.days) else 0 \n",
    "                            for x in last_games[\"DATE\"].sub(last_games[\"DATE\"].shift(-1).fillna(data_ref))]\n",
    "    resp[\"days_diff_last_games_std\"] = [np.std(days_diff_last_games)]\n",
    "    resp[\"days_diff_last_games_mean\"] = [np.mean(days_diff_last_games)]\n",
    "    \n",
    "    if verbose:\n",
    "        print(\"Days_Diff\", days_diff_last_games, resp[\"days_diff_last_games_mean\"][0], resp[\"total_days_diff\"][0]) \n",
    "    \n",
    "    # All\n",
    "    resp[\"num_games_last_2_days\"] = [np.where((last_games[\"DATE\"] >= (data_ref - timedelta(days=2))) & \n",
    "                            (last_games[\"DATE\"] < data_ref) &\n",
    "                            ((last_games[\"team_home\"] == team_name) |\n",
    "                             (last_games[\"team_away\"] == team_name)), 1, 0).sum()]\n",
    "    \n",
    "    resp[\"num_games_last_4_days\"] = [np.where((last_games[\"DATE\"] >= (data_ref - timedelta(days=4))) & \n",
    "                            (last_games[\"DATE\"] < data_ref) &\n",
    "                            ((last_games[\"team_home\"] == team_name) |\n",
    "                             (last_games[\"team_away\"] == team_name)), 1, 0).sum()]\n",
    "                             \n",
    "    resp[\"num_games_last_6_days\"] = [np.where((last_games[\"DATE\"] >= (data_ref - timedelta(days=6))) & \n",
    "                            (last_games[\"DATE\"] < data_ref) &\n",
    "                            ((last_games[\"team_home\"] == team_name) |\n",
    "                             (last_games[\"team_away\"] == team_name)), 1, 0).sum()]\n",
    "    \n",
    "    resp[\"num_games_last_8_days\"] = [np.where((last_games[\"DATE\"] >= (data_ref - timedelta(days=8))) & \n",
    "                            (last_games[\"DATE\"] < data_ref) &\n",
    "                            ((last_games[\"team_home\"] == team_name) |\n",
    "                             (last_games[\"team_away\"] == team_name)), 1, 0).sum()]\n",
    "    \n",
    "    resp[\"num_games_last_10_days\"] = [np.where((last_games[\"DATE\"] >= (data_ref - timedelta(days=10))) & \n",
    "                            (last_games[\"DATE\"] < data_ref) &\n",
    "                            ((last_games[\"team_home\"] == team_name) |\n",
    "                             (last_games[\"team_away\"] == team_name)), 1, 0).sum()]\n",
    "    \n",
    "    # Away\n",
    "    resp[\"num_games_away_last_2_days\"] = [np.where((last_games[\"DATE\"] >= (data_ref - timedelta(days=2))) & \n",
    "                                    (last_games[\"DATE\"] < data_ref) &\n",
    "                                    (last_games[\"team_away\"] == team_name), 1, 0).sum()]\n",
    "    \n",
    "    resp[\"num_games_away_last_4_days\"] = [np.where((last_games[\"DATE\"] >= (data_ref - timedelta(days=4))) & \n",
    "                                    (last_games[\"DATE\"] < data_ref) &\n",
    "                                    (last_games[\"team_away\"] == team_name), 1, 0).sum()]\n",
    "    \n",
    "    resp[\"num_games_away_last_6_days\"] = [np.where((last_games[\"DATE\"] >= (data_ref - timedelta(days=6))) & \n",
    "                                    (last_games[\"DATE\"] < data_ref) &\n",
    "                                    (last_games[\"team_away\"] == team_name), 1, 0).sum()] \n",
    "    \n",
    "    resp[\"num_games_away_last_8_days\"] = [np.where((last_games[\"DATE\"] >= (data_ref - timedelta(days=8))) & \n",
    "                                    (last_games[\"DATE\"] < data_ref) &\n",
    "                                    (last_games[\"team_away\"] == team_name), 1, 0).sum()]\n",
    "    \n",
    "    resp[\"num_games_away_last_8_days\"] = [np.where((last_games[\"DATE\"] >= (data_ref - timedelta(days=10))) & \n",
    "                                    (last_games[\"DATE\"] < data_ref) &\n",
    "                                    (last_games[\"team_away\"] == team_name), 1, 0).sum()]\n",
    "    \n",
    "    # Home    \n",
    "    resp[\"num_games_home_last_2_days\"] = [np.where((last_games[\"DATE\"] >= (data_ref - timedelta(days=2))) & \n",
    "                                    (last_games[\"DATE\"] < data_ref) &\n",
    "                                    (last_games[\"team_home\"] == team_name), 1, 0).sum()]\n",
    "    \n",
    "    resp[\"num_games_home_last_4_days\"] = [np.where((last_games[\"DATE\"] >= (data_ref - timedelta(days=4))) & \n",
    "                                    (last_games[\"DATE\"] < data_ref) &\n",
    "                                    (last_games[\"team_home\"] == team_name), 1, 0).sum()]\n",
    "    \n",
    "    resp[\"num_games_home_last_6_days\"] = [np.where((last_games[\"DATE\"] >= (data_ref - timedelta(days=6))) & \n",
    "                                    (last_games[\"DATE\"] < data_ref) &\n",
    "                                    (last_games[\"team_home\"] == team_name), 1, 0).sum()]\n",
    "    \n",
    "    resp[\"num_games_home_last_8_days\"] = [np.where((last_games[\"DATE\"] >= (data_ref - timedelta(days=8))) & \n",
    "                                    (last_games[\"DATE\"] < data_ref) &\n",
    "                                    (last_games[\"team_home\"] == team_name), 1, 0).sum()]\n",
    "    \n",
    "    resp[\"num_games_home_last_10_days\"] = [np.where((last_games[\"DATE\"] >= (data_ref - timedelta(days=10))) & \n",
    "                                    (last_games[\"DATE\"] < data_ref) &\n",
    "                                    (last_games[\"team_home\"] == team_name), 1, 0).sum()]\n",
    "    \n",
    "    if verbose:\n",
    "        print(\"Num Games Last X Days\", resp[\"num_games_last_6_days\"][0], resp[\"num_games_away_last_6_days\"][0])\n",
    "        \n",
    "        \n",
    "    # Distance KM\n",
    "    resp[\"sum_dist_km\"] = [last_games[last_games[\"team_home\"] == team_name][\"DISTANCE_KM_home\"].sum()\n",
    "                           + last_games[last_games[\"team_away\"] == team_name][\"DISTANCE_KM_away\"].sum()]\n",
    "    \n",
    "    dist_list = (list(last_games[last_games[\"team_home\"] == team_name][\"DISTANCE_KM_home\"])\n",
    "                 + list(last_games[last_games[\"team_away\"] == team_name][\"DISTANCE_KM_away\"]))\n",
    "    \n",
    "    resp[\"avg_dist_km\"] = [np.average(dist_list)]\n",
    "    \n",
    "    # Back to Back\n",
    "    resp[\"back_to_back\"] = [np.where(pd.Series(dist_list) > 3500, 1, 0).sum()]\n",
    "    \n",
    "    \n",
    "    # Days from last Game\n",
    "    \n",
    "    days_from_last_games_list = (list(last_games[last_games[\"team_home\"] == team_name][\"DAYS_FROM_LAST_GAME_home\"])\n",
    "                                 + list(last_games[last_games[\"team_away\"] == team_name][\"DAYS_FROM_LAST_GAME_away\"]))\n",
    "    \n",
    "    if(len(days_from_last_games_list) > 0):\n",
    "        resp[\"avg_days_from_last_games\"] = [np.average(days_from_last_games_list)]\n",
    "        resp[\"std_days_from_last_games\"] = [np.std(days_from_last_games_list)]\n",
    "        resp[\"min_days_from_last_games\"] = [np.min(days_from_last_games_list)]\n",
    "    else:\n",
    "        resp[\"avg_days_from_last_games\"] = [np.nan]\n",
    "        resp[\"std_days_from_last_games\"] = [np.nan]\n",
    "        resp[\"min_days_from_last_games\"] = [np.nan]\n",
    "    \n",
    "    return(pd.DataFrame(resp))"
   ]
  },
  {
   "cell_type": "code",
   "execution_count": 8,
   "metadata": {
    "ExecuteTime": {
     "end_time": "2018-10-03T02:27:40.139599Z",
     "start_time": "2018-10-03T02:27:39.921726Z"
    },
    "collapsed": true
   },
   "outputs": [],
   "source": [
    "def get_last_games(df, data, team_name, n = 5, filter=\"all\", verbose=False):\n",
    "    if(filter == \"all\"):\n",
    "        last_games = df[(df[\"DATE\"] < data) & \n",
    "                        ((df[\"team_home\"] == team_name) | (df[\"team_away\"] == team_name))].tail(n)\n",
    "        \n",
    "    elif(filter == \"home\"):\n",
    "        last_games = df[(df[\"DATE\"] < data) & (df[\"team_home\"] == team_name)].tail(n)\n",
    "    elif(filter == \"away\"):\n",
    "        last_games = df[(df[\"DATE\"] < data) & (df[\"team_away\"] == team_name)].tail(n)\n",
    "\n",
    "    if(verbose):\n",
    "        print(last_games[[\"team_home\", \"team_away\", \"PTS_home\", \"PTS_away\", \"DATE\"]])\n",
    "    \n",
    "    if not isinstance(last_games, pd.DataFrame):\n",
    "        last_games = last_games.to_frame().transpose()\n",
    "        \n",
    "    return(last_games)\n",
    "\n",
    "def get_avg_last_games(last_games, team_name, n = 5, data_ref = None, rivals = False, \n",
    "                       to_drop=['fl_home_win', 'fl_playoff', 'fl_win','index', 'team_away_game_num',\n",
    "                                'team_game_num', 'team_home_game_num', \"TEAM_CITY_away\", \"TEAM_CITY_home\",\n",
    "                                \"TEAM_CITY_home\", \"TEAM_ID_home\", \"TEAM_NAME_advanced_home\",\n",
    "                                \"TEAM_NAME_fourfactors_home\", \"TEAM_NAME_hustle_home\",\n",
    "                                \"TEAM_NAME_misc_home\", \"TEAM_NAME_home\", \"TEAM_NAME_playertrack_home\",\n",
    "                                \"TEAM_NAME_scoring_home\", 'TEAM_ID_home', 'TEAM_ID_away', \"TEAM_NAME_advanced_away\",\n",
    "                                \"TEAM_NAME_fourfactors_away\", \"TEAM_NAME_hustle_away\",\n",
    "                                \"TEAM_NAME_misc_away\", \"TEAM_NAME_away\", \"TEAM_NAME_playertrack_away\",\n",
    "                                \"TEAM_NAME_scoring_away\", \"DATE\", \"SEASON\", 'GAME', 'GAME_ID_home', 'GAME_ID_away',\n",
    "                               'GAME_DATE_home', 'GAME_PLACE_home']):\n",
    "    \n",
    "    if(rivals == False):\n",
    "        last_games_home = last_games[last_games[\"team_home\"] == team_name].sum().to_frame().transpose().drop(away_columns + to_drop + [\"team_home\"], axis=1, errors=\"ignore\")\n",
    "        last_games_away = last_games[last_games[\"team_away\"] == team_name].sum().to_frame().transpose().drop(home_columns + to_drop + [\"team_away\"], axis=1, errors=\"ignore\")\n",
    "        \n",
    "        last_games_home.columns = [x.replace(\"_home\",\"\") for x in last_games_home.columns]\n",
    "        last_games_away.columns = [x.replace(\"_away\",\"\") for x in last_games_away.columns]\n",
    "    else:\n",
    "        last_games_home = last_games[last_games[\"team_home\"] != team_name].sum().to_frame().transpose().drop(away_columns + to_drop + [\"team_home\"], axis=1, errors=\"ignore\")\n",
    "        last_games_away = last_games[last_games[\"team_away\"] != team_name].sum().to_frame().transpose().drop(home_columns + to_drop + [\"team_away\"], axis=1, errors=\"ignore\")\n",
    "            \n",
    "        last_games_home.columns = [x.replace(\"_home\",\"_opponent\") for x in last_games_home.columns]\n",
    "        last_games_away.columns = [x.replace(\"_away\",\"_opponent\") for x in last_games_away.columns]\n",
    "    \n",
    "    if(len(last_games_home) == 0):\n",
    "        if(rivals):\n",
    "            #resp = (last_games_away/n).to_frame().transpose()\n",
    "            resp = (last_games_away/n)\n",
    "        else:\n",
    "            resp = last_games_away/n\n",
    "    \n",
    "    if(len(last_games_away) == 0):\n",
    "        if(rivals):\n",
    "            #resp = (last_games_home/n).to_frame().transpose()\n",
    "            resp = (last_games_home/n)\n",
    "        else:\n",
    "            resp = last_games_home/n\n",
    "            \n",
    "    if(len(last_games_away) > 0 and len(last_games_home) > 0):\n",
    "        \n",
    "        if(rivals):\n",
    "            #resp = ((last_games_home + last_games_away) / n).to_frame().transpose()\n",
    "            resp = ((last_games_home + last_games_away) / n)\n",
    "        else:\n",
    "            resp = ((last_games_home + last_games_away) / n)    \n",
    "    \n",
    "    if not rivals:\n",
    "        var_criadas = cria_variaveis_sumarizacao(last_games, team_name, n = 5, data_ref = None)\n",
    "        resp = pd.concat([resp, var_criadas], axis=1).sum().to_frame().transpose()\n",
    "    \n",
    "    return(resp)"
   ]
  },
  {
   "cell_type": "code",
   "execution_count": 120,
   "metadata": {
    "ExecuteTime": {
     "end_time": "2018-10-03T01:46:59.246475Z",
     "start_time": "2018-10-03T01:46:59.228488Z"
    },
    "collapsed": true
   },
   "outputs": [],
   "source": [
    "teste = all_games[all_games[\"team_away\"] == \"POR\"]\n",
    "teste = get_last_games(all_games, teste.iloc[10][\"DATE\"], \"POR\", verbose=False, filter=\"home\").reset_index()"
   ]
  },
  {
   "cell_type": "code",
   "execution_count": 121,
   "metadata": {
    "ExecuteTime": {
     "end_time": "2018-10-03T01:47:34.468739Z",
     "start_time": "2018-10-03T01:47:34.453749Z"
    }
   },
   "outputs": [
    {
     "data": {
      "text/html": [
       "<div>\n",
       "<style scoped>\n",
       "    .dataframe tbody tr th:only-of-type {\n",
       "        vertical-align: middle;\n",
       "    }\n",
       "\n",
       "    .dataframe tbody tr th {\n",
       "        vertical-align: top;\n",
       "    }\n",
       "\n",
       "    .dataframe thead th {\n",
       "        text-align: right;\n",
       "    }\n",
       "</style>\n",
       "<table border=\"1\" class=\"dataframe\">\n",
       "  <thead>\n",
       "    <tr style=\"text-align: right;\">\n",
       "      <th></th>\n",
       "      <th>team_home</th>\n",
       "      <th>team_away</th>\n",
       "      <th>FG_PCT_home</th>\n",
       "      <th>FG_PCT_away</th>\n",
       "    </tr>\n",
       "  </thead>\n",
       "  <tbody>\n",
       "    <tr>\n",
       "      <th>0</th>\n",
       "      <td>POR</td>\n",
       "      <td>SAC</td>\n",
       "      <td>0.543</td>\n",
       "      <td>0.382</td>\n",
       "    </tr>\n",
       "    <tr>\n",
       "      <th>1</th>\n",
       "      <td>POR</td>\n",
       "      <td>MIL</td>\n",
       "      <td>0.422</td>\n",
       "      <td>0.483</td>\n",
       "    </tr>\n",
       "    <tr>\n",
       "      <th>2</th>\n",
       "      <td>POR</td>\n",
       "      <td>NOP</td>\n",
       "      <td>0.448</td>\n",
       "      <td>0.523</td>\n",
       "    </tr>\n",
       "    <tr>\n",
       "      <th>3</th>\n",
       "      <td>POR</td>\n",
       "      <td>WAS</td>\n",
       "      <td>0.410</td>\n",
       "      <td>0.472</td>\n",
       "    </tr>\n",
       "    <tr>\n",
       "      <th>4</th>\n",
       "      <td>POR</td>\n",
       "      <td>HOU</td>\n",
       "      <td>0.511</td>\n",
       "      <td>0.533</td>\n",
       "    </tr>\n",
       "  </tbody>\n",
       "</table>\n",
       "</div>"
      ],
      "text/plain": [
       "  team_home team_away  FG_PCT_home  FG_PCT_away\n",
       "0       POR       SAC        0.543        0.382\n",
       "1       POR       MIL        0.422        0.483\n",
       "2       POR       NOP        0.448        0.523\n",
       "3       POR       WAS        0.410        0.472\n",
       "4       POR       HOU        0.511        0.533"
      ]
     },
     "execution_count": 121,
     "metadata": {},
     "output_type": "execute_result"
    }
   ],
   "source": [
    "teste[[\"team_home\", \"team_away\", \"FG_PCT_home\", \"FG_PCT_away\"]]"
   ]
  },
  {
   "cell_type": "code",
   "execution_count": 122,
   "metadata": {
    "ExecuteTime": {
     "end_time": "2018-10-03T01:48:08.531879Z",
     "start_time": "2018-10-03T01:48:08.349983Z"
    }
   },
   "outputs": [
    {
     "name": "stdout",
     "output_type": "stream",
     "text": [
      "Win_PCT 0.2 0 1\n",
      "Days_Diff [12, 2, 3, 4, 1] 4.4 21\n",
      "Num Games Last X Days 2 0\n"
     ]
    },
    {
     "name": "stderr",
     "output_type": "stream",
     "text": [
      "C:\\Users\\rafae\\Anaconda3\\lib\\site-packages\\ipykernel_launcher.py:15: RuntimeWarning: invalid value encountered in long_scalars\n",
      "  from ipykernel import kernelapp as app\n"
     ]
    },
    {
     "data": {
      "text/html": [
       "<div>\n",
       "<style scoped>\n",
       "    .dataframe tbody tr th:only-of-type {\n",
       "        vertical-align: middle;\n",
       "    }\n",
       "\n",
       "    .dataframe tbody tr th {\n",
       "        vertical-align: top;\n",
       "    }\n",
       "\n",
       "    .dataframe thead th {\n",
       "        text-align: right;\n",
       "    }\n",
       "</style>\n",
       "<table border=\"1\" class=\"dataframe\">\n",
       "  <thead>\n",
       "    <tr style=\"text-align: right;\">\n",
       "      <th></th>\n",
       "      <th>num_wins_home</th>\n",
       "      <th>num_games_home</th>\n",
       "      <th>win_home_pct</th>\n",
       "      <th>num_wins_away</th>\n",
       "      <th>num_games_away</th>\n",
       "      <th>win_away_pct</th>\n",
       "      <th>num_wins_total</th>\n",
       "      <th>win_pct</th>\n",
       "      <th>total_days_diff</th>\n",
       "      <th>days_diff_last_games_std</th>\n",
       "      <th>...</th>\n",
       "      <th>num_games_home_last_4_days</th>\n",
       "      <th>num_games_home_last_6_days</th>\n",
       "      <th>num_games_home_last_8_days</th>\n",
       "      <th>num_games_home_last_10_days</th>\n",
       "      <th>sum_dist_km</th>\n",
       "      <th>avg_dist_km</th>\n",
       "      <th>back_to_back</th>\n",
       "      <th>avg_days_from_last_games</th>\n",
       "      <th>std_days_from_last_games</th>\n",
       "      <th>min_days_from_last_games</th>\n",
       "    </tr>\n",
       "  </thead>\n",
       "  <tbody>\n",
       "    <tr>\n",
       "      <th>0</th>\n",
       "      <td>1</td>\n",
       "      <td>5</td>\n",
       "      <td>0.2</td>\n",
       "      <td>0</td>\n",
       "      <td>0</td>\n",
       "      <td>NaN</td>\n",
       "      <td>1</td>\n",
       "      <td>0.2</td>\n",
       "      <td>21</td>\n",
       "      <td>3.929377</td>\n",
       "      <td>...</td>\n",
       "      <td>1</td>\n",
       "      <td>2</td>\n",
       "      <td>3</td>\n",
       "      <td>4</td>\n",
       "      <td>4704.277771</td>\n",
       "      <td>940.855554</td>\n",
       "      <td>1</td>\n",
       "      <td>2.6</td>\n",
       "      <td>1.019804</td>\n",
       "      <td>1.0</td>\n",
       "    </tr>\n",
       "  </tbody>\n",
       "</table>\n",
       "<p>1 rows × 31 columns</p>\n",
       "</div>"
      ],
      "text/plain": [
       "   num_wins_home  num_games_home  win_home_pct  num_wins_away  num_games_away  \\\n",
       "0              1               5           0.2              0               0   \n",
       "\n",
       "   win_away_pct  num_wins_total  win_pct  total_days_diff  \\\n",
       "0           NaN               1      0.2               21   \n",
       "\n",
       "   days_diff_last_games_std            ...             \\\n",
       "0                  3.929377            ...              \n",
       "\n",
       "   num_games_home_last_4_days  num_games_home_last_6_days  \\\n",
       "0                           1                           2   \n",
       "\n",
       "   num_games_home_last_8_days  num_games_home_last_10_days  sum_dist_km  \\\n",
       "0                           3                            4  4704.277771   \n",
       "\n",
       "   avg_dist_km  back_to_back  avg_days_from_last_games  \\\n",
       "0   940.855554             1                       2.6   \n",
       "\n",
       "   std_days_from_last_games  min_days_from_last_games  \n",
       "0                  1.019804                       1.0  \n",
       "\n",
       "[1 rows x 31 columns]"
      ]
     },
     "execution_count": 122,
     "metadata": {},
     "output_type": "execute_result"
    }
   ],
   "source": [
    "cria_variaveis_sumarizacao(teste, \"POR\", verbose = True)"
   ]
  },
  {
   "cell_type": "code",
   "execution_count": 124,
   "metadata": {
    "ExecuteTime": {
     "end_time": "2018-10-03T01:53:14.944819Z",
     "start_time": "2018-10-03T01:53:14.797888Z"
    }
   },
   "outputs": [
    {
     "name": "stderr",
     "output_type": "stream",
     "text": [
      "C:\\Users\\rafae\\Anaconda3\\lib\\site-packages\\ipykernel_launcher.py:15: RuntimeWarning: invalid value encountered in long_scalars\n",
      "  from ipykernel import kernelapp as app\n"
     ]
    }
   ],
   "source": [
    "resp = get_avg_last_games(teste, \"POR\", rivals=False)"
   ]
  },
  {
   "cell_type": "code",
   "execution_count": 125,
   "metadata": {
    "ExecuteTime": {
     "end_time": "2018-10-03T01:53:17.339015Z",
     "start_time": "2018-10-03T01:53:17.317010Z"
    }
   },
   "outputs": [
    {
     "data": {
      "text/html": [
       "<div>\n",
       "<style scoped>\n",
       "    .dataframe tbody tr th:only-of-type {\n",
       "        vertical-align: middle;\n",
       "    }\n",
       "\n",
       "    .dataframe tbody tr th {\n",
       "        vertical-align: top;\n",
       "    }\n",
       "\n",
       "    .dataframe thead th {\n",
       "        text-align: right;\n",
       "    }\n",
       "</style>\n",
       "<table border=\"1\" class=\"dataframe\">\n",
       "  <thead>\n",
       "    <tr style=\"text-align: right;\">\n",
       "      <th></th>\n",
       "      <th>AST</th>\n",
       "      <th>AST_PCT</th>\n",
       "      <th>AST_RATIO</th>\n",
       "      <th>AST_TOV</th>\n",
       "      <th>AST_playertrack</th>\n",
       "      <th>BLK</th>\n",
       "      <th>BLKA</th>\n",
       "      <th>BLK_misc</th>\n",
       "      <th>BOX_OUTS</th>\n",
       "      <th>CFGA</th>\n",
       "      <th>...</th>\n",
       "      <th>num_games_home_last_4_days</th>\n",
       "      <th>num_games_home_last_6_days</th>\n",
       "      <th>num_games_home_last_8_days</th>\n",
       "      <th>num_games_home_last_10_days</th>\n",
       "      <th>sum_dist_km</th>\n",
       "      <th>avg_dist_km</th>\n",
       "      <th>back_to_back</th>\n",
       "      <th>avg_days_from_last_games</th>\n",
       "      <th>std_days_from_last_games</th>\n",
       "      <th>min_days_from_last_games</th>\n",
       "    </tr>\n",
       "  </thead>\n",
       "  <tbody>\n",
       "    <tr>\n",
       "      <th>0</th>\n",
       "      <td>18.6</td>\n",
       "      <td>0.4794</td>\n",
       "      <td>14.78</td>\n",
       "      <td>1.818</td>\n",
       "      <td>18.6</td>\n",
       "      <td>4.8</td>\n",
       "      <td>4.0</td>\n",
       "      <td>4.8</td>\n",
       "      <td>22.8</td>\n",
       "      <td>31.6</td>\n",
       "      <td>...</td>\n",
       "      <td>1.0</td>\n",
       "      <td>2.0</td>\n",
       "      <td>3.0</td>\n",
       "      <td>4.0</td>\n",
       "      <td>4704.277771</td>\n",
       "      <td>940.855554</td>\n",
       "      <td>1.0</td>\n",
       "      <td>2.6</td>\n",
       "      <td>1.019804</td>\n",
       "      <td>1.0</td>\n",
       "    </tr>\n",
       "  </tbody>\n",
       "</table>\n",
       "<p>1 rows × 133 columns</p>\n",
       "</div>"
      ],
      "text/plain": [
       "    AST  AST_PCT  AST_RATIO  AST_TOV  AST_playertrack  BLK  BLKA  BLK_misc  \\\n",
       "0  18.6   0.4794      14.78    1.818             18.6  4.8   4.0       4.8   \n",
       "\n",
       "   BOX_OUTS  CFGA            ...             num_games_home_last_4_days  \\\n",
       "0      22.8  31.6            ...                                    1.0   \n",
       "\n",
       "   num_games_home_last_6_days  num_games_home_last_8_days  \\\n",
       "0                         2.0                         3.0   \n",
       "\n",
       "   num_games_home_last_10_days  sum_dist_km  avg_dist_km  back_to_back  \\\n",
       "0                          4.0  4704.277771   940.855554           1.0   \n",
       "\n",
       "   avg_days_from_last_games  std_days_from_last_games  \\\n",
       "0                       2.6                  1.019804   \n",
       "\n",
       "   min_days_from_last_games  \n",
       "0                       1.0  \n",
       "\n",
       "[1 rows x 133 columns]"
      ]
     },
     "execution_count": 125,
     "metadata": {},
     "output_type": "execute_result"
    }
   ],
   "source": [
    "resp"
   ]
  },
  {
   "cell_type": "code",
   "execution_count": 9,
   "metadata": {
    "ExecuteTime": {
     "end_time": "2018-10-03T02:37:47.079303Z",
     "start_time": "2018-10-03T02:27:46.408705Z"
    }
   },
   "outputs": [
    {
     "name": "stderr",
     "output_type": "stream",
     "text": [
      "C:\\Users\\rafae\\Anaconda3\\lib\\site-packages\\ipykernel_launcher.py:9: RuntimeWarning: invalid value encountered in long_scalars\n",
      "  if __name__ == '__main__':\n",
      "C:\\Users\\rafae\\Anaconda3\\lib\\site-packages\\ipykernel_launcher.py:15: RuntimeWarning: invalid value encountered in long_scalars\n",
      "  from ipykernel import kernelapp as app\n",
      "C:\\Users\\rafae\\Anaconda3\\lib\\site-packages\\numpy\\core\\_methods.py:140: RuntimeWarning: Degrees of freedom <= 0 for slice\n",
      "  keepdims=keepdims)\n",
      "C:\\Users\\rafae\\Anaconda3\\lib\\site-packages\\numpy\\core\\_methods.py:110: RuntimeWarning: invalid value encountered in true_divide\n",
      "  arrmean, rcount, out=arrmean, casting='unsafe', subok=False)\n",
      "C:\\Users\\rafae\\Anaconda3\\lib\\site-packages\\numpy\\core\\_methods.py:132: RuntimeWarning: invalid value encountered in double_scalars\n",
      "  ret = ret.dtype.type(ret / rcount)\n",
      "C:\\Users\\rafae\\Anaconda3\\lib\\site-packages\\numpy\\core\\fromnumeric.py:2920: RuntimeWarning: Mean of empty slice.\n",
      "  out=out, **kwargs)\n",
      "C:\\Users\\rafae\\Anaconda3\\lib\\site-packages\\numpy\\core\\_methods.py:85: RuntimeWarning: invalid value encountered in double_scalars\n",
      "  ret = ret.dtype.type(ret / rcount)\n",
      "C:\\Users\\rafae\\Anaconda3\\lib\\site-packages\\numpy\\lib\\function_base.py:356: RuntimeWarning: Mean of empty slice.\n",
      "  avg = a.mean(axis)\n"
     ]
    },
    {
     "name": "stdout",
     "output_type": "stream",
     "text": [
      "DET @ WAS 2017-10-20\r"
     ]
    },
    {
     "name": "stderr",
     "output_type": "stream",
     "text": [
      "C:\\Users\\rafae\\Anaconda3\\lib\\site-packages\\numpy\\core\\fromnumeric.py:83: RuntimeWarning: invalid value encountered in reduce\n",
      "  return ufunc.reduce(obj, axis, dtype, out, **passkwargs)\n"
     ]
    },
    {
     "name": "stdout",
     "output_type": "stream",
     "text": [
      "HOU @ SAC 2018-04-11\r"
     ]
    }
   ],
   "source": [
    "resp = []\n",
    "season = all_games.reset_index()\n",
    "\n",
    "for index, row in season.iterrows():\n",
    "#for index, row in regular_season.groupby(\"season\").first().iterrows():\n",
    "        # Home team\n",
    "        home_last_games = get_last_games(season, row[\"DATE\"], row[\"team_home\"])\n",
    "        home_last_games_as_home = get_last_games(season, row[\"DATE\"], row[\"team_home\"], filter=\"home\")\n",
    "        \n",
    "        home_avg_last_games = get_avg_last_games(home_last_games, row[\"team_home\"], data_ref=row[\"DATE\"])\n",
    "        home_avg_last_games_as_home = get_avg_last_games(home_last_games_as_home, row[\"team_home\"], data_ref=row[\"DATE\"])\n",
    "        home_rivals_last_games = get_avg_last_games(home_last_games, row[\"team_home\"], rivals=True, data_ref=row[\"DATE\"])\n",
    "\n",
    "        home_avg_last_games[\"game_ref\"] = [row.GAME]\n",
    "        home_avg_last_games.set_index(\"game_ref\", inplace=True)\n",
    "        home_avg_last_games.drop([\"team_home\", \"team_away\", 0],axis=1 ,errors=\"ignore\", inplace=True)\n",
    "        \n",
    "        home_avg_last_games_as_home[\"game_ref\"] = [row.GAME]\n",
    "        home_avg_last_games_as_home.set_index(\"game_ref\", inplace=True)\n",
    "        home_avg_last_games_as_home.drop([\"team_home\", \"team_away\", 0], axis=1 ,errors=\"ignore\", inplace=True)\n",
    "\n",
    "        home_rivals_last_games[\"game_ref\"] = [row.GAME]\n",
    "        home_rivals_last_games.set_index(\"game_ref\", inplace=True)\n",
    "        home_rivals_last_games.drop([\"team_home\", \"team_away\", 0],axis=1 ,errors=\"ignore\", inplace=True)\n",
    "\n",
    "        #print(home_rivals_last_games.index, home_avg_last_games.index)\n",
    "\n",
    "        # Away team\n",
    "        away_last_games = get_last_games(season, row[\"DATE\"], row[\"team_away\"]).reset_index()\n",
    "        away_last_games_as_away = get_last_games(season, row[\"DATE\"], row[\"team_away\"], filter=\"away\").reset_index()\n",
    "        \n",
    "        away_avg_last_games = get_avg_last_games(away_last_games, row[\"team_away\"], data_ref=row[\"DATE\"])\n",
    "        away_avg_last_games_as_away = get_avg_last_games(away_last_games_as_away, row[\"team_away\"], data_ref=row[\"DATE\"])\n",
    "        away_rivals_last_games = get_avg_last_games(away_last_games, row[\"team_away\"], rivals=True, data_ref=row[\"DATE\"])\n",
    "\n",
    "        away_avg_last_games[\"game_ref\"] = [row.GAME]\n",
    "        away_avg_last_games.set_index(\"game_ref\", inplace=True)\n",
    "        away_avg_last_games.drop([\"team_home\", \"team_away\", 0],axis=1 ,errors=\"ignore\", inplace=True)\n",
    "        \n",
    "        away_avg_last_games_as_away[\"game_ref\"] = [row.GAME]\n",
    "        away_avg_last_games_as_away.set_index(\"game_ref\", inplace=True)\n",
    "        away_avg_last_games_as_away.drop([\"team_home\", \"team_away\", 0],axis=1 ,errors=\"ignore\", inplace=True)\n",
    "\n",
    "        away_rivals_last_games[\"game_ref\"] = [row.GAME]\n",
    "        away_rivals_last_games.set_index(\"game_ref\", inplace=True)\n",
    "        away_rivals_last_games.drop([\"team_home\", \"team_away\", 0],axis=1 ,errors=\"ignore\", inplace=True)\n",
    "\n",
    "        #print(away_rivals_last_games.index, away_avg_last_games.index)\n",
    "\n",
    "        # Junta bases \n",
    "        avg_last_games = home_avg_last_games.join(away_avg_last_games, how=\"inner\", \n",
    "                             lsuffix='_home_last_5_games', rsuffix='_away_last_5_games').drop('level_0', axis=1, errors=\"ignore\")\n",
    "        \n",
    "        avg_last_games_as = home_avg_last_games_as_home.join(away_avg_last_games_as_away, how=\"inner\", \n",
    "                                 lsuffix='_home_last_5_games_as_home', rsuffix='_away_last_5_games_as_away').drop('level_0', axis=1, errors=\"ignore\")\n",
    "        \n",
    "        \n",
    "        rivals_last_games = home_rivals_last_games.join(away_rivals_last_games, how=\"inner\",\n",
    "                                lsuffix='_home_last_5_games', rsuffix='_away_last_5_games').drop('level_0', axis=1, errors=\"ignore\")\n",
    "\n",
    "        \n",
    "        #print(rivals_last_games.columns)\n",
    "        \n",
    "        game_line = avg_last_games.join(rivals_last_games, how=\"inner\")\n",
    "        \n",
    "        game_line = game_line.join(avg_last_games_as, how=\"inner\")\n",
    "\n",
    "        game_line = pd.concat([row.to_frame().transpose().set_index(\"GAME\"), game_line], axis=1)\n",
    "\n",
    "        print(str(row.GAME), end=\"\\r\")\n",
    "        \n",
    "        resp.append(game_line)"
   ]
  },
  {
   "cell_type": "code",
   "execution_count": 10,
   "metadata": {
    "ExecuteTime": {
     "end_time": "2018-10-03T02:38:43.788690Z",
     "start_time": "2018-10-03T02:38:42.257493Z"
    },
    "collapsed": true
   },
   "outputs": [],
   "source": [
    "df_resp = pd.concat(resp)"
   ]
  },
  {
   "cell_type": "code",
   "execution_count": 11,
   "metadata": {
    "ExecuteTime": {
     "end_time": "2018-10-03T02:39:43.022688Z",
     "start_time": "2018-10-03T02:39:36.682311Z"
    },
    "collapsed": true
   },
   "outputs": [],
   "source": [
    "df_resp.to_csv(\"df_resp.csv\")"
   ]
  },
  {
   "cell_type": "code",
   "execution_count": 12,
   "metadata": {
    "ExecuteTime": {
     "end_time": "2018-10-03T02:40:36.658613Z",
     "start_time": "2018-10-03T02:40:36.589652Z"
    }
   },
   "outputs": [
    {
     "data": {
      "text/plain": [
       "0"
      ]
     },
     "execution_count": 12,
     "metadata": {},
     "output_type": "execute_result"
    }
   ],
   "source": [
    "import gc\n",
    "gc.collect()"
   ]
  },
  {
   "cell_type": "code",
   "execution_count": 13,
   "metadata": {
    "ExecuteTime": {
     "end_time": "2018-10-03T02:40:52.910732Z",
     "start_time": "2018-10-03T02:40:52.904735Z"
    },
    "collapsed": true
   },
   "outputs": [],
   "source": [
    "lista = []\n",
    "for var in df_resp.columns:\n",
    "    if \"_home_last_5_games\" in var:\n",
    "        lista.append(var.replace(\"_home_last_5_games_as_home\", \"\").replace(\"_opponent_home_last_5_games\", \"\").replace(\"_home_last_5_games\", \"\"))"
   ]
  },
  {
   "cell_type": "code",
   "execution_count": 14,
   "metadata": {
    "ExecuteTime": {
     "end_time": "2018-10-03T02:41:09.085204Z",
     "start_time": "2018-10-03T02:41:09.080206Z"
    }
   },
   "outputs": [],
   "source": [
    "lista_features = set(lista)"
   ]
  },
  {
   "cell_type": "code",
   "execution_count": 206,
   "metadata": {
    "ExecuteTime": {
     "end_time": "2018-09-24T02:24:30.827510Z",
     "start_time": "2018-09-24T02:24:30.819513Z"
    },
    "collapsed": true
   },
   "outputs": [],
   "source": [
    "df_resp[\"week\"] = [x.isocalendar()[1] for x in df_resp.DATE]"
   ]
  },
  {
   "cell_type": "code",
   "execution_count": 207,
   "metadata": {
    "ExecuteTime": {
     "end_time": "2018-09-24T02:24:36.133086Z",
     "start_time": "2018-09-24T02:24:35.054720Z"
    },
    "collapsed": true
   },
   "outputs": [],
   "source": [
    "df_resp.to_csv(\"bases_nba_stats/base_last_5_+_jogos.csv\")"
   ]
  },
  {
   "cell_type": "markdown",
   "metadata": {},
   "source": [
    "### Variáveis Cross"
   ]
  },
  {
   "cell_type": "code",
   "execution_count": 15,
   "metadata": {
    "ExecuteTime": {
     "end_time": "2018-10-03T02:41:14.584548Z",
     "start_time": "2018-10-03T02:41:14.580556Z"
    }
   },
   "outputs": [],
   "source": [
    "filtrada = df_resp"
   ]
  },
  {
   "cell_type": "code",
   "execution_count": 106,
   "metadata": {
    "ExecuteTime": {
     "end_time": "2018-10-03T01:10:24.626260Z",
     "start_time": "2018-10-03T01:10:24.619264Z"
    }
   },
   "outputs": [
    {
     "data": {
      "text/plain": [
       "Index(['FG_PCT_home', 'FG_PCT_away', 'FG_PCT_home_last_5_games',\n",
       "       'FG_PCT_away_last_5_games', 'FG_PCT_opponent_home_last_5_games',\n",
       "       'FG_PCT_opponent_away_last_5_games', 'FG_PCT_home_last_5_games_as_home',\n",
       "       'FG_PCT_away_last_5_games_as_away'],\n",
       "      dtype='object')"
      ]
     },
     "execution_count": 106,
     "metadata": {},
     "output_type": "execute_result"
    }
   ],
   "source": [
    "filtrada.columns"
   ]
  },
  {
   "cell_type": "code",
   "execution_count": 16,
   "metadata": {
    "ExecuteTime": {
     "end_time": "2018-10-03T02:41:20.540161Z",
     "start_time": "2018-10-03T02:41:20.014442Z"
    }
   },
   "outputs": [],
   "source": [
    "columns_subtract = lista_features\n",
    "\n",
    "for column in columns_subtract:\n",
    "    filtrada[\"delta_\" + column] = filtrada[column + \"_home_last_5_games\"] - filtrada[column + \"_away_last_5_games\"]\n",
    "    filtrada[\"delta_as_home_as_away_\" + column] = filtrada[column + \"_home_last_5_games_as_home\"] - filtrada[column + \"_away_last_5_games_as_away\"]\n",
    "    try:\n",
    "        filtrada[\"cross_opponent_home_\" + column] = filtrada[column + \"_opponent_home_last_5_games\"] - filtrada[column + \"_away_last_5_games\"]\n",
    "        filtrada[\"cross_opponent_away_\" + column] = filtrada[column + \"_opponent_away_last_5_games\"] - filtrada[column + \"_home_last_5_games\"]\n",
    "    except KeyError:\n",
    "        pass"
   ]
  },
  {
   "cell_type": "code",
   "execution_count": 17,
   "metadata": {
    "ExecuteTime": {
     "end_time": "2018-10-03T02:41:39.823097Z",
     "start_time": "2018-10-03T02:41:39.818101Z"
    },
    "collapsed": true
   },
   "outputs": [],
   "source": [
    "to_keep_delta = []\n",
    "for var in filtrada.columns:\n",
    "    if \"delta\" in var or \"cross\" in var:\n",
    "        to_keep_delta.append(var)"
   ]
  },
  {
   "cell_type": "code",
   "execution_count": 24,
   "metadata": {
    "ExecuteTime": {
     "end_time": "2018-10-03T02:44:32.974661Z",
     "start_time": "2018-10-03T02:44:31.971213Z"
    }
   },
   "outputs": [],
   "source": [
    "filtrada[to_keep_delta + [\"fl_home_win\"]].to_csv(\"base_delta_cross.csv\")"
   ]
  },
  {
   "cell_type": "code",
   "execution_count": null,
   "metadata": {
    "ExecuteTime": {
     "end_time": "2018-10-03T02:24:55.042930Z",
     "start_time": "2018-10-03T02:24:49.206Z"
    }
   },
   "outputs": [],
   "source": [
    "filtrada.drop(lista_features)"
   ]
  },
  {
   "cell_type": "markdown",
   "metadata": {},
   "source": [
    "### Cria base de Modelagem"
   ]
  },
  {
   "cell_type": "code",
   "execution_count": 209,
   "metadata": {
    "ExecuteTime": {
     "end_time": "2018-09-24T02:31:06.015293Z",
     "start_time": "2018-09-24T02:31:05.956326Z"
    },
    "collapsed": true
   },
   "outputs": [],
   "source": [
    "to_drop_modelagem = ['FGM_home', 'FGA_home', 'FG_PCT_home', 'FG3M_home', 'FG3A_home', \n",
    "                     'FG3_PCT_home', 'FTM_home', 'FTA_home', 'FT_PCT_home', 'OREB_home', \n",
    "                     'DREB_home', 'REB_home', 'AST_home', 'STL_home', 'BLK_home', 'TO_home',\n",
    "                     'PF_home', 'TEAM_NAME_advanced_home', 'AST_PCT_home',\n",
    "                     'AST_TOV_home', 'AST_RATIO_home', 'OREB_PCT_home', 'DREB_PCT_home',\n",
    "                     'REB_PCT_home', 'TM_TOV_PCT_home', 'EFG_PCT_home', 'TS_PCT_home', \n",
    "                     'USG_PCT_home', 'PACE_home', 'PIE_home', 'TEAM_NAME_scoring_home', \n",
    "                     'PCT_FGA_2PT_home', 'PCT_FGA_3PT_home', 'PCT_PTS_2PT_home', 'PCT_PTS_2PT_MR_home', \n",
    "                     'PCT_PTS_3PT_home', 'PCT_PTS_FB_home', 'PCT_PTS_FT_home', 'PCT_PTS_OFF_TOV_home', \n",
    "                     'PCT_PTS_PAINT_home', 'PCT_AST_2PM_home', 'PCT_UAST_2PM_home', 'PCT_AST_3PM_home', \n",
    "                     'PCT_UAST_3PM_home', 'PCT_AST_FGM_home', 'PCT_UAST_FGM_home', 'TEAM_NAME_misc_home',\n",
    "                     'PTS_OFF_TOV_home', 'PTS_2ND_CHANCE_home', 'PTS_FB_home', 'PTS_PAINT_home', \n",
    "                     'OPP_PTS_OFF_TOV_home', 'OPP_PTS_2ND_CHANCE_home', 'OPP_PTS_FB_home', \n",
    "                     'OPP_PTS_PAINT_home', 'BLK_misc_home', 'BLKA_home', 'PF_misc_home', 'PFD_home', \n",
    "                     'TEAM_NAME_fourfactors_home', 'EFG_PCT_fourfactors_home', 'FTA_RATE_home', \n",
    "                     'TM_TOV_PCT_fourfactors_home', 'OREB_PCT_fourfactors_home', 'OPP_EFG_PCT_home',\n",
    "                     'OPP_FTA_RATE_home', 'OPP_TOV_PCT_home', 'OPP_OREB_PCT_home', 'TEAM_NAME_playertrack_home',\n",
    "                     'DIST_home', 'ORBC_home', 'DRBC_home', 'RBC_home', 'TCHS_home', 'SAST_home', 'FTAST_home', \n",
    "                     'PASS_home', 'AST_playertrack_home', 'CFGM_home', 'CFGA_home', 'CFG_PCT_home', 'UFGM_home',\n",
    "                     'UFGA_home', 'UFG_PCT_home', 'FG_PCT_playertrack_home', 'DFGM_home', 'DFGA_home', \n",
    "                     'DFG_PCT_home', 'TEAM_NAME_hustle_home', 'CONTESTED_SHOTS_home', 'CONTESTED_SHOTS_2PT_home', \n",
    "                     'CONTESTED_SHOTS_3PT_home', 'DEFLECTIONS_home', 'LOOSE_BALLS_RECOVERED_home', 'CHARGES_DRAWN_home',\n",
    "                     'SCREEN_ASSISTS_home', 'BOX_OUTS_home', 'FGM_away', 'FGA_away', 'FG_PCT_away', \n",
    "                     'FG3M_away', 'FG3A_away', 'FG3_PCT_away', 'FTM_away', 'FTA_away', 'FT_PCT_away', 'OREB_away',\n",
    "                     'DREB_away', 'REB_away', 'AST_away', 'STL_away', 'BLK_away', 'TO_away', 'PF_away',\n",
    "                     'PLUS_MINUS_away', 'TEAM_NAME_advanced_away', 'AST_PCT_away', 'AST_TOV_away',\n",
    "                     'AST_RATIO_away', 'OREB_PCT_away',\n",
    "                     'DREB_PCT_away', 'REB_PCT_away', 'TM_TOV_PCT_away', 'EFG_PCT_away', 'TS_PCT_away', \n",
    "                     'USG_PCT_away', 'PACE_away', 'PIE_away', 'TEAM_NAME_scoring_away', 'PCT_FGA_2PT_away',\n",
    "                     'PCT_FGA_3PT_away', 'PCT_PTS_2PT_away', 'PCT_PTS_2PT_MR_away', 'PCT_PTS_3PT_away', \n",
    "                     'PCT_PTS_FB_away', 'PCT_PTS_FT_away', 'PCT_PTS_OFF_TOV_away', 'PCT_PTS_PAINT_away',\n",
    "                     'PCT_AST_2PM_away', 'PCT_UAST_2PM_away', 'PCT_AST_3PM_away', 'PCT_UAST_3PM_away', \n",
    "                     'PCT_AST_FGM_away', 'PCT_UAST_FGM_away', 'TEAM_NAME_misc_away', 'PTS_OFF_TOV_away', \n",
    "                     'PTS_2ND_CHANCE_away', 'PTS_FB_away', 'PTS_PAINT_away', 'OPP_PTS_OFF_TOV_away', \n",
    "                     'OPP_PTS_2ND_CHANCE_away', 'OPP_PTS_FB_away', 'OPP_PTS_PAINT_away', 'BLK_misc_away',\n",
    "                     'BLKA_away', 'PF_misc_away', 'PFD_away', 'TEAM_NAME_fourfactors_away', 'EFG_PCT_fourfactors_away', \n",
    "                     'FTA_RATE_away', 'TM_TOV_PCT_fourfactors_away', 'OREB_PCT_fourfactors_away', 'OPP_EFG_PCT_away', \n",
    "                     'OPP_FTA_RATE_away', 'OPP_TOV_PCT_away', 'OPP_OREB_PCT_away', 'TEAM_NAME_playertrack_away',\n",
    "                     'DIST_away', 'ORBC_away', 'DRBC_away', 'RBC_away', 'TCHS_away', 'SAST_away', 'FTAST_away', \n",
    "                     'PASS_away', 'AST_playertrack_away', 'CFGM_away', 'CFGA_away', 'CFG_PCT_away', 'UFGM_away',\n",
    "                     'UFGA_away', 'UFG_PCT_away', 'FG_PCT_playertrack_away', 'DFGM_away', 'DFGA_away', 'DFG_PCT_away', \n",
    "                     'TEAM_NAME_hustle_away', 'CONTESTED_SHOTS_away', 'CONTESTED_SHOTS_2PT_away', \n",
    "                     'CONTESTED_SHOTS_3PT_away', 'DEFLECTIONS_away', 'LOOSE_BALLS_RECOVERED_away', \n",
    "                     'CHARGES_DRAWN_away', 'SCREEN_ASSISTS_away', 'BOX_OUTS_away']"
   ]
  },
  {
   "cell_type": "code",
   "execution_count": 210,
   "metadata": {
    "ExecuteTime": {
     "end_time": "2018-09-24T02:31:28.612262Z",
     "start_time": "2018-09-24T02:31:28.581273Z"
    },
    "collapsed": true
   },
   "outputs": [],
   "source": [
    "df_modelagem = df_resp.drop(to_drop_modelagem, axis=1).rename(columns={\"week\":\"year_week\"})"
   ]
  },
  {
   "cell_type": "code",
   "execution_count": 211,
   "metadata": {
    "ExecuteTime": {
     "end_time": "2018-09-24T02:31:53.014685Z",
     "start_time": "2018-09-24T02:31:52.287150Z"
    },
    "collapsed": true
   },
   "outputs": [],
   "source": [
    "df_modelagem.to_csv(\"bases_nba_stats/base_modelagem_nba_17_18.csv\")"
   ]
  },
  {
   "cell_type": "code",
   "execution_count": 212,
   "metadata": {
    "ExecuteTime": {
     "end_time": "2018-09-24T02:32:21.183622Z",
     "start_time": "2018-09-24T02:32:19.693111Z"
    },
    "collapsed": true
   },
   "outputs": [],
   "source": [
    "df_truncada = df_modelagem.copy()\n",
    "df_truncada[df_truncada.select_dtypes(include=['float64']).columns] = df_truncada[df_truncada.select_dtypes(include=['float64']).columns].applymap('{:,.4f}'.format)\n",
    "df_truncada.to_csv(\"bases_nba_stats/base_modelagem_nba_17-18_4_digitos.csv\")"
   ]
  }
 ],
 "metadata": {
  "kernelspec": {
   "display_name": "Python 3",
   "language": "python",
   "name": "python3"
  },
  "language_info": {
   "codemirror_mode": {
    "name": "ipython",
    "version": 3
   },
   "file_extension": ".py",
   "mimetype": "text/x-python",
   "name": "python",
   "nbconvert_exporter": "python",
   "pygments_lexer": "ipython3",
   "version": "3.6.3"
  },
  "toc": {
   "base_numbering": 1,
   "nav_menu": {},
   "number_sections": true,
   "sideBar": true,
   "skip_h1_title": false,
   "title_cell": "Table of Contents",
   "title_sidebar": "Contents",
   "toc_cell": false,
   "toc_position": {},
   "toc_section_display": true,
   "toc_window_display": false
  },
  "varInspector": {
   "cols": {
    "lenName": 16,
    "lenType": 16,
    "lenVar": 40
   },
   "kernels_config": {
    "python": {
     "delete_cmd_postfix": "",
     "delete_cmd_prefix": "del ",
     "library": "var_list.py",
     "varRefreshCmd": "print(var_dic_list())"
    },
    "r": {
     "delete_cmd_postfix": ") ",
     "delete_cmd_prefix": "rm(",
     "library": "var_list.r",
     "varRefreshCmd": "cat(var_dic_list()) "
    }
   },
   "types_to_exclude": [
    "module",
    "function",
    "builtin_function_or_method",
    "instance",
    "_Feature"
   ],
   "window_display": true
  }
 },
 "nbformat": 4,
 "nbformat_minor": 2
}
