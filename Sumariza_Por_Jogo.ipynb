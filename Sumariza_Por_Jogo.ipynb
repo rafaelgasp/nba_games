{
 "cells": [
  {
   "cell_type": "code",
   "execution_count": 181,
   "metadata": {
    "ExecuteTime": {
     "end_time": "2018-09-11T12:29:07.500086Z",
     "start_time": "2018-09-11T12:29:07.495594Z"
    },
    "collapsed": true
   },
   "outputs": [],
   "source": [
    "import pandas as pd\n",
    "import numpy as np\n",
    "from datetime import datetime, timedelta"
   ]
  },
  {
   "cell_type": "code",
   "execution_count": 30,
   "metadata": {
    "ExecuteTime": {
     "end_time": "2018-09-11T03:00:53.073512Z",
     "start_time": "2018-09-11T03:00:52.989666Z"
    },
    "collapsed": true
   },
   "outputs": [],
   "source": [
    "base_nba_per_game = pd.read_csv(\"bases_nba_stats/base_nba_per_game_17_18_arrumada.csv\", sep=\";\")"
   ]
  },
  {
   "cell_type": "code",
   "execution_count": 31,
   "metadata": {
    "ExecuteTime": {
     "end_time": "2018-09-11T03:00:54.496190Z",
     "start_time": "2018-09-11T03:00:54.488705Z"
    }
   },
   "outputs": [],
   "source": [
    "base_nba_per_game[\"fl_home\"] = np.where(base_nba_per_game[\"GAME\"].str[6:9] == base_nba_per_game[\"TEAM_ABBREVIATION\"], 1, 0)"
   ]
  },
  {
   "cell_type": "code",
   "execution_count": 32,
   "metadata": {
    "ExecuteTime": {
     "end_time": "2018-09-11T03:00:54.880225Z",
     "start_time": "2018-09-11T03:00:54.836226Z"
    },
    "collapsed": true
   },
   "outputs": [],
   "source": [
    "home_games = base_nba_per_game[base_nba_per_game[\"fl_home\"] == 1].set_index(\"GAME\")\n",
    "away_games = base_nba_per_game[base_nba_per_game[\"fl_home\"] == 0].set_index(\"GAME\")"
   ]
  },
  {
   "cell_type": "code",
   "execution_count": 33,
   "metadata": {
    "ExecuteTime": {
     "end_time": "2018-09-11T03:00:55.188957Z",
     "start_time": "2018-09-11T03:00:55.182468Z"
    }
   },
   "outputs": [
    {
     "name": "stdout",
     "output_type": "stream",
     "text": [
      "Home (1230, 112)\n",
      "Away (1230, 112)\n"
     ]
    }
   ],
   "source": [
    "print(\"Home\", home_games.shape)\n",
    "print(\"Away\", away_games.shape)"
   ]
  },
  {
   "cell_type": "code",
   "execution_count": 34,
   "metadata": {
    "ExecuteTime": {
     "end_time": "2018-09-11T03:00:55.666516Z",
     "start_time": "2018-09-11T03:00:55.621602Z"
    },
    "collapsed": true
   },
   "outputs": [],
   "source": [
    "all_games = home_games.join(away_games, how=\"inner\", lsuffix=\"_home\", rsuffix=\"_away\")\n",
    "all_games.drop([\"GAME_ID_away\", \"GAME_DATE_away\", \"GAME_PLACE_away\",\n",
    "                \"MIN_home\", \"MIN_away\", 'PTS_hustle_home', 'PTS_hustle_away',\n",
    "                \"fl_home_away\", \"fl_home_home\"], axis=1, inplace=True)"
   ]
  },
  {
   "cell_type": "code",
   "execution_count": 35,
   "metadata": {
    "ExecuteTime": {
     "end_time": "2018-09-11T03:00:56.130982Z",
     "start_time": "2018-09-11T03:00:56.118005Z"
    }
   },
   "outputs": [
    {
     "data": {
      "text/html": [
       "<div>\n",
       "<style scoped>\n",
       "    .dataframe tbody tr th:only-of-type {\n",
       "        vertical-align: middle;\n",
       "    }\n",
       "\n",
       "    .dataframe tbody tr th {\n",
       "        vertical-align: top;\n",
       "    }\n",
       "\n",
       "    .dataframe thead th {\n",
       "        text-align: right;\n",
       "    }\n",
       "</style>\n",
       "<table border=\"1\" class=\"dataframe\">\n",
       "  <thead>\n",
       "    <tr style=\"text-align: right;\">\n",
       "      <th></th>\n",
       "      <th>TEAM_ABBREVIATION_away</th>\n",
       "      <th>PTS_away</th>\n",
       "      <th>TEAM_ABBREVIATION_home</th>\n",
       "      <th>PTS_home</th>\n",
       "    </tr>\n",
       "    <tr>\n",
       "      <th>GAME</th>\n",
       "      <th></th>\n",
       "      <th></th>\n",
       "      <th></th>\n",
       "      <th></th>\n",
       "    </tr>\n",
       "  </thead>\n",
       "  <tbody>\n",
       "    <tr>\n",
       "      <th>BOS @ CLE 2017-10-17</th>\n",
       "      <td>BOS</td>\n",
       "      <td>99</td>\n",
       "      <td>CLE</td>\n",
       "      <td>102</td>\n",
       "    </tr>\n",
       "    <tr>\n",
       "      <th>HOU @ GSW 2017-10-17</th>\n",
       "      <td>HOU</td>\n",
       "      <td>122</td>\n",
       "      <td>GSW</td>\n",
       "      <td>121</td>\n",
       "    </tr>\n",
       "    <tr>\n",
       "      <th>CHA @ DET 2017-10-18</th>\n",
       "      <td>CHA</td>\n",
       "      <td>90</td>\n",
       "      <td>DET</td>\n",
       "      <td>102</td>\n",
       "    </tr>\n",
       "    <tr>\n",
       "      <th>BKN @ IND 2017-10-18</th>\n",
       "      <td>BKN</td>\n",
       "      <td>131</td>\n",
       "      <td>IND</td>\n",
       "      <td>140</td>\n",
       "    </tr>\n",
       "    <tr>\n",
       "      <th>MIA @ ORL 2017-10-18</th>\n",
       "      <td>MIA</td>\n",
       "      <td>109</td>\n",
       "      <td>ORL</td>\n",
       "      <td>116</td>\n",
       "    </tr>\n",
       "  </tbody>\n",
       "</table>\n",
       "</div>"
      ],
      "text/plain": [
       "                     TEAM_ABBREVIATION_away  PTS_away TEAM_ABBREVIATION_home  \\\n",
       "GAME                                                                           \n",
       "BOS @ CLE 2017-10-17                    BOS        99                    CLE   \n",
       "HOU @ GSW 2017-10-17                    HOU       122                    GSW   \n",
       "CHA @ DET 2017-10-18                    CHA        90                    DET   \n",
       "BKN @ IND 2017-10-18                    BKN       131                    IND   \n",
       "MIA @ ORL 2017-10-18                    MIA       109                    ORL   \n",
       "\n",
       "                      PTS_home  \n",
       "GAME                            \n",
       "BOS @ CLE 2017-10-17       102  \n",
       "HOU @ GSW 2017-10-17       121  \n",
       "CHA @ DET 2017-10-18       102  \n",
       "BKN @ IND 2017-10-18       140  \n",
       "MIA @ ORL 2017-10-18       116  "
      ]
     },
     "execution_count": 35,
     "metadata": {},
     "output_type": "execute_result"
    }
   ],
   "source": [
    "all_games[[\"TEAM_ABBREVIATION_away\", \"PTS_away\", \"TEAM_ABBREVIATION_home\", \"PTS_home\"]].head()"
   ]
  },
  {
   "cell_type": "code",
   "execution_count": 36,
   "metadata": {
    "ExecuteTime": {
     "end_time": "2018-09-11T03:00:56.481062Z",
     "start_time": "2018-09-11T03:00:56.454611Z"
    },
    "collapsed": true
   },
   "outputs": [],
   "source": [
    "def get_season(date):\n",
    "    ano = date.year\n",
    "    if(date.month >= 10):\n",
    "        return ano + 1\n",
    "    return ano\n",
    "\n",
    "def is_playoff(date):\n",
    "    # Playoffs 2016\n",
    "    if date >= datetime(2016, 4, 16) and date < datetime(2016, 6, 30):\n",
    "        return 1\n",
    "    \n",
    "    # Playoffs 2017\n",
    "    elif date >= datetime(2017, 4, 15) and date < datetime(2017, 6, 30):\n",
    "        return 1\n",
    "    \n",
    "     # Playoffs 2018\n",
    "    elif date >= datetime(2018, 4, 14) and date < datetime(2018, 6, 30):\n",
    "        return 1\n",
    "    \n",
    "    return 0"
   ]
  },
  {
   "cell_type": "code",
   "execution_count": 52,
   "metadata": {
    "ExecuteTime": {
     "end_time": "2018-09-11T03:11:45.164137Z",
     "start_time": "2018-09-11T03:11:45.033391Z"
    }
   },
   "outputs": [],
   "source": [
    "all_games[\"DATE\"] = [datetime.strptime(str(x), '%d/%m/%Y') for x in all_games.GAME_DATE_home]\n",
    "all_games[\"SEASON\"] = [get_season(x) for x in all_games.DATE]\n",
    "all_games[\"fl_playoff\"] = [is_playoff(x) for x in all_games.DATE]\n",
    "all_games['fl_home_win'] = np.where(all_games['PTS_home'] > all_games['PTS_away'], 1, 0)\n",
    "all_games = all_games.sort_values('DATE')"
   ]
  },
  {
   "cell_type": "code",
   "execution_count": 39,
   "metadata": {
    "ExecuteTime": {
     "end_time": "2018-09-11T03:01:20.341606Z",
     "start_time": "2018-09-11T03:01:20.331126Z"
    },
    "collapsed": true
   },
   "outputs": [],
   "source": [
    "all_games = all_games.rename(columns={'TEAM_ABBREVIATION_home': \"team_home\",\n",
    "                                     'TEAM_ABBREVIATION_away': \"team_away\"})"
   ]
  },
  {
   "cell_type": "code",
   "execution_count": 54,
   "metadata": {
    "ExecuteTime": {
     "end_time": "2018-09-11T03:12:04.166040Z",
     "start_time": "2018-09-11T03:12:04.149568Z"
    }
   },
   "outputs": [],
   "source": [
    "all_games[\"team_home_game_num\"] = all_games.groupby(['team_home']).cumcount() + 1\n",
    "all_games[\"team_away_game_num\"] = all_games.groupby(['team_away']).cumcount() + 1"
   ]
  },
  {
   "cell_type": "code",
   "execution_count": 55,
   "metadata": {
    "ExecuteTime": {
     "end_time": "2018-09-11T03:12:13.359636Z",
     "start_time": "2018-09-11T03:12:13.031765Z"
    }
   },
   "outputs": [],
   "source": [
    "all_games.to_csv(\"./bases_nba_stats/all_games_nba_17_18.csv\")"
   ]
  },
  {
   "cell_type": "markdown",
   "metadata": {},
   "source": [
    "### Cria features de Número de Jogos"
   ]
  },
  {
   "cell_type": "code",
   "execution_count": 303,
   "metadata": {
    "ExecuteTime": {
     "end_time": "2018-09-11T13:27:14.300036Z",
     "start_time": "2018-09-11T13:26:49.831448Z"
    }
   },
   "outputs": [],
   "source": [
    "all_games[\"NUM_GAMES_LAST_2_DAYS_home\"] = [np.where((all_games[\"DATE\"] >= (x.DATE - timedelta(days=2))) & \n",
    "                                                    (all_games[\"DATE\"] < x.DATE) &\n",
    "                                                    ((all_games[\"team_home\"] == x.team_home) |\n",
    "                                                     (all_games[\"team_away\"] == x.team_home)), 1, 0).sum() \n",
    "                                           for _, x in all_games.iterrows()]\n",
    "\n",
    "all_games[\"NUM_GAMES_LAST_4_DAYS_home\"] = [np.where((all_games[\"DATE\"] >= (x.DATE - timedelta(days=4))) & \n",
    "                                                    (all_games[\"DATE\"] < x.DATE) &\n",
    "                                                    ((all_games[\"team_home\"] == x.team_home) |\n",
    "                                                     (all_games[\"team_away\"] == x.team_home)), 1, 0).sum() \n",
    "                                           \n",
    "                                           for _, x in all_games.iterrows()]\n",
    "all_games[\"NUM_GAMES_LAST_6_DAYS_home\"] = [np.where((all_games[\"DATE\"] >= (x.DATE - timedelta(days=6))) & \n",
    "                                                    (all_games[\"DATE\"] < x.DATE) &\n",
    "                                                    ((all_games[\"team_home\"] == x.team_home) |\n",
    "                                                     (all_games[\"team_away\"] == x.team_home)), 1, 0).sum() \n",
    "                                           for _, x in all_games.iterrows()]\n",
    "\n",
    "all_games[\"NUM_GAMES_LAST_10_DAYS_home\"] = [np.where((all_games[\"DATE\"] >= (x.DATE - timedelta(days=10))) & \n",
    "                                                    (all_games[\"DATE\"] < x.DATE) &\n",
    "                                                    ((all_games[\"team_home\"] == x.team_home) |\n",
    "                                                     (all_games[\"team_away\"] == x.team_home)), 1, 0).sum() \n",
    "                                           for _, x in all_games.iterrows()]\n",
    "\n",
    "all_games[\"NUM_GAMES_AWAY_LAST_2_DAYS_home\"] = [np.where((all_games[\"DATE\"] >= (x.DATE - timedelta(days=2))) & \n",
    "                                                    (all_games[\"DATE\"] < x.DATE) &\n",
    "                                                    (all_games[\"team_away\"] == x.team_home), 1, 0).sum() \n",
    "                                           for _, x in all_games.iterrows()]\n",
    "all_games[\"NUM_GAMES_AWAY_LAST_4_DAYS_home\"] = [np.where((all_games[\"DATE\"] >= (x.DATE - timedelta(days=4))) & \n",
    "                                                    (all_games[\"DATE\"] < x.DATE) &\n",
    "                                                    (all_games[\"team_away\"] == x.team_home), 1, 0).sum() \n",
    "                                           for _, x in all_games.iterrows()]\n",
    "all_games[\"NUM_GAMES_AWAY_LAST_6_DAYS_home\"] = [np.where((all_games[\"DATE\"] >= (x.DATE - timedelta(days=6))) & \n",
    "                                                    (all_games[\"DATE\"] < x.DATE) &\n",
    "                                                    (all_games[\"team_away\"] == x.team_home), 1, 0).sum() \n",
    "                                           for _, x in all_games.iterrows()]\n",
    "all_games[\"NUM_GAMES_AWAY_LAST_10_DAYS_home\"] = [np.where((all_games[\"DATE\"] >= (x.DATE - timedelta(days=10))) & \n",
    "                                                    (all_games[\"DATE\"] < x.DATE) &\n",
    "                                                    (all_games[\"team_away\"] == x.team_home), 1, 0).sum() \n",
    "                                           for _, x in all_games.iterrows()]"
   ]
  },
  {
   "cell_type": "code",
   "execution_count": 305,
   "metadata": {
    "ExecuteTime": {
     "end_time": "2018-09-11T13:30:12.464758Z",
     "start_time": "2018-09-11T13:29:46.764041Z"
    },
    "collapsed": true
   },
   "outputs": [],
   "source": [
    "all_games[\"NUM_GAMES_LAST_2_DAYS_away\"] = [np.where((all_games[\"DATE\"] >= (x.DATE - timedelta(days=2))) & \n",
    "                                                    (all_games[\"DATE\"] < x.DATE) &\n",
    "                                                    ((all_games[\"team_away\"] == x.team_away) |\n",
    "                                                     (all_games[\"team_home\"] == x.team_away)), 1, 0).sum() \n",
    "                                           for _, x in all_games.iterrows()]\n",
    "\n",
    "all_games[\"NUM_GAMES_LAST_4_DAYS_away\"] = [np.where((all_games[\"DATE\"] >= (x.DATE - timedelta(days=4))) & \n",
    "                                                    (all_games[\"DATE\"] < x.DATE) &\n",
    "                                                    ((all_games[\"team_away\"] == x.team_away) |\n",
    "                                                     (all_games[\"team_home\"] == x.team_away)), 1, 0).sum() \n",
    "                                           \n",
    "                                           for _, x in all_games.iterrows()]\n",
    "all_games[\"NUM_GAMES_LAST_6_DAYS_away\"] = [np.where((all_games[\"DATE\"] >= (x.DATE - timedelta(days=6))) & \n",
    "                                                    (all_games[\"DATE\"] < x.DATE) &\n",
    "                                                    ((all_games[\"team_away\"] == x.team_away) |\n",
    "                                                     (all_games[\"team_home\"] == x.team_away)), 1, 0).sum() \n",
    "                                           for _, x in all_games.iterrows()]\n",
    "\n",
    "all_games[\"NUM_GAMES_LAST_10_DAYS_away\"] = [np.where((all_games[\"DATE\"] >= (x.DATE - timedelta(days=10))) & \n",
    "                                                    (all_games[\"DATE\"] < x.DATE) &\n",
    "                                                    ((all_games[\"team_away\"] == x.team_away) |\n",
    "                                                     (all_games[\"team_home\"] == x.team_away)), 1, 0).sum() \n",
    "                                           for _, x in all_games.iterrows()]\n",
    "\n",
    "all_games[\"NUM_GAMES_AWAY_LAST_2_DAYS_away\"] = [np.where((all_games[\"DATE\"] >= (x.DATE - timedelta(days=2))) & \n",
    "                                                    (all_games[\"DATE\"] < x.DATE) &\n",
    "                                                    (all_games[\"team_away\"] == x.team_away), 1, 0).sum() \n",
    "                                           for _, x in all_games.iterrows()]\n",
    "all_games[\"NUM_GAMES_AWAY_LAST_4_DAYS_away\"] = [np.where((all_games[\"DATE\"] >= (x.DATE - timedelta(days=4))) & \n",
    "                                                    (all_games[\"DATE\"] < x.DATE) &\n",
    "                                                    (all_games[\"team_away\"] == x.team_away), 1, 0).sum() \n",
    "                                           for _, x in all_games.iterrows()]\n",
    "all_games[\"NUM_GAMES_AWAY_LAST_6_DAYS_away\"] = [np.where((all_games[\"DATE\"] >= (x.DATE - timedelta(days=6))) & \n",
    "                                                    (all_games[\"DATE\"] < x.DATE) &\n",
    "                                                    (all_games[\"team_away\"] == x.team_away), 1, 0).sum() \n",
    "                                           for _, x in all_games.iterrows()]\n",
    "all_games[\"NUM_GAMES_AWAY_LAST_10_DAYS_away\"] = [np.where((all_games[\"DATE\"] >= (x.DATE - timedelta(days=10))) & \n",
    "                                                    (all_games[\"DATE\"] < x.DATE) &\n",
    "                                                    (all_games[\"team_away\"] == x.team_away), 1, 0).sum() \n",
    "                                           for _, x in all_games.iterrows()]"
   ]
  },
  {
   "cell_type": "markdown",
   "metadata": {},
   "source": [
    "### Últimos 5 Jogos"
   ]
  },
  {
   "cell_type": "code",
   "execution_count": 306,
   "metadata": {
    "ExecuteTime": {
     "end_time": "2018-09-11T13:30:31.110779Z",
     "start_time": "2018-09-11T13:30:31.103790Z"
    },
    "collapsed": true
   },
   "outputs": [],
   "source": [
    "home_columns = [x for x in all_games.columns if x.endswith(\"_home\") and x not in ['GAME_ID_home', 'TEAM_CITY_home', 'GAME_DATE_home', 'GAME_PLACE_home', 'TEAM_NICKNAME_home']]\n",
    "away_columns = [x for x in all_games.columns if x.endswith(\"_away\") and x not in ['TEAM_CITY_away', 'TEAM_NICKNAME_away']]"
   ]
  },
  {
   "cell_type": "code",
   "execution_count": 307,
   "metadata": {
    "ExecuteTime": {
     "end_time": "2018-09-11T13:30:31.462339Z",
     "start_time": "2018-09-11T13:30:31.455851Z"
    },
    "collapsed": true
   },
   "outputs": [],
   "source": [
    "extra_columns = [\"WIN_HOME\", \"WIN_AWAY\", \"WIN\", \"WIN_HOME_PCT\", \"WIN_AWAY_PCT\", \"WIN_PCT\", \n",
    "                 \"NUM_GAMES_HOME\", \"NUM_GAMES_AWAY\", \"DAYS_DIFF_TOTAL\", \"DAYS_DIFF_NEXT_GAME\", \n",
    "                 \"DAYS_DIFF_NEXT_GAMES_STD\"]\n",
    "\n",
    "home_columns += [x + \"_home\" for x in extra_columns]\n",
    "away_columns += [x + \"_away\" for x in extra_columns]"
   ]
  },
  {
   "cell_type": "code",
   "execution_count": 311,
   "metadata": {
    "ExecuteTime": {
     "end_time": "2018-09-11T13:32:07.232373Z",
     "start_time": "2018-09-11T13:32:06.941380Z"
    }
   },
   "outputs": [],
   "source": [
    "def get_last_games(df, data, team_name, n = 5, filter=\"all\", data_ref = None, verbose=False):\n",
    "    if(filter == \"all\"):\n",
    "        last_games = df[(df[\"DATE\"] < data) & \n",
    "                        ((df[\"team_home\"] == team_name) | (df[\"team_away\"] == team_name))].tail(n)\n",
    "        \n",
    "    elif(filter == \"home\"):\n",
    "        last_games = df[(df[\"DATE\"] < data) & (df[\"team_home\"] == team_name)].tail(n)\n",
    "    elif(filter == \"away\"):\n",
    "        last_games = df[(df[\"DATE\"] < data) & (df[\"team_away\"] == team_name)].tail(n)\n",
    "    \n",
    "    # Cria variávies de Win %\n",
    "    # Visão home\n",
    "    last_games[\"WIN_HOME\"] = np.where((last_games[\"team_home\"] == team_name) & (last_games[\"fl_home_win\"] == 1) , 1, 0) * n\n",
    "    last_games[\"NUM_GAMES_HOME\"] = np.where(last_games[\"team_home\"] == team_name, 1, 0).sum()\n",
    "    last_games[\"WIN_HOME_PCT\"] = (last_games[\"WIN_HOME\"] / last_games[\"NUM_GAMES_HOME\"]) \n",
    "    \n",
    "    # Visão Away\n",
    "    last_games[\"WIN_AWAY\"] = np.where((last_games[\"team_away\"] == team_name) & (last_games[\"fl_home_win\"] == 0), 1, 0) * n\n",
    "    last_games[\"NUM_GAMES_AWAY\"] = np.where(last_games[\"team_away\"] == team_name, 1, 0).sum()\n",
    "    last_games[\"WIN_AWAY_PCT\"] = (last_games[\"WIN_AWAY\"] / last_games[\"NUM_GAMES_AWAY\"]) \n",
    "    \n",
    "    # Visão geral\n",
    "    last_games[\"WIN_PCT\"] = np.where(((last_games[\"team_home\"] == team_name) & (last_games[\"fl_home_win\"] == 1)) | \n",
    "                                            ((last_games[\"team_away\"] == team_name) & (last_games[\"fl_home_win\"] == 0)), 1, 0)\n",
    "    last_games[\"WIN\"] = last_games[\"WIN_PCT\"] * n\n",
    "    \n",
    "    # Cria variáveis de data\n",
    "    if(data_ref is None):\n",
    "        data_ref = np.max(last_games[\"DATE\"]) + timedelta(days=1)\n",
    "    \n",
    "    # Visão da série\n",
    "    last_games[\"DAYS_DIFF_TOTAL\"] = (np.max(last_games[\"DATE\"]) - np.min(last_games[\"DATE\"])).days\n",
    "    last_games[\"DAYS_DIFF_NEXT_GAME\"] = [-x.days if not np.isnan(x.days) else 0 \n",
    "                      for x in last_games[\"DATE\"].sub(last_games[\"DATE\"].shift(-1).fillna(data_ref))]\n",
    "    last_games[\"DAYS_DIFF_NEXT_GAMES_STD\"] = np.std(last_games[\"DAYS_DIFF_NEXT_GAME\"])\n",
    "\n",
    "    if(verbose):\n",
    "        print(last_games[[\"team_home\", \"team_away\", \"PTS_home\", \"PTS_away\", \"DATE\",\n",
    "                          \"WIN_HOME\", \"WIN_AWAY\", \"WIN\", \"WIN_HOME_PCT\", \"WIN_AWAY_PCT\", \"WIN_PCT\",\n",
    "                         \"NUM_GAMES_HOME\", \"NUM_GAMES_AWAY\", \"DAYS_DIFF_TOTAL\", \"NUM_GAMES_LAST_2_DAYS\", \n",
    "                         \"DAYS_DIFF_NEXT_GAME\", \"DAYS_DIFF_NEXT_GAMES_STD\"]])\n",
    "    \n",
    "    return(last_games)\n",
    "\n",
    "def get_avg_last_games(last_games, team_name, n = 5, rivals = False):\n",
    "    \n",
    "    if(rivals == False):\n",
    "        last_games_home = last_games[last_games[\"team_home\"] == team_name][home_columns].groupby([\"team_home\"]).sum()\n",
    "        last_games_away = last_games[last_games[\"team_away\"] == team_name][away_columns].groupby([\"team_away\"]).sum()\n",
    "        last_games_home.columns = [x.replace(\"_home\",\"\") for x in last_games_home.columns]\n",
    "        last_games_away.columns = [x.replace(\"_away\",\"\") for x in last_games_away.columns]\n",
    "    else:\n",
    "        last_games_home = last_games[last_games[\"team_home\"] != team_name][home_columns].drop(\"team_home\", axis = 1).sum()\n",
    "        last_games_away = last_games[last_games[\"team_away\"] != team_name][away_columns].drop(\"team_away\", axis = 1).sum()\n",
    "        last_games_home.index = [x.replace(\"_home\",\"_opponent\") for x in last_games_home.index]\n",
    "        last_games_away.index = [x.replace(\"_away\",\"_opponent\") for x in last_games_away.index]\n",
    "    \n",
    "    if(len(last_games_home) == 0):\n",
    "        if(rivals):\n",
    "            return (last_games_away/n).to_frame().transpose()\n",
    "        else:\n",
    "            return (last_games_away/n)\n",
    "    \n",
    "    if(len(last_games_away) == 0):\n",
    "        if(rivals):\n",
    "            return(last_games_home/n).to_frame().transpose()\n",
    "        else:\n",
    "            return(last_games_home/n)\n",
    "    \n",
    "    if(rivals):\n",
    "        return((last_games_home + last_games_away) / n).to_frame().transpose()\n",
    "    else:\n",
    "        return((last_games_home + last_games_away) / n)    "
   ]
  },
  {
   "cell_type": "code",
   "execution_count": 312,
   "metadata": {
    "ExecuteTime": {
     "end_time": "2018-09-11T13:32:07.576201Z",
     "start_time": "2018-09-11T13:32:07.470897Z"
    }
   },
   "outputs": [
    {
     "name": "stdout",
     "output_type": "stream",
     "text": [
      "                     team_home team_away  PTS_home  PTS_away       DATE  \\\n",
      "GAME                                                                      \n",
      "LAC @ ATL 2017-11-22       ATL       LAC       103       116 2017-11-22   \n",
      "NYK @ ATL 2017-11-24       ATL       NYK       116       104 2017-11-24   \n",
      "TOR @ ATL 2017-11-25       ATL       TOR        78       112 2017-11-25   \n",
      "CLE @ ATL 2017-11-30       ATL       CLE       114       121 2017-11-30   \n",
      "ATL @ BKN 2017-12-02       BKN       ATL       102       114 2017-12-02   \n",
      "\n",
      "                      WIN_HOME  WIN_AWAY  WIN  WIN_HOME_PCT  WIN_AWAY_PCT  \\\n",
      "GAME                                                                        \n",
      "LAC @ ATL 2017-11-22         0         0    0          0.00           0.0   \n",
      "NYK @ ATL 2017-11-24         5         0    5          1.25           0.0   \n",
      "TOR @ ATL 2017-11-25         0         0    0          0.00           0.0   \n",
      "CLE @ ATL 2017-11-30         0         0    0          0.00           0.0   \n",
      "ATL @ BKN 2017-12-02         0         5    5          0.00           5.0   \n",
      "\n",
      "                      WIN_PCT  NUM_GAMES_HOME  NUM_GAMES_AWAY  \\\n",
      "GAME                                                            \n",
      "LAC @ ATL 2017-11-22        0               4               1   \n",
      "NYK @ ATL 2017-11-24        1               4               1   \n",
      "TOR @ ATL 2017-11-25        0               4               1   \n",
      "CLE @ ATL 2017-11-30        0               4               1   \n",
      "ATL @ BKN 2017-12-02        1               4               1   \n",
      "\n",
      "                      DAYS_DIFF_TOTAL  NUM_GAMES_LAST_2_DAYS  \\\n",
      "GAME                                                           \n",
      "LAC @ ATL 2017-11-22               10                     12   \n",
      "NYK @ ATL 2017-11-24               10                     14   \n",
      "TOR @ ATL 2017-11-25               10                     10   \n",
      "CLE @ ATL 2017-11-30               10                     15   \n",
      "ATL @ BKN 2017-12-02               10                     13   \n",
      "\n",
      "                      DAYS_DIFF_NEXT_GAME  DAYS_DIFF_NEXT_GAMES_STD  \n",
      "GAME                                                                 \n",
      "LAC @ ATL 2017-11-22                    2                  1.469694  \n",
      "NYK @ ATL 2017-11-24                    1                  1.469694  \n",
      "TOR @ ATL 2017-11-25                    5                  1.469694  \n",
      "CLE @ ATL 2017-11-30                    2                  1.469694  \n",
      "ATL @ BKN 2017-12-02                    1                  1.469694  \n"
     ]
    },
    {
     "ename": "KeyError",
     "evalue": "\"['WIN_HOME_home' 'WIN_AWAY_home' 'WIN_home' 'WIN_HOME_PCT_home'\\n 'WIN_AWAY_PCT_home' 'WIN_PCT_home' 'NUM_GAMES_HOME_home'\\n 'NUM_GAMES_AWAY_home' 'DAYS_DIFF_TOTAL_home' 'DAYS_DIFF_NEXT_GAME_home'\\n 'DAYS_DIFF_NEXT_GAMES_STD_home'] not in index\"",
     "output_type": "error",
     "traceback": [
      "\u001b[1;31m---------------------------------------------------------------------------\u001b[0m",
      "\u001b[1;31mKeyError\u001b[0m                                  Traceback (most recent call last)",
      "\u001b[1;32m<ipython-input-312-2776a6da2c2a>\u001b[0m in \u001b[0;36m<module>\u001b[1;34m()\u001b[0m\n\u001b[0;32m      1\u001b[0m \u001b[0mteste\u001b[0m \u001b[1;33m=\u001b[0m \u001b[0mall_games\u001b[0m\u001b[1;33m[\u001b[0m\u001b[0mall_games\u001b[0m\u001b[1;33m[\u001b[0m\u001b[1;34m\"team_home\"\u001b[0m\u001b[1;33m]\u001b[0m \u001b[1;33m==\u001b[0m \u001b[1;34m\"ATL\"\u001b[0m\u001b[1;33m]\u001b[0m\u001b[1;33m\u001b[0m\u001b[0m\n\u001b[0;32m      2\u001b[0m \u001b[0mteste\u001b[0m \u001b[1;33m=\u001b[0m \u001b[0mget_last_games\u001b[0m\u001b[1;33m(\u001b[0m\u001b[0mall_games\u001b[0m\u001b[1;33m,\u001b[0m \u001b[0mteste\u001b[0m\u001b[1;33m.\u001b[0m\u001b[0miloc\u001b[0m\u001b[1;33m[\u001b[0m\u001b[1;36m10\u001b[0m\u001b[1;33m]\u001b[0m\u001b[1;33m[\u001b[0m\u001b[1;34m\"DATE\"\u001b[0m\u001b[1;33m]\u001b[0m\u001b[1;33m,\u001b[0m \u001b[1;34m\"ATL\"\u001b[0m\u001b[1;33m,\u001b[0m \u001b[0mverbose\u001b[0m\u001b[1;33m=\u001b[0m\u001b[1;32mTrue\u001b[0m\u001b[1;33m)\u001b[0m\u001b[1;33m.\u001b[0m\u001b[0mreset_index\u001b[0m\u001b[1;33m(\u001b[0m\u001b[1;33m)\u001b[0m\u001b[1;33m\u001b[0m\u001b[0m\n\u001b[1;32m----> 3\u001b[1;33m \u001b[0mget_avg_last_games\u001b[0m\u001b[1;33m(\u001b[0m\u001b[0mteste\u001b[0m\u001b[1;33m,\u001b[0m \u001b[1;34m\"ATL\"\u001b[0m\u001b[1;33m,\u001b[0m \u001b[0mrivals\u001b[0m\u001b[1;33m=\u001b[0m\u001b[1;32mFalse\u001b[0m\u001b[1;33m)\u001b[0m\u001b[1;33m\u001b[0m\u001b[0m\n\u001b[0m",
      "\u001b[1;32m<ipython-input-311-4417428b6994>\u001b[0m in \u001b[0;36mget_avg_last_games\u001b[1;34m(last_games, team_name, n, rivals)\u001b[0m\n\u001b[0;32m     46\u001b[0m \u001b[1;33m\u001b[0m\u001b[0m\n\u001b[0;32m     47\u001b[0m     \u001b[1;32mif\u001b[0m\u001b[1;33m(\u001b[0m\u001b[0mrivals\u001b[0m \u001b[1;33m==\u001b[0m \u001b[1;32mFalse\u001b[0m\u001b[1;33m)\u001b[0m\u001b[1;33m:\u001b[0m\u001b[1;33m\u001b[0m\u001b[0m\n\u001b[1;32m---> 48\u001b[1;33m         \u001b[0mlast_games_home\u001b[0m \u001b[1;33m=\u001b[0m \u001b[0mlast_games\u001b[0m\u001b[1;33m[\u001b[0m\u001b[0mlast_games\u001b[0m\u001b[1;33m[\u001b[0m\u001b[1;34m\"team_home\"\u001b[0m\u001b[1;33m]\u001b[0m \u001b[1;33m==\u001b[0m \u001b[0mteam_name\u001b[0m\u001b[1;33m]\u001b[0m\u001b[1;33m[\u001b[0m\u001b[0mhome_columns\u001b[0m\u001b[1;33m]\u001b[0m\u001b[1;33m.\u001b[0m\u001b[0mgroupby\u001b[0m\u001b[1;33m(\u001b[0m\u001b[1;33m[\u001b[0m\u001b[1;34m\"team_home\"\u001b[0m\u001b[1;33m]\u001b[0m\u001b[1;33m)\u001b[0m\u001b[1;33m.\u001b[0m\u001b[0msum\u001b[0m\u001b[1;33m(\u001b[0m\u001b[1;33m)\u001b[0m\u001b[1;33m\u001b[0m\u001b[0m\n\u001b[0m\u001b[0;32m     49\u001b[0m         \u001b[0mlast_games_away\u001b[0m \u001b[1;33m=\u001b[0m \u001b[0mlast_games\u001b[0m\u001b[1;33m[\u001b[0m\u001b[0mlast_games\u001b[0m\u001b[1;33m[\u001b[0m\u001b[1;34m\"team_away\"\u001b[0m\u001b[1;33m]\u001b[0m \u001b[1;33m==\u001b[0m \u001b[0mteam_name\u001b[0m\u001b[1;33m]\u001b[0m\u001b[1;33m[\u001b[0m\u001b[0maway_columns\u001b[0m\u001b[1;33m]\u001b[0m\u001b[1;33m.\u001b[0m\u001b[0mgroupby\u001b[0m\u001b[1;33m(\u001b[0m\u001b[1;33m[\u001b[0m\u001b[1;34m\"team_away\"\u001b[0m\u001b[1;33m]\u001b[0m\u001b[1;33m)\u001b[0m\u001b[1;33m.\u001b[0m\u001b[0msum\u001b[0m\u001b[1;33m(\u001b[0m\u001b[1;33m)\u001b[0m\u001b[1;33m\u001b[0m\u001b[0m\n\u001b[0;32m     50\u001b[0m         \u001b[0mlast_games_home\u001b[0m\u001b[1;33m.\u001b[0m\u001b[0mcolumns\u001b[0m \u001b[1;33m=\u001b[0m \u001b[1;33m[\u001b[0m\u001b[0mx\u001b[0m\u001b[1;33m.\u001b[0m\u001b[0mreplace\u001b[0m\u001b[1;33m(\u001b[0m\u001b[1;34m\"_home\"\u001b[0m\u001b[1;33m,\u001b[0m\u001b[1;34m\"\"\u001b[0m\u001b[1;33m)\u001b[0m \u001b[1;32mfor\u001b[0m \u001b[0mx\u001b[0m \u001b[1;32min\u001b[0m \u001b[0mlast_games_home\u001b[0m\u001b[1;33m.\u001b[0m\u001b[0mcolumns\u001b[0m\u001b[1;33m]\u001b[0m\u001b[1;33m\u001b[0m\u001b[0m\n",
      "\u001b[1;32m~\\Anaconda3\\lib\\site-packages\\pandas\\core\\frame.py\u001b[0m in \u001b[0;36m__getitem__\u001b[1;34m(self, key)\u001b[0m\n\u001b[0;32m   2680\u001b[0m         \u001b[1;32mif\u001b[0m \u001b[0misinstance\u001b[0m\u001b[1;33m(\u001b[0m\u001b[0mkey\u001b[0m\u001b[1;33m,\u001b[0m \u001b[1;33m(\u001b[0m\u001b[0mSeries\u001b[0m\u001b[1;33m,\u001b[0m \u001b[0mnp\u001b[0m\u001b[1;33m.\u001b[0m\u001b[0mndarray\u001b[0m\u001b[1;33m,\u001b[0m \u001b[0mIndex\u001b[0m\u001b[1;33m,\u001b[0m \u001b[0mlist\u001b[0m\u001b[1;33m)\u001b[0m\u001b[1;33m)\u001b[0m\u001b[1;33m:\u001b[0m\u001b[1;33m\u001b[0m\u001b[0m\n\u001b[0;32m   2681\u001b[0m             \u001b[1;31m# either boolean or fancy integer index\u001b[0m\u001b[1;33m\u001b[0m\u001b[1;33m\u001b[0m\u001b[0m\n\u001b[1;32m-> 2682\u001b[1;33m             \u001b[1;32mreturn\u001b[0m \u001b[0mself\u001b[0m\u001b[1;33m.\u001b[0m\u001b[0m_getitem_array\u001b[0m\u001b[1;33m(\u001b[0m\u001b[0mkey\u001b[0m\u001b[1;33m)\u001b[0m\u001b[1;33m\u001b[0m\u001b[0m\n\u001b[0m\u001b[0;32m   2683\u001b[0m         \u001b[1;32melif\u001b[0m \u001b[0misinstance\u001b[0m\u001b[1;33m(\u001b[0m\u001b[0mkey\u001b[0m\u001b[1;33m,\u001b[0m \u001b[0mDataFrame\u001b[0m\u001b[1;33m)\u001b[0m\u001b[1;33m:\u001b[0m\u001b[1;33m\u001b[0m\u001b[0m\n\u001b[0;32m   2684\u001b[0m             \u001b[1;32mreturn\u001b[0m \u001b[0mself\u001b[0m\u001b[1;33m.\u001b[0m\u001b[0m_getitem_frame\u001b[0m\u001b[1;33m(\u001b[0m\u001b[0mkey\u001b[0m\u001b[1;33m)\u001b[0m\u001b[1;33m\u001b[0m\u001b[0m\n",
      "\u001b[1;32m~\\Anaconda3\\lib\\site-packages\\pandas\\core\\frame.py\u001b[0m in \u001b[0;36m_getitem_array\u001b[1;34m(self, key)\u001b[0m\n\u001b[0;32m   2724\u001b[0m             \u001b[1;32mreturn\u001b[0m \u001b[0mself\u001b[0m\u001b[1;33m.\u001b[0m\u001b[0m_take\u001b[0m\u001b[1;33m(\u001b[0m\u001b[0mindexer\u001b[0m\u001b[1;33m,\u001b[0m \u001b[0maxis\u001b[0m\u001b[1;33m=\u001b[0m\u001b[1;36m0\u001b[0m\u001b[1;33m)\u001b[0m\u001b[1;33m\u001b[0m\u001b[0m\n\u001b[0;32m   2725\u001b[0m         \u001b[1;32melse\u001b[0m\u001b[1;33m:\u001b[0m\u001b[1;33m\u001b[0m\u001b[0m\n\u001b[1;32m-> 2726\u001b[1;33m             \u001b[0mindexer\u001b[0m \u001b[1;33m=\u001b[0m \u001b[0mself\u001b[0m\u001b[1;33m.\u001b[0m\u001b[0mloc\u001b[0m\u001b[1;33m.\u001b[0m\u001b[0m_convert_to_indexer\u001b[0m\u001b[1;33m(\u001b[0m\u001b[0mkey\u001b[0m\u001b[1;33m,\u001b[0m \u001b[0maxis\u001b[0m\u001b[1;33m=\u001b[0m\u001b[1;36m1\u001b[0m\u001b[1;33m)\u001b[0m\u001b[1;33m\u001b[0m\u001b[0m\n\u001b[0m\u001b[0;32m   2727\u001b[0m             \u001b[1;32mreturn\u001b[0m \u001b[0mself\u001b[0m\u001b[1;33m.\u001b[0m\u001b[0m_take\u001b[0m\u001b[1;33m(\u001b[0m\u001b[0mindexer\u001b[0m\u001b[1;33m,\u001b[0m \u001b[0maxis\u001b[0m\u001b[1;33m=\u001b[0m\u001b[1;36m1\u001b[0m\u001b[1;33m)\u001b[0m\u001b[1;33m\u001b[0m\u001b[0m\n\u001b[0;32m   2728\u001b[0m \u001b[1;33m\u001b[0m\u001b[0m\n",
      "\u001b[1;32m~\\Anaconda3\\lib\\site-packages\\pandas\\core\\indexing.py\u001b[0m in \u001b[0;36m_convert_to_indexer\u001b[1;34m(self, obj, axis, is_setter)\u001b[0m\n\u001b[0;32m   1325\u001b[0m                 \u001b[1;32mif\u001b[0m \u001b[0mmask\u001b[0m\u001b[1;33m.\u001b[0m\u001b[0many\u001b[0m\u001b[1;33m(\u001b[0m\u001b[1;33m)\u001b[0m\u001b[1;33m:\u001b[0m\u001b[1;33m\u001b[0m\u001b[0m\n\u001b[0;32m   1326\u001b[0m                     raise KeyError('{mask} not in index'\n\u001b[1;32m-> 1327\u001b[1;33m                                    .format(mask=objarr[mask]))\n\u001b[0m\u001b[0;32m   1328\u001b[0m \u001b[1;33m\u001b[0m\u001b[0m\n\u001b[0;32m   1329\u001b[0m                 \u001b[1;32mreturn\u001b[0m \u001b[0mcom\u001b[0m\u001b[1;33m.\u001b[0m\u001b[0m_values_from_object\u001b[0m\u001b[1;33m(\u001b[0m\u001b[0mindexer\u001b[0m\u001b[1;33m)\u001b[0m\u001b[1;33m\u001b[0m\u001b[0m\n",
      "\u001b[1;31mKeyError\u001b[0m: \"['WIN_HOME_home' 'WIN_AWAY_home' 'WIN_home' 'WIN_HOME_PCT_home'\\n 'WIN_AWAY_PCT_home' 'WIN_PCT_home' 'NUM_GAMES_HOME_home'\\n 'NUM_GAMES_AWAY_home' 'DAYS_DIFF_TOTAL_home' 'DAYS_DIFF_NEXT_GAME_home'\\n 'DAYS_DIFF_NEXT_GAMES_STD_home'] not in index\""
     ]
    }
   ],
   "source": [
    "teste = all_games[all_games[\"team_home\"] == \"ATL\"]\n",
    "teste = get_last_games(all_games, teste.iloc[10][\"DATE\"], \"ATL\", verbose=True).reset_index()\n",
    "get_avg_last_games(teste, \"ATL\", rivals=False)"
   ]
  },
  {
   "cell_type": "code",
   "execution_count": 278,
   "metadata": {
    "ExecuteTime": {
     "end_time": "2018-09-11T13:06:20.480191Z",
     "start_time": "2018-09-11T13:06:20.309366Z"
    }
   },
   "outputs": [
    {
     "ename": "KeyError",
     "evalue": "\"['WIN_HOME_home' 'WIN_AWAY_home' 'WIN_home' 'WIN_HOME_PCT_home'\\n 'WIN_AWAY_PCT_home' 'WIN_PCT_home' 'NUM_GAMES_HOME_home'\\n 'NUM_GAMES_AWAY_home' 'NUM_GAMES_LAST_2_DAYS_home'\\n 'NUM_GAMES_LAST_4_DAYS_home' 'NUM_GAMES_LAST_6_DAYS_home'\\n 'NUM_GAMES_LAST_10_DAYS_home' 'NUM_GAMES_LAST_2_DAYS_HOME_home'\\n 'NUM_GAMES_LAST_4_DAYS_HOME_home' 'NUM_GAMES_LAST_6_DAYS_HOME_home'\\n 'NUM_GAMES_LAST_10_DAYS_HOME_home' 'NUM_GAMES_LAST_2_DAYS_AWAY_home'\\n 'NUM_GAMES_LAST_4_DAYS_AWAY_home' 'NUM_GAMES_LAST_6_DAYS_AWAY_home'\\n 'NUM_GAMES_LAST_10_DAYS_AWAY_home' 'DAYS_DIFF_TOTAL_home'\\n 'DAYS_DIFF_NEXT_GAME_home' 'DAYS_DIFF_NEXT_GAMES_STD_home'] not in index\"",
     "output_type": "error",
     "traceback": [
      "\u001b[1;31m---------------------------------------------------------------------------\u001b[0m",
      "\u001b[1;31mKeyError\u001b[0m                                  Traceback (most recent call last)",
      "\u001b[1;32m<ipython-input-278-7ac4ff93104f>\u001b[0m in \u001b[0;36m<module>\u001b[1;34m()\u001b[0m\n\u001b[0;32m      6\u001b[0m         \u001b[1;31m# Home team\u001b[0m\u001b[1;33m\u001b[0m\u001b[1;33m\u001b[0m\u001b[0m\n\u001b[0;32m      7\u001b[0m         \u001b[0mhome_last_games\u001b[0m \u001b[1;33m=\u001b[0m \u001b[0mget_last_games\u001b[0m\u001b[1;33m(\u001b[0m\u001b[0mseason\u001b[0m\u001b[1;33m,\u001b[0m \u001b[0mrow\u001b[0m\u001b[1;33m[\u001b[0m\u001b[1;34m\"DATE\"\u001b[0m\u001b[1;33m]\u001b[0m\u001b[1;33m,\u001b[0m \u001b[0mrow\u001b[0m\u001b[1;33m[\u001b[0m\u001b[1;34m\"team_home\"\u001b[0m\u001b[1;33m]\u001b[0m\u001b[1;33m)\u001b[0m\u001b[1;33m\u001b[0m\u001b[0m\n\u001b[1;32m----> 8\u001b[1;33m         \u001b[0mhome_avg_last_games\u001b[0m \u001b[1;33m=\u001b[0m \u001b[0mget_avg_last_games\u001b[0m\u001b[1;33m(\u001b[0m\u001b[0mhome_last_games\u001b[0m\u001b[1;33m,\u001b[0m \u001b[0mrow\u001b[0m\u001b[1;33m[\u001b[0m\u001b[1;34m\"team_home\"\u001b[0m\u001b[1;33m]\u001b[0m\u001b[1;33m)\u001b[0m\u001b[1;33m\u001b[0m\u001b[0m\n\u001b[0m\u001b[0;32m      9\u001b[0m         \u001b[0mhome_rivals_last_games\u001b[0m \u001b[1;33m=\u001b[0m \u001b[0mget_avg_last_games\u001b[0m\u001b[1;33m(\u001b[0m\u001b[0mhome_last_games\u001b[0m\u001b[1;33m,\u001b[0m \u001b[0mrow\u001b[0m\u001b[1;33m[\u001b[0m\u001b[1;34m\"team_home\"\u001b[0m\u001b[1;33m]\u001b[0m\u001b[1;33m,\u001b[0m \u001b[0mrivals\u001b[0m\u001b[1;33m=\u001b[0m\u001b[1;32mTrue\u001b[0m\u001b[1;33m)\u001b[0m\u001b[1;33m\u001b[0m\u001b[0m\n\u001b[0;32m     10\u001b[0m \u001b[1;33m\u001b[0m\u001b[0m\n",
      "\u001b[1;32m<ipython-input-276-de63961eae66>\u001b[0m in \u001b[0;36mget_avg_last_games\u001b[1;34m(last_games, team_name, n, rivals)\u001b[0m\n\u001b[0;32m     72\u001b[0m \u001b[1;33m\u001b[0m\u001b[0m\n\u001b[0;32m     73\u001b[0m     \u001b[1;32mif\u001b[0m\u001b[1;33m(\u001b[0m\u001b[0mrivals\u001b[0m \u001b[1;33m==\u001b[0m \u001b[1;32mFalse\u001b[0m\u001b[1;33m)\u001b[0m\u001b[1;33m:\u001b[0m\u001b[1;33m\u001b[0m\u001b[0m\n\u001b[1;32m---> 74\u001b[1;33m         \u001b[0mlast_games_home\u001b[0m \u001b[1;33m=\u001b[0m \u001b[0mlast_games\u001b[0m\u001b[1;33m[\u001b[0m\u001b[0mlast_games\u001b[0m\u001b[1;33m[\u001b[0m\u001b[1;34m\"team_home\"\u001b[0m\u001b[1;33m]\u001b[0m \u001b[1;33m==\u001b[0m \u001b[0mteam_name\u001b[0m\u001b[1;33m]\u001b[0m\u001b[1;33m[\u001b[0m\u001b[0mhome_columns\u001b[0m\u001b[1;33m]\u001b[0m\u001b[1;33m.\u001b[0m\u001b[0mgroupby\u001b[0m\u001b[1;33m(\u001b[0m\u001b[1;33m[\u001b[0m\u001b[1;34m\"team_home\"\u001b[0m\u001b[1;33m]\u001b[0m\u001b[1;33m)\u001b[0m\u001b[1;33m.\u001b[0m\u001b[0msum\u001b[0m\u001b[1;33m(\u001b[0m\u001b[1;33m)\u001b[0m\u001b[1;33m\u001b[0m\u001b[0m\n\u001b[0m\u001b[0;32m     75\u001b[0m         \u001b[0mlast_games_away\u001b[0m \u001b[1;33m=\u001b[0m \u001b[0mlast_games\u001b[0m\u001b[1;33m[\u001b[0m\u001b[0mlast_games\u001b[0m\u001b[1;33m[\u001b[0m\u001b[1;34m\"team_away\"\u001b[0m\u001b[1;33m]\u001b[0m \u001b[1;33m==\u001b[0m \u001b[0mteam_name\u001b[0m\u001b[1;33m]\u001b[0m\u001b[1;33m[\u001b[0m\u001b[0maway_columns\u001b[0m\u001b[1;33m]\u001b[0m\u001b[1;33m.\u001b[0m\u001b[0mgroupby\u001b[0m\u001b[1;33m(\u001b[0m\u001b[1;33m[\u001b[0m\u001b[1;34m\"team_away\"\u001b[0m\u001b[1;33m]\u001b[0m\u001b[1;33m)\u001b[0m\u001b[1;33m.\u001b[0m\u001b[0msum\u001b[0m\u001b[1;33m(\u001b[0m\u001b[1;33m)\u001b[0m\u001b[1;33m\u001b[0m\u001b[0m\n\u001b[0;32m     76\u001b[0m         \u001b[0mlast_games_home\u001b[0m\u001b[1;33m.\u001b[0m\u001b[0mcolumns\u001b[0m \u001b[1;33m=\u001b[0m \u001b[1;33m[\u001b[0m\u001b[0mx\u001b[0m\u001b[1;33m.\u001b[0m\u001b[0mreplace\u001b[0m\u001b[1;33m(\u001b[0m\u001b[1;34m\"_home\"\u001b[0m\u001b[1;33m,\u001b[0m\u001b[1;34m\"\"\u001b[0m\u001b[1;33m)\u001b[0m \u001b[1;32mfor\u001b[0m \u001b[0mx\u001b[0m \u001b[1;32min\u001b[0m \u001b[0mlast_games_home\u001b[0m\u001b[1;33m.\u001b[0m\u001b[0mcolumns\u001b[0m\u001b[1;33m]\u001b[0m\u001b[1;33m\u001b[0m\u001b[0m\n",
      "\u001b[1;32m~\\Anaconda3\\lib\\site-packages\\pandas\\core\\frame.py\u001b[0m in \u001b[0;36m__getitem__\u001b[1;34m(self, key)\u001b[0m\n\u001b[0;32m   2680\u001b[0m         \u001b[1;32mif\u001b[0m \u001b[0misinstance\u001b[0m\u001b[1;33m(\u001b[0m\u001b[0mkey\u001b[0m\u001b[1;33m,\u001b[0m \u001b[1;33m(\u001b[0m\u001b[0mSeries\u001b[0m\u001b[1;33m,\u001b[0m \u001b[0mnp\u001b[0m\u001b[1;33m.\u001b[0m\u001b[0mndarray\u001b[0m\u001b[1;33m,\u001b[0m \u001b[0mIndex\u001b[0m\u001b[1;33m,\u001b[0m \u001b[0mlist\u001b[0m\u001b[1;33m)\u001b[0m\u001b[1;33m)\u001b[0m\u001b[1;33m:\u001b[0m\u001b[1;33m\u001b[0m\u001b[0m\n\u001b[0;32m   2681\u001b[0m             \u001b[1;31m# either boolean or fancy integer index\u001b[0m\u001b[1;33m\u001b[0m\u001b[1;33m\u001b[0m\u001b[0m\n\u001b[1;32m-> 2682\u001b[1;33m             \u001b[1;32mreturn\u001b[0m \u001b[0mself\u001b[0m\u001b[1;33m.\u001b[0m\u001b[0m_getitem_array\u001b[0m\u001b[1;33m(\u001b[0m\u001b[0mkey\u001b[0m\u001b[1;33m)\u001b[0m\u001b[1;33m\u001b[0m\u001b[0m\n\u001b[0m\u001b[0;32m   2683\u001b[0m         \u001b[1;32melif\u001b[0m \u001b[0misinstance\u001b[0m\u001b[1;33m(\u001b[0m\u001b[0mkey\u001b[0m\u001b[1;33m,\u001b[0m \u001b[0mDataFrame\u001b[0m\u001b[1;33m)\u001b[0m\u001b[1;33m:\u001b[0m\u001b[1;33m\u001b[0m\u001b[0m\n\u001b[0;32m   2684\u001b[0m             \u001b[1;32mreturn\u001b[0m \u001b[0mself\u001b[0m\u001b[1;33m.\u001b[0m\u001b[0m_getitem_frame\u001b[0m\u001b[1;33m(\u001b[0m\u001b[0mkey\u001b[0m\u001b[1;33m)\u001b[0m\u001b[1;33m\u001b[0m\u001b[0m\n",
      "\u001b[1;32m~\\Anaconda3\\lib\\site-packages\\pandas\\core\\frame.py\u001b[0m in \u001b[0;36m_getitem_array\u001b[1;34m(self, key)\u001b[0m\n\u001b[0;32m   2724\u001b[0m             \u001b[1;32mreturn\u001b[0m \u001b[0mself\u001b[0m\u001b[1;33m.\u001b[0m\u001b[0m_take\u001b[0m\u001b[1;33m(\u001b[0m\u001b[0mindexer\u001b[0m\u001b[1;33m,\u001b[0m \u001b[0maxis\u001b[0m\u001b[1;33m=\u001b[0m\u001b[1;36m0\u001b[0m\u001b[1;33m)\u001b[0m\u001b[1;33m\u001b[0m\u001b[0m\n\u001b[0;32m   2725\u001b[0m         \u001b[1;32melse\u001b[0m\u001b[1;33m:\u001b[0m\u001b[1;33m\u001b[0m\u001b[0m\n\u001b[1;32m-> 2726\u001b[1;33m             \u001b[0mindexer\u001b[0m \u001b[1;33m=\u001b[0m \u001b[0mself\u001b[0m\u001b[1;33m.\u001b[0m\u001b[0mloc\u001b[0m\u001b[1;33m.\u001b[0m\u001b[0m_convert_to_indexer\u001b[0m\u001b[1;33m(\u001b[0m\u001b[0mkey\u001b[0m\u001b[1;33m,\u001b[0m \u001b[0maxis\u001b[0m\u001b[1;33m=\u001b[0m\u001b[1;36m1\u001b[0m\u001b[1;33m)\u001b[0m\u001b[1;33m\u001b[0m\u001b[0m\n\u001b[0m\u001b[0;32m   2727\u001b[0m             \u001b[1;32mreturn\u001b[0m \u001b[0mself\u001b[0m\u001b[1;33m.\u001b[0m\u001b[0m_take\u001b[0m\u001b[1;33m(\u001b[0m\u001b[0mindexer\u001b[0m\u001b[1;33m,\u001b[0m \u001b[0maxis\u001b[0m\u001b[1;33m=\u001b[0m\u001b[1;36m1\u001b[0m\u001b[1;33m)\u001b[0m\u001b[1;33m\u001b[0m\u001b[0m\n\u001b[0;32m   2728\u001b[0m \u001b[1;33m\u001b[0m\u001b[0m\n",
      "\u001b[1;32m~\\Anaconda3\\lib\\site-packages\\pandas\\core\\indexing.py\u001b[0m in \u001b[0;36m_convert_to_indexer\u001b[1;34m(self, obj, axis, is_setter)\u001b[0m\n\u001b[0;32m   1325\u001b[0m                 \u001b[1;32mif\u001b[0m \u001b[0mmask\u001b[0m\u001b[1;33m.\u001b[0m\u001b[0many\u001b[0m\u001b[1;33m(\u001b[0m\u001b[1;33m)\u001b[0m\u001b[1;33m:\u001b[0m\u001b[1;33m\u001b[0m\u001b[0m\n\u001b[0;32m   1326\u001b[0m                     raise KeyError('{mask} not in index'\n\u001b[1;32m-> 1327\u001b[1;33m                                    .format(mask=objarr[mask]))\n\u001b[0m\u001b[0;32m   1328\u001b[0m \u001b[1;33m\u001b[0m\u001b[0m\n\u001b[0;32m   1329\u001b[0m                 \u001b[1;32mreturn\u001b[0m \u001b[0mcom\u001b[0m\u001b[1;33m.\u001b[0m\u001b[0m_values_from_object\u001b[0m\u001b[1;33m(\u001b[0m\u001b[0mindexer\u001b[0m\u001b[1;33m)\u001b[0m\u001b[1;33m\u001b[0m\u001b[0m\n",
      "\u001b[1;31mKeyError\u001b[0m: \"['WIN_HOME_home' 'WIN_AWAY_home' 'WIN_home' 'WIN_HOME_PCT_home'\\n 'WIN_AWAY_PCT_home' 'WIN_PCT_home' 'NUM_GAMES_HOME_home'\\n 'NUM_GAMES_AWAY_home' 'NUM_GAMES_LAST_2_DAYS_home'\\n 'NUM_GAMES_LAST_4_DAYS_home' 'NUM_GAMES_LAST_6_DAYS_home'\\n 'NUM_GAMES_LAST_10_DAYS_home' 'NUM_GAMES_LAST_2_DAYS_HOME_home'\\n 'NUM_GAMES_LAST_4_DAYS_HOME_home' 'NUM_GAMES_LAST_6_DAYS_HOME_home'\\n 'NUM_GAMES_LAST_10_DAYS_HOME_home' 'NUM_GAMES_LAST_2_DAYS_AWAY_home'\\n 'NUM_GAMES_LAST_4_DAYS_AWAY_home' 'NUM_GAMES_LAST_6_DAYS_AWAY_home'\\n 'NUM_GAMES_LAST_10_DAYS_AWAY_home' 'DAYS_DIFF_TOTAL_home'\\n 'DAYS_DIFF_NEXT_GAME_home' 'DAYS_DIFF_NEXT_GAMES_STD_home'] not in index\""
     ]
    }
   ],
   "source": [
    "resp = []\n",
    "season = all_games.reset_index()\n",
    "\n",
    "for index, row in season.iterrows():\n",
    "#for index, row in regular_season.groupby(\"season\").first().iterrows():\n",
    "        # Home team\n",
    "        home_last_games = get_last_games(season, row[\"DATE\"], row[\"team_home\"])\n",
    "        home_avg_last_games = get_avg_last_games(home_last_games, row[\"team_home\"])\n",
    "        home_rivals_last_games = get_avg_last_games(home_last_games, row[\"team_home\"], rivals=True)\n",
    "\n",
    "        home_avg_last_games[\"game_ref\"] = [row.GAME]\n",
    "        home_avg_last_games.set_index(\"game_ref\", inplace=True)\n",
    "        home_avg_last_games.drop([\"team_home\", \"team_away\"],axis=1 ,errors=\"ignore\", inplace=True)\n",
    "\n",
    "        home_rivals_last_games[\"game_ref\"] = [row.GAME]\n",
    "        home_rivals_last_games.set_index(\"game_ref\", inplace=True)\n",
    "        home_rivals_last_games.drop([\"team_home\", \"team_away\"],axis=1 ,errors=\"ignore\", inplace=True)\n",
    "\n",
    "        #print(home_rivals_last_games.index, home_avg_last_games.index)\n",
    "\n",
    "        # Away team\n",
    "        away_last_games = get_last_games(season, row[\"DATE\"], row[\"team_away\"]).reset_index()\n",
    "        away_avg_last_games = get_avg_last_games(away_last_games, row[\"team_away\"])\n",
    "        away_rivals_last_games = get_avg_last_games(away_last_games, row[\"team_away\"], rivals=True)\n",
    "\n",
    "        away_avg_last_games[\"game_ref\"] = [row.GAME]\n",
    "        away_avg_last_games.set_index(\"game_ref\", inplace=True)\n",
    "        away_avg_last_games.drop([\"team_home\", \"team_away\"],axis=1 ,errors=\"ignore\", inplace=True)\n",
    "\n",
    "        away_rivals_last_games[\"game_ref\"] = [row.GAME]\n",
    "        away_rivals_last_games.set_index(\"game_ref\", inplace=True)\n",
    "        away_rivals_last_games.drop([\"team_home\", \"team_away\"],axis=1 ,errors=\"ignore\", inplace=True)\n",
    "\n",
    "        #print(away_rivals_last_games.index, away_avg_last_games.index)\n",
    "\n",
    "        # Junta bases \n",
    "        rivals_last_games = home_rivals_last_games.join(away_rivals_last_games, how=\"inner\",\n",
    "                                            lsuffix='_home_last_5_games', rsuffix='_away_last_5_games')\n",
    "    \n",
    "        avg_last_games = home_avg_last_games.join(away_avg_last_games, how=\"inner\", \n",
    "                             lsuffix='_home_last_5_games', rsuffix='_away_last_5_games')\n",
    "\n",
    "        \n",
    "        print(rivals_last_games.columns)\n",
    "        \n",
    "        game_line = avg_last_games.join(rivals_last_games,\n",
    "                                        how=\"inner\")\n",
    "\n",
    "        game_line = pd.concat([row.to_frame().transpose().set_index(\"GAME\"), game_line], axis=1)\n",
    "\n",
    "        print(str(row.GAME), end=\"\\r\")\n",
    "        \n",
    "        resp.append(game_line)"
   ]
  },
  {
   "cell_type": "code",
   "execution_count": null,
   "metadata": {
    "collapsed": true
   },
   "outputs": [],
   "source": []
  }
 ],
 "metadata": {
  "kernelspec": {
   "display_name": "Python 3",
   "language": "python",
   "name": "python3"
  },
  "language_info": {
   "codemirror_mode": {
    "name": "ipython",
    "version": 3
   },
   "file_extension": ".py",
   "mimetype": "text/x-python",
   "name": "python",
   "nbconvert_exporter": "python",
   "pygments_lexer": "ipython3",
   "version": "3.6.3"
  },
  "toc": {
   "base_numbering": 1,
   "nav_menu": {},
   "number_sections": true,
   "sideBar": true,
   "skip_h1_title": false,
   "title_cell": "Table of Contents",
   "title_sidebar": "Contents",
   "toc_cell": false,
   "toc_position": {},
   "toc_section_display": true,
   "toc_window_display": false
  },
  "varInspector": {
   "cols": {
    "lenName": 16,
    "lenType": 16,
    "lenVar": 40
   },
   "kernels_config": {
    "python": {
     "delete_cmd_postfix": "",
     "delete_cmd_prefix": "del ",
     "library": "var_list.py",
     "varRefreshCmd": "print(var_dic_list())"
    },
    "r": {
     "delete_cmd_postfix": ") ",
     "delete_cmd_prefix": "rm(",
     "library": "var_list.r",
     "varRefreshCmd": "cat(var_dic_list()) "
    }
   },
   "types_to_exclude": [
    "module",
    "function",
    "builtin_function_or_method",
    "instance",
    "_Feature"
   ],
   "window_display": false
  }
 },
 "nbformat": 4,
 "nbformat_minor": 2
}
