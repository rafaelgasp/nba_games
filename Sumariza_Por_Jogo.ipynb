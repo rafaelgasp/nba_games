{
 "cells": [
  {
   "cell_type": "code",
   "execution_count": 1,
   "metadata": {
    "ExecuteTime": {
     "end_time": "2018-09-18T01:32:45.617745Z",
     "start_time": "2018-09-18T01:32:21.357895Z"
    },
    "collapsed": true
   },
   "outputs": [],
   "source": [
    "import pandas as pd\n",
    "import numpy as np\n",
    "from datetime import datetime, timedelta"
   ]
  },
  {
   "cell_type": "code",
   "execution_count": 2,
   "metadata": {
    "ExecuteTime": {
     "end_time": "2018-09-18T01:32:52.028580Z",
     "start_time": "2018-09-18T01:32:50.033372Z"
    },
    "collapsed": true
   },
   "outputs": [],
   "source": [
    "base_nba_per_game = pd.read_csv(\"bases_nba_stats/base_nba_per_game_17_18_arrumada.csv\", sep=\";\")"
   ]
  },
  {
   "cell_type": "code",
   "execution_count": 31,
   "metadata": {
    "ExecuteTime": {
     "end_time": "2018-09-11T03:00:54.496190Z",
     "start_time": "2018-09-11T03:00:54.488705Z"
    },
    "collapsed": true
   },
   "outputs": [],
   "source": [
    "base_nba_per_game[\"fl_home\"] = np.where(base_nba_per_game[\"GAME\"].str[6:9] == base_nba_per_game[\"TEAM_ABBREVIATION\"], 1, 0)"
   ]
  },
  {
   "cell_type": "code",
   "execution_count": 32,
   "metadata": {
    "ExecuteTime": {
     "end_time": "2018-09-11T03:00:54.880225Z",
     "start_time": "2018-09-11T03:00:54.836226Z"
    },
    "collapsed": true
   },
   "outputs": [],
   "source": [
    "home_games = base_nba_per_game[base_nba_per_game[\"fl_home\"] == 1].set_index(\"GAME\")\n",
    "away_games = base_nba_per_game[base_nba_per_game[\"fl_home\"] == 0].set_index(\"GAME\")"
   ]
  },
  {
   "cell_type": "code",
   "execution_count": 33,
   "metadata": {
    "ExecuteTime": {
     "end_time": "2018-09-11T03:00:55.188957Z",
     "start_time": "2018-09-11T03:00:55.182468Z"
    }
   },
   "outputs": [
    {
     "name": "stdout",
     "output_type": "stream",
     "text": [
      "Home (1230, 112)\n",
      "Away (1230, 112)\n"
     ]
    }
   ],
   "source": [
    "print(\"Home\", home_games.shape)\n",
    "print(\"Away\", away_games.shape)"
   ]
  },
  {
   "cell_type": "code",
   "execution_count": 34,
   "metadata": {
    "ExecuteTime": {
     "end_time": "2018-09-11T03:00:55.666516Z",
     "start_time": "2018-09-11T03:00:55.621602Z"
    },
    "collapsed": true
   },
   "outputs": [],
   "source": [
    "all_games = home_games.join(away_games, how=\"inner\", lsuffix=\"_home\", rsuffix=\"_away\")\n",
    "all_games.drop([\"GAME_ID_away\", \"GAME_DATE_away\", \"GAME_PLACE_away\",\n",
    "                \"MIN_home\", \"MIN_away\", 'PTS_hustle_home', 'PTS_hustle_away',\n",
    "                \"fl_home_away\", \"fl_home_home\"], axis=1, inplace=True)"
   ]
  },
  {
   "cell_type": "code",
   "execution_count": 35,
   "metadata": {
    "ExecuteTime": {
     "end_time": "2018-09-11T03:00:56.130982Z",
     "start_time": "2018-09-11T03:00:56.118005Z"
    }
   },
   "outputs": [
    {
     "data": {
      "text/html": [
       "<div>\n",
       "<style scoped>\n",
       "    .dataframe tbody tr th:only-of-type {\n",
       "        vertical-align: middle;\n",
       "    }\n",
       "\n",
       "    .dataframe tbody tr th {\n",
       "        vertical-align: top;\n",
       "    }\n",
       "\n",
       "    .dataframe thead th {\n",
       "        text-align: right;\n",
       "    }\n",
       "</style>\n",
       "<table border=\"1\" class=\"dataframe\">\n",
       "  <thead>\n",
       "    <tr style=\"text-align: right;\">\n",
       "      <th></th>\n",
       "      <th>TEAM_ABBREVIATION_away</th>\n",
       "      <th>PTS_away</th>\n",
       "      <th>TEAM_ABBREVIATION_home</th>\n",
       "      <th>PTS_home</th>\n",
       "    </tr>\n",
       "    <tr>\n",
       "      <th>GAME</th>\n",
       "      <th></th>\n",
       "      <th></th>\n",
       "      <th></th>\n",
       "      <th></th>\n",
       "    </tr>\n",
       "  </thead>\n",
       "  <tbody>\n",
       "    <tr>\n",
       "      <th>BOS @ CLE 2017-10-17</th>\n",
       "      <td>BOS</td>\n",
       "      <td>99</td>\n",
       "      <td>CLE</td>\n",
       "      <td>102</td>\n",
       "    </tr>\n",
       "    <tr>\n",
       "      <th>HOU @ GSW 2017-10-17</th>\n",
       "      <td>HOU</td>\n",
       "      <td>122</td>\n",
       "      <td>GSW</td>\n",
       "      <td>121</td>\n",
       "    </tr>\n",
       "    <tr>\n",
       "      <th>CHA @ DET 2017-10-18</th>\n",
       "      <td>CHA</td>\n",
       "      <td>90</td>\n",
       "      <td>DET</td>\n",
       "      <td>102</td>\n",
       "    </tr>\n",
       "    <tr>\n",
       "      <th>BKN @ IND 2017-10-18</th>\n",
       "      <td>BKN</td>\n",
       "      <td>131</td>\n",
       "      <td>IND</td>\n",
       "      <td>140</td>\n",
       "    </tr>\n",
       "    <tr>\n",
       "      <th>MIA @ ORL 2017-10-18</th>\n",
       "      <td>MIA</td>\n",
       "      <td>109</td>\n",
       "      <td>ORL</td>\n",
       "      <td>116</td>\n",
       "    </tr>\n",
       "  </tbody>\n",
       "</table>\n",
       "</div>"
      ],
      "text/plain": [
       "                     TEAM_ABBREVIATION_away  PTS_away TEAM_ABBREVIATION_home  \\\n",
       "GAME                                                                           \n",
       "BOS @ CLE 2017-10-17                    BOS        99                    CLE   \n",
       "HOU @ GSW 2017-10-17                    HOU       122                    GSW   \n",
       "CHA @ DET 2017-10-18                    CHA        90                    DET   \n",
       "BKN @ IND 2017-10-18                    BKN       131                    IND   \n",
       "MIA @ ORL 2017-10-18                    MIA       109                    ORL   \n",
       "\n",
       "                      PTS_home  \n",
       "GAME                            \n",
       "BOS @ CLE 2017-10-17       102  \n",
       "HOU @ GSW 2017-10-17       121  \n",
       "CHA @ DET 2017-10-18       102  \n",
       "BKN @ IND 2017-10-18       140  \n",
       "MIA @ ORL 2017-10-18       116  "
      ]
     },
     "execution_count": 35,
     "metadata": {},
     "output_type": "execute_result"
    }
   ],
   "source": [
    "all_games[[\"TEAM_ABBREVIATION_away\", \"PTS_away\", \"TEAM_ABBREVIATION_home\", \"PTS_home\"]].head()"
   ]
  },
  {
   "cell_type": "code",
   "execution_count": 12,
   "metadata": {
    "ExecuteTime": {
     "end_time": "2018-09-11T15:11:58.336420Z",
     "start_time": "2018-09-11T15:11:58.315959Z"
    },
    "collapsed": true
   },
   "outputs": [],
   "source": [
    "def get_season(date):\n",
    "    ano = date.year\n",
    "    if(date.month >= 10):\n",
    "        return ano + 1\n",
    "    return ano\n",
    "\n",
    "def is_playoff(date):\n",
    "    # Playoffs 2016\n",
    "    if date >= datetime(2016, 4, 16) and date < datetime(2016, 6, 30):\n",
    "        return 1\n",
    "    \n",
    "    # Playoffs 2017\n",
    "    elif date >= datetime(2017, 4, 15) and date < datetime(2017, 6, 30):\n",
    "        return 1\n",
    "    \n",
    "     # Playoffs 2018\n",
    "    elif date >= datetime(2018, 4, 14) and date < datetime(2018, 6, 30):\n",
    "        return 1\n",
    "    \n",
    "    return 0"
   ]
  },
  {
   "cell_type": "code",
   "execution_count": 13,
   "metadata": {
    "ExecuteTime": {
     "end_time": "2018-09-11T15:11:58.706417Z",
     "start_time": "2018-09-11T15:11:58.652016Z"
    },
    "collapsed": true
   },
   "outputs": [],
   "source": [
    "all_games[\"DATE\"] = [datetime.strptime(str(x), '%d/%m/%Y') for x in all_games.GAME_DATE_home]\n",
    "all_games[\"SEASON\"] = [get_season(x) for x in all_games.DATE]\n",
    "all_games[\"fl_playoff\"] = [is_playoff(x) for x in all_games.DATE]\n",
    "all_games['fl_home_win'] = np.where(all_games['PTS_home'] > all_games['PTS_away'], 1, 0)\n",
    "all_games = all_games.sort_values('DATE')"
   ]
  },
  {
   "cell_type": "code",
   "execution_count": 39,
   "metadata": {
    "ExecuteTime": {
     "end_time": "2018-09-11T03:01:20.341606Z",
     "start_time": "2018-09-11T03:01:20.331126Z"
    },
    "collapsed": true
   },
   "outputs": [],
   "source": [
    "all_games = all_games.rename(columns={'TEAM_ABBREVIATION_home': \"team_home\",\n",
    "                                     'TEAM_ABBREVIATION_away': \"team_away\"})"
   ]
  },
  {
   "cell_type": "code",
   "execution_count": 54,
   "metadata": {
    "ExecuteTime": {
     "end_time": "2018-09-11T03:12:04.166040Z",
     "start_time": "2018-09-11T03:12:04.149568Z"
    },
    "collapsed": true
   },
   "outputs": [],
   "source": [
    "all_games[\"team_home_game_num\"] = all_games.groupby(['team_home']).cumcount() + 1\n",
    "all_games[\"team_away_game_num\"] = all_games.groupby(['team_away']).cumcount() + 1"
   ]
  },
  {
   "cell_type": "code",
   "execution_count": 14,
   "metadata": {
    "ExecuteTime": {
     "end_time": "2018-09-11T15:12:06.796325Z",
     "start_time": "2018-09-11T15:12:01.479055Z"
    },
    "collapsed": true
   },
   "outputs": [],
   "source": [
    "all_games.to_csv(\"./bases_nba_stats/all_games_nba_17_18.csv\")"
   ]
  },
  {
   "cell_type": "markdown",
   "metadata": {},
   "source": [
    "### Cria features de Número de Jogos"
   ]
  },
  {
   "cell_type": "code",
   "execution_count": 5,
   "metadata": {
    "ExecuteTime": {
     "end_time": "2018-09-18T01:33:45.592939Z",
     "start_time": "2018-09-18T01:33:45.475012Z"
    },
    "collapsed": true
   },
   "outputs": [],
   "source": [
    "all_games = pd.read_csv(\"./bases_nba_stats/all_games_nba_17_18.csv\").drop(\"Unnamed: 0\", axis=1)"
   ]
  },
  {
   "cell_type": "code",
   "execution_count": 17,
   "metadata": {
    "ExecuteTime": {
     "end_time": "2018-09-18T01:48:46.693928Z",
     "start_time": "2018-09-18T01:48:46.640942Z"
    },
    "collapsed": true
   },
   "outputs": [],
   "source": [
    "all_games[\"DATE\"] = [datetime.strptime(str(x), '%d/%m/%Y') for x in all_games.GAME_DATE_home]"
   ]
  },
  {
   "cell_type": "code",
   "execution_count": null,
   "metadata": {},
   "outputs": [],
   "source": [
    "all_games[\"NUM_GAMES_LAST_2_DAYS_home\"] = [np.where((all_games[\"DATE\"] >= (x.DATE - timedelta(days=2))) & \n",
    "                                                    (all_games[\"DATE\"] < x.DATE) &\n",
    "                                                    ((all_games[\"team_home\"] == x.team_home) |\n",
    "                                                     (all_games[\"team_away\"] == x.team_home)), 1, 0).sum() \n",
    "                                           for _, x in all_games.iterrows()]\n",
    "\n",
    "all_games[\"NUM_GAMES_LAST_4_DAYS_home\"] = [np.where((all_games[\"DATE\"] >= (x.DATE - timedelta(days=4))) & \n",
    "                                                    (all_games[\"DATE\"] < x.DATE) &\n",
    "                                                    ((all_games[\"team_home\"] == x.team_home) |\n",
    "                                                     (all_games[\"team_away\"] == x.team_home)), 1, 0).sum() \n",
    "                                           \n",
    "                                           for _, x in all_games.iterrows()]\n",
    "all_games[\"NUM_GAMES_LAST_6_DAYS_home\"] = [np.where((all_games[\"DATE\"] >= (x.DATE - timedelta(days=6))) & \n",
    "                                                    (all_games[\"DATE\"] < x.DATE) &\n",
    "                                                    ((all_games[\"team_home\"] == x.team_home) |\n",
    "                                                     (all_games[\"team_away\"] == x.team_home)), 1, 0).sum() \n",
    "                                           for _, x in all_games.iterrows()]\n",
    "\n",
    "all_games[\"NUM_GAMES_LAST_10_DAYS_home\"] = [np.where((all_games[\"DATE\"] >= (x.DATE - timedelta(days=10))) & \n",
    "                                                    (all_games[\"DATE\"] < x.DATE) &\n",
    "                                                    ((all_games[\"team_home\"] == x.team_home) |\n",
    "                                                     (all_games[\"team_away\"] == x.team_home)), 1, 0).sum() \n",
    "                                           for _, x in all_games.iterrows()]\n",
    "\n",
    "all_games[\"NUM_GAMES_AWAY_LAST_2_DAYS_home\"] = [np.where((all_games[\"DATE\"] >= (x.DATE - timedelta(days=2))) & \n",
    "                                                    (all_games[\"DATE\"] < x.DATE) &\n",
    "                                                    (all_games[\"team_away\"] == x.team_home), 1, 0).sum() \n",
    "                                           for _, x in all_games.iterrows()]\n",
    "all_games[\"NUM_GAMES_AWAY_LAST_4_DAYS_home\"] = [np.where((all_games[\"DATE\"] >= (x.DATE - timedelta(days=4))) & \n",
    "                                                    (all_games[\"DATE\"] < x.DATE) &\n",
    "                                                    (all_games[\"team_away\"] == x.team_home), 1, 0).sum() \n",
    "                                           for _, x in all_games.iterrows()]\n",
    "all_games[\"NUM_GAMES_AWAY_LAST_6_DAYS_home\"] = [np.where((all_games[\"DATE\"] >= (x.DATE - timedelta(days=6))) & \n",
    "                                                    (all_games[\"DATE\"] < x.DATE) &\n",
    "                                                    (all_games[\"team_away\"] == x.team_home), 1, 0).sum() \n",
    "                                           for _, x in all_games.iterrows()]\n",
    "all_games[\"NUM_GAMES_AWAY_LAST_10_DAYS_home\"] = [np.where((all_games[\"DATE\"] >= (x.DATE - timedelta(days=10))) & \n",
    "                                                    (all_games[\"DATE\"] < x.DATE) &\n",
    "                                                    (all_games[\"team_away\"] == x.team_home), 1, 0).sum() \n",
    "                                           for _, x in all_games.iterrows()]"
   ]
  },
  {
   "cell_type": "code",
   "execution_count": null,
   "metadata": {
    "ExecuteTime": {
     "end_time": "2018-09-11T15:07:53.597361Z",
     "start_time": "2018-09-11T15:07:50.618Z"
    },
    "collapsed": true
   },
   "outputs": [],
   "source": [
    "all_games[\"NUM_GAMES_LAST_2_DAYS_away\"] = [np.where((all_games[\"DATE\"] >= (x.DATE - timedelta(days=2))) & \n",
    "                                                    (all_games[\"DATE\"] < x.DATE) &\n",
    "                                                    ((all_games[\"team_away\"] == x.team_away) |\n",
    "                                                     (all_games[\"team_home\"] == x.team_away)), 1, 0).sum() \n",
    "                                           for _, x in all_games.iterrows()]\n",
    "\n",
    "all_games[\"NUM_GAMES_LAST_4_DAYS_away\"] = [np.where((all_games[\"DATE\"] >= (x.DATE - timedelta(days=4))) & \n",
    "                                                    (all_games[\"DATE\"] < x.DATE) &\n",
    "                                                    ((all_games[\"team_away\"] == x.team_away) |\n",
    "                                                     (all_games[\"team_home\"] == x.team_away)), 1, 0).sum() \n",
    "                                           \n",
    "                                           for _, x in all_games.iterrows()]\n",
    "all_games[\"NUM_GAMES_LAST_6_DAYS_away\"] = [np.where((all_games[\"DATE\"] >= (x.DATE - timedelta(days=6))) & \n",
    "                                                    (all_games[\"DATE\"] < x.DATE) &\n",
    "                                                    ((all_games[\"team_away\"] == x.team_away) |\n",
    "                                                     (all_games[\"team_home\"] == x.team_away)), 1, 0).sum() \n",
    "                                           for _, x in all_games.iterrows()]\n",
    "\n",
    "all_games[\"NUM_GAMES_LAST_10_DAYS_away\"] = [np.where((all_games[\"DATE\"] >= (x.DATE - timedelta(days=10))) & \n",
    "                                                    (all_games[\"DATE\"] < x.DATE) &\n",
    "                                                    ((all_games[\"team_away\"] == x.team_away) |\n",
    "                                                     (all_games[\"team_home\"] == x.team_away)), 1, 0).sum() \n",
    "                                           for _, x in all_games.iterrows()]\n",
    "\n",
    "all_games[\"NUM_GAMES_AWAY_LAST_2_DAYS_away\"] = [np.where((all_games[\"DATE\"] >= (x.DATE - timedelta(days=2))) & \n",
    "                                                    (all_games[\"DATE\"] < x.DATE) &\n",
    "                                                    (all_games[\"team_away\"] == x.team_away), 1, 0).sum() \n",
    "                                           for _, x in all_games.iterrows()]\n",
    "all_games[\"NUM_GAMES_AWAY_LAST_4_DAYS_away\"] = [np.where((all_games[\"DATE\"] >= (x.DATE - timedelta(days=4))) & \n",
    "                                                    (all_games[\"DATE\"] < x.DATE) &\n",
    "                                                    (all_games[\"team_away\"] == x.team_away), 1, 0).sum() \n",
    "                                           for _, x in all_games.iterrows()]\n",
    "all_games[\"NUM_GAMES_AWAY_LAST_6_DAYS_away\"] = [np.where((all_games[\"DATE\"] >= (x.DATE - timedelta(days=6))) & \n",
    "                                                    (all_games[\"DATE\"] < x.DATE) &\n",
    "                                                    (all_games[\"team_away\"] == x.team_away), 1, 0).sum() \n",
    "                                           for _, x in all_games.iterrows()]\n",
    "all_games[\"NUM_GAMES_AWAY_LAST_10_DAYS_away\"] = [np.where((all_games[\"DATE\"] >= (x.DATE - timedelta(days=10))) & \n",
    "                                                    (all_games[\"DATE\"] < x.DATE) &\n",
    "                                                    (all_games[\"team_away\"] == x.team_away), 1, 0).sum() \n",
    "                                           for _, x in all_games.iterrows()]"
   ]
  },
  {
   "cell_type": "markdown",
   "metadata": {},
   "source": [
    "### Últimos 5 Jogos"
   ]
  },
  {
   "cell_type": "code",
   "execution_count": 7,
   "metadata": {
    "ExecuteTime": {
     "end_time": "2018-09-18T01:34:27.984793Z",
     "start_time": "2018-09-18T01:34:27.976801Z"
    },
    "collapsed": true
   },
   "outputs": [],
   "source": [
    "home_columns = [x for x in all_games.columns if x.endswith(\"_home\") and x not in ['GAME_ID_home', 'TEAM_CITY_home', 'GAME_DATE_home', 'GAME_PLACE_home', 'TEAM_NICKNAME_home']]\n",
    "away_columns = [x for x in all_games.columns if x.endswith(\"_away\") and x not in ['TEAM_CITY_away', 'TEAM_NICKNAME_away']]"
   ]
  },
  {
   "cell_type": "code",
   "execution_count": null,
   "metadata": {
    "collapsed": true
   },
   "outputs": [],
   "source": [
    "# \"['WIN_HOME_away' 'WIN_AWAY_away' 'WIN_away' 'WIN_HOME_PCT_away'\\n 'WIN_AWAY_PCT_away'\n",
    "# 'WIN_PCT_away' 'NUM_GAMES_HOME_away'\\n 'NUM_GAMES_AWAY_away' 'DAYS_DIFF_TOTAL_away' \n",
    "# 'DAYS_DIFF_NEXT_GAME_away'\\n 'DAYS_DIFF_NEXT_GAMES_STD_away']"
   ]
  },
  {
   "cell_type": "code",
   "execution_count": 21,
   "metadata": {
    "ExecuteTime": {
     "end_time": "2018-09-11T15:12:45.418063Z",
     "start_time": "2018-09-11T15:12:45.410077Z"
    },
    "collapsed": true
   },
   "outputs": [],
   "source": [
    "# extra_columns = []\n",
    "\n",
    "# home_columns += [x + \"_home\" for x in extra_columns]\n",
    "# away_columns += [x + \"_away\" for x in extra_columns]"
   ]
  },
  {
   "cell_type": "code",
   "execution_count": 84,
   "metadata": {
    "ExecuteTime": {
     "end_time": "2018-09-18T02:24:59.594641Z",
     "start_time": "2018-09-18T02:24:59.187341Z"
    }
   },
   "outputs": [],
   "source": [
    "def cria_variaveis_sumarizacao(last_games, team_name, n = 5, data_ref = None, verbose = False):\n",
    "    resp = {}\n",
    "    \n",
    "    # Cria variávies de Win %\n",
    "    # Visão home\n",
    "    resp[\"num_wins_home\"] = [np.where((last_games[\"team_home\"] == team_name) &\n",
    "                             (last_games[\"fl_home_win\"] == 1) , 1, 0).sum()]\n",
    "    resp[\"num_games_home\"] = [np.where(last_games[\"team_home\"] == team_name, 1, 0).sum()]\n",
    "    resp[\"win_home_pct\"] = [(resp[\"num_wins_home\"][0] / resp[\"num_games_home\"][0])]\n",
    "    \n",
    "    # Visão Away\n",
    "    resp[\"num_wins_away\"] = [np.where((last_games[\"team_away\"] == team_name) & \n",
    "                                      (last_games[\"fl_home_win\"] == 0), 1, 0).sum()]\n",
    "    resp[\"num_games_away\"] = [np.where(last_games[\"team_away\"] == team_name, 1, 0).sum()]\n",
    "    resp[\"win_away_pct\"] = [(resp[\"num_wins_away\"][0] / resp[\"num_games_away\"][0])]\n",
    "    \n",
    "    # Visão geral\n",
    "    resp[\"num_wins_total\"] = [resp[\"num_wins_away\"][0] + resp[\"num_wins_home\"][0]]\n",
    "    resp[\"win_pct\"] = [resp[\"num_wins_total\"][0]/n]\n",
    "    \n",
    "    if verbose:\n",
    "        print(\"Win_PCT\", resp[\"win_pct\"][0], resp[\"num_wins_away\"][0], resp[\"num_wins_home\"][0])\n",
    "    \n",
    "    # Cria variáveis de data\n",
    "    if(data_ref is None):\n",
    "        data_ref = np.max(last_games[\"DATE\"]) + timedelta(days=1)\n",
    "    \n",
    "    # Visão da série\n",
    "    resp[\"total_days_diff\"] = [(np.max(last_games[\"DATE\"]) - np.min(last_games[\"DATE\"])).days]\n",
    "    days_diff_last_games = [-x.days if not np.isnan(x.days) else 0 \n",
    "                            for x in last_games[\"DATE\"].sub(last_games[\"DATE\"].shift(-1).fillna(data_ref))]\n",
    "    resp[\"days_diff_last_games_std\"] = [np.std(days_diff_last_games)]\n",
    "    resp[\"days_diff_last_games_mean\"] = [np.mean(days_diff_last_games)]\n",
    "    \n",
    "    if verbose:\n",
    "        print(\"Days_Diff\", days_diff_last_games, resp[\"days_diff_last_games_mean\"][0], resp[\"total_days_diff\"][0]) \n",
    "    \n",
    "    # All\n",
    "    resp[\"num_games_last_2_days\"] = [np.where((last_games[\"DATE\"] >= (data_ref - timedelta(days=2))) & \n",
    "                            (last_games[\"DATE\"] < data_ref) &\n",
    "                            ((last_games[\"team_home\"] == team_name) |\n",
    "                             (last_games[\"team_away\"] == team_name)), 1, 0).sum()]\n",
    "    \n",
    "    resp[\"num_games_last_4_days\"] = [np.where((last_games[\"DATE\"] >= (data_ref - timedelta(days=4))) & \n",
    "                            (last_games[\"DATE\"] < data_ref) &\n",
    "                            ((last_games[\"team_home\"] == team_name) |\n",
    "                             (last_games[\"team_away\"] == team_name)), 1, 0).sum()]\n",
    "                             \n",
    "    resp[\"num_games_last_6_days\"] = [np.where((last_games[\"DATE\"] >= (data_ref - timedelta(days=6))) & \n",
    "                            (last_games[\"DATE\"] < data_ref) &\n",
    "                            ((last_games[\"team_home\"] == team_name) |\n",
    "                             (last_games[\"team_away\"] == team_name)), 1, 0).sum()]\n",
    "    \n",
    "    resp[\"num_games_last_8_days\"] = [np.where((last_games[\"DATE\"] >= (data_ref - timedelta(days=8))) & \n",
    "                            (last_games[\"DATE\"] < data_ref) &\n",
    "                            ((last_games[\"team_home\"] == team_name) |\n",
    "                             (last_games[\"team_away\"] == team_name)), 1, 0).sum()]\n",
    "    \n",
    "    resp[\"num_games_last_10_days\"] = [np.where((last_games[\"DATE\"] >= (data_ref - timedelta(days=10))) & \n",
    "                            (last_games[\"DATE\"] < data_ref) &\n",
    "                            ((last_games[\"team_home\"] == team_name) |\n",
    "                             (last_games[\"team_away\"] == team_name)), 1, 0).sum()]\n",
    "    \n",
    "    # Away\n",
    "    resp[\"num_games_away_last_2_days\"] = [np.where((last_games[\"DATE\"] >= (data_ref - timedelta(days=2))) & \n",
    "                                    (last_games[\"DATE\"] < data_ref) &\n",
    "                                    (last_games[\"team_away\"] == team_name), 1, 0).sum()]\n",
    "    \n",
    "    resp[\"num_games_away_last_4_days\"] = [np.where((last_games[\"DATE\"] >= (data_ref - timedelta(days=4))) & \n",
    "                                    (last_games[\"DATE\"] < data_ref) &\n",
    "                                    (last_games[\"team_away\"] == team_name), 1, 0).sum()]\n",
    "    \n",
    "    resp[\"num_games_away_last_6_days\"] = [np.where((last_games[\"DATE\"] >= (data_ref - timedelta(days=6))) & \n",
    "                                    (last_games[\"DATE\"] < data_ref) &\n",
    "                                    (last_games[\"team_away\"] == team_name), 1, 0).sum()] \n",
    "    \n",
    "    resp[\"num_games_away_last_8_days\"] = [np.where((last_games[\"DATE\"] >= (data_ref - timedelta(days=8))) & \n",
    "                                    (last_games[\"DATE\"] < data_ref) &\n",
    "                                    (last_games[\"team_away\"] == team_name), 1, 0).sum()]\n",
    "    \n",
    "    resp[\"num_games_away_last_8_days\"] = [np.where((last_games[\"DATE\"] >= (data_ref - timedelta(days=10))) & \n",
    "                                    (last_games[\"DATE\"] < data_ref) &\n",
    "                                    (last_games[\"team_away\"] == team_name), 1, 0).sum()]\n",
    "    \n",
    "    # Home    \n",
    "    resp[\"num_games_home_last_2_days\"] = [np.where((last_games[\"DATE\"] >= (data_ref - timedelta(days=2))) & \n",
    "                                    (last_games[\"DATE\"] < data_ref) &\n",
    "                                    (last_games[\"team_home\"] == team_name), 1, 0).sum()]\n",
    "    \n",
    "    resp[\"num_games_home_last_4_days\"] = [np.where((last_games[\"DATE\"] >= (data_ref - timedelta(days=4))) & \n",
    "                                    (last_games[\"DATE\"] < data_ref) &\n",
    "                                    (last_games[\"team_home\"] == team_name), 1, 0).sum()]\n",
    "    \n",
    "    resp[\"num_games_home_last_6_days\"] = [np.where((last_games[\"DATE\"] >= (data_ref - timedelta(days=6))) & \n",
    "                                    (last_games[\"DATE\"] < data_ref) &\n",
    "                                    (last_games[\"team_home\"] == team_name), 1, 0).sum()]\n",
    "    \n",
    "    resp[\"num_games_home_last_8_days\"] = [np.where((last_games[\"DATE\"] >= (data_ref - timedelta(days=8))) & \n",
    "                                    (last_games[\"DATE\"] < data_ref) &\n",
    "                                    (last_games[\"team_home\"] == team_name), 1, 0).sum()]\n",
    "    \n",
    "    resp[\"num_games_home_last_10_days\"] = [np.where((last_games[\"DATE\"] >= (data_ref - timedelta(days=10))) & \n",
    "                                    (last_games[\"DATE\"] < data_ref) &\n",
    "                                    (last_games[\"team_home\"] == team_name), 1, 0).sum()]\n",
    "    \n",
    "    if verbose:\n",
    "        print(\"Num Games Last X Days\", resp[\"num_games_last_6_days\"][0], resp[\"num_games_away_last_6_days\"][0])\n",
    "    \n",
    "    return(pd.DataFrame(resp))"
   ]
  },
  {
   "cell_type": "code",
   "execution_count": 115,
   "metadata": {
    "ExecuteTime": {
     "end_time": "2018-09-18T02:29:17.641655Z",
     "start_time": "2018-09-18T02:29:17.437062Z"
    },
    "collapsed": true
   },
   "outputs": [],
   "source": [
    "def get_last_games(df, data, team_name, n = 5, filter=\"all\", verbose=False):\n",
    "    if(filter == \"all\"):\n",
    "        last_games = df[(df[\"DATE\"] < data) & \n",
    "                        ((df[\"team_home\"] == team_name) | (df[\"team_away\"] == team_name))].tail(n)\n",
    "        \n",
    "    elif(filter == \"home\"):\n",
    "        last_games = df[(df[\"DATE\"] < data) & (df[\"team_home\"] == team_name)].tail(n)\n",
    "    elif(filter == \"away\"):\n",
    "        last_games = df[(df[\"DATE\"] < data) & (df[\"team_away\"] == team_name)].tail(n)\n",
    "\n",
    "    if(verbose):\n",
    "        print(last_games[[\"team_home\", \"team_away\", \"PTS_home\", \"PTS_away\", \"DATE\"]])\n",
    "    \n",
    "    return(last_games)\n",
    "\n",
    "def get_avg_last_games(last_games, team_name, n = 5, data_ref = None, rivals = False, \n",
    "                       to_drop=['fl_home_win', 'fl_playoff', 'fl_win','index', 'team_away_game_num',\n",
    "                                'team_game_num', 'team_home_game_num', \"TEAM_CITY_away\", \"TEAM_CITY_home\",\n",
    "                                \"TEAM_CITY_opponent\", \"TEAM_ID_opponent\", \"TEAM_NAME_advanced_opponent\",\n",
    "                                \"TEAM_NAME_fourfactors_opponent\", \"TEAM_NAME_hustle_opponent\",\n",
    "                                \"TEAM_NAME_misc_opponent\", \"TEAM_NAME_opponent\", \"TEAM_NAME_playertrack_opponent\",\n",
    "                                \"TEAM_NAME_scoring_opponent\", \"TEAM_NAME_advanced_opponent\"]):\n",
    "    if(rivals == False):\n",
    "        last_games_home = last_games[last_games[\"team_home\"] == team_name].drop(away_columns + to_drop, axis=1, errors=\"ignore\").groupby([\"team_home\"]).sum()\n",
    "        last_games_away = last_games[last_games[\"team_away\"] == team_name].drop(home_columns + to_drop, axis=1, errors=\"ignore\").groupby([\"team_away\"]).sum()\n",
    "        last_games_home.columns = [x.replace(\"_home\",\"\") for x in last_games_home.columns]\n",
    "        last_games_away.columns = [x.replace(\"_away\",\"\") for x in last_games_away.columns]\n",
    "    else:\n",
    "        last_games_home = last_games[last_games[\"team_home\"] != team_name].drop(away_columns + to_drop, axis=1, errors=\"ignore\").drop(\"team_home\", axis = 1).sum()\n",
    "        last_games_away = last_games[last_games[\"team_away\"] != team_name].drop(home_columns + to_drop, axis=1, errors=\"ignore\").drop(\"team_away\", axis = 1).sum()\n",
    "        last_games_home.index = [x.replace(\"_home\",\"_opponent\") for x in last_games_home.index]\n",
    "        last_games_away.index = [x.replace(\"_away\",\"_opponent\") for x in last_games_away.index]\n",
    "    \n",
    "    if(len(last_games_home) == 0):\n",
    "        if(rivals):\n",
    "            resp = (last_games_away/n).to_frame().transpose()\n",
    "        else:\n",
    "            resp = last_games_away/n\n",
    "    \n",
    "    if(len(last_games_away) == 0):\n",
    "        if(rivals):\n",
    "            resp = (last_games_home/n).to_frame().transpose()\n",
    "        else:\n",
    "            resp = last_games_home/n\n",
    "            \n",
    "    if(len(last_games_away) > 0 and len(last_games_home) > 0):\n",
    "        print(\"HOME\", list(last_games_home.index), len(last_games_home.index))\n",
    "        print(\"AWAY\", list(last_games_away.index), len(last_games_away.index))\n",
    "        if(rivals):\n",
    "            resp = ((last_games_home + last_games_away) / n).to_frame().transpose()\n",
    "        else:\n",
    "            resp = ((last_games_home + last_games_away) / n)    \n",
    "    \n",
    "    if not rivals:\n",
    "        var_criadas = cria_variaveis_sumarizacao(last_games, team_name, n = 5, data_ref = None)\n",
    "        resp = pd.concat([resp, var_criadas], axis=1)\n",
    "    \n",
    "    return(resp)"
   ]
  },
  {
   "cell_type": "code",
   "execution_count": 111,
   "metadata": {
    "ExecuteTime": {
     "end_time": "2018-09-18T02:28:54.115186Z",
     "start_time": "2018-09-18T02:28:54.096196Z"
    }
   },
   "outputs": [],
   "source": [
    "teste = all_games[all_games[\"team_home\"] == \"ATL\"]\n",
    "teste = get_last_games(all_games, teste.iloc[10][\"DATE\"], \"ATL\", verbose=False).reset_index()"
   ]
  },
  {
   "cell_type": "code",
   "execution_count": 112,
   "metadata": {
    "ExecuteTime": {
     "end_time": "2018-09-18T02:28:54.356047Z",
     "start_time": "2018-09-18T02:28:54.315071Z"
    }
   },
   "outputs": [
    {
     "data": {
      "text/html": [
       "<div>\n",
       "<style scoped>\n",
       "    .dataframe tbody tr th:only-of-type {\n",
       "        vertical-align: middle;\n",
       "    }\n",
       "\n",
       "    .dataframe tbody tr th {\n",
       "        vertical-align: top;\n",
       "    }\n",
       "\n",
       "    .dataframe thead th {\n",
       "        text-align: right;\n",
       "    }\n",
       "</style>\n",
       "<table border=\"1\" class=\"dataframe\">\n",
       "  <thead>\n",
       "    <tr style=\"text-align: right;\">\n",
       "      <th></th>\n",
       "      <th>index</th>\n",
       "      <th>GAME</th>\n",
       "      <th>GAME_ID_home</th>\n",
       "      <th>TEAM_ID_home</th>\n",
       "      <th>TEAM_NAME_home</th>\n",
       "      <th>team_home</th>\n",
       "      <th>TEAM_CITY_home</th>\n",
       "      <th>FGM_home</th>\n",
       "      <th>FGA_home</th>\n",
       "      <th>FG_PCT_home</th>\n",
       "      <th>...</th>\n",
       "      <th>LOOSE_BALLS_RECOVERED_away</th>\n",
       "      <th>CHARGES_DRAWN_away</th>\n",
       "      <th>SCREEN_ASSISTS_away</th>\n",
       "      <th>BOX_OUTS_away</th>\n",
       "      <th>DATE</th>\n",
       "      <th>SEASON</th>\n",
       "      <th>fl_playoff</th>\n",
       "      <th>team_home_game_num</th>\n",
       "      <th>team_away_game_num</th>\n",
       "      <th>fl_home_win</th>\n",
       "    </tr>\n",
       "  </thead>\n",
       "  <tbody>\n",
       "    <tr>\n",
       "      <th>0</th>\n",
       "      <td>259</td>\n",
       "      <td>LAC @ ATL 2017-11-22</td>\n",
       "      <td>21700256</td>\n",
       "      <td>1610612737</td>\n",
       "      <td>Hawks</td>\n",
       "      <td>ATL</td>\n",
       "      <td>Atlanta</td>\n",
       "      <td>40</td>\n",
       "      <td>83</td>\n",
       "      <td>0.482</td>\n",
       "      <td>...</td>\n",
       "      <td>8</td>\n",
       "      <td>2</td>\n",
       "      <td>4</td>\n",
       "      <td>19</td>\n",
       "      <td>2017-11-22</td>\n",
       "      <td>2018</td>\n",
       "      <td>0</td>\n",
       "      <td>7</td>\n",
       "      <td>9</td>\n",
       "      <td>0</td>\n",
       "    </tr>\n",
       "    <tr>\n",
       "      <th>1</th>\n",
       "      <td>270</td>\n",
       "      <td>NYK @ ATL 2017-11-24</td>\n",
       "      <td>21700268</td>\n",
       "      <td>1610612737</td>\n",
       "      <td>Hawks</td>\n",
       "      <td>ATL</td>\n",
       "      <td>Atlanta</td>\n",
       "      <td>47</td>\n",
       "      <td>99</td>\n",
       "      <td>0.475</td>\n",
       "      <td>...</td>\n",
       "      <td>6</td>\n",
       "      <td>0</td>\n",
       "      <td>7</td>\n",
       "      <td>21</td>\n",
       "      <td>2017-11-24</td>\n",
       "      <td>2018</td>\n",
       "      <td>0</td>\n",
       "      <td>8</td>\n",
       "      <td>6</td>\n",
       "      <td>1</td>\n",
       "    </tr>\n",
       "    <tr>\n",
       "      <th>2</th>\n",
       "      <td>278</td>\n",
       "      <td>TOR @ ATL 2017-11-25</td>\n",
       "      <td>21700280</td>\n",
       "      <td>1610612737</td>\n",
       "      <td>Hawks</td>\n",
       "      <td>ATL</td>\n",
       "      <td>Atlanta</td>\n",
       "      <td>26</td>\n",
       "      <td>75</td>\n",
       "      <td>0.347</td>\n",
       "      <td>...</td>\n",
       "      <td>6</td>\n",
       "      <td>2</td>\n",
       "      <td>8</td>\n",
       "      <td>17</td>\n",
       "      <td>2017-11-25</td>\n",
       "      <td>2018</td>\n",
       "      <td>0</td>\n",
       "      <td>9</td>\n",
       "      <td>12</td>\n",
       "      <td>0</td>\n",
       "    </tr>\n",
       "    <tr>\n",
       "      <th>3</th>\n",
       "      <td>311</td>\n",
       "      <td>CLE @ ATL 2017-11-30</td>\n",
       "      <td>21700313</td>\n",
       "      <td>1610612737</td>\n",
       "      <td>Hawks</td>\n",
       "      <td>ATL</td>\n",
       "      <td>Atlanta</td>\n",
       "      <td>41</td>\n",
       "      <td>79</td>\n",
       "      <td>0.519</td>\n",
       "      <td>...</td>\n",
       "      <td>11</td>\n",
       "      <td>1</td>\n",
       "      <td>9</td>\n",
       "      <td>47</td>\n",
       "      <td>2017-11-30</td>\n",
       "      <td>2018</td>\n",
       "      <td>0</td>\n",
       "      <td>10</td>\n",
       "      <td>11</td>\n",
       "      <td>0</td>\n",
       "    </tr>\n",
       "    <tr>\n",
       "      <th>4</th>\n",
       "      <td>330</td>\n",
       "      <td>ATL @ BKN 2017-12-02</td>\n",
       "      <td>21700328</td>\n",
       "      <td>1610612751</td>\n",
       "      <td>Nets</td>\n",
       "      <td>BKN</td>\n",
       "      <td>Brooklyn</td>\n",
       "      <td>34</td>\n",
       "      <td>82</td>\n",
       "      <td>0.415</td>\n",
       "      <td>...</td>\n",
       "      <td>13</td>\n",
       "      <td>3</td>\n",
       "      <td>18</td>\n",
       "      <td>42</td>\n",
       "      <td>2017-12-02</td>\n",
       "      <td>2018</td>\n",
       "      <td>0</td>\n",
       "      <td>10</td>\n",
       "      <td>12</td>\n",
       "      <td>0</td>\n",
       "    </tr>\n",
       "  </tbody>\n",
       "</table>\n",
       "<p>5 rows × 223 columns</p>\n",
       "</div>"
      ],
      "text/plain": [
       "   index                  GAME  GAME_ID_home  TEAM_ID_home TEAM_NAME_home  \\\n",
       "0    259  LAC @ ATL 2017-11-22      21700256    1610612737          Hawks   \n",
       "1    270  NYK @ ATL 2017-11-24      21700268    1610612737          Hawks   \n",
       "2    278  TOR @ ATL 2017-11-25      21700280    1610612737          Hawks   \n",
       "3    311  CLE @ ATL 2017-11-30      21700313    1610612737          Hawks   \n",
       "4    330  ATL @ BKN 2017-12-02      21700328    1610612751           Nets   \n",
       "\n",
       "  team_home TEAM_CITY_home  FGM_home  FGA_home  FG_PCT_home     ...       \\\n",
       "0       ATL        Atlanta        40        83        0.482     ...        \n",
       "1       ATL        Atlanta        47        99        0.475     ...        \n",
       "2       ATL        Atlanta        26        75        0.347     ...        \n",
       "3       ATL        Atlanta        41        79        0.519     ...        \n",
       "4       BKN       Brooklyn        34        82        0.415     ...        \n",
       "\n",
       "   LOOSE_BALLS_RECOVERED_away  CHARGES_DRAWN_away  SCREEN_ASSISTS_away  \\\n",
       "0                           8                   2                    4   \n",
       "1                           6                   0                    7   \n",
       "2                           6                   2                    8   \n",
       "3                          11                   1                    9   \n",
       "4                          13                   3                   18   \n",
       "\n",
       "   BOX_OUTS_away       DATE  SEASON  fl_playoff  team_home_game_num  \\\n",
       "0             19 2017-11-22    2018           0                   7   \n",
       "1             21 2017-11-24    2018           0                   8   \n",
       "2             17 2017-11-25    2018           0                   9   \n",
       "3             47 2017-11-30    2018           0                  10   \n",
       "4             42 2017-12-02    2018           0                  10   \n",
       "\n",
       "   team_away_game_num  fl_home_win  \n",
       "0                   9            0  \n",
       "1                   6            1  \n",
       "2                  12            0  \n",
       "3                  11            0  \n",
       "4                  12            0  \n",
       "\n",
       "[5 rows x 223 columns]"
      ]
     },
     "execution_count": 112,
     "metadata": {},
     "output_type": "execute_result"
    }
   ],
   "source": [
    "teste"
   ]
  },
  {
   "cell_type": "code",
   "execution_count": 113,
   "metadata": {
    "ExecuteTime": {
     "end_time": "2018-09-18T02:28:54.610905Z",
     "start_time": "2018-09-18T02:28:54.542942Z"
    }
   },
   "outputs": [
    {
     "name": "stdout",
     "output_type": "stream",
     "text": [
      "Win_PCT 0.4 1 1\n",
      "Days_Diff [2, 1, 5, 2, 1] 2.2 10\n",
      "Num Games Last X Days 2 1\n"
     ]
    },
    {
     "data": {
      "text/html": [
       "<div>\n",
       "<style scoped>\n",
       "    .dataframe tbody tr th:only-of-type {\n",
       "        vertical-align: middle;\n",
       "    }\n",
       "\n",
       "    .dataframe tbody tr th {\n",
       "        vertical-align: top;\n",
       "    }\n",
       "\n",
       "    .dataframe thead th {\n",
       "        text-align: right;\n",
       "    }\n",
       "</style>\n",
       "<table border=\"1\" class=\"dataframe\">\n",
       "  <thead>\n",
       "    <tr style=\"text-align: right;\">\n",
       "      <th></th>\n",
       "      <th>num_wins_home</th>\n",
       "      <th>num_games_home</th>\n",
       "      <th>win_home_pct</th>\n",
       "      <th>num_wins_away</th>\n",
       "      <th>num_games_away</th>\n",
       "      <th>win_away_pct</th>\n",
       "      <th>num_wins_total</th>\n",
       "      <th>win_pct</th>\n",
       "      <th>total_days_diff</th>\n",
       "      <th>days_diff_last_games_std</th>\n",
       "      <th>...</th>\n",
       "      <th>num_games_last_10_days</th>\n",
       "      <th>num_games_away_last_2_days</th>\n",
       "      <th>num_games_away_last_4_days</th>\n",
       "      <th>num_games_away_last_6_days</th>\n",
       "      <th>num_games_away_last_8_days</th>\n",
       "      <th>num_games_home_last_2_days</th>\n",
       "      <th>num_games_home_last_4_days</th>\n",
       "      <th>num_games_home_last_6_days</th>\n",
       "      <th>num_games_home_last_8_days</th>\n",
       "      <th>num_games_home_last_10_days</th>\n",
       "    </tr>\n",
       "  </thead>\n",
       "  <tbody>\n",
       "    <tr>\n",
       "      <th>0</th>\n",
       "      <td>1</td>\n",
       "      <td>4</td>\n",
       "      <td>0.25</td>\n",
       "      <td>1</td>\n",
       "      <td>1</td>\n",
       "      <td>1.0</td>\n",
       "      <td>2</td>\n",
       "      <td>0.4</td>\n",
       "      <td>10</td>\n",
       "      <td>1.469694</td>\n",
       "      <td>...</td>\n",
       "      <td>4</td>\n",
       "      <td>1</td>\n",
       "      <td>1</td>\n",
       "      <td>1</td>\n",
       "      <td>1</td>\n",
       "      <td>0</td>\n",
       "      <td>1</td>\n",
       "      <td>1</td>\n",
       "      <td>2</td>\n",
       "      <td>3</td>\n",
       "    </tr>\n",
       "  </tbody>\n",
       "</table>\n",
       "<p>1 rows × 25 columns</p>\n",
       "</div>"
      ],
      "text/plain": [
       "   num_wins_home  num_games_home  win_home_pct  num_wins_away  num_games_away  \\\n",
       "0              1               4          0.25              1               1   \n",
       "\n",
       "   win_away_pct  num_wins_total  win_pct  total_days_diff  \\\n",
       "0           1.0               2      0.4               10   \n",
       "\n",
       "   days_diff_last_games_std             ...               \\\n",
       "0                  1.469694             ...                \n",
       "\n",
       "   num_games_last_10_days  num_games_away_last_2_days  \\\n",
       "0                       4                           1   \n",
       "\n",
       "   num_games_away_last_4_days  num_games_away_last_6_days  \\\n",
       "0                           1                           1   \n",
       "\n",
       "   num_games_away_last_8_days  num_games_home_last_2_days  \\\n",
       "0                           1                           0   \n",
       "\n",
       "   num_games_home_last_4_days  num_games_home_last_6_days  \\\n",
       "0                           1                           1   \n",
       "\n",
       "   num_games_home_last_8_days  num_games_home_last_10_days  \n",
       "0                           2                            3  \n",
       "\n",
       "[1 rows x 25 columns]"
      ]
     },
     "execution_count": 113,
     "metadata": {},
     "output_type": "execute_result"
    }
   ],
   "source": [
    "cria_variaveis_sumarizacao(teste, \"ATL\", verbose = True)"
   ]
  },
  {
   "cell_type": "code",
   "execution_count": 116,
   "metadata": {
    "ExecuteTime": {
     "end_time": "2018-09-18T02:29:20.397822Z",
     "start_time": "2018-09-18T02:29:20.333840Z"
    }
   },
   "outputs": [
    {
     "name": "stdout",
     "output_type": "stream",
     "text": [
      "HOME ['GAME', 'GAME_ID_opponent', 'TEAM_ID_opponent', 'TEAM_NAME_opponent', 'FGM_opponent', 'FGA_opponent', 'FG_PCT_opponent', 'FG3M_opponent', 'FG3A_opponent', 'FG3_PCT_opponent', 'FTM_opponent', 'FTA_opponent', 'FT_PCT_opponent', 'OREB_opponent', 'DREB_opponent', 'REB_opponent', 'AST_opponent', 'STL_opponent', 'BLK_opponent', 'TO_opponent', 'PF_opponent', 'PTS_opponent', 'PLUS_MINUS_opponent', 'TEAM_NAME_advanced_opponent', 'OFF_RATING_opponent', 'DEF_RATING_opponent', 'NET_RATING_opponent', 'AST_PCT_opponent', 'AST_TOV_opponent', 'AST_RATIO_opponent', 'OREB_PCT_opponent', 'DREB_PCT_opponent', 'REB_PCT_opponent', 'TM_TOV_PCT_opponent', 'EFG_PCT_opponent', 'TS_PCT_opponent', 'USG_PCT_opponent', 'PACE_opponent', 'PIE_opponent', 'TEAM_NAME_scoring_opponent', 'PCT_FGA_2PT_opponent', 'PCT_FGA_3PT_opponent', 'PCT_PTS_2PT_opponent', 'PCT_PTS_2PT_MR_opponent', 'PCT_PTS_3PT_opponent', 'PCT_PTS_FB_opponent', 'PCT_PTS_FT_opponent', 'PCT_PTS_OFF_TOV_opponent', 'PCT_PTS_PAINT_opponent', 'PCT_AST_2PM_opponent', 'PCT_UAST_2PM_opponent', 'PCT_AST_3PM_opponent', 'PCT_UAST_3PM_opponent', 'PCT_AST_FGM_opponent', 'PCT_UAST_FGM_opponent', 'TEAM_NAME_misc_opponent', 'PTS_OFF_TOV_opponent', 'PTS_2ND_CHANCE_opponent', 'PTS_FB_opponent', 'PTS_PAINT_opponent', 'OPP_PTS_OFF_TOV_opponent', 'OPP_PTS_2ND_CHANCE_opponent', 'OPP_PTS_FB_opponent', 'OPP_PTS_PAINT_opponent', 'BLK_misc_opponent', 'BLKA_opponent', 'PF_misc_opponent', 'PFD_opponent', 'TEAM_NAME_fourfactors_opponent', 'EFG_PCT_fourfactors_opponent', 'FTA_RATE_opponent', 'TM_TOV_PCT_fourfactors_opponent', 'OREB_PCT_fourfactors_opponent', 'OPP_EFG_PCT_opponent', 'OPP_FTA_RATE_opponent', 'OPP_TOV_PCT_opponent', 'OPP_OREB_PCT_opponent', 'TEAM_NAME_playertrack_opponent', 'DIST_opponent', 'ORBC_opponent', 'DRBC_opponent', 'RBC_opponent', 'TCHS_opponent', 'SAST_opponent', 'FTAST_opponent', 'PASS_opponent', 'AST_playertrack_opponent', 'CFGM_opponent', 'CFGA_opponent', 'CFG_PCT_opponent', 'UFGM_opponent', 'UFGA_opponent', 'UFG_PCT_opponent', 'FG_PCT_playertrack_opponent', 'DFGM_opponent', 'DFGA_opponent', 'DFG_PCT_opponent', 'TEAM_NAME_hustle_opponent', 'CONTESTED_SHOTS_opponent', 'CONTESTED_SHOTS_2PT_opponent', 'CONTESTED_SHOTS_3PT_opponent', 'DEFLECTIONS_opponent', 'LOOSE_BALLS_RECOVERED_opponent', 'CHARGES_DRAWN_opponent', 'SCREEN_ASSISTS_opponent', 'BOX_OUTS_opponent', 'GAME_DATE_opponent', 'GAME_PLACE_opponent', 'DATE', 'SEASON'] 110\n",
      "AWAY ['GAME', 'GAME_ID_home', 'GAME_DATE_home', 'GAME_PLACE_home', 'TEAM_ID_opponent', 'TEAM_NAME_opponent', 'FGM_opponent', 'FGA_opponent', 'FG_PCT_opponent', 'FG3M_opponent', 'FG3A_opponent', 'FG3_PCT_opponent', 'FTM_opponent', 'FTA_opponent', 'FT_PCT_opponent', 'OREB_opponent', 'DREB_opponent', 'REB_opponent', 'AST_opponent', 'STL_opponent', 'BLK_opponent', 'TO_opponent', 'PF_opponent', 'PTS_opponent', 'PLUS_MINUS_opponent', 'TEAM_NAME_advanced_opponent', 'OFF_RATING_opponent', 'DEF_RATING_opponent', 'NET_RATING_opponent', 'AST_PCT_opponent', 'AST_TOV_opponent', 'AST_RATIO_opponent', 'OREB_PCT_opponent', 'DREB_PCT_opponent', 'REB_PCT_opponent', 'TM_TOV_PCT_opponent', 'EFG_PCT_opponent', 'TS_PCT_opponent', 'USG_PCT_opponent', 'PACE_opponent', 'PIE_opponent', 'TEAM_NAME_scoring_opponent', 'PCT_FGA_2PT_opponent', 'PCT_FGA_3PT_opponent', 'PCT_PTS_2PT_opponent', 'PCT_PTS_2PT_MR_opponent', 'PCT_PTS_3PT_opponent', 'PCT_PTS_FB_opponent', 'PCT_PTS_FT_opponent', 'PCT_PTS_OFF_TOV_opponent', 'PCT_PTS_PAINT_opponent', 'PCT_AST_2PM_opponent', 'PCT_UAST_2PM_opponent', 'PCT_AST_3PM_opponent', 'PCT_UAST_3PM_opponent', 'PCT_AST_FGM_opponent', 'PCT_UAST_FGM_opponent', 'TEAM_NAME_misc_opponent', 'PTS_OFF_TOV_opponent', 'PTS_2ND_CHANCE_opponent', 'PTS_FB_opponent', 'PTS_PAINT_opponent', 'OPP_PTS_OFF_TOV_opponent', 'OPP_PTS_2ND_CHANCE_opponent', 'OPP_PTS_FB_opponent', 'OPP_PTS_PAINT_opponent', 'BLK_misc_opponent', 'BLKA_opponent', 'PF_misc_opponent', 'PFD_opponent', 'TEAM_NAME_fourfactors_opponent', 'EFG_PCT_fourfactors_opponent', 'FTA_RATE_opponent', 'TM_TOV_PCT_fourfactors_opponent', 'OREB_PCT_fourfactors_opponent', 'OPP_EFG_PCT_opponent', 'OPP_FTA_RATE_opponent', 'OPP_TOV_PCT_opponent', 'OPP_OREB_PCT_opponent', 'TEAM_NAME_playertrack_opponent', 'DIST_opponent', 'ORBC_opponent', 'DRBC_opponent', 'RBC_opponent', 'TCHS_opponent', 'SAST_opponent', 'FTAST_opponent', 'PASS_opponent', 'AST_playertrack_opponent', 'CFGM_opponent', 'CFGA_opponent', 'CFG_PCT_opponent', 'UFGM_opponent', 'UFGA_opponent', 'UFG_PCT_opponent', 'FG_PCT_playertrack_opponent', 'DFGM_opponent', 'DFGA_opponent', 'DFG_PCT_opponent', 'TEAM_NAME_hustle_opponent', 'CONTESTED_SHOTS_opponent', 'CONTESTED_SHOTS_2PT_opponent', 'CONTESTED_SHOTS_3PT_opponent', 'DEFLECTIONS_opponent', 'LOOSE_BALLS_RECOVERED_opponent', 'CHARGES_DRAWN_opponent', 'SCREEN_ASSISTS_opponent', 'BOX_OUTS_opponent', 'SEASON'] 109\n"
     ]
    },
    {
     "ename": "TypeError",
     "evalue": "unsupported operand type(s) for /: 'str' and 'int'",
     "output_type": "error",
     "traceback": [
      "\u001b[1;31m---------------------------------------------------------------------------\u001b[0m",
      "\u001b[1;31mTypeError\u001b[0m                                 Traceback (most recent call last)",
      "\u001b[1;32m~\\Anaconda3\\lib\\site-packages\\pandas\\core\\ops.py\u001b[0m in \u001b[0;36mna_op\u001b[1;34m(x, y)\u001b[0m\n\u001b[0;32m   1011\u001b[0m         \u001b[1;32mtry\u001b[0m\u001b[1;33m:\u001b[0m\u001b[1;33m\u001b[0m\u001b[0m\n\u001b[1;32m-> 1012\u001b[1;33m             \u001b[0mresult\u001b[0m \u001b[1;33m=\u001b[0m \u001b[0mexpressions\u001b[0m\u001b[1;33m.\u001b[0m\u001b[0mevaluate\u001b[0m\u001b[1;33m(\u001b[0m\u001b[0mop\u001b[0m\u001b[1;33m,\u001b[0m \u001b[0mstr_rep\u001b[0m\u001b[1;33m,\u001b[0m \u001b[0mx\u001b[0m\u001b[1;33m,\u001b[0m \u001b[0my\u001b[0m\u001b[1;33m,\u001b[0m \u001b[1;33m**\u001b[0m\u001b[0meval_kwargs\u001b[0m\u001b[1;33m)\u001b[0m\u001b[1;33m\u001b[0m\u001b[0m\n\u001b[0m\u001b[0;32m   1013\u001b[0m         \u001b[1;32mexcept\u001b[0m \u001b[0mTypeError\u001b[0m\u001b[1;33m:\u001b[0m\u001b[1;33m\u001b[0m\u001b[0m\n",
      "\u001b[1;32m~\\Anaconda3\\lib\\site-packages\\pandas\\core\\computation\\expressions.py\u001b[0m in \u001b[0;36mevaluate\u001b[1;34m(op, op_str, a, b, use_numexpr, **eval_kwargs)\u001b[0m\n\u001b[0;32m    204\u001b[0m     \u001b[1;32mif\u001b[0m \u001b[0muse_numexpr\u001b[0m\u001b[1;33m:\u001b[0m\u001b[1;33m\u001b[0m\u001b[0m\n\u001b[1;32m--> 205\u001b[1;33m         \u001b[1;32mreturn\u001b[0m \u001b[0m_evaluate\u001b[0m\u001b[1;33m(\u001b[0m\u001b[0mop\u001b[0m\u001b[1;33m,\u001b[0m \u001b[0mop_str\u001b[0m\u001b[1;33m,\u001b[0m \u001b[0ma\u001b[0m\u001b[1;33m,\u001b[0m \u001b[0mb\u001b[0m\u001b[1;33m,\u001b[0m \u001b[1;33m**\u001b[0m\u001b[0meval_kwargs\u001b[0m\u001b[1;33m)\u001b[0m\u001b[1;33m\u001b[0m\u001b[0m\n\u001b[0m\u001b[0;32m    206\u001b[0m     \u001b[1;32mreturn\u001b[0m \u001b[0m_evaluate_standard\u001b[0m\u001b[1;33m(\u001b[0m\u001b[0mop\u001b[0m\u001b[1;33m,\u001b[0m \u001b[0mop_str\u001b[0m\u001b[1;33m,\u001b[0m \u001b[0ma\u001b[0m\u001b[1;33m,\u001b[0m \u001b[0mb\u001b[0m\u001b[1;33m)\u001b[0m\u001b[1;33m\u001b[0m\u001b[0m\n",
      "\u001b[1;32m~\\Anaconda3\\lib\\site-packages\\pandas\\core\\computation\\expressions.py\u001b[0m in \u001b[0;36m_evaluate_numexpr\u001b[1;34m(op, op_str, a, b, truediv, reversed, **eval_kwargs)\u001b[0m\n\u001b[0;32m    119\u001b[0m     \u001b[1;32mif\u001b[0m \u001b[0mresult\u001b[0m \u001b[1;32mis\u001b[0m \u001b[1;32mNone\u001b[0m\u001b[1;33m:\u001b[0m\u001b[1;33m\u001b[0m\u001b[0m\n\u001b[1;32m--> 120\u001b[1;33m         \u001b[0mresult\u001b[0m \u001b[1;33m=\u001b[0m \u001b[0m_evaluate_standard\u001b[0m\u001b[1;33m(\u001b[0m\u001b[0mop\u001b[0m\u001b[1;33m,\u001b[0m \u001b[0mop_str\u001b[0m\u001b[1;33m,\u001b[0m \u001b[0ma\u001b[0m\u001b[1;33m,\u001b[0m \u001b[0mb\u001b[0m\u001b[1;33m)\u001b[0m\u001b[1;33m\u001b[0m\u001b[0m\n\u001b[0m\u001b[0;32m    121\u001b[0m \u001b[1;33m\u001b[0m\u001b[0m\n",
      "\u001b[1;32m~\\Anaconda3\\lib\\site-packages\\pandas\\core\\computation\\expressions.py\u001b[0m in \u001b[0;36m_evaluate_standard\u001b[1;34m(op, op_str, a, b, **eval_kwargs)\u001b[0m\n\u001b[0;32m     64\u001b[0m     \u001b[1;32mwith\u001b[0m \u001b[0mnp\u001b[0m\u001b[1;33m.\u001b[0m\u001b[0merrstate\u001b[0m\u001b[1;33m(\u001b[0m\u001b[0mall\u001b[0m\u001b[1;33m=\u001b[0m\u001b[1;34m'ignore'\u001b[0m\u001b[1;33m)\u001b[0m\u001b[1;33m:\u001b[0m\u001b[1;33m\u001b[0m\u001b[0m\n\u001b[1;32m---> 65\u001b[1;33m         \u001b[1;32mreturn\u001b[0m \u001b[0mop\u001b[0m\u001b[1;33m(\u001b[0m\u001b[0ma\u001b[0m\u001b[1;33m,\u001b[0m \u001b[0mb\u001b[0m\u001b[1;33m)\u001b[0m\u001b[1;33m\u001b[0m\u001b[0m\n\u001b[0m\u001b[0;32m     66\u001b[0m \u001b[1;33m\u001b[0m\u001b[0m\n",
      "\u001b[1;31mTypeError\u001b[0m: unsupported operand type(s) for /: 'str' and 'int'",
      "\nDuring handling of the above exception, another exception occurred:\n",
      "\u001b[1;31mTypeError\u001b[0m                                 Traceback (most recent call last)",
      "\u001b[1;32m~\\Anaconda3\\lib\\site-packages\\pandas\\core\\ops.py\u001b[0m in \u001b[0;36msafe_na_op\u001b[1;34m(lvalues, rvalues)\u001b[0m\n\u001b[0;32m   1032\u001b[0m             \u001b[1;32mwith\u001b[0m \u001b[0mnp\u001b[0m\u001b[1;33m.\u001b[0m\u001b[0merrstate\u001b[0m\u001b[1;33m(\u001b[0m\u001b[0mall\u001b[0m\u001b[1;33m=\u001b[0m\u001b[1;34m'ignore'\u001b[0m\u001b[1;33m)\u001b[0m\u001b[1;33m:\u001b[0m\u001b[1;33m\u001b[0m\u001b[0m\n\u001b[1;32m-> 1033\u001b[1;33m                 \u001b[1;32mreturn\u001b[0m \u001b[0mna_op\u001b[0m\u001b[1;33m(\u001b[0m\u001b[0mlvalues\u001b[0m\u001b[1;33m,\u001b[0m \u001b[0mrvalues\u001b[0m\u001b[1;33m)\u001b[0m\u001b[1;33m\u001b[0m\u001b[0m\n\u001b[0m\u001b[0;32m   1034\u001b[0m         \u001b[1;32mexcept\u001b[0m \u001b[0mException\u001b[0m\u001b[1;33m:\u001b[0m\u001b[1;33m\u001b[0m\u001b[0m\n",
      "\u001b[1;32m~\\Anaconda3\\lib\\site-packages\\pandas\\core\\ops.py\u001b[0m in \u001b[0;36mna_op\u001b[1;34m(x, y)\u001b[0m\n\u001b[0;32m   1022\u001b[0m                 \u001b[0mmask\u001b[0m \u001b[1;33m=\u001b[0m \u001b[0mnotna\u001b[0m\u001b[1;33m(\u001b[0m\u001b[0mx\u001b[0m\u001b[1;33m)\u001b[0m\u001b[1;33m\u001b[0m\u001b[0m\n\u001b[1;32m-> 1023\u001b[1;33m                 \u001b[0mresult\u001b[0m\u001b[1;33m[\u001b[0m\u001b[0mmask\u001b[0m\u001b[1;33m]\u001b[0m \u001b[1;33m=\u001b[0m \u001b[0mop\u001b[0m\u001b[1;33m(\u001b[0m\u001b[0mx\u001b[0m\u001b[1;33m[\u001b[0m\u001b[0mmask\u001b[0m\u001b[1;33m]\u001b[0m\u001b[1;33m,\u001b[0m \u001b[0my\u001b[0m\u001b[1;33m)\u001b[0m\u001b[1;33m\u001b[0m\u001b[0m\n\u001b[0m\u001b[0;32m   1024\u001b[0m \u001b[1;33m\u001b[0m\u001b[0m\n",
      "\u001b[1;31mTypeError\u001b[0m: unsupported operand type(s) for /: 'str' and 'int'",
      "\nDuring handling of the above exception, another exception occurred:\n",
      "\u001b[1;31mTypeError\u001b[0m                                 Traceback (most recent call last)",
      "\u001b[1;32m<ipython-input-116-ee67d12f9745>\u001b[0m in \u001b[0;36m<module>\u001b[1;34m()\u001b[0m\n\u001b[1;32m----> 1\u001b[1;33m \u001b[0mresp\u001b[0m \u001b[1;33m=\u001b[0m \u001b[0mget_avg_last_games\u001b[0m\u001b[1;33m(\u001b[0m\u001b[0mteste\u001b[0m\u001b[1;33m,\u001b[0m \u001b[1;34m\"ATL\"\u001b[0m\u001b[1;33m,\u001b[0m \u001b[0mrivals\u001b[0m\u001b[1;33m=\u001b[0m\u001b[1;32mTrue\u001b[0m\u001b[1;33m)\u001b[0m\u001b[1;33m\u001b[0m\u001b[0m\n\u001b[0m",
      "\u001b[1;32m<ipython-input-115-1b69d1828f4e>\u001b[0m in \u001b[0;36mget_avg_last_games\u001b[1;34m(last_games, team_name, n, data_ref, rivals, to_drop)\u001b[0m\n\u001b[0;32m     48\u001b[0m         \u001b[0mprint\u001b[0m\u001b[1;33m(\u001b[0m\u001b[1;34m\"AWAY\"\u001b[0m\u001b[1;33m,\u001b[0m \u001b[0mlist\u001b[0m\u001b[1;33m(\u001b[0m\u001b[0mlast_games_away\u001b[0m\u001b[1;33m.\u001b[0m\u001b[0mindex\u001b[0m\u001b[1;33m)\u001b[0m\u001b[1;33m,\u001b[0m \u001b[0mlen\u001b[0m\u001b[1;33m(\u001b[0m\u001b[0mlast_games_away\u001b[0m\u001b[1;33m.\u001b[0m\u001b[0mindex\u001b[0m\u001b[1;33m)\u001b[0m\u001b[1;33m)\u001b[0m\u001b[1;33m\u001b[0m\u001b[0m\n\u001b[0;32m     49\u001b[0m         \u001b[1;32mif\u001b[0m\u001b[1;33m(\u001b[0m\u001b[0mrivals\u001b[0m\u001b[1;33m)\u001b[0m\u001b[1;33m:\u001b[0m\u001b[1;33m\u001b[0m\u001b[0m\n\u001b[1;32m---> 50\u001b[1;33m             \u001b[0mresp\u001b[0m \u001b[1;33m=\u001b[0m \u001b[1;33m(\u001b[0m\u001b[1;33m(\u001b[0m\u001b[0mlast_games_home\u001b[0m \u001b[1;33m+\u001b[0m \u001b[0mlast_games_away\u001b[0m\u001b[1;33m)\u001b[0m \u001b[1;33m/\u001b[0m \u001b[0mn\u001b[0m\u001b[1;33m)\u001b[0m\u001b[1;33m.\u001b[0m\u001b[0mto_frame\u001b[0m\u001b[1;33m(\u001b[0m\u001b[1;33m)\u001b[0m\u001b[1;33m.\u001b[0m\u001b[0mtranspose\u001b[0m\u001b[1;33m(\u001b[0m\u001b[1;33m)\u001b[0m\u001b[1;33m\u001b[0m\u001b[0m\n\u001b[0m\u001b[0;32m     51\u001b[0m         \u001b[1;32melse\u001b[0m\u001b[1;33m:\u001b[0m\u001b[1;33m\u001b[0m\u001b[0m\n\u001b[0;32m     52\u001b[0m             \u001b[0mresp\u001b[0m \u001b[1;33m=\u001b[0m \u001b[1;33m(\u001b[0m\u001b[1;33m(\u001b[0m\u001b[0mlast_games_home\u001b[0m \u001b[1;33m+\u001b[0m \u001b[0mlast_games_away\u001b[0m\u001b[1;33m)\u001b[0m \u001b[1;33m/\u001b[0m \u001b[0mn\u001b[0m\u001b[1;33m)\u001b[0m\u001b[1;33m\u001b[0m\u001b[0m\n",
      "\u001b[1;32m~\\Anaconda3\\lib\\site-packages\\pandas\\core\\ops.py\u001b[0m in \u001b[0;36mwrapper\u001b[1;34m(left, right)\u001b[0m\n\u001b[0;32m   1067\u001b[0m             \u001b[0mrvalues\u001b[0m \u001b[1;33m=\u001b[0m \u001b[0mrvalues\u001b[0m\u001b[1;33m.\u001b[0m\u001b[0mvalues\u001b[0m\u001b[1;33m\u001b[0m\u001b[0m\n\u001b[0;32m   1068\u001b[0m \u001b[1;33m\u001b[0m\u001b[0m\n\u001b[1;32m-> 1069\u001b[1;33m         \u001b[0mresult\u001b[0m \u001b[1;33m=\u001b[0m \u001b[0msafe_na_op\u001b[0m\u001b[1;33m(\u001b[0m\u001b[0mlvalues\u001b[0m\u001b[1;33m,\u001b[0m \u001b[0mrvalues\u001b[0m\u001b[1;33m)\u001b[0m\u001b[1;33m\u001b[0m\u001b[0m\n\u001b[0m\u001b[0;32m   1070\u001b[0m         return construct_result(left, result,\n\u001b[0;32m   1071\u001b[0m                                 index=left.index, name=res_name, dtype=None)\n",
      "\u001b[1;32m~\\Anaconda3\\lib\\site-packages\\pandas\\core\\ops.py\u001b[0m in \u001b[0;36msafe_na_op\u001b[1;34m(lvalues, rvalues)\u001b[0m\n\u001b[0;32m   1035\u001b[0m             \u001b[1;32mif\u001b[0m \u001b[0mis_object_dtype\u001b[0m\u001b[1;33m(\u001b[0m\u001b[0mlvalues\u001b[0m\u001b[1;33m)\u001b[0m\u001b[1;33m:\u001b[0m\u001b[1;33m\u001b[0m\u001b[0m\n\u001b[0;32m   1036\u001b[0m                 return libalgos.arrmap_object(lvalues,\n\u001b[1;32m-> 1037\u001b[1;33m                                               lambda x: op(x, rvalues))\n\u001b[0m\u001b[0;32m   1038\u001b[0m             \u001b[1;32mraise\u001b[0m\u001b[1;33m\u001b[0m\u001b[0m\n\u001b[0;32m   1039\u001b[0m \u001b[1;33m\u001b[0m\u001b[0m\n",
      "\u001b[1;32mpandas\\_libs\\algos_common_helper.pxi\u001b[0m in \u001b[0;36mpandas._libs.algos.arrmap_object\u001b[1;34m()\u001b[0m\n",
      "\u001b[1;32m~\\Anaconda3\\lib\\site-packages\\pandas\\core\\ops.py\u001b[0m in \u001b[0;36m<lambda>\u001b[1;34m(x)\u001b[0m\n\u001b[0;32m   1035\u001b[0m             \u001b[1;32mif\u001b[0m \u001b[0mis_object_dtype\u001b[0m\u001b[1;33m(\u001b[0m\u001b[0mlvalues\u001b[0m\u001b[1;33m)\u001b[0m\u001b[1;33m:\u001b[0m\u001b[1;33m\u001b[0m\u001b[0m\n\u001b[0;32m   1036\u001b[0m                 return libalgos.arrmap_object(lvalues,\n\u001b[1;32m-> 1037\u001b[1;33m                                               lambda x: op(x, rvalues))\n\u001b[0m\u001b[0;32m   1038\u001b[0m             \u001b[1;32mraise\u001b[0m\u001b[1;33m\u001b[0m\u001b[0m\n\u001b[0;32m   1039\u001b[0m \u001b[1;33m\u001b[0m\u001b[0m\n",
      "\u001b[1;31mTypeError\u001b[0m: unsupported operand type(s) for /: 'str' and 'int'"
     ]
    }
   ],
   "source": [
    "resp = get_avg_last_games(teste, \"ATL\", rivals=True)"
   ]
  },
  {
   "cell_type": "code",
   "execution_count": 45,
   "metadata": {
    "ExecuteTime": {
     "end_time": "2018-09-11T15:17:33.103273Z",
     "start_time": "2018-09-11T15:17:33.075337Z"
    }
   },
   "outputs": [
    {
     "data": {
      "text/html": [
       "<div>\n",
       "<style scoped>\n",
       "    .dataframe tbody tr th:only-of-type {\n",
       "        vertical-align: middle;\n",
       "    }\n",
       "\n",
       "    .dataframe tbody tr th {\n",
       "        vertical-align: top;\n",
       "    }\n",
       "\n",
       "    .dataframe thead th {\n",
       "        text-align: right;\n",
       "    }\n",
       "</style>\n",
       "<table border=\"1\" class=\"dataframe\">\n",
       "  <thead>\n",
       "    <tr style=\"text-align: right;\">\n",
       "      <th></th>\n",
       "      <th>AST</th>\n",
       "      <th>AST_PCT</th>\n",
       "      <th>AST_RATIO</th>\n",
       "      <th>AST_TOV</th>\n",
       "      <th>AST_playertrack</th>\n",
       "      <th>BLK</th>\n",
       "      <th>BLKA</th>\n",
       "      <th>BLK_misc</th>\n",
       "      <th>BOX_OUTS</th>\n",
       "      <th>CFGA</th>\n",
       "      <th>...</th>\n",
       "      <th>UFGA</th>\n",
       "      <th>UFGM</th>\n",
       "      <th>UFG_PCT</th>\n",
       "      <th>USG_PCT</th>\n",
       "      <th>WIN</th>\n",
       "      <th>WIN_AWAY</th>\n",
       "      <th>WIN_AWAY_PCT</th>\n",
       "      <th>WIN_HOME</th>\n",
       "      <th>WIN_HOME_PCT</th>\n",
       "      <th>WIN_PCT</th>\n",
       "    </tr>\n",
       "    <tr>\n",
       "      <th>team_home</th>\n",
       "      <th></th>\n",
       "      <th></th>\n",
       "      <th></th>\n",
       "      <th></th>\n",
       "      <th></th>\n",
       "      <th></th>\n",
       "      <th></th>\n",
       "      <th></th>\n",
       "      <th></th>\n",
       "      <th></th>\n",
       "      <th></th>\n",
       "      <th></th>\n",
       "      <th></th>\n",
       "      <th></th>\n",
       "      <th></th>\n",
       "      <th></th>\n",
       "      <th></th>\n",
       "      <th></th>\n",
       "      <th></th>\n",
       "      <th></th>\n",
       "      <th></th>\n",
       "    </tr>\n",
       "  </thead>\n",
       "  <tbody>\n",
       "    <tr>\n",
       "      <th>ATL</th>\n",
       "      <td>23.2</td>\n",
       "      <td>0.5896</td>\n",
       "      <td>17.42</td>\n",
       "      <td>1.762</td>\n",
       "      <td>23.2</td>\n",
       "      <td>2.8</td>\n",
       "      <td>5.8</td>\n",
       "      <td>2.8</td>\n",
       "      <td>33.4</td>\n",
       "      <td>34.4</td>\n",
       "      <td>...</td>\n",
       "      <td>52.6</td>\n",
       "      <td>24.6</td>\n",
       "      <td>0.4656</td>\n",
       "      <td>0.1982</td>\n",
       "      <td>2.0</td>\n",
       "      <td>1.0</td>\n",
       "      <td>1.0</td>\n",
       "      <td>1.0</td>\n",
       "      <td>0.25</td>\n",
       "      <td>0.4</td>\n",
       "    </tr>\n",
       "  </tbody>\n",
       "</table>\n",
       "<p>1 rows × 111 columns</p>\n",
       "</div>"
      ],
      "text/plain": [
       "            AST  AST_PCT  AST_RATIO  AST_TOV  AST_playertrack  BLK  BLKA  \\\n",
       "team_home                                                                  \n",
       "ATL        23.2   0.5896      17.42    1.762             23.2  2.8   5.8   \n",
       "\n",
       "           BLK_misc  BOX_OUTS  CFGA   ...     UFGA  UFGM  UFG_PCT  USG_PCT  \\\n",
       "team_home                             ...                                    \n",
       "ATL             2.8      33.4  34.4   ...     52.6  24.6   0.4656   0.1982   \n",
       "\n",
       "           WIN  WIN_AWAY  WIN_AWAY_PCT  WIN_HOME  WIN_HOME_PCT  WIN_PCT  \n",
       "team_home                                                                \n",
       "ATL        2.0       1.0           1.0       1.0          0.25      0.4  \n",
       "\n",
       "[1 rows x 111 columns]"
      ]
     },
     "execution_count": 45,
     "metadata": {},
     "output_type": "execute_result"
    }
   ],
   "source": [
    "resp"
   ]
  },
  {
   "cell_type": "code",
   "execution_count": 278,
   "metadata": {
    "ExecuteTime": {
     "end_time": "2018-09-11T13:06:20.480191Z",
     "start_time": "2018-09-11T13:06:20.309366Z"
    }
   },
   "outputs": [
    {
     "ename": "KeyError",
     "evalue": "\"['WIN_HOME_home' 'WIN_AWAY_home' 'WIN_home' 'WIN_HOME_PCT_home'\\n 'WIN_AWAY_PCT_home' 'WIN_PCT_home' 'NUM_GAMES_HOME_home'\\n 'NUM_GAMES_AWAY_home' 'NUM_GAMES_LAST_2_DAYS_home'\\n 'NUM_GAMES_LAST_4_DAYS_home' 'NUM_GAMES_LAST_6_DAYS_home'\\n 'NUM_GAMES_LAST_10_DAYS_home' 'NUM_GAMES_LAST_2_DAYS_HOME_home'\\n 'NUM_GAMES_LAST_4_DAYS_HOME_home' 'NUM_GAMES_LAST_6_DAYS_HOME_home'\\n 'NUM_GAMES_LAST_10_DAYS_HOME_home' 'NUM_GAMES_LAST_2_DAYS_AWAY_home'\\n 'NUM_GAMES_LAST_4_DAYS_AWAY_home' 'NUM_GAMES_LAST_6_DAYS_AWAY_home'\\n 'NUM_GAMES_LAST_10_DAYS_AWAY_home' 'DAYS_DIFF_TOTAL_home'\\n 'DAYS_DIFF_NEXT_GAME_home' 'DAYS_DIFF_NEXT_GAMES_STD_home'] not in index\"",
     "output_type": "error",
     "traceback": [
      "\u001b[1;31m---------------------------------------------------------------------------\u001b[0m",
      "\u001b[1;31mKeyError\u001b[0m                                  Traceback (most recent call last)",
      "\u001b[1;32m<ipython-input-278-7ac4ff93104f>\u001b[0m in \u001b[0;36m<module>\u001b[1;34m()\u001b[0m\n\u001b[0;32m      6\u001b[0m         \u001b[1;31m# Home team\u001b[0m\u001b[1;33m\u001b[0m\u001b[1;33m\u001b[0m\u001b[0m\n\u001b[0;32m      7\u001b[0m         \u001b[0mhome_last_games\u001b[0m \u001b[1;33m=\u001b[0m \u001b[0mget_last_games\u001b[0m\u001b[1;33m(\u001b[0m\u001b[0mseason\u001b[0m\u001b[1;33m,\u001b[0m \u001b[0mrow\u001b[0m\u001b[1;33m[\u001b[0m\u001b[1;34m\"DATE\"\u001b[0m\u001b[1;33m]\u001b[0m\u001b[1;33m,\u001b[0m \u001b[0mrow\u001b[0m\u001b[1;33m[\u001b[0m\u001b[1;34m\"team_home\"\u001b[0m\u001b[1;33m]\u001b[0m\u001b[1;33m)\u001b[0m\u001b[1;33m\u001b[0m\u001b[0m\n\u001b[1;32m----> 8\u001b[1;33m         \u001b[0mhome_avg_last_games\u001b[0m \u001b[1;33m=\u001b[0m \u001b[0mget_avg_last_games\u001b[0m\u001b[1;33m(\u001b[0m\u001b[0mhome_last_games\u001b[0m\u001b[1;33m,\u001b[0m \u001b[0mrow\u001b[0m\u001b[1;33m[\u001b[0m\u001b[1;34m\"team_home\"\u001b[0m\u001b[1;33m]\u001b[0m\u001b[1;33m)\u001b[0m\u001b[1;33m\u001b[0m\u001b[0m\n\u001b[0m\u001b[0;32m      9\u001b[0m         \u001b[0mhome_rivals_last_games\u001b[0m \u001b[1;33m=\u001b[0m \u001b[0mget_avg_last_games\u001b[0m\u001b[1;33m(\u001b[0m\u001b[0mhome_last_games\u001b[0m\u001b[1;33m,\u001b[0m \u001b[0mrow\u001b[0m\u001b[1;33m[\u001b[0m\u001b[1;34m\"team_home\"\u001b[0m\u001b[1;33m]\u001b[0m\u001b[1;33m,\u001b[0m \u001b[0mrivals\u001b[0m\u001b[1;33m=\u001b[0m\u001b[1;32mTrue\u001b[0m\u001b[1;33m)\u001b[0m\u001b[1;33m\u001b[0m\u001b[0m\n\u001b[0;32m     10\u001b[0m \u001b[1;33m\u001b[0m\u001b[0m\n",
      "\u001b[1;32m<ipython-input-276-de63961eae66>\u001b[0m in \u001b[0;36mget_avg_last_games\u001b[1;34m(last_games, team_name, n, rivals)\u001b[0m\n\u001b[0;32m     72\u001b[0m \u001b[1;33m\u001b[0m\u001b[0m\n\u001b[0;32m     73\u001b[0m     \u001b[1;32mif\u001b[0m\u001b[1;33m(\u001b[0m\u001b[0mrivals\u001b[0m \u001b[1;33m==\u001b[0m \u001b[1;32mFalse\u001b[0m\u001b[1;33m)\u001b[0m\u001b[1;33m:\u001b[0m\u001b[1;33m\u001b[0m\u001b[0m\n\u001b[1;32m---> 74\u001b[1;33m         \u001b[0mlast_games_home\u001b[0m \u001b[1;33m=\u001b[0m \u001b[0mlast_games\u001b[0m\u001b[1;33m[\u001b[0m\u001b[0mlast_games\u001b[0m\u001b[1;33m[\u001b[0m\u001b[1;34m\"team_home\"\u001b[0m\u001b[1;33m]\u001b[0m \u001b[1;33m==\u001b[0m \u001b[0mteam_name\u001b[0m\u001b[1;33m]\u001b[0m\u001b[1;33m[\u001b[0m\u001b[0mhome_columns\u001b[0m\u001b[1;33m]\u001b[0m\u001b[1;33m.\u001b[0m\u001b[0mgroupby\u001b[0m\u001b[1;33m(\u001b[0m\u001b[1;33m[\u001b[0m\u001b[1;34m\"team_home\"\u001b[0m\u001b[1;33m]\u001b[0m\u001b[1;33m)\u001b[0m\u001b[1;33m.\u001b[0m\u001b[0msum\u001b[0m\u001b[1;33m(\u001b[0m\u001b[1;33m)\u001b[0m\u001b[1;33m\u001b[0m\u001b[0m\n\u001b[0m\u001b[0;32m     75\u001b[0m         \u001b[0mlast_games_away\u001b[0m \u001b[1;33m=\u001b[0m \u001b[0mlast_games\u001b[0m\u001b[1;33m[\u001b[0m\u001b[0mlast_games\u001b[0m\u001b[1;33m[\u001b[0m\u001b[1;34m\"team_away\"\u001b[0m\u001b[1;33m]\u001b[0m \u001b[1;33m==\u001b[0m \u001b[0mteam_name\u001b[0m\u001b[1;33m]\u001b[0m\u001b[1;33m[\u001b[0m\u001b[0maway_columns\u001b[0m\u001b[1;33m]\u001b[0m\u001b[1;33m.\u001b[0m\u001b[0mgroupby\u001b[0m\u001b[1;33m(\u001b[0m\u001b[1;33m[\u001b[0m\u001b[1;34m\"team_away\"\u001b[0m\u001b[1;33m]\u001b[0m\u001b[1;33m)\u001b[0m\u001b[1;33m.\u001b[0m\u001b[0msum\u001b[0m\u001b[1;33m(\u001b[0m\u001b[1;33m)\u001b[0m\u001b[1;33m\u001b[0m\u001b[0m\n\u001b[0;32m     76\u001b[0m         \u001b[0mlast_games_home\u001b[0m\u001b[1;33m.\u001b[0m\u001b[0mcolumns\u001b[0m \u001b[1;33m=\u001b[0m \u001b[1;33m[\u001b[0m\u001b[0mx\u001b[0m\u001b[1;33m.\u001b[0m\u001b[0mreplace\u001b[0m\u001b[1;33m(\u001b[0m\u001b[1;34m\"_home\"\u001b[0m\u001b[1;33m,\u001b[0m\u001b[1;34m\"\"\u001b[0m\u001b[1;33m)\u001b[0m \u001b[1;32mfor\u001b[0m \u001b[0mx\u001b[0m \u001b[1;32min\u001b[0m \u001b[0mlast_games_home\u001b[0m\u001b[1;33m.\u001b[0m\u001b[0mcolumns\u001b[0m\u001b[1;33m]\u001b[0m\u001b[1;33m\u001b[0m\u001b[0m\n",
      "\u001b[1;32m~\\Anaconda3\\lib\\site-packages\\pandas\\core\\frame.py\u001b[0m in \u001b[0;36m__getitem__\u001b[1;34m(self, key)\u001b[0m\n\u001b[0;32m   2680\u001b[0m         \u001b[1;32mif\u001b[0m \u001b[0misinstance\u001b[0m\u001b[1;33m(\u001b[0m\u001b[0mkey\u001b[0m\u001b[1;33m,\u001b[0m \u001b[1;33m(\u001b[0m\u001b[0mSeries\u001b[0m\u001b[1;33m,\u001b[0m \u001b[0mnp\u001b[0m\u001b[1;33m.\u001b[0m\u001b[0mndarray\u001b[0m\u001b[1;33m,\u001b[0m \u001b[0mIndex\u001b[0m\u001b[1;33m,\u001b[0m \u001b[0mlist\u001b[0m\u001b[1;33m)\u001b[0m\u001b[1;33m)\u001b[0m\u001b[1;33m:\u001b[0m\u001b[1;33m\u001b[0m\u001b[0m\n\u001b[0;32m   2681\u001b[0m             \u001b[1;31m# either boolean or fancy integer index\u001b[0m\u001b[1;33m\u001b[0m\u001b[1;33m\u001b[0m\u001b[0m\n\u001b[1;32m-> 2682\u001b[1;33m             \u001b[1;32mreturn\u001b[0m \u001b[0mself\u001b[0m\u001b[1;33m.\u001b[0m\u001b[0m_getitem_array\u001b[0m\u001b[1;33m(\u001b[0m\u001b[0mkey\u001b[0m\u001b[1;33m)\u001b[0m\u001b[1;33m\u001b[0m\u001b[0m\n\u001b[0m\u001b[0;32m   2683\u001b[0m         \u001b[1;32melif\u001b[0m \u001b[0misinstance\u001b[0m\u001b[1;33m(\u001b[0m\u001b[0mkey\u001b[0m\u001b[1;33m,\u001b[0m \u001b[0mDataFrame\u001b[0m\u001b[1;33m)\u001b[0m\u001b[1;33m:\u001b[0m\u001b[1;33m\u001b[0m\u001b[0m\n\u001b[0;32m   2684\u001b[0m             \u001b[1;32mreturn\u001b[0m \u001b[0mself\u001b[0m\u001b[1;33m.\u001b[0m\u001b[0m_getitem_frame\u001b[0m\u001b[1;33m(\u001b[0m\u001b[0mkey\u001b[0m\u001b[1;33m)\u001b[0m\u001b[1;33m\u001b[0m\u001b[0m\n",
      "\u001b[1;32m~\\Anaconda3\\lib\\site-packages\\pandas\\core\\frame.py\u001b[0m in \u001b[0;36m_getitem_array\u001b[1;34m(self, key)\u001b[0m\n\u001b[0;32m   2724\u001b[0m             \u001b[1;32mreturn\u001b[0m \u001b[0mself\u001b[0m\u001b[1;33m.\u001b[0m\u001b[0m_take\u001b[0m\u001b[1;33m(\u001b[0m\u001b[0mindexer\u001b[0m\u001b[1;33m,\u001b[0m \u001b[0maxis\u001b[0m\u001b[1;33m=\u001b[0m\u001b[1;36m0\u001b[0m\u001b[1;33m)\u001b[0m\u001b[1;33m\u001b[0m\u001b[0m\n\u001b[0;32m   2725\u001b[0m         \u001b[1;32melse\u001b[0m\u001b[1;33m:\u001b[0m\u001b[1;33m\u001b[0m\u001b[0m\n\u001b[1;32m-> 2726\u001b[1;33m             \u001b[0mindexer\u001b[0m \u001b[1;33m=\u001b[0m \u001b[0mself\u001b[0m\u001b[1;33m.\u001b[0m\u001b[0mloc\u001b[0m\u001b[1;33m.\u001b[0m\u001b[0m_convert_to_indexer\u001b[0m\u001b[1;33m(\u001b[0m\u001b[0mkey\u001b[0m\u001b[1;33m,\u001b[0m \u001b[0maxis\u001b[0m\u001b[1;33m=\u001b[0m\u001b[1;36m1\u001b[0m\u001b[1;33m)\u001b[0m\u001b[1;33m\u001b[0m\u001b[0m\n\u001b[0m\u001b[0;32m   2727\u001b[0m             \u001b[1;32mreturn\u001b[0m \u001b[0mself\u001b[0m\u001b[1;33m.\u001b[0m\u001b[0m_take\u001b[0m\u001b[1;33m(\u001b[0m\u001b[0mindexer\u001b[0m\u001b[1;33m,\u001b[0m \u001b[0maxis\u001b[0m\u001b[1;33m=\u001b[0m\u001b[1;36m1\u001b[0m\u001b[1;33m)\u001b[0m\u001b[1;33m\u001b[0m\u001b[0m\n\u001b[0;32m   2728\u001b[0m \u001b[1;33m\u001b[0m\u001b[0m\n",
      "\u001b[1;32m~\\Anaconda3\\lib\\site-packages\\pandas\\core\\indexing.py\u001b[0m in \u001b[0;36m_convert_to_indexer\u001b[1;34m(self, obj, axis, is_setter)\u001b[0m\n\u001b[0;32m   1325\u001b[0m                 \u001b[1;32mif\u001b[0m \u001b[0mmask\u001b[0m\u001b[1;33m.\u001b[0m\u001b[0many\u001b[0m\u001b[1;33m(\u001b[0m\u001b[1;33m)\u001b[0m\u001b[1;33m:\u001b[0m\u001b[1;33m\u001b[0m\u001b[0m\n\u001b[0;32m   1326\u001b[0m                     raise KeyError('{mask} not in index'\n\u001b[1;32m-> 1327\u001b[1;33m                                    .format(mask=objarr[mask]))\n\u001b[0m\u001b[0;32m   1328\u001b[0m \u001b[1;33m\u001b[0m\u001b[0m\n\u001b[0;32m   1329\u001b[0m                 \u001b[1;32mreturn\u001b[0m \u001b[0mcom\u001b[0m\u001b[1;33m.\u001b[0m\u001b[0m_values_from_object\u001b[0m\u001b[1;33m(\u001b[0m\u001b[0mindexer\u001b[0m\u001b[1;33m)\u001b[0m\u001b[1;33m\u001b[0m\u001b[0m\n",
      "\u001b[1;31mKeyError\u001b[0m: \"['WIN_HOME_home' 'WIN_AWAY_home' 'WIN_home' 'WIN_HOME_PCT_home'\\n 'WIN_AWAY_PCT_home' 'WIN_PCT_home' 'NUM_GAMES_HOME_home'\\n 'NUM_GAMES_AWAY_home' 'NUM_GAMES_LAST_2_DAYS_home'\\n 'NUM_GAMES_LAST_4_DAYS_home' 'NUM_GAMES_LAST_6_DAYS_home'\\n 'NUM_GAMES_LAST_10_DAYS_home' 'NUM_GAMES_LAST_2_DAYS_HOME_home'\\n 'NUM_GAMES_LAST_4_DAYS_HOME_home' 'NUM_GAMES_LAST_6_DAYS_HOME_home'\\n 'NUM_GAMES_LAST_10_DAYS_HOME_home' 'NUM_GAMES_LAST_2_DAYS_AWAY_home'\\n 'NUM_GAMES_LAST_4_DAYS_AWAY_home' 'NUM_GAMES_LAST_6_DAYS_AWAY_home'\\n 'NUM_GAMES_LAST_10_DAYS_AWAY_home' 'DAYS_DIFF_TOTAL_home'\\n 'DAYS_DIFF_NEXT_GAME_home' 'DAYS_DIFF_NEXT_GAMES_STD_home'] not in index\""
     ]
    }
   ],
   "source": [
    "resp = []\n",
    "season = all_games.reset_index()\n",
    "\n",
    "for index, row in season.iterrows():\n",
    "#for index, row in regular_season.groupby(\"season\").first().iterrows():\n",
    "        # Home team\n",
    "        home_last_games = get_last_games(season, row[\"DATE\"], row[\"team_home\"])\n",
    "        home_avg_last_games = get_avg_last_games(home_last_games, row[\"team_home\"])\n",
    "        home_rivals_last_games = get_avg_last_games(home_last_games, row[\"team_home\"], rivals=True)\n",
    "\n",
    "        home_avg_last_games[\"game_ref\"] = [row.GAME]\n",
    "        home_avg_last_games.set_index(\"game_ref\", inplace=True)\n",
    "        home_avg_last_games.drop([\"team_home\", \"team_away\"],axis=1 ,errors=\"ignore\", inplace=True)\n",
    "\n",
    "        home_rivals_last_games[\"game_ref\"] = [row.GAME]\n",
    "        home_rivals_last_games.set_index(\"game_ref\", inplace=True)\n",
    "        home_rivals_last_games.drop([\"team_home\", \"team_away\"],axis=1 ,errors=\"ignore\", inplace=True)\n",
    "\n",
    "        #print(home_rivals_last_games.index, home_avg_last_games.index)\n",
    "\n",
    "        # Away team\n",
    "        away_last_games = get_last_games(season, row[\"DATE\"], row[\"team_away\"]).reset_index()\n",
    "        away_avg_last_games = get_avg_last_games(away_last_games, row[\"team_away\"])\n",
    "        away_rivals_last_games = get_avg_last_games(away_last_games, row[\"team_away\"], rivals=True)\n",
    "\n",
    "        away_avg_last_games[\"game_ref\"] = [row.GAME]\n",
    "        away_avg_last_games.set_index(\"game_ref\", inplace=True)\n",
    "        away_avg_last_games.drop([\"team_home\", \"team_away\"],axis=1 ,errors=\"ignore\", inplace=True)\n",
    "\n",
    "        away_rivals_last_games[\"game_ref\"] = [row.GAME]\n",
    "        away_rivals_last_games.set_index(\"game_ref\", inplace=True)\n",
    "        away_rivals_last_games.drop([\"team_home\", \"team_away\"],axis=1 ,errors=\"ignore\", inplace=True)\n",
    "\n",
    "        #print(away_rivals_last_games.index, away_avg_last_games.index)\n",
    "\n",
    "        # Junta bases \n",
    "        rivals_last_games = home_rivals_last_games.join(away_rivals_last_games, how=\"inner\",\n",
    "                                            lsuffix='_home_last_5_games', rsuffix='_away_last_5_games')\n",
    "    \n",
    "        avg_last_games = home_avg_last_games.join(away_avg_last_games, how=\"inner\", \n",
    "                             lsuffix='_home_last_5_games', rsuffix='_away_last_5_games')\n",
    "\n",
    "        \n",
    "        print(rivals_last_games.columns)\n",
    "        \n",
    "        game_line = avg_last_games.join(rivals_last_games,\n",
    "                                        how=\"inner\")\n",
    "\n",
    "        game_line = pd.concat([row.to_frame().transpose().set_index(\"GAME\"), game_line], axis=1)\n",
    "\n",
    "        print(str(row.GAME), end=\"\\r\")\n",
    "        \n",
    "        resp.append(game_line)"
   ]
  },
  {
   "cell_type": "code",
   "execution_count": null,
   "metadata": {
    "collapsed": true
   },
   "outputs": [],
   "source": []
  }
 ],
 "metadata": {
  "kernelspec": {
   "display_name": "Python 3",
   "language": "python",
   "name": "python3"
  },
  "language_info": {
   "codemirror_mode": {
    "name": "ipython",
    "version": 3
   },
   "file_extension": ".py",
   "mimetype": "text/x-python",
   "name": "python",
   "nbconvert_exporter": "python",
   "pygments_lexer": "ipython3",
   "version": "3.6.3"
  },
  "toc": {
   "base_numbering": 1,
   "nav_menu": {},
   "number_sections": true,
   "sideBar": true,
   "skip_h1_title": false,
   "title_cell": "Table of Contents",
   "title_sidebar": "Contents",
   "toc_cell": false,
   "toc_position": {},
   "toc_section_display": true,
   "toc_window_display": false
  },
  "varInspector": {
   "cols": {
    "lenName": 16,
    "lenType": 16,
    "lenVar": 40
   },
   "kernels_config": {
    "python": {
     "delete_cmd_postfix": "",
     "delete_cmd_prefix": "del ",
     "library": "var_list.py",
     "varRefreshCmd": "print(var_dic_list())"
    },
    "r": {
     "delete_cmd_postfix": ") ",
     "delete_cmd_prefix": "rm(",
     "library": "var_list.r",
     "varRefreshCmd": "cat(var_dic_list()) "
    }
   },
   "types_to_exclude": [
    "module",
    "function",
    "builtin_function_or_method",
    "instance",
    "_Feature"
   ],
   "window_display": false
  }
 },
 "nbformat": 4,
 "nbformat_minor": 2
}
