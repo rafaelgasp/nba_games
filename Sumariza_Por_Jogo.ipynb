{
 "cells": [
  {
   "cell_type": "code",
   "execution_count": 24,
   "metadata": {
    "ExecuteTime": {
     "end_time": "2018-09-11T02:56:35.413785Z",
     "start_time": "2018-09-11T02:56:35.409792Z"
    },
    "collapsed": true
   },
   "outputs": [],
   "source": [
    "import pandas as pd\n",
    "import numpy as np\n",
    "from datetime import datetime"
   ]
  },
  {
   "cell_type": "code",
   "execution_count": 30,
   "metadata": {
    "ExecuteTime": {
     "end_time": "2018-09-11T03:00:53.073512Z",
     "start_time": "2018-09-11T03:00:52.989666Z"
    },
    "collapsed": true
   },
   "outputs": [],
   "source": [
    "base_nba_per_game = pd.read_csv(\"bases_nba_stats/base_nba_per_game_17_18_arrumada.csv\", sep=\";\")"
   ]
  },
  {
   "cell_type": "code",
   "execution_count": 31,
   "metadata": {
    "ExecuteTime": {
     "end_time": "2018-09-11T03:00:54.496190Z",
     "start_time": "2018-09-11T03:00:54.488705Z"
    }
   },
   "outputs": [],
   "source": [
    "base_nba_per_game[\"fl_home\"] = np.where(base_nba_per_game[\"GAME\"].str[6:9] == base_nba_per_game[\"TEAM_ABBREVIATION\"], 1, 0)"
   ]
  },
  {
   "cell_type": "code",
   "execution_count": 32,
   "metadata": {
    "ExecuteTime": {
     "end_time": "2018-09-11T03:00:54.880225Z",
     "start_time": "2018-09-11T03:00:54.836226Z"
    },
    "collapsed": true
   },
   "outputs": [],
   "source": [
    "home_games = base_nba_per_game[base_nba_per_game[\"fl_home\"] == 1].set_index(\"GAME\")\n",
    "away_games = base_nba_per_game[base_nba_per_game[\"fl_home\"] == 0].set_index(\"GAME\")"
   ]
  },
  {
   "cell_type": "code",
   "execution_count": 33,
   "metadata": {
    "ExecuteTime": {
     "end_time": "2018-09-11T03:00:55.188957Z",
     "start_time": "2018-09-11T03:00:55.182468Z"
    }
   },
   "outputs": [
    {
     "name": "stdout",
     "output_type": "stream",
     "text": [
      "Home (1230, 112)\n",
      "Away (1230, 112)\n"
     ]
    }
   ],
   "source": [
    "print(\"Home\", home_games.shape)\n",
    "print(\"Away\", away_games.shape)"
   ]
  },
  {
   "cell_type": "code",
   "execution_count": 34,
   "metadata": {
    "ExecuteTime": {
     "end_time": "2018-09-11T03:00:55.666516Z",
     "start_time": "2018-09-11T03:00:55.621602Z"
    },
    "collapsed": true
   },
   "outputs": [],
   "source": [
    "all_games = home_games.join(away_games, how=\"inner\", lsuffix=\"_home\", rsuffix=\"_away\")\n",
    "all_games.drop([\"GAME_ID_away\", \"GAME_DATE_away\", \"GAME_PLACE_away\",\n",
    "                \"MIN_home\", \"MIN_away\", 'PTS_hustle_home', 'PTS_hustle_away',\n",
    "                \"fl_home_away\", \"fl_home_home\"], axis=1, inplace=True)"
   ]
  },
  {
   "cell_type": "code",
   "execution_count": 35,
   "metadata": {
    "ExecuteTime": {
     "end_time": "2018-09-11T03:00:56.130982Z",
     "start_time": "2018-09-11T03:00:56.118005Z"
    }
   },
   "outputs": [
    {
     "data": {
      "text/html": [
       "<div>\n",
       "<style scoped>\n",
       "    .dataframe tbody tr th:only-of-type {\n",
       "        vertical-align: middle;\n",
       "    }\n",
       "\n",
       "    .dataframe tbody tr th {\n",
       "        vertical-align: top;\n",
       "    }\n",
       "\n",
       "    .dataframe thead th {\n",
       "        text-align: right;\n",
       "    }\n",
       "</style>\n",
       "<table border=\"1\" class=\"dataframe\">\n",
       "  <thead>\n",
       "    <tr style=\"text-align: right;\">\n",
       "      <th></th>\n",
       "      <th>TEAM_ABBREVIATION_away</th>\n",
       "      <th>PTS_away</th>\n",
       "      <th>TEAM_ABBREVIATION_home</th>\n",
       "      <th>PTS_home</th>\n",
       "    </tr>\n",
       "    <tr>\n",
       "      <th>GAME</th>\n",
       "      <th></th>\n",
       "      <th></th>\n",
       "      <th></th>\n",
       "      <th></th>\n",
       "    </tr>\n",
       "  </thead>\n",
       "  <tbody>\n",
       "    <tr>\n",
       "      <th>BOS @ CLE 2017-10-17</th>\n",
       "      <td>BOS</td>\n",
       "      <td>99</td>\n",
       "      <td>CLE</td>\n",
       "      <td>102</td>\n",
       "    </tr>\n",
       "    <tr>\n",
       "      <th>HOU @ GSW 2017-10-17</th>\n",
       "      <td>HOU</td>\n",
       "      <td>122</td>\n",
       "      <td>GSW</td>\n",
       "      <td>121</td>\n",
       "    </tr>\n",
       "    <tr>\n",
       "      <th>CHA @ DET 2017-10-18</th>\n",
       "      <td>CHA</td>\n",
       "      <td>90</td>\n",
       "      <td>DET</td>\n",
       "      <td>102</td>\n",
       "    </tr>\n",
       "    <tr>\n",
       "      <th>BKN @ IND 2017-10-18</th>\n",
       "      <td>BKN</td>\n",
       "      <td>131</td>\n",
       "      <td>IND</td>\n",
       "      <td>140</td>\n",
       "    </tr>\n",
       "    <tr>\n",
       "      <th>MIA @ ORL 2017-10-18</th>\n",
       "      <td>MIA</td>\n",
       "      <td>109</td>\n",
       "      <td>ORL</td>\n",
       "      <td>116</td>\n",
       "    </tr>\n",
       "  </tbody>\n",
       "</table>\n",
       "</div>"
      ],
      "text/plain": [
       "                     TEAM_ABBREVIATION_away  PTS_away TEAM_ABBREVIATION_home  \\\n",
       "GAME                                                                           \n",
       "BOS @ CLE 2017-10-17                    BOS        99                    CLE   \n",
       "HOU @ GSW 2017-10-17                    HOU       122                    GSW   \n",
       "CHA @ DET 2017-10-18                    CHA        90                    DET   \n",
       "BKN @ IND 2017-10-18                    BKN       131                    IND   \n",
       "MIA @ ORL 2017-10-18                    MIA       109                    ORL   \n",
       "\n",
       "                      PTS_home  \n",
       "GAME                            \n",
       "BOS @ CLE 2017-10-17       102  \n",
       "HOU @ GSW 2017-10-17       121  \n",
       "CHA @ DET 2017-10-18       102  \n",
       "BKN @ IND 2017-10-18       140  \n",
       "MIA @ ORL 2017-10-18       116  "
      ]
     },
     "execution_count": 35,
     "metadata": {},
     "output_type": "execute_result"
    }
   ],
   "source": [
    "all_games[[\"TEAM_ABBREVIATION_away\", \"PTS_away\", \"TEAM_ABBREVIATION_home\", \"PTS_home\"]].head()"
   ]
  },
  {
   "cell_type": "code",
   "execution_count": 36,
   "metadata": {
    "ExecuteTime": {
     "end_time": "2018-09-11T03:00:56.481062Z",
     "start_time": "2018-09-11T03:00:56.454611Z"
    },
    "collapsed": true
   },
   "outputs": [],
   "source": [
    "def get_season(date):\n",
    "    ano = date.year\n",
    "    if(date.month >= 10):\n",
    "        return ano + 1\n",
    "    return ano\n",
    "\n",
    "def is_playoff(date):\n",
    "    # Playoffs 2016\n",
    "    if date >= datetime(2016, 4, 16) and date < datetime(2016, 6, 30):\n",
    "        return 1\n",
    "    \n",
    "    # Playoffs 2017\n",
    "    elif date >= datetime(2017, 4, 15) and date < datetime(2017, 6, 30):\n",
    "        return 1\n",
    "    \n",
    "     # Playoffs 2018\n",
    "    elif date >= datetime(2018, 4, 14) and date < datetime(2018, 6, 30):\n",
    "        return 1\n",
    "    \n",
    "    return 0"
   ]
  },
  {
   "cell_type": "code",
   "execution_count": 52,
   "metadata": {
    "ExecuteTime": {
     "end_time": "2018-09-11T03:11:45.164137Z",
     "start_time": "2018-09-11T03:11:45.033391Z"
    }
   },
   "outputs": [],
   "source": [
    "all_games[\"DATE\"] = [datetime.strptime(str(x), '%d/%m/%Y') for x in all_games.GAME_DATE_home]\n",
    "all_games[\"SEASON\"] = [get_season(x) for x in all_games.DATE]\n",
    "all_games[\"fl_playoff\"] = [is_playoff(x) for x in all_games.DATE]\n",
    "all_games['fl_home_win'] = np.where(all_games['PTS_home'] > all_games['PTS_away'], 1, 0)\n",
    "all_games = all_games.sort_values('DATE')"
   ]
  },
  {
   "cell_type": "code",
   "execution_count": 39,
   "metadata": {
    "ExecuteTime": {
     "end_time": "2018-09-11T03:01:20.341606Z",
     "start_time": "2018-09-11T03:01:20.331126Z"
    },
    "collapsed": true
   },
   "outputs": [],
   "source": [
    "all_games = all_games.rename(columns={'TEAM_ABBREVIATION_home': \"team_home\",\n",
    "                                     'TEAM_ABBREVIATION_away': \"team_away\"})"
   ]
  },
  {
   "cell_type": "code",
   "execution_count": 54,
   "metadata": {
    "ExecuteTime": {
     "end_time": "2018-09-11T03:12:04.166040Z",
     "start_time": "2018-09-11T03:12:04.149568Z"
    }
   },
   "outputs": [],
   "source": [
    "all_games[\"team_home_game_num\"] = all_games.groupby(['team_home']).cumcount() + 1\n",
    "all_games[\"team_away_game_num\"] = all_games.groupby(['team_away']).cumcount() + 1"
   ]
  },
  {
   "cell_type": "code",
   "execution_count": 55,
   "metadata": {
    "ExecuteTime": {
     "end_time": "2018-09-11T03:12:13.359636Z",
     "start_time": "2018-09-11T03:12:13.031765Z"
    }
   },
   "outputs": [],
   "source": [
    "all_games.to_csv(\"./bases_nba_stats/all_games_nba_17_18.csv\")"
   ]
  },
  {
   "cell_type": "markdown",
   "metadata": {},
   "source": [
    "### Últimos 5 Jogos"
   ]
  },
  {
   "cell_type": "code",
   "execution_count": 98,
   "metadata": {
    "ExecuteTime": {
     "end_time": "2018-09-11T03:26:41.112515Z",
     "start_time": "2018-09-11T03:26:41.105547Z"
    },
    "collapsed": true
   },
   "outputs": [],
   "source": [
    "home_columns = [x for x in all_games.columns if x.endswith(\"_home\") and x not in ['GAME_ID_home', 'TEAM_CITY_home', 'GAME_DATE_home', 'GAME_PLACE_home', 'TEAM_NICKNAME_home']]\n",
    "away_columns = [x for x in all_games.columns if x.endswith(\"_away\") and x not in ['TEAM_CITY_away', 'TEAM_NICKNAME_away']]"
   ]
  },
  {
   "cell_type": "code",
   "execution_count": 99,
   "metadata": {
    "ExecuteTime": {
     "end_time": "2018-09-11T03:26:41.508594Z",
     "start_time": "2018-09-11T03:26:41.504582Z"
    },
    "collapsed": true
   },
   "outputs": [],
   "source": [
    "home_columns += [\"WIN_HOME_TOTAL\", \"WIN_AWAY_TOTAL\", \"WIN_TOTAL\"]\n",
    "away_columns += [\"WIN_HOME_TOTAL\", \"WIN_AWAY_TOTAL\", \"WIN_TOTAL\"]"
   ]
  },
  {
   "cell_type": "code",
   "execution_count": 100,
   "metadata": {
    "ExecuteTime": {
     "end_time": "2018-09-11T03:26:42.918952Z",
     "start_time": "2018-09-11T03:26:42.759733Z"
    },
    "collapsed": true
   },
   "outputs": [],
   "source": [
    "def get_last_games(df, data, team_name, n = 5, filter=\"all\", verbose=False):\n",
    "    if(filter == \"all\"):\n",
    "        last_games = df[(df[\"DATE\"] < data) & \n",
    "                        ((df[\"team_home\"] == team_name) | (df[\"team_away\"] == team_name))].tail(n)\n",
    "        \n",
    "    elif(filter == \"home\"):\n",
    "        last_games = df[(df[\"DATE\"] < data) & (df[\"team_home\"] == team_name)].tail(n)\n",
    "    elif(filter == \"away\"):\n",
    "        last_games = df[(df[\"DATE\"] < data) & (df[\"team_away\"] == team_name)].tail(n)\n",
    "    \n",
    "    last_games[\"WIN_HOME_TOTAL\"] = np.where((last_games[\"team_home\"] == team_name) & (last_games[\"fl_home_win\"] == 1) , 1, 0)\n",
    "    \n",
    "    last_games[\"WIN_AWAY_TOTAL\"] = np.where((last_games[\"team_away\"] == team_name) & (last_games[\"fl_home_win\"] == 0), 1, 0)\n",
    "    \n",
    "    last_games[\"WIN_TOTAL\"] = np.where(((last_games[\"team_home\"] == team_name) & (last_games[\"fl_home_win\"] == 1)) | \n",
    "                                            ((last_games[\"team_away\"] == team_name) & (last_games[\"fl_home_win\"] == 0)), 1, 0)\n",
    "    \n",
    "    if(verbose):\n",
    "        print(last_games[[\"team_home\", \"team_away\", \"PTS_home\", \"PTS_away\", \"WIN_TOTAL\", \"WIN_AWAY_TOTAL\", \"WIN_HOME_TOTAL\"]])\n",
    "    \n",
    "    return(last_games)\n",
    "\n",
    "def get_avg_last_games(last_games, team_name, n = 5, rivals = False):\n",
    "    \n",
    "    if(rivals == False):\n",
    "        last_games_home = last_games[last_games[\"team_home\"] == team_name][home_columns].groupby([\"team_home\"]).sum()\n",
    "        last_games_away = last_games[last_games[\"team_away\"] == team_name][away_columns].groupby([\"team_away\"]).sum()\n",
    "        last_games_home.columns = [x.replace(\"_home\",\"\") for x in last_games_home.columns]\n",
    "        last_games_away.columns = [x.replace(\"_away\",\"\") for x in last_games_away.columns]\n",
    "    else:\n",
    "        last_games_home = last_games[last_games[\"team_home\"] != team_name][home_columns].drop(\"team_home\", axis = 1).sum()\n",
    "        last_games_away = last_games[last_games[\"team_away\"] != team_name][away_columns].drop(\"team_away\", axis = 1).sum()\n",
    "        last_games_home.index = [x.replace(\"_home\",\"_opponent\") for x in last_games_home.index]\n",
    "        last_games_away.index = [x.replace(\"_away\",\"_opponent\") for x in last_games_away.index]\n",
    "    \n",
    "    if(len(last_games_home) == 0):\n",
    "        if(rivals):\n",
    "            return (last_games_away/n).to_frame().transpose()\n",
    "        else:\n",
    "            return (last_games_away/n)\n",
    "    \n",
    "    if(len(last_games_away) == 0):\n",
    "        if(rivals):\n",
    "            return(last_games_home/n).to_frame().transpose()\n",
    "        else:\n",
    "            return(last_games_home/n)\n",
    "    \n",
    "    if(rivals):\n",
    "        return((last_games_home + last_games_away) / n).to_frame().transpose()\n",
    "    else:\n",
    "        return((last_games_home + last_games_away) / n)    "
   ]
  },
  {
   "cell_type": "code",
   "execution_count": 101,
   "metadata": {
    "ExecuteTime": {
     "end_time": "2018-09-11T03:26:43.699823Z",
     "start_time": "2018-09-11T03:26:43.693335Z"
    },
    "collapsed": true
   },
   "outputs": [],
   "source": [
    "teste = all_games[all_games[\"team_home\"] == \"ATL\"]"
   ]
  },
  {
   "cell_type": "code",
   "execution_count": 102,
   "metadata": {
    "ExecuteTime": {
     "end_time": "2018-09-11T03:26:44.177328Z",
     "start_time": "2018-09-11T03:26:44.108474Z"
    }
   },
   "outputs": [
    {
     "name": "stdout",
     "output_type": "stream",
     "text": [
      "                     team_home team_away  PTS_home  PTS_away  WIN_TOTAL  \\\n",
      "GAME                                                                      \n",
      "LAC @ ATL 2017-11-22       ATL       LAC       103       116          0   \n",
      "NYK @ ATL 2017-11-24       ATL       NYK       116       104          1   \n",
      "TOR @ ATL 2017-11-25       ATL       TOR        78       112          0   \n",
      "CLE @ ATL 2017-11-30       ATL       CLE       114       121          0   \n",
      "ATL @ BKN 2017-12-02       BKN       ATL       102       114          1   \n",
      "\n",
      "                      WIN_AWAY_TOTAL  WIN_HOME_TOTAL  \n",
      "GAME                                                  \n",
      "LAC @ ATL 2017-11-22               0               0  \n",
      "NYK @ ATL 2017-11-24               0               1  \n",
      "TOR @ ATL 2017-11-25               0               0  \n",
      "CLE @ ATL 2017-11-30               0               0  \n",
      "ATL @ BKN 2017-12-02               1               0  \n"
     ]
    }
   ],
   "source": [
    "teste = get_last_games(all_games, teste.iloc[10][\"DATE\"], \"ATL\", verbose=True).reset_index()"
   ]
  },
  {
   "cell_type": "code",
   "execution_count": 103,
   "metadata": {
    "ExecuteTime": {
     "end_time": "2018-09-11T03:26:45.083148Z",
     "start_time": "2018-09-11T03:26:45.000802Z"
    }
   },
   "outputs": [
    {
     "data": {
      "text/html": [
       "<div>\n",
       "<style scoped>\n",
       "    .dataframe tbody tr th:only-of-type {\n",
       "        vertical-align: middle;\n",
       "    }\n",
       "\n",
       "    .dataframe tbody tr th {\n",
       "        vertical-align: top;\n",
       "    }\n",
       "\n",
       "    .dataframe thead th {\n",
       "        text-align: right;\n",
       "    }\n",
       "</style>\n",
       "<table border=\"1\" class=\"dataframe\">\n",
       "  <thead>\n",
       "    <tr style=\"text-align: right;\">\n",
       "      <th></th>\n",
       "      <th>TEAM_ID</th>\n",
       "      <th>FGM</th>\n",
       "      <th>FGA</th>\n",
       "      <th>FG_PCT</th>\n",
       "      <th>FG3M</th>\n",
       "      <th>FG3A</th>\n",
       "      <th>FG3_PCT</th>\n",
       "      <th>FTM</th>\n",
       "      <th>FTA</th>\n",
       "      <th>FT_PCT</th>\n",
       "      <th>...</th>\n",
       "      <th>CONTESTED_SHOTS_2PT</th>\n",
       "      <th>CONTESTED_SHOTS_3PT</th>\n",
       "      <th>DEFLECTIONS</th>\n",
       "      <th>LOOSE_BALLS_RECOVERED</th>\n",
       "      <th>CHARGES_DRAWN</th>\n",
       "      <th>SCREEN_ASSISTS</th>\n",
       "      <th>BOX_OUTS</th>\n",
       "      <th>WIN_HOME_TOTAL</th>\n",
       "      <th>WIN_AWAY_TOTAL</th>\n",
       "      <th>WIN_TOTAL</th>\n",
       "    </tr>\n",
       "    <tr>\n",
       "      <th>team_home</th>\n",
       "      <th></th>\n",
       "      <th></th>\n",
       "      <th></th>\n",
       "      <th></th>\n",
       "      <th></th>\n",
       "      <th></th>\n",
       "      <th></th>\n",
       "      <th></th>\n",
       "      <th></th>\n",
       "      <th></th>\n",
       "      <th></th>\n",
       "      <th></th>\n",
       "      <th></th>\n",
       "      <th></th>\n",
       "      <th></th>\n",
       "      <th></th>\n",
       "      <th></th>\n",
       "      <th></th>\n",
       "      <th></th>\n",
       "      <th></th>\n",
       "      <th></th>\n",
       "    </tr>\n",
       "  </thead>\n",
       "  <tbody>\n",
       "    <tr>\n",
       "      <th>ATL</th>\n",
       "      <td>1.610613e+09</td>\n",
       "      <td>40.2</td>\n",
       "      <td>87.0</td>\n",
       "      <td>0.4596</td>\n",
       "      <td>10.2</td>\n",
       "      <td>29.0</td>\n",
       "      <td>0.3486</td>\n",
       "      <td>14.4</td>\n",
       "      <td>17.6</td>\n",
       "      <td>0.8068</td>\n",
       "      <td>...</td>\n",
       "      <td>31.4</td>\n",
       "      <td>27.4</td>\n",
       "      <td>14.8</td>\n",
       "      <td>9.2</td>\n",
       "      <td>1.4</td>\n",
       "      <td>11.8</td>\n",
       "      <td>33.4</td>\n",
       "      <td>0.2</td>\n",
       "      <td>0.2</td>\n",
       "      <td>0.4</td>\n",
       "    </tr>\n",
       "  </tbody>\n",
       "</table>\n",
       "<p>1 rows × 100 columns</p>\n",
       "</div>"
      ],
      "text/plain": [
       "                TEAM_ID   FGM   FGA  FG_PCT  FG3M  FG3A  FG3_PCT   FTM   FTA  \\\n",
       "team_home                                                                      \n",
       "ATL        1.610613e+09  40.2  87.0  0.4596  10.2  29.0   0.3486  14.4  17.6   \n",
       "\n",
       "           FT_PCT    ...      CONTESTED_SHOTS_2PT  CONTESTED_SHOTS_3PT  \\\n",
       "team_home            ...                                                 \n",
       "ATL        0.8068    ...                     31.4                 27.4   \n",
       "\n",
       "           DEFLECTIONS  LOOSE_BALLS_RECOVERED  CHARGES_DRAWN  SCREEN_ASSISTS  \\\n",
       "team_home                                                                      \n",
       "ATL               14.8                    9.2            1.4            11.8   \n",
       "\n",
       "           BOX_OUTS  WIN_HOME_TOTAL  WIN_AWAY_TOTAL  WIN_TOTAL  \n",
       "team_home                                                       \n",
       "ATL            33.4             0.2             0.2        0.4  \n",
       "\n",
       "[1 rows x 100 columns]"
      ]
     },
     "execution_count": 103,
     "metadata": {},
     "output_type": "execute_result"
    }
   ],
   "source": [
    "get_avg_last_games(teste, \"ATL\", rivals=False)"
   ]
  },
  {
   "cell_type": "code",
   "execution_count": 87,
   "metadata": {
    "ExecuteTime": {
     "end_time": "2018-09-11T03:19:53.390665Z",
     "start_time": "2018-09-11T03:19:53.382177Z"
    }
   },
   "outputs": [],
   "source": [
    "teste[\"ATL_win\"] = np.where(((teste[\"team_home\"] == \"ATL\") & (teste[\"fl_home_win\"] == 1)) | \n",
    "                            ((teste[\"team_away\"] == \"ATL\") & (teste[\"fl_home_win\"] == 0)), 1, 0)"
   ]
  },
  {
   "cell_type": "code",
   "execution_count": null,
   "metadata": {
    "collapsed": true
   },
   "outputs": [],
   "source": []
  }
 ],
 "metadata": {
  "kernelspec": {
   "display_name": "Python 3",
   "language": "python",
   "name": "python3"
  },
  "language_info": {
   "codemirror_mode": {
    "name": "ipython",
    "version": 3
   },
   "file_extension": ".py",
   "mimetype": "text/x-python",
   "name": "python",
   "nbconvert_exporter": "python",
   "pygments_lexer": "ipython3",
   "version": "3.6.3"
  },
  "toc": {
   "base_numbering": 1,
   "nav_menu": {},
   "number_sections": true,
   "sideBar": true,
   "skip_h1_title": false,
   "title_cell": "Table of Contents",
   "title_sidebar": "Contents",
   "toc_cell": false,
   "toc_position": {},
   "toc_section_display": true,
   "toc_window_display": false
  },
  "varInspector": {
   "cols": {
    "lenName": 16,
    "lenType": 16,
    "lenVar": 40
   },
   "kernels_config": {
    "python": {
     "delete_cmd_postfix": "",
     "delete_cmd_prefix": "del ",
     "library": "var_list.py",
     "varRefreshCmd": "print(var_dic_list())"
    },
    "r": {
     "delete_cmd_postfix": ") ",
     "delete_cmd_prefix": "rm(",
     "library": "var_list.r",
     "varRefreshCmd": "cat(var_dic_list()) "
    }
   },
   "types_to_exclude": [
    "module",
    "function",
    "builtin_function_or_method",
    "instance",
    "_Feature"
   ],
   "window_display": false
  }
 },
 "nbformat": 4,
 "nbformat_minor": 2
}
