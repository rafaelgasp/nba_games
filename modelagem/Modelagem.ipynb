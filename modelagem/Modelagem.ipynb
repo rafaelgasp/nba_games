{
 "cells": [
  {
   "cell_type": "code",
   "execution_count": 2,
   "metadata": {
    "ExecuteTime": {
     "end_time": "2018-10-12T23:36:15.940534Z",
     "start_time": "2018-10-12T23:36:15.928547Z"
    },
    "collapsed": true
   },
   "outputs": [],
   "source": [
    "import pandas as pd\n",
    "import numpy as np\n",
    "import os\n",
    "from datetime import datetime\n",
    "import matplotlib.pyplot as plt\n",
    "%matplotlib inline\n",
    "import seaborn as sns\n",
    "import math"
   ]
  },
  {
   "cell_type": "code",
   "execution_count": 3,
   "metadata": {
    "ExecuteTime": {
     "end_time": "2018-10-12T23:36:20.180745Z",
     "start_time": "2018-10-12T23:36:16.974943Z"
    },
    "collapsed": true
   },
   "outputs": [],
   "source": [
    "base_modelagem = pd.read_csv(\"base_delta_cross.csv\", index_col = 0)"
   ]
  },
  {
   "cell_type": "code",
   "execution_count": 13,
   "metadata": {
    "ExecuteTime": {
     "end_time": "2018-10-10T02:29:25.172200Z",
     "start_time": "2018-10-10T02:29:09.235058Z"
    },
    "collapsed": true
   },
   "outputs": [],
   "source": [
    "correlations = abs(base_modelagem.corr()[\"fl_home_win\"]).sort_values(ascending=False)"
   ]
  },
  {
   "cell_type": "code",
   "execution_count": null,
   "metadata": {
    "collapsed": true
   },
   "outputs": [],
   "source": [
    "correlations"
   ]
  },
  {
   "cell_type": "code",
   "execution_count": 47,
   "metadata": {
    "ExecuteTime": {
     "end_time": "2018-10-04T00:29:59.461521Z",
     "start_time": "2018-10-04T00:29:59.456527Z"
    },
    "collapsed": true
   },
   "outputs": [],
   "source": [
    "to_keep = correlations.head(50).index"
   ]
  },
  {
   "cell_type": "code",
   "execution_count": 4,
   "metadata": {
    "ExecuteTime": {
     "end_time": "2018-10-12T23:36:21.772175Z",
     "start_time": "2018-10-12T23:36:21.768194Z"
    },
    "collapsed": true
   },
   "outputs": [],
   "source": [
    "# pega apenas as last 5\n",
    "to_keep = [x for x in base_modelagem.columns if \"_L 5\" in x]"
   ]
  },
  {
   "cell_type": "code",
   "execution_count": 5,
   "metadata": {
    "ExecuteTime": {
     "end_time": "2018-10-12T23:36:23.997789Z",
     "start_time": "2018-10-12T23:36:23.988806Z"
    }
   },
   "outputs": [
    {
     "data": {
      "text/plain": [
       "1063"
      ]
     },
     "execution_count": 5,
     "metadata": {},
     "output_type": "execute_result"
    }
   ],
   "source": [
    "filtrada = base_modelagem.iloc[len(base_modelagem)-1063:len(base_modelagem)]\n",
    "len(filtrada)"
   ]
  },
  {
   "cell_type": "code",
   "execution_count": 6,
   "metadata": {
    "ExecuteTime": {
     "end_time": "2018-10-12T23:36:25.030235Z",
     "start_time": "2018-10-12T23:36:25.010228Z"
    }
   },
   "outputs": [
    {
     "data": {
      "text/plain": [
       "1    0.581373\n",
       "0    0.418627\n",
       "Name: fl_home_win, dtype: float64"
      ]
     },
     "execution_count": 6,
     "metadata": {},
     "output_type": "execute_result"
    }
   ],
   "source": [
    "filtrada.fl_home_win.value_counts()/len(filtrada)"
   ]
  },
  {
   "cell_type": "code",
   "execution_count": 7,
   "metadata": {
    "ExecuteTime": {
     "end_time": "2018-10-12T23:36:25.816778Z",
     "start_time": "2018-10-12T23:36:25.811795Z"
    },
    "collapsed": true
   },
   "outputs": [],
   "source": [
    "base_modelo = filtrada.iloc[0:(len(filtrada) - 100)]"
   ]
  },
  {
   "cell_type": "code",
   "execution_count": 8,
   "metadata": {
    "ExecuteTime": {
     "end_time": "2018-10-12T23:36:26.719261Z",
     "start_time": "2018-10-12T23:36:26.712267Z"
    },
    "collapsed": true
   },
   "outputs": [],
   "source": [
    "out_of_time = filtrada.iloc[(len(filtrada) - 100):len(filtrada)]"
   ]
  },
  {
   "cell_type": "code",
   "execution_count": 126,
   "metadata": {
    "ExecuteTime": {
     "end_time": "2018-10-13T01:50:26.452972Z",
     "start_time": "2018-10-13T01:50:26.441977Z"
    },
    "collapsed": true
   },
   "outputs": [],
   "source": [
    "import sklearn.base\n",
    "from sklearn.model_selection import train_test_split\n",
    "from sklearn.model_selection import GridSearchCV\n",
    "from sklearn.metrics import classification_report\n",
    "from sklearn.metrics import confusion_matrix, accuracy_score\n",
    "from sklearn.svm import SVC\n",
    "from sklearn.tree import DecisionTreeClassifier\n",
    "from sklearn.ensemble import RandomForestClassifier\n",
    "from sklearn.naive_bayes import GaussianNB\n",
    "from sklearn.ensemble import VotingClassifier"
   ]
  },
  {
   "cell_type": "markdown",
   "metadata": {},
   "source": [
    "### Forward Feature Selection"
   ]
  },
  {
   "cell_type": "code",
   "execution_count": 10,
   "metadata": {
    "ExecuteTime": {
     "end_time": "2018-10-12T23:36:29.867021Z",
     "start_time": "2018-10-12T23:36:29.854030Z"
    },
    "collapsed": true
   },
   "outputs": [],
   "source": [
    "from mlxtend.feature_selection import SequentialFeatureSelector as sfs\n",
    "from mlxtend.feature_selection import ExhaustiveFeatureSelector as efs"
   ]
  },
  {
   "cell_type": "code",
   "execution_count": 11,
   "metadata": {
    "ExecuteTime": {
     "end_time": "2018-10-12T23:36:31.517078Z",
     "start_time": "2018-10-12T23:36:31.508086Z"
    },
    "collapsed": true
   },
   "outputs": [],
   "source": [
    "X = base_modelo[to_keep]\n",
    "y = base_modelo.fl_home_win"
   ]
  },
  {
   "cell_type": "markdown",
   "metadata": {},
   "source": [
    "#### Sequential FS"
   ]
  },
  {
   "cell_type": "code",
   "execution_count": 12,
   "metadata": {
    "ExecuteTime": {
     "end_time": "2018-10-12T23:36:33.102171Z",
     "start_time": "2018-10-12T23:36:33.098175Z"
    },
    "collapsed": true
   },
   "outputs": [],
   "source": [
    "from sklearn.model_selection import KFold"
   ]
  },
  {
   "cell_type": "code",
   "execution_count": 60,
   "metadata": {
    "ExecuteTime": {
     "end_time": "2018-10-12T23:29:32.162129Z",
     "start_time": "2018-10-12T23:29:32.157147Z"
    },
    "collapsed": true
   },
   "outputs": [],
   "source": [
    "k_fold_cv10 = KFold(20, shuffle=False)"
   ]
  },
  {
   "cell_type": "code",
   "execution_count": 61,
   "metadata": {
    "ExecuteTime": {
     "end_time": "2018-10-12T23:29:33.029327Z",
     "start_time": "2018-10-12T23:29:33.021330Z"
    },
    "collapsed": true
   },
   "outputs": [],
   "source": [
    "clf = GaussianNB()\n",
    "\n",
    "sfs1 = sfs(clf,\n",
    "           k_features=5,\n",
    "           forward=True,\n",
    "           floating=True,\n",
    "           verbose=10,\n",
    "           scoring='accuracy',\n",
    "           n_jobs=3,\n",
    "           cv=k_fold_cv10)"
   ]
  },
  {
   "cell_type": "code",
   "execution_count": 62,
   "metadata": {
    "ExecuteTime": {
     "end_time": "2018-10-12T23:30:11.913547Z",
     "start_time": "2018-10-12T23:29:33.809674Z"
    },
    "scrolled": true
   },
   "outputs": [
    {
     "name": "stderr",
     "output_type": "stream",
     "text": [
      "[Parallel(n_jobs=3)]: Done   2 tasks      | elapsed:    0.9s\n",
      "[Parallel(n_jobs=3)]: Done   7 tasks      | elapsed:    1.2s\n",
      "[Parallel(n_jobs=3)]: Done  12 tasks      | elapsed:    1.3s\n",
      "[Parallel(n_jobs=3)]: Batch computation too fast (0.1768s.) Setting batch_size=2.\n",
      "[Parallel(n_jobs=3)]: Done  19 tasks      | elapsed:    1.4s\n",
      "[Parallel(n_jobs=3)]: Batch computation too fast (0.0959s.) Setting batch_size=8.\n",
      "[Parallel(n_jobs=3)]: Done  30 tasks      | elapsed:    1.5s\n",
      "[Parallel(n_jobs=3)]: Done  90 tasks      | elapsed:    2.1s\n",
      "[Parallel(n_jobs=3)]: Done 162 tasks      | elapsed:    2.7s\n",
      "[Parallel(n_jobs=3)]: Done 250 tasks      | elapsed:    3.7s\n",
      "[Parallel(n_jobs=3)]: Done 338 tasks      | elapsed:    4.4s\n",
      "[Parallel(n_jobs=3)]: Done 446 out of 446 | elapsed:    5.3s finished\n",
      "\n",
      "[2018-10-12 20:29:39] Features: 1/5 -- score: 0.6623511904761903[Parallel(n_jobs=3)]: Done   2 tasks      | elapsed:    0.9s\n",
      "[Parallel(n_jobs=3)]: Done   7 tasks      | elapsed:    1.2s\n",
      "[Parallel(n_jobs=3)]: Done  12 tasks      | elapsed:    1.3s\n",
      "[Parallel(n_jobs=3)]: Batch computation too fast (0.1767s.) Setting batch_size=2.\n",
      "[Parallel(n_jobs=3)]: Done  19 tasks      | elapsed:    1.3s\n",
      "[Parallel(n_jobs=3)]: Batch computation too fast (0.1019s.) Setting batch_size=6.\n",
      "[Parallel(n_jobs=3)]: Done  30 tasks      | elapsed:    1.5s\n",
      "[Parallel(n_jobs=3)]: Done  76 tasks      | elapsed:    2.1s\n",
      "[Parallel(n_jobs=3)]: Done 130 tasks      | elapsed:    2.7s\n",
      "[Parallel(n_jobs=3)]: Done 196 tasks      | elapsed:    3.4s\n",
      "[Parallel(n_jobs=3)]: Done 262 tasks      | elapsed:    4.2s\n",
      "[Parallel(n_jobs=3)]: Done 340 tasks      | elapsed:    5.1s\n",
      "[Parallel(n_jobs=3)]: Done 418 tasks      | elapsed:    6.1s\n",
      "[Parallel(n_jobs=3)]: Done 445 out of 445 | elapsed:    6.3s finished\n",
      "[Parallel(n_jobs=2)]: Done   1 tasks      | elapsed:    0.7s\n",
      "[Parallel(n_jobs=2)]: Done   1 out of   1 | elapsed:    0.7s finished\n",
      "\n",
      "[2018-10-12 20:29:47] Features: 2/5 -- score: 0.673873299319728[Parallel(n_jobs=3)]: Done   2 tasks      | elapsed:    0.9s\n",
      "[Parallel(n_jobs=3)]: Done   7 tasks      | elapsed:    1.2s\n",
      "[Parallel(n_jobs=3)]: Done  12 tasks      | elapsed:    1.3s\n",
      "[Parallel(n_jobs=3)]: Batch computation too fast (0.1796s.) Setting batch_size=2.\n",
      "[Parallel(n_jobs=3)]: Done  19 tasks      | elapsed:    1.4s\n",
      "[Parallel(n_jobs=3)]: Batch computation too fast (0.1109s.) Setting batch_size=6.\n",
      "[Parallel(n_jobs=3)]: Done  30 tasks      | elapsed:    1.6s\n",
      "[Parallel(n_jobs=3)]: Done  76 tasks      | elapsed:    2.1s\n",
      "[Parallel(n_jobs=3)]: Done 130 tasks      | elapsed:    2.7s\n",
      "[Parallel(n_jobs=3)]: Done 196 tasks      | elapsed:    3.3s\n",
      "[Parallel(n_jobs=3)]: Done 262 tasks      | elapsed:    4.0s\n",
      "[Parallel(n_jobs=3)]: Done 340 tasks      | elapsed:    4.9s\n",
      "[Parallel(n_jobs=3)]: Done 418 tasks      | elapsed:    5.7s\n",
      "[Parallel(n_jobs=3)]: Done 444 out of 444 | elapsed:    5.9s finished\n",
      "[Parallel(n_jobs=3)]: Done   2 out of   2 | elapsed:    0.9s remaining:    0.0s\n",
      "[Parallel(n_jobs=3)]: Done   2 out of   2 | elapsed:    0.9s finished\n",
      "\n",
      "[2018-10-12 20:29:54] Features: 3/5 -- score: 0.6749362244897958[Parallel(n_jobs=3)]: Done   2 tasks      | elapsed:    0.9s\n",
      "[Parallel(n_jobs=3)]: Done   7 tasks      | elapsed:    1.2s\n",
      "[Parallel(n_jobs=3)]: Done  12 tasks      | elapsed:    1.3s\n",
      "[Parallel(n_jobs=3)]: Batch computation too fast (0.1772s.) Setting batch_size=2.\n",
      "[Parallel(n_jobs=3)]: Done  19 tasks      | elapsed:    1.3s\n",
      "[Parallel(n_jobs=3)]: Batch computation too fast (0.1149s.) Setting batch_size=6.\n",
      "[Parallel(n_jobs=3)]: Done  30 tasks      | elapsed:    1.5s\n",
      "[Parallel(n_jobs=3)]: Done  76 tasks      | elapsed:    2.1s\n",
      "[Parallel(n_jobs=3)]: Done 130 tasks      | elapsed:    2.6s\n",
      "[Parallel(n_jobs=3)]: Done 196 tasks      | elapsed:    3.3s\n",
      "[Parallel(n_jobs=3)]: Done 262 tasks      | elapsed:    4.0s\n",
      "[Parallel(n_jobs=3)]: Done 340 tasks      | elapsed:    4.8s\n",
      "[Parallel(n_jobs=3)]: Done 418 tasks      | elapsed:    5.8s\n",
      "[Parallel(n_jobs=3)]: Done 443 out of 443 | elapsed:    6.0s finished\n",
      "[Parallel(n_jobs=3)]: Done   3 out of   3 | elapsed:    1.4s remaining:    0.0s\n",
      "[Parallel(n_jobs=3)]: Done   3 out of   3 | elapsed:    1.4s finished\n",
      "\n",
      "[2018-10-12 20:30:02] Features: 4/5 -- score: 0.675999149659864[Parallel(n_jobs=3)]: Done   2 tasks      | elapsed:    1.0s\n",
      "[Parallel(n_jobs=3)]: Done   7 tasks      | elapsed:    1.3s\n",
      "[Parallel(n_jobs=3)]: Done  12 tasks      | elapsed:    1.4s\n",
      "[Parallel(n_jobs=3)]: Batch computation too fast (0.1918s.) Setting batch_size=2.\n",
      "[Parallel(n_jobs=3)]: Done  19 tasks      | elapsed:    1.5s\n",
      "[Parallel(n_jobs=3)]: Batch computation too fast (0.1369s.) Setting batch_size=4.\n",
      "[Parallel(n_jobs=3)]: Done  30 tasks      | elapsed:    1.6s\n",
      "[Parallel(n_jobs=3)]: Done  62 tasks      | elapsed:    2.1s\n",
      "[Parallel(n_jobs=3)]: Done  98 tasks      | elapsed:    2.6s\n",
      "[Parallel(n_jobs=3)]: Done 142 tasks      | elapsed:    3.1s\n",
      "[Parallel(n_jobs=3)]: Done 186 tasks      | elapsed:    3.7s\n",
      "[Parallel(n_jobs=3)]: Done 238 tasks      | elapsed:    4.4s\n",
      "[Parallel(n_jobs=3)]: Done 290 tasks      | elapsed:    5.1s\n",
      "[Parallel(n_jobs=3)]: Done 350 tasks      | elapsed:    5.8s\n",
      "[Parallel(n_jobs=3)]: Done 410 tasks      | elapsed:    6.6s\n",
      "[Parallel(n_jobs=3)]: Done 442 out of 442 | elapsed:    7.0s finished\n",
      "[Parallel(n_jobs=3)]: Done   1 tasks      | elapsed:    0.7s\n",
      "[Parallel(n_jobs=3)]: Done   2 out of   4 | elapsed:    1.0s remaining:    1.0s\n",
      "[Parallel(n_jobs=3)]: Done   4 out of   4 | elapsed:    1.3s remaining:    0.0s\n",
      "[Parallel(n_jobs=3)]: Done   4 out of   4 | elapsed:    1.3s finished\n",
      "\n",
      "[2018-10-12 20:30:11] Features: 5/5 -- score: 0.679124149659864"
     ]
    }
   ],
   "source": [
    "sfs1 = sfs1.fit(X.values, y.values, custom_feature_names=X.columns)"
   ]
  },
  {
   "cell_type": "code",
   "execution_count": 63,
   "metadata": {
    "ExecuteTime": {
     "end_time": "2018-10-12T23:30:16.424163Z",
     "start_time": "2018-10-12T23:30:16.420163Z"
    },
    "collapsed": true
   },
   "outputs": [],
   "source": [
    "top_features = list(sfs1.k_feature_names_)"
   ]
  },
  {
   "cell_type": "code",
   "execution_count": 64,
   "metadata": {
    "ExecuteTime": {
     "end_time": "2018-10-12T23:30:18.237571Z",
     "start_time": "2018-10-12T23:30:18.228595Z"
    }
   },
   "outputs": [
    {
     "data": {
      "text/plain": [
       "GaussianNB(priors=None)"
      ]
     },
     "execution_count": 64,
     "metadata": {},
     "output_type": "execute_result"
    }
   ],
   "source": [
    "modelo = GaussianNB()\n",
    "modelo.fit(X[top_features], y)"
   ]
  },
  {
   "cell_type": "code",
   "execution_count": 45,
   "metadata": {
    "ExecuteTime": {
     "end_time": "2018-10-12T23:23:42.083138Z",
     "start_time": "2018-10-12T23:23:42.071147Z"
    }
   },
   "outputs": [
    {
     "name": "stdout",
     "output_type": "stream",
     "text": [
      "['C2_PCT_FGA_2PT_L 5', 'D2_PFD_L 5', 'D1_N_GAMES_AWAY_L6_days_L 5', 'C1_PIE_L 5', 'C1_TS_PCT_L 5', 'D2_NET_RATING_L 5', 'C1_REB_PCT_L 5']\n",
      "No Holdout: 0.65\n",
      "No KFold 10: 0.6957193702223157\n"
     ]
    }
   ],
   "source": [
    "y_pred = modelo.predict(out_of_time[top_features])\n",
    "y_true = out_of_time.fl_home_win.values\n",
    "\n",
    "print(top_features)\n",
    "print(\"No Holdout: \" + str(accuracy_score(y_true, y_pred)))\n",
    "print(\"No KFold 10: \" + str(sfs1.k_score_))"
   ]
  },
  {
   "cell_type": "code",
   "execution_count": 66,
   "metadata": {
    "ExecuteTime": {
     "end_time": "2018-10-12T23:30:27.159177Z",
     "start_time": "2018-10-12T23:30:27.151177Z"
    }
   },
   "outputs": [
    {
     "name": "stdout",
     "output_type": "stream",
     "text": [
      "['C1_PF_misc_L 5', 'D2_WIN_PCT_L 5', 'C1_FTAST_L 5', 'D2_BLKA_L 5', 'D2_UFGA_L 5']\n",
      "No Holdout: 0.63\n",
      "No KFold 20: 0.679124149659864\n"
     ]
    }
   ],
   "source": [
    "y_pred = modelo.predict(out_of_time[top_features])\n",
    "y_true = out_of_time.fl_home_win.values\n",
    "\n",
    "print(top_features)\n",
    "print(\"No Holdout: \" + str(accuracy_score(y_true, y_pred)))\n",
    "print(\"No KFold 20: \" + str(sfs1.k_score_))"
   ]
  },
  {
   "cell_type": "markdown",
   "metadata": {},
   "source": [
    "#### Exhaustive FS"
   ]
  },
  {
   "cell_type": "code",
   "execution_count": 13,
   "metadata": {
    "ExecuteTime": {
     "end_time": "2018-10-12T23:36:44.347685Z",
     "start_time": "2018-10-12T23:36:44.340690Z"
    },
    "collapsed": true
   },
   "outputs": [],
   "source": [
    "clf = GaussianNB()\n",
    "\n",
    "efs1 = efs(clf,\n",
    "           min_features=2,\n",
    "           max_features=2,\n",
    "           print_progress=True,\n",
    "           scoring='accuracy',\n",
    "           n_jobs=3,\n",
    "           cv=10)"
   ]
  },
  {
   "cell_type": "code",
   "execution_count": 14,
   "metadata": {
    "ExecuteTime": {
     "end_time": "2018-10-12T23:50:07.253272Z",
     "start_time": "2018-10-12T23:36:49.828768Z"
    }
   },
   "outputs": [
    {
     "name": "stderr",
     "output_type": "stream",
     "text": [
      "Features: 99235/99235"
     ]
    }
   ],
   "source": [
    "efs1 = efs1.fit(X.values, y.values, custom_feature_names=X.columns)"
   ]
  },
  {
   "cell_type": "code",
   "execution_count": 16,
   "metadata": {
    "ExecuteTime": {
     "end_time": "2018-10-12T23:50:34.725725Z",
     "start_time": "2018-10-12T23:50:34.718731Z"
    }
   },
   "outputs": [
    {
     "data": {
      "text/plain": [
       "0.679116698225682"
      ]
     },
     "execution_count": 16,
     "metadata": {},
     "output_type": "execute_result"
    }
   ],
   "source": [
    "efs1.best_score_"
   ]
  },
  {
   "cell_type": "code",
   "execution_count": 15,
   "metadata": {
    "ExecuteTime": {
     "end_time": "2018-10-12T23:50:25.875253Z",
     "start_time": "2018-10-12T23:50:25.870260Z"
    }
   },
   "outputs": [
    {
     "data": {
      "text/plain": [
       "('D2_PFD_L 5', 'D2_NET_RATING_L 5')"
      ]
     },
     "execution_count": 15,
     "metadata": {},
     "output_type": "execute_result"
    }
   ],
   "source": [
    "efs1.best_feature_names_"
   ]
  },
  {
   "cell_type": "markdown",
   "metadata": {},
   "source": [
    "#### SemiForward"
   ]
  },
  {
   "cell_type": "code",
   "execution_count": 178,
   "metadata": {
    "ExecuteTime": {
     "end_time": "2018-10-13T20:51:50.755667Z",
     "start_time": "2018-10-13T20:51:50.389848Z"
    },
    "collapsed": true
   },
   "outputs": [],
   "source": [
    "class SemiForwardFeatureSelector():\n",
    "    def __init__(self, model, k_features, pre_features_list = [], floating=False,\n",
    "                 verbose=True, scoring='accuracy', cv=10, holdout=None, holdout_y=None):\n",
    "        \n",
    "        if(k_features <= len(pre_features_list)):\n",
    "            print(\"Erro: K_Features <= len(Pre_Features_List)\")\n",
    "            return\n",
    "        \n",
    "        self.model = model\n",
    "        self.k_features = k_features\n",
    "        self.pre_features_list = pre_features_list\n",
    "        self.floating = floating\n",
    "        self.verbose = verbose\n",
    "        self.scoring = scoring\n",
    "        self.n_jobs = n_jobs\n",
    "        self.holdout = holdout\n",
    "        self.holdout_y = holdout_y\n",
    "        \n",
    "        if(isinstance(cv, int)):\n",
    "            self.cv = KFold(cv)\n",
    "        else:\n",
    "            self.cv = cv\n",
    "        self.is_fitted = False\n",
    "        self.best_feature_names_ = pre_features_list\n",
    "        \n",
    "        self.best_score_ = 0\n",
    "        \n",
    "        self.metric_dict = {}\n",
    "        self.metric_dict[\"feature_names\"] = []\n",
    "        self.metric_dict[\"avg_score\"] = []\n",
    "        self.metric_dict[\"std_dev\"] = []\n",
    "        \n",
    "        if holdout is not None:\n",
    "            self.metric_dict[\"holdout_score\"] = []\n",
    "            \n",
    "        self.metric_dict[\"cv_scores\"] = []\n",
    "        self.metric_dict[\"min_cv_score\"] = []\n",
    "        self.metric_dict[\"max_cv_score\"] = []\n",
    "        self.metric_dict[\"trained_model\"] = []\n",
    "        \n",
    "    def fit(self, X, y):\n",
    "        i = 0\n",
    "        for _ in range(self.k_features - len(self.pre_features_list)):\n",
    "            candidates = X.drop(self.best_feature_names_, axis=1)\n",
    "            self._add_feature = None\n",
    "            for new_column in (candidates.columns):\n",
    "                self.metric_dict[\"feature_names\"].append(self.best_feature_names_ + [new_column])\n",
    "                \n",
    "                current_X = X[self.best_feature_names_ + [new_column]]\n",
    "                \n",
    "                score_folds = []\n",
    "                for train_index, test_index in self.cv.split(current_X):\n",
    "                    test_model = sklearn.base.clone(self.model)\n",
    "                    test_model.fit(current_X.iloc[train_index], y[train_index])\n",
    "                    \n",
    "                    y_test_pred = test_model.predict(current_X.iloc[test_index])\n",
    "                    y_test_true = y[test_index]\n",
    "                    score_folds.append(accuracy_score(y_test_true, y_test_pred))\n",
    "                \n",
    "                if(self.holdout is not None):\n",
    "                    test_model = sklearn.base.clone(self.model)\n",
    "                    test_model.fit(current_X, y)\n",
    "                    \n",
    "                    y_pred_holdout = test_model.predict(self.holdout[self.metric_dict[\"feature_names\"][-1]])\n",
    "                    y_true_holdout = self.holdout_y\n",
    "                    self.metric_dict[\"holdout_score\"].append(accuracy_score(y_true_holdout, y_pred_holdout))\n",
    "                    \n",
    "                \n",
    "                avg_score = np.mean(score_folds)\n",
    "                if(self.best_score_ < avg_score):\n",
    "                    self.best_score_ = avg_score\n",
    "                    self._add_feature = new_column\n",
    "                elif(self.best_score_ == avg_score):\n",
    "                    pass\n",
    "                \n",
    "                self.metric_dict[\"avg_score\"].append(avg_score)\n",
    "                self.metric_dict[\"std_dev\"].append(np.std(score_folds))\n",
    "                self.metric_dict[\"cv_scores\"].append(score_folds)\n",
    "                self.metric_dict[\"min_cv_score\"].append(np.min(score_folds))\n",
    "                self.metric_dict[\"max_cv_score\"].append(np.max(score_folds))\n",
    "                \n",
    "                test_model = sklearn.base.clone(self.model)\n",
    "                test_model.fit(current_X, y)\n",
    "                self.metric_dict[\"trained_model\"].append(test_model)\n",
    "                \n",
    "                if(self.verbose):\n",
    "                    print(str(i) + \", \" + str(self.best_feature_names_) + \" + \" + new_column + \"            \", end=\"\\r\")\n",
    "                    \n",
    "                i += 1      \n",
    "            if(self._add_feature is None):\n",
    "                print(\"Adicionar mais features não melhorou o modelo\")\n",
    "                return\n",
    "            else:\n",
    "                self.best_feature_names_ += [self._add_feature]\n",
    "        \n",
    "        print()\n",
    "        print(\"Best Combination\", self.best_feature_names_)\n",
    "        print(\"Best Score\", self.best_score_)\n",
    "                \n",
    "    def transform(self, X):        \n",
    "        return X[best_feature_names_]"
   ]
  },
  {
   "cell_type": "code",
   "execution_count": 171,
   "metadata": {
    "ExecuteTime": {
     "end_time": "2018-10-13T20:49:52.049508Z",
     "start_time": "2018-10-13T20:49:52.041509Z"
    },
    "collapsed": true
   },
   "outputs": [],
   "source": [
    "sffs = SemiForwardFeatureSelector(GaussianNB(), 4, ['D2_PFD_L 5', 'D2_NET_RATING_L 5', 'D2_EFG_PCT_L 5'],\n",
    "                                  holdout=out_of_time, holdout_y=out_of_time.fl_home_win)"
   ]
  },
  {
   "cell_type": "code",
   "execution_count": 172,
   "metadata": {
    "ExecuteTime": {
     "end_time": "2018-10-13T20:50:15.767646Z",
     "start_time": "2018-10-13T20:49:53.447402Z"
    }
   },
   "outputs": [
    {
     "name": "stdout",
     "output_type": "stream",
     "text": [
      "442, ['D2_PFD_L 5', 'D2_NET_RATING_L 5', 'D2_EFG_PCT_L 5'] + C2_OPP_TOV_PCT_L 5                       \n",
      "Best Combination ['D2_PFD_L 5', 'D2_NET_RATING_L 5', 'D2_EFG_PCT_L 5', 'C1_TO_L 5']\n",
      "Best Score 0.6718535223367698\n"
     ]
    }
   ],
   "source": [
    "sffs.fit(X, y)"
   ]
  },
  {
   "cell_type": "code",
   "execution_count": 173,
   "metadata": {
    "ExecuteTime": {
     "end_time": "2018-10-13T20:50:34.676458Z",
     "start_time": "2018-10-13T20:50:34.670474Z"
    }
   },
   "outputs": [
    {
     "data": {
      "text/plain": [
       "0.6718535223367698"
      ]
     },
     "execution_count": 173,
     "metadata": {},
     "output_type": "execute_result"
    }
   ],
   "source": [
    "sffs.best_score_"
   ]
  },
  {
   "cell_type": "code",
   "execution_count": 174,
   "metadata": {
    "ExecuteTime": {
     "end_time": "2018-10-13T20:50:36.635186Z",
     "start_time": "2018-10-13T20:50:36.597209Z"
    }
   },
   "outputs": [
    {
     "data": {
      "text/html": [
       "<div>\n",
       "<style scoped>\n",
       "    .dataframe tbody tr th:only-of-type {\n",
       "        vertical-align: middle;\n",
       "    }\n",
       "\n",
       "    .dataframe tbody tr th {\n",
       "        vertical-align: top;\n",
       "    }\n",
       "\n",
       "    .dataframe thead th {\n",
       "        text-align: right;\n",
       "    }\n",
       "</style>\n",
       "<table border=\"1\" class=\"dataframe\">\n",
       "  <thead>\n",
       "    <tr style=\"text-align: right;\">\n",
       "      <th></th>\n",
       "      <th>feature_names</th>\n",
       "      <th>avg_score</th>\n",
       "      <th>std_dev</th>\n",
       "      <th>holdout_score</th>\n",
       "      <th>cv_scores</th>\n",
       "      <th>min_cv_score</th>\n",
       "      <th>max_cv_score</th>\n",
       "      <th>trained_model</th>\n",
       "    </tr>\n",
       "  </thead>\n",
       "  <tbody>\n",
       "    <tr>\n",
       "      <th>6</th>\n",
       "      <td>[D2_PFD_L 5, D2_NET_RATING_L 5, D2_EFG_PCT_L 5...</td>\n",
       "      <td>0.671854</td>\n",
       "      <td>0.063385</td>\n",
       "      <td>0.60</td>\n",
       "      <td>[0.7319587628865979, 0.7010309278350515, 0.587...</td>\n",
       "      <td>0.572917</td>\n",
       "      <td>0.760417</td>\n",
       "      <td>GaussianNB(priors=None)</td>\n",
       "    </tr>\n",
       "    <tr>\n",
       "      <th>86</th>\n",
       "      <td>[D2_PFD_L 5, D2_NET_RATING_L 5, D2_EFG_PCT_L 5...</td>\n",
       "      <td>0.666645</td>\n",
       "      <td>0.065323</td>\n",
       "      <td>0.61</td>\n",
       "      <td>[0.711340206185567, 0.7319587628865979, 0.5773...</td>\n",
       "      <td>0.562500</td>\n",
       "      <td>0.731959</td>\n",
       "      <td>GaussianNB(priors=None)</td>\n",
       "    </tr>\n",
       "    <tr>\n",
       "      <th>120</th>\n",
       "      <td>[D2_PFD_L 5, D2_NET_RATING_L 5, D2_EFG_PCT_L 5...</td>\n",
       "      <td>0.666645</td>\n",
       "      <td>0.065323</td>\n",
       "      <td>0.61</td>\n",
       "      <td>[0.711340206185567, 0.7319587628865979, 0.5773...</td>\n",
       "      <td>0.562500</td>\n",
       "      <td>0.731959</td>\n",
       "      <td>GaussianNB(priors=None)</td>\n",
       "    </tr>\n",
       "    <tr>\n",
       "      <th>359</th>\n",
       "      <td>[D2_PFD_L 5, D2_NET_RATING_L 5, D2_EFG_PCT_L 5...</td>\n",
       "      <td>0.665646</td>\n",
       "      <td>0.061719</td>\n",
       "      <td>0.60</td>\n",
       "      <td>[0.6804123711340206, 0.7010309278350515, 0.597...</td>\n",
       "      <td>0.562500</td>\n",
       "      <td>0.729167</td>\n",
       "      <td>GaussianNB(priors=None)</td>\n",
       "    </tr>\n",
       "    <tr>\n",
       "      <th>409</th>\n",
       "      <td>[D2_PFD_L 5, D2_NET_RATING_L 5, D2_EFG_PCT_L 5...</td>\n",
       "      <td>0.665636</td>\n",
       "      <td>0.055693</td>\n",
       "      <td>0.62</td>\n",
       "      <td>[0.6701030927835051, 0.711340206185567, 0.6082...</td>\n",
       "      <td>0.583333</td>\n",
       "      <td>0.781250</td>\n",
       "      <td>GaussianNB(priors=None)</td>\n",
       "    </tr>\n",
       "    <tr>\n",
       "      <th>8</th>\n",
       "      <td>[D2_PFD_L 5, D2_NET_RATING_L 5, D2_EFG_PCT_L 5...</td>\n",
       "      <td>0.665636</td>\n",
       "      <td>0.057535</td>\n",
       "      <td>0.59</td>\n",
       "      <td>[0.6804123711340206, 0.7216494845360825, 0.587...</td>\n",
       "      <td>0.583333</td>\n",
       "      <td>0.760417</td>\n",
       "      <td>GaussianNB(priors=None)</td>\n",
       "    </tr>\n",
       "    <tr>\n",
       "      <th>282</th>\n",
       "      <td>[D2_PFD_L 5, D2_NET_RATING_L 5, D2_EFG_PCT_L 5...</td>\n",
       "      <td>0.665614</td>\n",
       "      <td>0.063806</td>\n",
       "      <td>0.63</td>\n",
       "      <td>[0.6701030927835051, 0.7216494845360825, 0.618...</td>\n",
       "      <td>0.562500</td>\n",
       "      <td>0.750000</td>\n",
       "      <td>GaussianNB(priors=None)</td>\n",
       "    </tr>\n",
       "    <tr>\n",
       "      <th>333</th>\n",
       "      <td>[D2_PFD_L 5, D2_NET_RATING_L 5, D2_EFG_PCT_L 5...</td>\n",
       "      <td>0.664594</td>\n",
       "      <td>0.069793</td>\n",
       "      <td>0.60</td>\n",
       "      <td>[0.711340206185567, 0.711340206185567, 0.56701...</td>\n",
       "      <td>0.552083</td>\n",
       "      <td>0.739583</td>\n",
       "      <td>GaussianNB(priors=None)</td>\n",
       "    </tr>\n",
       "    <tr>\n",
       "      <th>260</th>\n",
       "      <td>[D2_PFD_L 5, D2_NET_RATING_L 5, D2_EFG_PCT_L 5...</td>\n",
       "      <td>0.664562</td>\n",
       "      <td>0.071521</td>\n",
       "      <td>0.60</td>\n",
       "      <td>[0.7216494845360825, 0.711340206185567, 0.5876...</td>\n",
       "      <td>0.531250</td>\n",
       "      <td>0.750000</td>\n",
       "      <td>GaussianNB(priors=None)</td>\n",
       "    </tr>\n",
       "    <tr>\n",
       "      <th>136</th>\n",
       "      <td>[D2_PFD_L 5, D2_NET_RATING_L 5, D2_EFG_PCT_L 5...</td>\n",
       "      <td>0.664540</td>\n",
       "      <td>0.074887</td>\n",
       "      <td>0.57</td>\n",
       "      <td>[0.7216494845360825, 0.7216494845360825, 0.597...</td>\n",
       "      <td>0.510417</td>\n",
       "      <td>0.739583</td>\n",
       "      <td>GaussianNB(priors=None)</td>\n",
       "    </tr>\n",
       "  </tbody>\n",
       "</table>\n",
       "</div>"
      ],
      "text/plain": [
       "                                         feature_names  avg_score   std_dev  \\\n",
       "6    [D2_PFD_L 5, D2_NET_RATING_L 5, D2_EFG_PCT_L 5...   0.671854  0.063385   \n",
       "86   [D2_PFD_L 5, D2_NET_RATING_L 5, D2_EFG_PCT_L 5...   0.666645  0.065323   \n",
       "120  [D2_PFD_L 5, D2_NET_RATING_L 5, D2_EFG_PCT_L 5...   0.666645  0.065323   \n",
       "359  [D2_PFD_L 5, D2_NET_RATING_L 5, D2_EFG_PCT_L 5...   0.665646  0.061719   \n",
       "409  [D2_PFD_L 5, D2_NET_RATING_L 5, D2_EFG_PCT_L 5...   0.665636  0.055693   \n",
       "8    [D2_PFD_L 5, D2_NET_RATING_L 5, D2_EFG_PCT_L 5...   0.665636  0.057535   \n",
       "282  [D2_PFD_L 5, D2_NET_RATING_L 5, D2_EFG_PCT_L 5...   0.665614  0.063806   \n",
       "333  [D2_PFD_L 5, D2_NET_RATING_L 5, D2_EFG_PCT_L 5...   0.664594  0.069793   \n",
       "260  [D2_PFD_L 5, D2_NET_RATING_L 5, D2_EFG_PCT_L 5...   0.664562  0.071521   \n",
       "136  [D2_PFD_L 5, D2_NET_RATING_L 5, D2_EFG_PCT_L 5...   0.664540  0.074887   \n",
       "\n",
       "     holdout_score                                          cv_scores  \\\n",
       "6             0.60  [0.7319587628865979, 0.7010309278350515, 0.587...   \n",
       "86            0.61  [0.711340206185567, 0.7319587628865979, 0.5773...   \n",
       "120           0.61  [0.711340206185567, 0.7319587628865979, 0.5773...   \n",
       "359           0.60  [0.6804123711340206, 0.7010309278350515, 0.597...   \n",
       "409           0.62  [0.6701030927835051, 0.711340206185567, 0.6082...   \n",
       "8             0.59  [0.6804123711340206, 0.7216494845360825, 0.587...   \n",
       "282           0.63  [0.6701030927835051, 0.7216494845360825, 0.618...   \n",
       "333           0.60  [0.711340206185567, 0.711340206185567, 0.56701...   \n",
       "260           0.60  [0.7216494845360825, 0.711340206185567, 0.5876...   \n",
       "136           0.57  [0.7216494845360825, 0.7216494845360825, 0.597...   \n",
       "\n",
       "     min_cv_score  max_cv_score            trained_model  \n",
       "6        0.572917      0.760417  GaussianNB(priors=None)  \n",
       "86       0.562500      0.731959  GaussianNB(priors=None)  \n",
       "120      0.562500      0.731959  GaussianNB(priors=None)  \n",
       "359      0.562500      0.729167  GaussianNB(priors=None)  \n",
       "409      0.583333      0.781250  GaussianNB(priors=None)  \n",
       "8        0.583333      0.760417  GaussianNB(priors=None)  \n",
       "282      0.562500      0.750000  GaussianNB(priors=None)  \n",
       "333      0.552083      0.739583  GaussianNB(priors=None)  \n",
       "260      0.531250      0.750000  GaussianNB(priors=None)  \n",
       "136      0.510417      0.739583  GaussianNB(priors=None)  "
      ]
     },
     "execution_count": 174,
     "metadata": {},
     "output_type": "execute_result"
    }
   ],
   "source": [
    "df_results = pd.DataFrame(sffs.metric_dict).sort_values(\"avg_score\", ascending=False)\n",
    "df_results.head(10)"
   ]
  },
  {
   "cell_type": "code",
   "execution_count": 176,
   "metadata": {
    "ExecuteTime": {
     "end_time": "2018-10-13T20:50:44.562885Z",
     "start_time": "2018-10-13T20:50:44.556886Z"
    }
   },
   "outputs": [
    {
     "data": {
      "text/plain": [
       "['D2_PFD_L 5', 'D2_NET_RATING_L 5', 'D2_EFG_PCT_L 5', 'C1_TO_L 5']"
      ]
     },
     "execution_count": 176,
     "metadata": {},
     "output_type": "execute_result"
    }
   ],
   "source": [
    "df_results.iloc[0,0]"
   ]
  },
  {
   "cell_type": "code",
   "execution_count": 177,
   "metadata": {
    "ExecuteTime": {
     "end_time": "2018-10-13T20:50:58.664791Z",
     "start_time": "2018-10-13T20:50:58.594813Z"
    }
   },
   "outputs": [
    {
     "name": "stdout",
     "output_type": "stream",
     "text": [
      "[0.7319587628865979, 0.7010309278350515, 0.5876288659793815, 0.6458333333333334, 0.5729166666666666, 0.59375, 0.7083333333333334, 0.7604166666666666, 0.71875, 0.6979166666666666]\n",
      "0.6718535223367698\n"
     ]
    }
   ],
   "source": [
    "current_X = X[df_results.iloc[0,0]]\n",
    "                \n",
    "cv = KFold(10)    \n",
    "score_folds = []\n",
    "for train_index, test_index in cv.split(current_X):\n",
    "    test_model = sklearn.base.clone(GaussianNB())\n",
    "    test_model.fit(current_X.iloc[train_index], y[train_index])\n",
    "\n",
    "    y_test_pred = test_model.predict(current_X.iloc[test_index])\n",
    "    y_test_true = y[test_index]\n",
    "    score_folds.append(accuracy_score(y_test_true, y_test_pred))\n",
    "    \n",
    "print(score_folds)\n",
    "print(np.mean(score_folds))"
   ]
  },
  {
   "cell_type": "code",
   "execution_count": 155,
   "metadata": {
    "ExecuteTime": {
     "end_time": "2018-10-13T02:12:38.725488Z",
     "start_time": "2018-10-13T02:12:38.719511Z"
    },
    "collapsed": true
   },
   "outputs": [],
   "source": [
    "vclf = VotingClassifier(df_results.head(5)[\"trained_model\"], n_jobs=3)"
   ]
  },
  {
   "cell_type": "code",
   "execution_count": 156,
   "metadata": {
    "ExecuteTime": {
     "end_time": "2018-10-13T02:12:40.133682Z",
     "start_time": "2018-10-13T02:12:40.116695Z"
    }
   },
   "outputs": [
    {
     "ename": "TypeError",
     "evalue": "zip argument #1 must support iteration",
     "output_type": "error",
     "traceback": [
      "\u001b[1;31m---------------------------------------------------------------------------\u001b[0m",
      "\u001b[1;31mTypeError\u001b[0m                                 Traceback (most recent call last)",
      "\u001b[1;32m<ipython-input-156-8b584e087b9a>\u001b[0m in \u001b[0;36m<module>\u001b[1;34m()\u001b[0m\n\u001b[1;32m----> 1\u001b[1;33m \u001b[0mvclf\u001b[0m\u001b[1;33m.\u001b[0m\u001b[0mfit\u001b[0m\u001b[1;33m(\u001b[0m\u001b[0mX\u001b[0m\u001b[1;33m,\u001b[0m \u001b[0my\u001b[0m\u001b[1;33m)\u001b[0m\u001b[1;33m\u001b[0m\u001b[0m\n\u001b[0m",
      "\u001b[1;32m~\\Anaconda3\\lib\\site-packages\\sklearn\\ensemble\\voting_classifier.py\u001b[0m in \u001b[0;36mfit\u001b[1;34m(self, X, y, sample_weight)\u001b[0m\n\u001b[0;32m    170\u001b[0m                     raise ValueError('Underlying estimator \\'%s\\' does not'\n\u001b[0;32m    171\u001b[0m                                      ' support sample weights.' % name)\n\u001b[1;32m--> 172\u001b[1;33m         \u001b[0mnames\u001b[0m\u001b[1;33m,\u001b[0m \u001b[0mclfs\u001b[0m \u001b[1;33m=\u001b[0m \u001b[0mzip\u001b[0m\u001b[1;33m(\u001b[0m\u001b[1;33m*\u001b[0m\u001b[0mself\u001b[0m\u001b[1;33m.\u001b[0m\u001b[0mestimators\u001b[0m\u001b[1;33m)\u001b[0m\u001b[1;33m\u001b[0m\u001b[0m\n\u001b[0m\u001b[0;32m    173\u001b[0m         \u001b[0mself\u001b[0m\u001b[1;33m.\u001b[0m\u001b[0m_validate_names\u001b[0m\u001b[1;33m(\u001b[0m\u001b[0mnames\u001b[0m\u001b[1;33m)\u001b[0m\u001b[1;33m\u001b[0m\u001b[0m\n\u001b[0;32m    174\u001b[0m \u001b[1;33m\u001b[0m\u001b[0m\n",
      "\u001b[1;31mTypeError\u001b[0m: zip argument #1 must support iteration"
     ]
    }
   ],
   "source": [
    "vclf.fit(X, y)"
   ]
  },
  {
   "cell_type": "code",
   "execution_count": 151,
   "metadata": {
    "ExecuteTime": {
     "end_time": "2018-10-13T02:00:02.606955Z",
     "start_time": "2018-10-13T02:00:02.509924Z"
    }
   },
   "outputs": [
    {
     "ename": "NotFittedError",
     "evalue": "This VotingClassifier instance is not fitted yet. Call 'fit' with appropriate arguments before using this method.",
     "output_type": "error",
     "traceback": [
      "\u001b[1;31m---------------------------------------------------------------------------\u001b[0m",
      "\u001b[1;31mNotFittedError\u001b[0m                            Traceback (most recent call last)",
      "\u001b[1;32m<ipython-input-151-39a8dd01b5ac>\u001b[0m in \u001b[0;36m<module>\u001b[1;34m()\u001b[0m\n\u001b[1;32m----> 1\u001b[1;33m \u001b[0mvclf\u001b[0m\u001b[1;33m.\u001b[0m\u001b[0mpredict\u001b[0m\u001b[1;33m(\u001b[0m\u001b[0mout_of_time\u001b[0m\u001b[1;33m[\u001b[0m\u001b[0mto_keep\u001b[0m\u001b[1;33m]\u001b[0m\u001b[1;33m)\u001b[0m\u001b[1;33m\u001b[0m\u001b[0m\n\u001b[0m",
      "\u001b[1;32m~\\Anaconda3\\lib\\site-packages\\sklearn\\ensemble\\voting_classifier.py\u001b[0m in \u001b[0;36mpredict\u001b[1;34m(self, X)\u001b[0m\n\u001b[0;32m    214\u001b[0m         \"\"\"\n\u001b[0;32m    215\u001b[0m \u001b[1;33m\u001b[0m\u001b[0m\n\u001b[1;32m--> 216\u001b[1;33m         \u001b[0mcheck_is_fitted\u001b[0m\u001b[1;33m(\u001b[0m\u001b[0mself\u001b[0m\u001b[1;33m,\u001b[0m \u001b[1;34m'estimators_'\u001b[0m\u001b[1;33m)\u001b[0m\u001b[1;33m\u001b[0m\u001b[0m\n\u001b[0m\u001b[0;32m    217\u001b[0m         \u001b[1;32mif\u001b[0m \u001b[0mself\u001b[0m\u001b[1;33m.\u001b[0m\u001b[0mvoting\u001b[0m \u001b[1;33m==\u001b[0m \u001b[1;34m'soft'\u001b[0m\u001b[1;33m:\u001b[0m\u001b[1;33m\u001b[0m\u001b[0m\n\u001b[0;32m    218\u001b[0m             \u001b[0mmaj\u001b[0m \u001b[1;33m=\u001b[0m \u001b[0mnp\u001b[0m\u001b[1;33m.\u001b[0m\u001b[0margmax\u001b[0m\u001b[1;33m(\u001b[0m\u001b[0mself\u001b[0m\u001b[1;33m.\u001b[0m\u001b[0mpredict_proba\u001b[0m\u001b[1;33m(\u001b[0m\u001b[0mX\u001b[0m\u001b[1;33m)\u001b[0m\u001b[1;33m,\u001b[0m \u001b[0maxis\u001b[0m\u001b[1;33m=\u001b[0m\u001b[1;36m1\u001b[0m\u001b[1;33m)\u001b[0m\u001b[1;33m\u001b[0m\u001b[0m\n",
      "\u001b[1;32m~\\Anaconda3\\lib\\site-packages\\sklearn\\utils\\validation.py\u001b[0m in \u001b[0;36mcheck_is_fitted\u001b[1;34m(estimator, attributes, msg, all_or_any)\u001b[0m\n\u001b[0;32m    766\u001b[0m \u001b[1;33m\u001b[0m\u001b[0m\n\u001b[0;32m    767\u001b[0m     \u001b[1;32mif\u001b[0m \u001b[1;32mnot\u001b[0m \u001b[0mall_or_any\u001b[0m\u001b[1;33m(\u001b[0m\u001b[1;33m[\u001b[0m\u001b[0mhasattr\u001b[0m\u001b[1;33m(\u001b[0m\u001b[0mestimator\u001b[0m\u001b[1;33m,\u001b[0m \u001b[0mattr\u001b[0m\u001b[1;33m)\u001b[0m \u001b[1;32mfor\u001b[0m \u001b[0mattr\u001b[0m \u001b[1;32min\u001b[0m \u001b[0mattributes\u001b[0m\u001b[1;33m]\u001b[0m\u001b[1;33m)\u001b[0m\u001b[1;33m:\u001b[0m\u001b[1;33m\u001b[0m\u001b[0m\n\u001b[1;32m--> 768\u001b[1;33m         \u001b[1;32mraise\u001b[0m \u001b[0mNotFittedError\u001b[0m\u001b[1;33m(\u001b[0m\u001b[0mmsg\u001b[0m \u001b[1;33m%\u001b[0m \u001b[1;33m{\u001b[0m\u001b[1;34m'name'\u001b[0m\u001b[1;33m:\u001b[0m \u001b[0mtype\u001b[0m\u001b[1;33m(\u001b[0m\u001b[0mestimator\u001b[0m\u001b[1;33m)\u001b[0m\u001b[1;33m.\u001b[0m\u001b[0m__name__\u001b[0m\u001b[1;33m}\u001b[0m\u001b[1;33m)\u001b[0m\u001b[1;33m\u001b[0m\u001b[0m\n\u001b[0m\u001b[0;32m    769\u001b[0m \u001b[1;33m\u001b[0m\u001b[0m\n\u001b[0;32m    770\u001b[0m \u001b[1;33m\u001b[0m\u001b[0m\n",
      "\u001b[1;31mNotFittedError\u001b[0m: This VotingClassifier instance is not fitted yet. Call 'fit' with appropriate arguments before using this method."
     ]
    }
   ],
   "source": [
    "vclf.predict(out_of_time[to_keep])"
   ]
  }
 ],
 "metadata": {
  "kernelspec": {
   "display_name": "Python 3",
   "language": "python",
   "name": "python3"
  },
  "language_info": {
   "codemirror_mode": {
    "name": "ipython",
    "version": 3
   },
   "file_extension": ".py",
   "mimetype": "text/x-python",
   "name": "python",
   "nbconvert_exporter": "python",
   "pygments_lexer": "ipython3",
   "version": "3.6.3"
  },
  "toc": {
   "base_numbering": 1,
   "nav_menu": {},
   "number_sections": true,
   "sideBar": true,
   "skip_h1_title": false,
   "title_cell": "Table of Contents",
   "title_sidebar": "Contents",
   "toc_cell": false,
   "toc_position": {},
   "toc_section_display": true,
   "toc_window_display": false
  },
  "varInspector": {
   "cols": {
    "lenName": 16,
    "lenType": 16,
    "lenVar": 40
   },
   "kernels_config": {
    "python": {
     "delete_cmd_postfix": "",
     "delete_cmd_prefix": "del ",
     "library": "var_list.py",
     "varRefreshCmd": "print(var_dic_list())"
    },
    "r": {
     "delete_cmd_postfix": ") ",
     "delete_cmd_prefix": "rm(",
     "library": "var_list.r",
     "varRefreshCmd": "cat(var_dic_list()) "
    }
   },
   "types_to_exclude": [
    "module",
    "function",
    "builtin_function_or_method",
    "instance",
    "_Feature"
   ],
   "window_display": true
  }
 },
 "nbformat": 4,
 "nbformat_minor": 2
}
