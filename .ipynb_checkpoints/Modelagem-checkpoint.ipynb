{
 "cells": [
  {
   "cell_type": "code",
   "execution_count": 1,
   "metadata": {},
   "outputs": [],
   "source": [
    "import pandas as pd\n",
    "import numpy as np\n",
    "import os\n",
    "from datetime import datetime"
   ]
  },
  {
   "cell_type": "code",
   "execution_count": 8,
   "metadata": {},
   "outputs": [],
   "source": [
    "base_modelagem = pd.read_csv(\"base_modelagem.csv\", index_col = 0)"
   ]
  },
  {
   "cell_type": "code",
   "execution_count": 164,
   "metadata": {},
   "outputs": [],
   "source": [
    "base_modelagem[\"week\"] = [datetime.strptime(x, '%Y-%m-%d').isocalendar()[1] for x in base_modelagem.date]"
   ]
  },
  {
   "cell_type": "code",
   "execution_count": 9,
   "metadata": {},
   "outputs": [
    {
     "name": "stdout",
     "output_type": "stream",
     "text": [
      "['team_home', 'PTS_home', 'team_away', 'PTS_away', 'date', 'season', 'team_home_game_num', 'team_away_game_num', 'fl_playoff', 'FG_home_last_5_games', 'FGA_home_last_5_games', 'FG%_home_last_5_games', '3P_home_last_5_games', '3PA_home_last_5_games', '3P%_home_last_5_games', 'FT_home_last_5_games', 'FTA_home_last_5_games', 'FT%_home_last_5_games', 'ORB_home_last_5_games', 'DRB_home_last_5_games', 'TRB_home_last_5_games', 'AST_home_last_5_games', 'STL_home_last_5_games', 'BLK_home_last_5_games', 'TOV_home_last_5_games', 'PF_home_last_5_games', 'PTS_home_last_5_games', 'TS%_home_last_5_games', 'eFG%_home_last_5_games', '3PAr_home_last_5_games', 'FTr_home_last_5_games', 'ORB%_home_last_5_games', 'DRB%_home_last_5_games', 'TRB%_home_last_5_games', 'AST%_home_last_5_games', 'STL%_home_last_5_games', 'BLK%_home_last_5_games', 'TOV%_home_last_5_games', 'USG%_home_last_5_games', 'ORtg_home_last_5_games', 'DRtg_home_last_5_games', 'FG_away_last_5_games', 'FGA_away_last_5_games', 'FG%_away_last_5_games', '3P_away_last_5_games', '3PA_away_last_5_games', '3P%_away_last_5_games', 'FT_away_last_5_games', 'FTA_away_last_5_games', 'FT%_away_last_5_games', 'ORB_away_last_5_games', 'DRB_away_last_5_games', 'TRB_away_last_5_games', 'AST_away_last_5_games', 'STL_away_last_5_games', 'BLK_away_last_5_games', 'TOV_away_last_5_games', 'PF_away_last_5_games', 'PTS_away_last_5_games', 'TS%_away_last_5_games', 'eFG%_away_last_5_games', '3PAr_away_last_5_games', 'FTr_away_last_5_games', 'ORB%_away_last_5_games', 'DRB%_away_last_5_games', 'TRB%_away_last_5_games', 'AST%_away_last_5_games', 'STL%_away_last_5_games', 'BLK%_away_last_5_games', 'TOV%_away_last_5_games', 'USG%_away_last_5_games', 'ORtg_away_last_5_games', 'DRtg_away_last_5_games', 'FG_against_home_last_5_games', 'FGA_against_home_last_5_games', 'FG%_against_home_last_5_games', '3P_against_home_last_5_games', '3PA_against_home_last_5_games', '3P%_against_home_last_5_games', 'FT_against_home_last_5_games', 'FTA_against_home_last_5_games', 'FT%_against_home_last_5_games', 'ORB_against_home_last_5_games', 'DRB_against_home_last_5_games', 'TRB_against_home_last_5_games', 'AST_against_home_last_5_games', 'STL_against_home_last_5_games', 'BLK_against_home_last_5_games', 'TOV_against_home_last_5_games', 'PF_against_home_last_5_games', 'PTS_against_home_last_5_games', 'TS%_against_home_last_5_games', 'eFG%_against_home_last_5_games', '3PAr_against_home_last_5_games', 'FTr_against_home_last_5_games', 'ORB%_against_home_last_5_games', 'DRB%_against_home_last_5_games', 'TRB%_against_home_last_5_games', 'AST%_against_home_last_5_games', 'STL%_against_home_last_5_games', 'BLK%_against_home_last_5_games', 'TOV%_against_home_last_5_games', 'USG%_against_home_last_5_games', 'ORtg_against_home_last_5_games', 'DRtg_against_home_last_5_games', 'FG_against_away_last_5_games', 'FGA_against_away_last_5_games', 'FG%_against_away_last_5_games', '3P_against_away_last_5_games', '3PA_against_away_last_5_games', '3P%_against_away_last_5_games', 'FT_against_away_last_5_games', 'FTA_against_away_last_5_games', 'FT%_against_away_last_5_games', 'ORB_against_away_last_5_games', 'DRB_against_away_last_5_games', 'TRB_against_away_last_5_games', 'AST_against_away_last_5_games', 'STL_against_away_last_5_games', 'BLK_against_away_last_5_games', 'TOV_against_away_last_5_games', 'PF_against_away_last_5_games', 'PTS_against_away_last_5_games', 'TS%_against_away_last_5_games', 'eFG%_against_away_last_5_games', '3PAr_against_away_last_5_games', 'FTr_against_away_last_5_games', 'ORB%_against_away_last_5_games', 'DRB%_against_away_last_5_games', 'TRB%_against_away_last_5_games', 'AST%_against_away_last_5_games', 'STL%_against_away_last_5_games', 'BLK%_against_away_last_5_games', 'TOV%_against_away_last_5_games', 'USG%_against_away_last_5_games', 'ORtg_against_away_last_5_games', 'DRtg_against_away_last_5_games', 'fl_home_win']\n"
     ]
    }
   ],
   "source": [
    "print(list(base_modelagem.columns))"
   ]
  },
  {
   "cell_type": "code",
   "execution_count": 15,
   "metadata": {},
   "outputs": [],
   "source": [
    "filtrada = base_modelagem[(base_modelagem.season == 2017) & \n",
    "                           (base_modelagem.team_home_game_num > 5) & \n",
    "                           (base_modelagem.team_away_game_num > 5) &\n",
    "                           (base_modelagem.fl_playoff == 0)]\n",
    "len(filtrada)"
   ]
  },
  {
   "cell_type": "code",
   "execution_count": 19,
   "metadata": {},
   "outputs": [
    {
     "data": {
      "text/plain": [
       "1    0.585458\n",
       "0    0.414542\n",
       "Name: fl_home_win, dtype: float64"
      ]
     },
     "execution_count": 19,
     "metadata": {},
     "output_type": "execute_result"
    }
   ],
   "source": [
    "filtrada.fl_home_win.value_counts()/len(filtrada)"
   ]
  },
  {
   "cell_type": "code",
   "execution_count": 21,
   "metadata": {},
   "outputs": [
    {
     "name": "stderr",
     "output_type": "stream",
     "text": [
      "C:\\Users\\rafae\\Anaconda3\\lib\\site-packages\\ipykernel_launcher.py:7: SettingWithCopyWarning: \n",
      "A value is trying to be set on a copy of a slice from a DataFrame.\n",
      "Try using .loc[row_indexer,col_indexer] = value instead\n",
      "\n",
      "See the caveats in the documentation: http://pandas.pydata.org/pandas-docs/stable/indexing.html#indexing-view-versus-copy\n",
      "  import sys\n",
      "C:\\Users\\rafae\\Anaconda3\\lib\\site-packages\\ipykernel_launcher.py:8: SettingWithCopyWarning: \n",
      "A value is trying to be set on a copy of a slice from a DataFrame.\n",
      "Try using .loc[row_indexer,col_indexer] = value instead\n",
      "\n",
      "See the caveats in the documentation: http://pandas.pydata.org/pandas-docs/stable/indexing.html#indexing-view-versus-copy\n",
      "  \n",
      "C:\\Users\\rafae\\Anaconda3\\lib\\site-packages\\ipykernel_launcher.py:9: SettingWithCopyWarning: \n",
      "A value is trying to be set on a copy of a slice from a DataFrame.\n",
      "Try using .loc[row_indexer,col_indexer] = value instead\n",
      "\n",
      "See the caveats in the documentation: http://pandas.pydata.org/pandas-docs/stable/indexing.html#indexing-view-versus-copy\n",
      "  if __name__ == '__main__':\n"
     ]
    }
   ],
   "source": [
    "columns_subtract = ['FG', 'FGA', 'FG%', '3P', '3PA', '3P%', 'FT',\n",
    "       'FTA', 'FT%', 'ORB', 'DRB', 'TRB', 'AST', 'STL', 'BLK', 'TOV', 'PF',\n",
    "       'PTS', 'TS%', 'eFG%', '3PAr', 'FTr', 'ORB%', 'DRB%', 'TRB%',\n",
    "       'AST%', 'STL%', 'BLK%', 'TOV%', 'USG%', 'ORtg', 'DRtg']\n",
    "\n",
    "for column in columns_subtract:\n",
    "    filtrada[\"delta_\" + column] = filtrada[column + \"_home_last_5_games\"] - filtrada[column + \"_away_last_5_games\"]\n",
    "    filtrada[\"delta_against_home_\" + column] = filtrada[column + \"_against_home_last_5_games\"] - filtrada[column + \"_away_last_5_games\"]\n",
    "    filtrada[\"delta_against_away_\" + column] = filtrada[column + \"_against_away_last_5_games\"] - filtrada[column + \"_home_last_5_games\"]"
   ]
  },
  {
   "cell_type": "code",
   "execution_count": 25,
   "metadata": {},
   "outputs": [
    {
     "name": "stdout",
     "output_type": "stream",
     "text": [
      "['team_home', 'PTS_home', 'team_away', 'PTS_away', 'date', 'season', 'team_home_game_num', 'team_away_game_num', 'fl_playoff', 'FG_home_last_5_games', 'FGA_home_last_5_games', 'FG%_home_last_5_games', '3P_home_last_5_games', '3PA_home_last_5_games', '3P%_home_last_5_games', 'FT_home_last_5_games', 'FTA_home_last_5_games', 'FT%_home_last_5_games', 'ORB_home_last_5_games', 'DRB_home_last_5_games', 'TRB_home_last_5_games', 'AST_home_last_5_games', 'STL_home_last_5_games', 'BLK_home_last_5_games', 'TOV_home_last_5_games', 'PF_home_last_5_games', 'PTS_home_last_5_games', 'TS%_home_last_5_games', 'eFG%_home_last_5_games', '3PAr_home_last_5_games', 'FTr_home_last_5_games', 'ORB%_home_last_5_games', 'DRB%_home_last_5_games', 'TRB%_home_last_5_games', 'AST%_home_last_5_games', 'STL%_home_last_5_games', 'BLK%_home_last_5_games', 'TOV%_home_last_5_games', 'USG%_home_last_5_games', 'ORtg_home_last_5_games', 'DRtg_home_last_5_games', 'FG_away_last_5_games', 'FGA_away_last_5_games', 'FG%_away_last_5_games', '3P_away_last_5_games', '3PA_away_last_5_games', '3P%_away_last_5_games', 'FT_away_last_5_games', 'FTA_away_last_5_games', 'FT%_away_last_5_games', 'ORB_away_last_5_games', 'DRB_away_last_5_games', 'TRB_away_last_5_games', 'AST_away_last_5_games', 'STL_away_last_5_games', 'BLK_away_last_5_games', 'TOV_away_last_5_games', 'PF_away_last_5_games', 'PTS_away_last_5_games', 'TS%_away_last_5_games', 'eFG%_away_last_5_games', '3PAr_away_last_5_games', 'FTr_away_last_5_games', 'ORB%_away_last_5_games', 'DRB%_away_last_5_games', 'TRB%_away_last_5_games', 'AST%_away_last_5_games', 'STL%_away_last_5_games', 'BLK%_away_last_5_games', 'TOV%_away_last_5_games', 'USG%_away_last_5_games', 'ORtg_away_last_5_games', 'DRtg_away_last_5_games', 'FG_against_home_last_5_games', 'FGA_against_home_last_5_games', 'FG%_against_home_last_5_games', '3P_against_home_last_5_games', '3PA_against_home_last_5_games', '3P%_against_home_last_5_games', 'FT_against_home_last_5_games', 'FTA_against_home_last_5_games', 'FT%_against_home_last_5_games', 'ORB_against_home_last_5_games', 'DRB_against_home_last_5_games', 'TRB_against_home_last_5_games', 'AST_against_home_last_5_games', 'STL_against_home_last_5_games', 'BLK_against_home_last_5_games', 'TOV_against_home_last_5_games', 'PF_against_home_last_5_games', 'PTS_against_home_last_5_games', 'TS%_against_home_last_5_games', 'eFG%_against_home_last_5_games', '3PAr_against_home_last_5_games', 'FTr_against_home_last_5_games', 'ORB%_against_home_last_5_games', 'DRB%_against_home_last_5_games', 'TRB%_against_home_last_5_games', 'AST%_against_home_last_5_games', 'STL%_against_home_last_5_games', 'BLK%_against_home_last_5_games', 'TOV%_against_home_last_5_games', 'USG%_against_home_last_5_games', 'ORtg_against_home_last_5_games', 'DRtg_against_home_last_5_games', 'FG_against_away_last_5_games', 'FGA_against_away_last_5_games', 'FG%_against_away_last_5_games', '3P_against_away_last_5_games', '3PA_against_away_last_5_games', '3P%_against_away_last_5_games', 'FT_against_away_last_5_games', 'FTA_against_away_last_5_games', 'FT%_against_away_last_5_games', 'ORB_against_away_last_5_games', 'DRB_against_away_last_5_games', 'TRB_against_away_last_5_games', 'AST_against_away_last_5_games', 'STL_against_away_last_5_games', 'BLK_against_away_last_5_games', 'TOV_against_away_last_5_games', 'PF_against_away_last_5_games', 'PTS_against_away_last_5_games', 'TS%_against_away_last_5_games', 'eFG%_against_away_last_5_games', '3PAr_against_away_last_5_games', 'FTr_against_away_last_5_games', 'ORB%_against_away_last_5_games', 'DRB%_against_away_last_5_games', 'TRB%_against_away_last_5_games', 'AST%_against_away_last_5_games', 'STL%_against_away_last_5_games', 'BLK%_against_away_last_5_games', 'TOV%_against_away_last_5_games', 'USG%_against_away_last_5_games', 'ORtg_against_away_last_5_games', 'DRtg_against_away_last_5_games', 'fl_home_win', 'delta_FG', 'delta_against_home_FG', 'delta_against_away_FG', 'delta_FGA', 'delta_against_home_FGA', 'delta_against_away_FGA', 'delta_FG%', 'delta_against_home_FG%', 'delta_against_away_FG%', 'delta_3P', 'delta_against_home_3P', 'delta_against_away_3P', 'delta_3PA', 'delta_against_home_3PA', 'delta_against_away_3PA', 'delta_3P%', 'delta_against_home_3P%', 'delta_against_away_3P%', 'delta_FT', 'delta_against_home_FT', 'delta_against_away_FT', 'delta_FTA', 'delta_against_home_FTA', 'delta_against_away_FTA', 'delta_FT%', 'delta_against_home_FT%', 'delta_against_away_FT%', 'delta_ORB', 'delta_against_home_ORB', 'delta_against_away_ORB', 'delta_DRB', 'delta_against_home_DRB', 'delta_against_away_DRB', 'delta_TRB', 'delta_against_home_TRB', 'delta_against_away_TRB', 'delta_AST', 'delta_against_home_AST', 'delta_against_away_AST', 'delta_STL', 'delta_against_home_STL', 'delta_against_away_STL', 'delta_BLK', 'delta_against_home_BLK', 'delta_against_away_BLK', 'delta_TOV', 'delta_against_home_TOV', 'delta_against_away_TOV', 'delta_PF', 'delta_against_home_PF', 'delta_against_away_PF', 'delta_PTS', 'delta_against_home_PTS', 'delta_against_away_PTS', 'delta_TS%', 'delta_against_home_TS%', 'delta_against_away_TS%', 'delta_eFG%', 'delta_against_home_eFG%', 'delta_against_away_eFG%', 'delta_3PAr', 'delta_against_home_3PAr', 'delta_against_away_3PAr', 'delta_FTr', 'delta_against_home_FTr', 'delta_against_away_FTr', 'delta_ORB%', 'delta_against_home_ORB%', 'delta_against_away_ORB%', 'delta_DRB%', 'delta_against_home_DRB%', 'delta_against_away_DRB%', 'delta_TRB%', 'delta_against_home_TRB%', 'delta_against_away_TRB%', 'delta_AST%', 'delta_against_home_AST%', 'delta_against_away_AST%', 'delta_STL%', 'delta_against_home_STL%', 'delta_against_away_STL%', 'delta_BLK%', 'delta_against_home_BLK%', 'delta_against_away_BLK%', 'delta_TOV%', 'delta_against_home_TOV%', 'delta_against_away_TOV%', 'delta_USG%', 'delta_against_home_USG%', 'delta_against_away_USG%', 'delta_ORtg', 'delta_against_home_ORtg', 'delta_against_away_ORtg', 'delta_DRtg', 'delta_against_home_DRtg', 'delta_against_away_DRtg']\n"
     ]
    }
   ],
   "source": [
    "print(list(filtrada.columns))"
   ]
  },
  {
   "cell_type": "code",
   "execution_count": 26,
   "metadata": {},
   "outputs": [
    {
     "data": {
      "text/html": [
       "<div>\n",
       "<style>\n",
       "    .dataframe thead tr:only-child th {\n",
       "        text-align: right;\n",
       "    }\n",
       "\n",
       "    .dataframe thead th {\n",
       "        text-align: left;\n",
       "    }\n",
       "\n",
       "    .dataframe tbody tr th {\n",
       "        vertical-align: top;\n",
       "    }\n",
       "</style>\n",
       "<table border=\"1\" class=\"dataframe\">\n",
       "  <thead>\n",
       "    <tr style=\"text-align: right;\">\n",
       "      <th></th>\n",
       "      <th>team_home</th>\n",
       "      <th>PTS_home</th>\n",
       "      <th>team_away</th>\n",
       "      <th>PTS_away</th>\n",
       "      <th>date</th>\n",
       "      <th>season</th>\n",
       "      <th>team_home_game_num</th>\n",
       "      <th>team_away_game_num</th>\n",
       "      <th>fl_playoff</th>\n",
       "      <th>FG_home_last_5_games</th>\n",
       "      <th>...</th>\n",
       "      <th>delta_against_away_TOV%</th>\n",
       "      <th>delta_USG%</th>\n",
       "      <th>delta_against_home_USG%</th>\n",
       "      <th>delta_against_away_USG%</th>\n",
       "      <th>delta_ORtg</th>\n",
       "      <th>delta_against_home_ORtg</th>\n",
       "      <th>delta_against_away_ORtg</th>\n",
       "      <th>delta_DRtg</th>\n",
       "      <th>delta_against_home_DRtg</th>\n",
       "      <th>delta_against_away_DRtg</th>\n",
       "    </tr>\n",
       "  </thead>\n",
       "  <tbody>\n",
       "    <tr>\n",
       "      <th>DEN @ MEM 2016-11-08</th>\n",
       "      <td>MEM</td>\n",
       "      <td>108.0</td>\n",
       "      <td>DEN</td>\n",
       "      <td>107.0</td>\n",
       "      <td>2016-11-08</td>\n",
       "      <td>2017</td>\n",
       "      <td>6</td>\n",
       "      <td>6</td>\n",
       "      <td>0</td>\n",
       "      <td>32.2</td>\n",
       "      <td>...</td>\n",
       "      <td>-3.64</td>\n",
       "      <td>0.0</td>\n",
       "      <td>0.0</td>\n",
       "      <td>0.0</td>\n",
       "      <td>-9.50</td>\n",
       "      <td>-1.50</td>\n",
       "      <td>10.28</td>\n",
       "      <td>-2.28</td>\n",
       "      <td>-10.28</td>\n",
       "      <td>1.50</td>\n",
       "    </tr>\n",
       "    <tr>\n",
       "      <th>DEN @ POR 2016-11-13</th>\n",
       "      <td>POR</td>\n",
       "      <td>112.0</td>\n",
       "      <td>DEN</td>\n",
       "      <td>105.0</td>\n",
       "      <td>2016-11-13</td>\n",
       "      <td>2017</td>\n",
       "      <td>6</td>\n",
       "      <td>7</td>\n",
       "      <td>0</td>\n",
       "      <td>37.8</td>\n",
       "      <td>...</td>\n",
       "      <td>-2.34</td>\n",
       "      <td>0.0</td>\n",
       "      <td>0.0</td>\n",
       "      <td>0.0</td>\n",
       "      <td>3.68</td>\n",
       "      <td>5.92</td>\n",
       "      <td>4.16</td>\n",
       "      <td>-1.92</td>\n",
       "      <td>-4.16</td>\n",
       "      <td>-5.92</td>\n",
       "    </tr>\n",
       "    <tr>\n",
       "      <th>ORL @ IND 2016-11-14</th>\n",
       "      <td>IND</td>\n",
       "      <td>88.0</td>\n",
       "      <td>ORL</td>\n",
       "      <td>69.0</td>\n",
       "      <td>2016-11-14</td>\n",
       "      <td>2017</td>\n",
       "      <td>6</td>\n",
       "      <td>6</td>\n",
       "      <td>0</td>\n",
       "      <td>42.0</td>\n",
       "      <td>...</td>\n",
       "      <td>-3.46</td>\n",
       "      <td>0.0</td>\n",
       "      <td>0.0</td>\n",
       "      <td>0.0</td>\n",
       "      <td>5.58</td>\n",
       "      <td>6.78</td>\n",
       "      <td>6.78</td>\n",
       "      <td>-5.58</td>\n",
       "      <td>-6.78</td>\n",
       "      <td>-6.78</td>\n",
       "    </tr>\n",
       "    <tr>\n",
       "      <th>BOS @ NOP 2016-11-14</th>\n",
       "      <td>NOP</td>\n",
       "      <td>106.0</td>\n",
       "      <td>BOS</td>\n",
       "      <td>105.0</td>\n",
       "      <td>2016-11-14</td>\n",
       "      <td>2017</td>\n",
       "      <td>6</td>\n",
       "      <td>6</td>\n",
       "      <td>0</td>\n",
       "      <td>39.6</td>\n",
       "      <td>...</td>\n",
       "      <td>2.28</td>\n",
       "      <td>0.0</td>\n",
       "      <td>0.0</td>\n",
       "      <td>0.0</td>\n",
       "      <td>-5.16</td>\n",
       "      <td>3.26</td>\n",
       "      <td>8.24</td>\n",
       "      <td>0.18</td>\n",
       "      <td>-8.24</td>\n",
       "      <td>-3.26</td>\n",
       "    </tr>\n",
       "    <tr>\n",
       "      <th>CHI @ POR 2016-11-15</th>\n",
       "      <td>POR</td>\n",
       "      <td>88.0</td>\n",
       "      <td>CHI</td>\n",
       "      <td>113.0</td>\n",
       "      <td>2016-11-15</td>\n",
       "      <td>2017</td>\n",
       "      <td>7</td>\n",
       "      <td>6</td>\n",
       "      <td>0</td>\n",
       "      <td>38.4</td>\n",
       "      <td>...</td>\n",
       "      <td>0.78</td>\n",
       "      <td>0.0</td>\n",
       "      <td>0.0</td>\n",
       "      <td>0.0</td>\n",
       "      <td>0.46</td>\n",
       "      <td>3.40</td>\n",
       "      <td>-4.90</td>\n",
       "      <td>7.84</td>\n",
       "      <td>4.90</td>\n",
       "      <td>-3.40</td>\n",
       "    </tr>\n",
       "  </tbody>\n",
       "</table>\n",
       "<p>5 rows × 234 columns</p>\n",
       "</div>"
      ],
      "text/plain": [
       "                     team_home  PTS_home team_away  PTS_away        date  \\\n",
       "DEN @ MEM 2016-11-08       MEM     108.0       DEN     107.0  2016-11-08   \n",
       "DEN @ POR 2016-11-13       POR     112.0       DEN     105.0  2016-11-13   \n",
       "ORL @ IND 2016-11-14       IND      88.0       ORL      69.0  2016-11-14   \n",
       "BOS @ NOP 2016-11-14       NOP     106.0       BOS     105.0  2016-11-14   \n",
       "CHI @ POR 2016-11-15       POR      88.0       CHI     113.0  2016-11-15   \n",
       "\n",
       "                      season  team_home_game_num  team_away_game_num  \\\n",
       "DEN @ MEM 2016-11-08    2017                   6                   6   \n",
       "DEN @ POR 2016-11-13    2017                   6                   7   \n",
       "ORL @ IND 2016-11-14    2017                   6                   6   \n",
       "BOS @ NOP 2016-11-14    2017                   6                   6   \n",
       "CHI @ POR 2016-11-15    2017                   7                   6   \n",
       "\n",
       "                      fl_playoff  FG_home_last_5_games  \\\n",
       "DEN @ MEM 2016-11-08           0                  32.2   \n",
       "DEN @ POR 2016-11-13           0                  37.8   \n",
       "ORL @ IND 2016-11-14           0                  42.0   \n",
       "BOS @ NOP 2016-11-14           0                  39.6   \n",
       "CHI @ POR 2016-11-15           0                  38.4   \n",
       "\n",
       "                               ...             delta_against_away_TOV%  \\\n",
       "DEN @ MEM 2016-11-08           ...                               -3.64   \n",
       "DEN @ POR 2016-11-13           ...                               -2.34   \n",
       "ORL @ IND 2016-11-14           ...                               -3.46   \n",
       "BOS @ NOP 2016-11-14           ...                                2.28   \n",
       "CHI @ POR 2016-11-15           ...                                0.78   \n",
       "\n",
       "                      delta_USG%  delta_against_home_USG%  \\\n",
       "DEN @ MEM 2016-11-08         0.0                      0.0   \n",
       "DEN @ POR 2016-11-13         0.0                      0.0   \n",
       "ORL @ IND 2016-11-14         0.0                      0.0   \n",
       "BOS @ NOP 2016-11-14         0.0                      0.0   \n",
       "CHI @ POR 2016-11-15         0.0                      0.0   \n",
       "\n",
       "                      delta_against_away_USG%  delta_ORtg  \\\n",
       "DEN @ MEM 2016-11-08                      0.0       -9.50   \n",
       "DEN @ POR 2016-11-13                      0.0        3.68   \n",
       "ORL @ IND 2016-11-14                      0.0        5.58   \n",
       "BOS @ NOP 2016-11-14                      0.0       -5.16   \n",
       "CHI @ POR 2016-11-15                      0.0        0.46   \n",
       "\n",
       "                      delta_against_home_ORtg  delta_against_away_ORtg  \\\n",
       "DEN @ MEM 2016-11-08                    -1.50                    10.28   \n",
       "DEN @ POR 2016-11-13                     5.92                     4.16   \n",
       "ORL @ IND 2016-11-14                     6.78                     6.78   \n",
       "BOS @ NOP 2016-11-14                     3.26                     8.24   \n",
       "CHI @ POR 2016-11-15                     3.40                    -4.90   \n",
       "\n",
       "                      delta_DRtg  delta_against_home_DRtg  \\\n",
       "DEN @ MEM 2016-11-08       -2.28                   -10.28   \n",
       "DEN @ POR 2016-11-13       -1.92                    -4.16   \n",
       "ORL @ IND 2016-11-14       -5.58                    -6.78   \n",
       "BOS @ NOP 2016-11-14        0.18                    -8.24   \n",
       "CHI @ POR 2016-11-15        7.84                     4.90   \n",
       "\n",
       "                      delta_against_away_DRtg  \n",
       "DEN @ MEM 2016-11-08                     1.50  \n",
       "DEN @ POR 2016-11-13                    -5.92  \n",
       "ORL @ IND 2016-11-14                    -6.78  \n",
       "BOS @ NOP 2016-11-14                    -3.26  \n",
       "CHI @ POR 2016-11-15                    -3.40  \n",
       "\n",
       "[5 rows x 234 columns]"
      ]
     },
     "execution_count": 26,
     "metadata": {},
     "output_type": "execute_result"
    }
   ],
   "source": [
    "filtrada.head()"
   ]
  },
  {
   "cell_type": "code",
   "execution_count": 29,
   "metadata": {},
   "outputs": [],
   "source": [
    "columns_to_drop = ['team_home', 'PTS_home', 'team_away', 'PTS_away', 'date',\n",
    "                   'season', 'team_home_game_num', 'team_away_game_num', 'fl_playoff']\n",
    "filtrada = filtrada.drop(columns_to_drop, axis=1)"
   ]
  },
  {
   "cell_type": "code",
   "execution_count": 41,
   "metadata": {},
   "outputs": [],
   "source": [
    "base_modelo = filtrada.iloc[0:(len(filtrada) - 100)]"
   ]
  },
  {
   "cell_type": "code",
   "execution_count": 42,
   "metadata": {},
   "outputs": [],
   "source": [
    "out_of_time = filtrada.iloc[(len(filtrada) - 100):len(filtrada)]"
   ]
  },
  {
   "cell_type": "markdown",
   "metadata": {},
   "source": [
    "### Modelagem"
   ]
  },
  {
   "cell_type": "code",
   "execution_count": 115,
   "metadata": {},
   "outputs": [],
   "source": [
    "from modelagem_ale import modelagem"
   ]
  },
  {
   "cell_type": "code",
   "execution_count": 87,
   "metadata": {},
   "outputs": [],
   "source": [
    "from sklearn.model_selection import train_test_split\n",
    "from sklearn.model_selection import GridSearchCV\n",
    "from sklearn.metrics import classification_report\n",
    "from sklearn.metrics import confusion_matrix\n",
    "from sklearn.svm import SVC\n",
    "from sklearn.tree import DecisionTreeClassifier\n",
    "from sklearn.ensemble import RandomForestClassifier"
   ]
  },
  {
   "cell_type": "code",
   "execution_count": 50,
   "metadata": {},
   "outputs": [],
   "source": [
    "X = base_modelo.drop(\"fl_home_win\", axis=1)\n",
    "y = base_modelo[\"fl_home_win\"]"
   ]
  },
  {
   "cell_type": "code",
   "execution_count": 58,
   "metadata": {},
   "outputs": [
    {
     "name": "stdout",
     "output_type": "stream",
     "text": [
      "575 384\n"
     ]
    }
   ],
   "source": [
    "X_train, X_test, y_train, y_test = train_test_split(\n",
    "    X, y, test_size=0.4, random_state=0)\n",
    "print(len(X_train), len(X_test))"
   ]
  },
  {
   "cell_type": "code",
   "execution_count": 111,
   "metadata": {},
   "outputs": [
    {
     "data": {
      "text/plain": [
       "0.123"
      ]
     },
     "execution_count": 111,
     "metadata": {},
     "output_type": "execute_result"
    }
   ],
   "source": [
    "data[\"FG%_home\"] = [float(str(x).replace(\",\", \".\")) for x in data[\"FG%_home\"]]"
   ]
  },
  {
   "cell_type": "code",
   "execution_count": 116,
   "metadata": {},
   "outputs": [],
   "source": [
    "modelagem = modelagem(\"class\")"
   ]
  },
  {
   "cell_type": "code",
   "execution_count": 127,
   "metadata": {},
   "outputs": [
    {
     "name": "stdout",
     "output_type": "stream",
     "text": [
      "Criando objeto do algoritmo escolhido ...\n",
      "Iniciando treinamento ...\n",
      "Avalidando modelo ...\n",
      "Tempo de execução em h:m:s : 0:00:48\n"
     ]
    }
   ],
   "source": [
    "parametros = {\n",
    "    \"n_estimators\": [18, 20, 22, 25],\n",
    "    \"max_depth\": [13, 15],\n",
    "    \"min_samples_leaf\": [7, 10, 15],\n",
    "    \"n_jobs\": [2]\n",
    "}\n",
    "\n",
    "data, feat, cm_train,cm_test,model,grid = modelagem.model_experiment(parametros, \n",
    "                                                                       X_train, y_train.to_frame(), \n",
    "                                                                       X_test, y_test.to_frame(),\n",
    "                                                                       'regular',\n",
    "                                                                       'acc',\n",
    "                                                                       'rf',\n",
    "                                                                       cv = 5,\n",
    "                                                                      )"
   ]
  },
  {
   "cell_type": "code",
   "execution_count": 128,
   "metadata": {},
   "outputs": [
    {
     "data": {
      "text/plain": [
       "RandomForestClassifier(bootstrap=True, class_weight=None, criterion='gini',\n",
       "            max_depth=13, max_features='auto', max_leaf_nodes=None,\n",
       "            min_impurity_decrease=0.0, min_impurity_split=None,\n",
       "            min_samples_leaf=10, min_samples_split=2,\n",
       "            min_weight_fraction_leaf=0.0, n_estimators=25, n_jobs=2,\n",
       "            oob_score=False, random_state=1234, verbose=0,\n",
       "            warm_start=False)"
      ]
     },
     "execution_count": 128,
     "metadata": {},
     "output_type": "execute_result"
    }
   ],
   "source": [
    "model"
   ]
  },
  {
   "cell_type": "code",
   "execution_count": 129,
   "metadata": {},
   "outputs": [
    {
     "data": {
      "text/html": [
       "<div>\n",
       "<style>\n",
       "    .dataframe thead tr:only-child th {\n",
       "        text-align: right;\n",
       "    }\n",
       "\n",
       "    .dataframe thead th {\n",
       "        text-align: left;\n",
       "    }\n",
       "\n",
       "    .dataframe tbody tr th {\n",
       "        vertical-align: top;\n",
       "    }\n",
       "</style>\n",
       "<table border=\"1\" class=\"dataframe\">\n",
       "  <thead>\n",
       "    <tr style=\"text-align: right;\">\n",
       "      <th></th>\n",
       "      <th>rf_Treino</th>\n",
       "      <th>rf_Teste</th>\n",
       "    </tr>\n",
       "  </thead>\n",
       "  <tbody>\n",
       "    <tr>\n",
       "      <th>ROC</th>\n",
       "      <td>0.869804</td>\n",
       "      <td>0.587657</td>\n",
       "    </tr>\n",
       "    <tr>\n",
       "      <th>ACC</th>\n",
       "      <td>0.890435</td>\n",
       "      <td>0.611979</td>\n",
       "    </tr>\n",
       "    <tr>\n",
       "      <th>RECALL</th>\n",
       "      <td>0.976676</td>\n",
       "      <td>0.790698</td>\n",
       "    </tr>\n",
       "    <tr>\n",
       "      <th>PREC</th>\n",
       "      <td>0.858974</td>\n",
       "      <td>0.620438</td>\n",
       "    </tr>\n",
       "    <tr>\n",
       "      <th>F1</th>\n",
       "      <td>0.914052</td>\n",
       "      <td>0.695297</td>\n",
       "    </tr>\n",
       "    <tr>\n",
       "      <th>COHEN KAPPA</th>\n",
       "      <td>0.764673</td>\n",
       "      <td>0.182114</td>\n",
       "    </tr>\n",
       "    <tr>\n",
       "      <th>LOG LOSS</th>\n",
       "      <td>3.784325</td>\n",
       "      <td>13.401981</td>\n",
       "    </tr>\n",
       "  </tbody>\n",
       "</table>\n",
       "</div>"
      ],
      "text/plain": [
       "             rf_Treino   rf_Teste\n",
       "ROC           0.869804   0.587657\n",
       "ACC           0.890435   0.611979\n",
       "RECALL        0.976676   0.790698\n",
       "PREC          0.858974   0.620438\n",
       "F1            0.914052   0.695297\n",
       "COHEN KAPPA   0.764673   0.182114\n",
       "LOG LOSS      3.784325  13.401981"
      ]
     },
     "execution_count": 129,
     "metadata": {},
     "output_type": "execute_result"
    }
   ],
   "source": [
    "data"
   ]
  },
  {
   "cell_type": "code",
   "execution_count": 105,
   "metadata": {},
   "outputs": [
    {
     "data": {
      "text/plain": [
       "GridSearchCV(cv=5, error_score='raise',\n",
       "       estimator=RandomForestClassifier(bootstrap=True, class_weight=None, criterion='gini',\n",
       "            max_depth=None, max_features='auto', max_leaf_nodes=None,\n",
       "            min_impurity_decrease=0.0, min_impurity_split=None,\n",
       "            min_samples_leaf=1, min_samples_split=2,\n",
       "            min_weight_fraction_leaf=0.0, n_estimators=10, n_jobs=1,\n",
       "            oob_score=False, random_state=None, verbose=0,\n",
       "            warm_start=False),\n",
       "       fit_params=None, iid=True, n_jobs=2,\n",
       "       param_grid={'n_estimators': [18, 20], 'max_depth': [15, 20, 25], 'min_samples_leaf': [7, 10, 15], 'n_jobs': [2]},\n",
       "       pre_dispatch='2*n_jobs', refit=True, return_train_score='warn',\n",
       "       scoring='accuracy', verbose=0)"
      ]
     },
     "execution_count": 105,
     "metadata": {},
     "output_type": "execute_result"
    }
   ],
   "source": [
    "clf = GridSearchCV(RandomForestClassifier(), parametros, cv=5,\n",
    "                       scoring='accuracy', n_jobs=2)\n",
    "clf.fit(X_train, y_train)"
   ]
  },
  {
   "cell_type": "code",
   "execution_count": 106,
   "metadata": {},
   "outputs": [
    {
     "data": {
      "text/plain": [
       "RandomForestClassifier(bootstrap=True, class_weight=None, criterion='gini',\n",
       "            max_depth=25, max_features='auto', max_leaf_nodes=None,\n",
       "            min_impurity_decrease=0.0, min_impurity_split=None,\n",
       "            min_samples_leaf=15, min_samples_split=2,\n",
       "            min_weight_fraction_leaf=0.0, n_estimators=20, n_jobs=2,\n",
       "            oob_score=False, random_state=None, verbose=0,\n",
       "            warm_start=False)"
      ]
     },
     "execution_count": 106,
     "metadata": {},
     "output_type": "execute_result"
    }
   ],
   "source": [
    "clf.best_estimator_"
   ]
  },
  {
   "cell_type": "code",
   "execution_count": 130,
   "metadata": {},
   "outputs": [
    {
     "name": "stdout",
     "output_type": "stream",
     "text": [
      "             precision    recall  f1-score   support\n",
      "\n",
      "   away win       0.59      0.38      0.47       169\n",
      "   home win       0.62      0.79      0.70       215\n",
      "\n",
      "avg / total       0.61      0.61      0.59       384\n",
      "\n"
     ]
    }
   ],
   "source": [
    "y_true, y_pred = y_test, model.predict(X_test)\n",
    "print(classification_report(y_true, y_pred, target_names=[\"away win\", \"home win\"]))"
   ]
  },
  {
   "cell_type": "code",
   "execution_count": 131,
   "metadata": {},
   "outputs": [
    {
     "data": {
      "text/html": [
       "<div>\n",
       "<style>\n",
       "    .dataframe thead tr:only-child th {\n",
       "        text-align: right;\n",
       "    }\n",
       "\n",
       "    .dataframe thead th {\n",
       "        text-align: left;\n",
       "    }\n",
       "\n",
       "    .dataframe tbody tr th {\n",
       "        vertical-align: top;\n",
       "    }\n",
       "</style>\n",
       "<table border=\"1\" class=\"dataframe\">\n",
       "  <thead>\n",
       "    <tr style=\"text-align: right;\">\n",
       "      <th></th>\n",
       "      <th>0</th>\n",
       "      <th>1</th>\n",
       "    </tr>\n",
       "  </thead>\n",
       "  <tbody>\n",
       "    <tr>\n",
       "      <th>0</th>\n",
       "      <td>65</td>\n",
       "      <td>104</td>\n",
       "    </tr>\n",
       "    <tr>\n",
       "      <th>1</th>\n",
       "      <td>45</td>\n",
       "      <td>170</td>\n",
       "    </tr>\n",
       "  </tbody>\n",
       "</table>\n",
       "</div>"
      ],
      "text/plain": [
       "    0    1\n",
       "0  65  104\n",
       "1  45  170"
      ]
     },
     "execution_count": 131,
     "metadata": {},
     "output_type": "execute_result"
    }
   ],
   "source": [
    "pd.DataFrame(confusion_matrix(y_true, y_pred))"
   ]
  },
  {
   "cell_type": "code",
   "execution_count": null,
   "metadata": {},
   "outputs": [],
   "source": []
  }
 ],
 "metadata": {
  "kernelspec": {
   "display_name": "Python 3",
   "language": "python",
   "name": "python3"
  },
  "language_info": {
   "codemirror_mode": {
    "name": "ipython",
    "version": 3
   },
   "file_extension": ".py",
   "mimetype": "text/x-python",
   "name": "python",
   "nbconvert_exporter": "python",
   "pygments_lexer": "ipython3",
   "version": "3.6.3"
  }
 },
 "nbformat": 4,
 "nbformat_minor": 2
}
