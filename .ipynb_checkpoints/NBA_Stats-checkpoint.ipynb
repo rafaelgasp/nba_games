{
 "cells": [
  {
   "cell_type": "code",
   "execution_count": 131,
   "metadata": {
    "ExecuteTime": {
     "end_time": "2018-09-04T01:57:28.939109Z",
     "start_time": "2018-09-04T01:57:28.710116Z"
    },
    "collapsed": true
   },
   "outputs": [],
   "source": [
    "import selenium\n",
    "import pandas as pd\n",
    "import numpy as np\n",
    "import os\n",
    "import time\n",
    "from datetime import datetime\n",
    "from selenium import webdriver\n",
    "from selenium.webdriver.support.ui import WebDriverWait\n",
    "from selenium.webdriver.support import expected_conditions as EC\n",
    "from selenium.webdriver.common.by import By\n",
    "import json\n",
    "import requests\n",
    "%matplotlib inline\n",
    "import pickle"
   ]
  },
  {
   "cell_type": "code",
   "execution_count": 120,
   "metadata": {
    "ExecuteTime": {
     "end_time": "2018-09-04T01:53:23.549720Z",
     "start_time": "2018-09-04T01:53:22.570834Z"
    }
   },
   "outputs": [],
   "source": [
    "url = 'https://stats.nba.com/stats/boxscoredefensive'\n",
    "\n",
    "params = {\n",
    "    'EndPeriod':10,\n",
    "    'EndRange':28800,\n",
    "    'GameID':'0021700784',\n",
    "    'RangeType':0,\n",
    "    'Season':2017-18,\n",
    "    'SeasonType':'Regular+Season',\n",
    "    'StartPeriod':1,\n",
    "    'StartRange':0\n",
    "}\n",
    "\n",
    "headers = {\n",
    "    'User-Agent': 'Mozilla/5.0 (Macintosh; Intel Mac OS X 10_11_6) AppleWebKit/537.36 (KHTML, like Gecko) Chrome/61.0.3163.100 Safari/537.36'\n",
    "}\n",
    "\n",
    "resp = requests.get(url=url, params=params, headers=headers)"
   ]
  },
  {
   "cell_type": "code",
   "execution_count": 65,
   "metadata": {
    "ExecuteTime": {
     "end_time": "2018-09-04T01:22:10.734392Z",
     "start_time": "2018-09-04T01:22:10.424025Z"
    },
    "collapsed": true
   },
   "outputs": [],
   "source": [
    "resp = requests.get(url=\"https://data.nba.com/data/10s/v2015/json/mobile_teams/nba/2017/scores/gamedetail/0021700784_gamedetail.json\",\n",
    "                    params=params, headers=headers)"
   ]
  },
  {
   "cell_type": "code",
   "execution_count": 142,
   "metadata": {
    "ExecuteTime": {
     "end_time": "2018-09-04T10:00:55.701456Z",
     "start_time": "2018-09-04T10:00:55.691456Z"
    },
    "collapsed": true
   },
   "outputs": [],
   "source": [
    "def get_date_place(game_id):\n",
    "    #0021700784\n",
    "    try:\n",
    "        resp = requests.get(url=\"https://data.nba.com/data/10s/v2015/json/mobile_teams/nba/2017/scores/gamedetail/\"+ game_id +\"_gamedetail.json\",\n",
    "                            headers=headers)\n",
    "        data = resp.json()[\"g\"][\"gdte\"]\n",
    "        place = resp.json()[\"g\"][\"an\"]\n",
    "    except:\n",
    "        data = \"NaN\"\n",
    "        place = \"NaN\"\n",
    "    \n",
    "    return(data, place)"
   ]
  },
  {
   "cell_type": "code",
   "execution_count": 143,
   "metadata": {
    "ExecuteTime": {
     "end_time": "2018-09-04T10:00:56.691660Z",
     "start_time": "2018-09-04T10:00:56.671698Z"
    },
    "collapsed": true
   },
   "outputs": [],
   "source": [
    "def get_df_nba_json(resp_json, date_place = False):\n",
    "    dict_resp = resp_json['resultSets'][0]\n",
    "    df_resp = pd.DataFrame(dict_resp[\"rowSet\"])\n",
    "    df_resp.columns = dict_resp[\"headers\"]\n",
    "    \n",
    "    if(date_place):\n",
    "        game_date, game_place = get_date_place(df_resp.GAME_ID.iloc[0])\n",
    "\n",
    "        df_resp[\"GAME_DATE\"] = np.repeat(game_date, len(df_resp))\n",
    "        df_resp[\"GAME_PLACE\"] = np.repeat(game_place, len(df_resp))\n",
    "\n",
    "        teams = df_resp.TEAM_ABBREVIATION.unique()\n",
    "\n",
    "        df_resp[\"GAME\"] = np.repeat(teams[0] + \" @ \" + teams[1] + \" \" + game_date, len(df_resp))\n",
    "    \n",
    "    return(df_resp)"
   ]
  },
  {
   "cell_type": "code",
   "execution_count": 144,
   "metadata": {
    "ExecuteTime": {
     "end_time": "2018-09-04T10:00:57.170272Z",
     "start_time": "2018-09-04T10:00:57.157296Z"
    },
    "collapsed": true
   },
   "outputs": [],
   "source": [
    "def junta_df_tipos(df_tipos):\n",
    "    resp = df_tipos[0]\n",
    "    for i in range(1, len(df_tipos)):\n",
    "        junta = df_tipos[i]\n",
    "        colunas_repetidas = list(set(junta.columns).intersection(resp.columns))\n",
    "        junta = junta.drop(colunas_repetidas, axis=1, errors=\"ignore\")\n",
    "        \n",
    "        resp = resp.merge(junta, how=\"left\", \n",
    "                          left_index=True, right_index=True)\n",
    "    return(resp)"
   ]
  },
  {
   "cell_type": "code",
   "execution_count": 117,
   "metadata": {
    "ExecuteTime": {
     "end_time": "2018-09-04T01:51:58.746235Z",
     "start_time": "2018-09-04T01:51:58.740750Z"
    },
    "collapsed": true
   },
   "outputs": [],
   "source": [
    "lista_sites = [\"traditional\", \"advanced\", \"scoring\", \"misc\", \"usage\", \"fourfactors\", \"playertrack\", \"hustle\", \"defensive\"]"
   ]
  },
  {
   "cell_type": "code",
   "execution_count": 99,
   "metadata": {
    "ExecuteTime": {
     "end_time": "2018-09-04T01:37:55.885244Z",
     "start_time": "2018-09-04T01:37:55.877757Z"
    },
    "collapsed": true
   },
   "outputs": [],
   "source": [
    "game_ids = []\n",
    "for i in range(1, 1231):\n",
    "    game_ids.append(\"002170\" + ('{0:0>4}'.format(i)))"
   ]
  },
  {
   "cell_type": "code",
   "execution_count": 141,
   "metadata": {
    "ExecuteTime": {
     "end_time": "2018-09-04T10:00:40.541909Z",
     "start_time": "2018-09-04T10:00:40.537917Z"
    },
    "collapsed": true
   },
   "outputs": [],
   "source": [
    "erros = []"
   ]
  },
  {
   "cell_type": "code",
   "execution_count": 160,
   "metadata": {
    "ExecuteTime": {
     "end_time": "2018-09-05T00:48:19.609536Z",
     "start_time": "2018-09-05T00:27:09.219209Z"
    }
   },
   "outputs": [
    {
     "name": "stdout",
     "output_type": "stream",
     "text": [
      "0021700184 - defensive                \r"
     ]
    }
   ],
   "source": [
    "params = {\n",
    "    'EndPeriod':10,\n",
    "    'EndRange':28800,\n",
    "    'GameID':'0021700784',\n",
    "    'RangeType':0,\n",
    "    'Season':2017-18,\n",
    "    'SeasonType':'Regular+Season',\n",
    "    'StartPeriod':1,\n",
    "    'StartRange':0\n",
    "}\n",
    "\n",
    "headers = {\n",
    "    'User-Agent': 'Mozilla/5.0 (Macintosh; Intel Mac OS X 10_11_6) AppleWebKit/537.36 (KHTML, like Gecko) Chrome/61.0.3163.100 Safari/537.36'\n",
    "}\n",
    "\n",
    "df_full = []\n",
    "\n",
    "for game_id in game_ids[:184]:\n",
    "    \n",
    "    df_tipos = []\n",
    "    \n",
    "    try:\n",
    "        game_date, game_place = get_date_place(game_id)\n",
    "\n",
    "        for site in lista_sites:\n",
    "            if(site == \"hustle\"):\n",
    "                url = \"https://stats.nba.com/stats/hustlestatsboxscore\"\n",
    "\n",
    "            elif(site == \"defensive\"):\n",
    "                url = \"https://stats.nba.com/stats/boxscore\" + site\n",
    "\n",
    "            else:\n",
    "                url = \"https://stats.nba.com/stats/boxscore\" + site + \"v2\"\n",
    "\n",
    "            print(game_id + \" - \" + site + \"              \", end=\"\\r\")\n",
    "\n",
    "            params[\"GameID\"] = game_id\n",
    "\n",
    "            resp = requests.get(url=url, params=params, headers=headers)\n",
    "            #time.sleep(0.5)\n",
    "\n",
    "            df_tipos.append(get_df_nba_json(resp.json()))\n",
    "\n",
    "        df_resp = junta_df_tipos(df_tipos)\n",
    "        df_resp[\"GAME_DATE\"] = np.repeat(game_date, len(df_resp))\n",
    "        df_resp[\"GAME_PLACE\"] = np.repeat(game_place, len(df_resp))\n",
    "\n",
    "        teams = df_resp.TEAM_ABBREVIATION.unique()\n",
    "        df_resp[\"GAME\"] = np.repeat(teams[0] + \" @ \" + teams[1] + \" \" + game_date, len(df_resp))\n",
    "\n",
    "        df_full.append(df_resp.set_index(\"GAME\"))\n",
    "\n",
    "        pickle.dump(df_full, open(\"df_full_1.p\", \"wb\"))\n",
    "    except:\n",
    "        erros.append(game_id)\n",
    "        time.sleep(3)\n",
    "    "
   ]
  },
  {
   "cell_type": "code",
   "execution_count": 161,
   "metadata": {
    "ExecuteTime": {
     "end_time": "2018-09-05T00:51:48.498206Z",
     "start_time": "2018-09-05T00:51:47.859876Z"
    },
    "collapsed": true
   },
   "outputs": [],
   "source": [
    "df_full_1 = pd.concat(df_full)"
   ]
  },
  {
   "cell_type": "code",
   "execution_count": 147,
   "metadata": {
    "ExecuteTime": {
     "end_time": "2018-09-05T00:11:59.274948Z",
     "start_time": "2018-09-05T00:11:56.318388Z"
    }
   },
   "outputs": [],
   "source": [
    "df_full_junto = pd.concat(df_full)"
   ]
  },
  {
   "cell_type": "code",
   "execution_count": 165,
   "metadata": {
    "ExecuteTime": {
     "end_time": "2018-09-05T00:53:03.142882Z",
     "start_time": "2018-09-05T00:53:03.060006Z"
    },
    "collapsed": true
   },
   "outputs": [],
   "source": [
    "base_nba = pd.concat([df_full_1, df_full_junto])"
   ]
  },
  {
   "cell_type": "code",
   "execution_count": 173,
   "metadata": {
    "ExecuteTime": {
     "end_time": "2018-09-05T01:04:35.627820Z",
     "start_time": "2018-09-05T01:04:35.621834Z"
    }
   },
   "outputs": [
    {
     "data": {
      "text/plain": [
       "(30980, 121)"
      ]
     },
     "execution_count": 173,
     "metadata": {},
     "output_type": "execute_result"
    }
   ],
   "source": [
    "base_nba.shape"
   ]
  },
  {
   "cell_type": "code",
   "execution_count": 175,
   "metadata": {
    "ExecuteTime": {
     "end_time": "2018-09-05T01:04:53.740775Z",
     "start_time": "2018-09-05T01:04:53.732786Z"
    }
   },
   "outputs": [
    {
     "name": "stdout",
     "output_type": "stream",
     "text": [
      "['GAME_ID', 'TEAM_ID', 'TEAM_ABBREVIATION', 'TEAM_CITY', 'PLAYER_ID', 'PLAYER_NAME', 'START_POSITION', 'COMMENT', 'MIN', 'FGM', 'FGA', 'FG_PCT', 'FG3M', 'FG3A', 'FG3_PCT', 'FTM', 'FTA', 'FT_PCT', 'OREB', 'DREB', 'REB', 'AST', 'STL', 'BLK', 'TO', 'PF', 'PTS', 'PLUS_MINUS', 'OFF_RATING', 'DEF_RATING', 'NET_RATING', 'AST_PCT', 'AST_TOV', 'AST_RATIO', 'OREB_PCT', 'DREB_PCT', 'REB_PCT', 'TM_TOV_PCT', 'EFG_PCT', 'TS_PCT', 'USG_PCT', 'PACE', 'PIE', 'PCT_FGA_2PT', 'PCT_FGA_3PT', 'PCT_PTS_2PT', 'PCT_PTS_2PT_MR', 'PCT_PTS_3PT', 'PCT_PTS_FB', 'PCT_PTS_FT', 'PCT_PTS_OFF_TOV', 'PCT_PTS_PAINT', 'PCT_AST_2PM', 'PCT_UAST_2PM', 'PCT_AST_3PM', 'PCT_UAST_3PM', 'PCT_AST_FGM', 'PCT_UAST_FGM', 'PTS_OFF_TOV', 'PTS_2ND_CHANCE', 'PTS_FB', 'PTS_PAINT', 'OPP_PTS_OFF_TOV', 'OPP_PTS_2ND_CHANCE', 'OPP_PTS_FB', 'OPP_PTS_PAINT', 'BLKA', 'PFD', 'PCT_FGM', 'PCT_FGA', 'PCT_FG3M', 'PCT_FG3A', 'PCT_FTM', 'PCT_FTA', 'PCT_OREB', 'PCT_DREB', 'PCT_REB', 'PCT_AST', 'PCT_TOV', 'PCT_STL', 'PCT_BLK', 'PCT_BLKA', 'PCT_PF', 'PCT_PFD', 'PCT_PTS', 'FTA_RATE', 'OPP_EFG_PCT', 'OPP_FTA_RATE', 'OPP_TOV_PCT', 'OPP_OREB_PCT', 'SPD', 'DIST', 'ORBC', 'DRBC', 'RBC', 'TCHS', 'SAST', 'FTAST', 'PASS', 'CFGM', 'CFGA', 'CFG_PCT', 'UFGM', 'UFGA', 'UFG_PCT', 'DFGM', 'DFGA', 'DFG_PCT', 'HUSTLE_STATUS', 'TEAM_NICKNAME', 'POSS', 'PLAYER_PTS', 'TEAM_PTS', 'TOV', 'SFL', 'DEF_FLS', 'CFG3M', 'CFG3A', 'CFG3_PCT', 'GAME_DATE', 'GAME_PLACE']\n"
     ]
    }
   ],
   "source": [
    "print(list(base_nba.columns))"
   ]
  },
  {
   "cell_type": "code",
   "execution_count": 176,
   "metadata": {
    "ExecuteTime": {
     "end_time": "2018-09-05T01:12:16.578078Z",
     "start_time": "2018-09-05T01:12:12.675757Z"
    },
    "collapsed": true
   },
   "outputs": [],
   "source": [
    "base_nba.to_csv(\"base_nba_full_17_18.csv\")"
   ]
  },
  {
   "cell_type": "code",
   "execution_count": 156,
   "metadata": {
    "ExecuteTime": {
     "end_time": "2018-09-05T00:19:49.133047Z",
     "start_time": "2018-09-05T00:19:46.191010Z"
    },
    "collapsed": true
   },
   "outputs": [],
   "source": [
    "df_full_junto.to_csv(\"df_full_junto.csv\")"
   ]
  },
  {
   "cell_type": "code",
   "execution_count": 167,
   "metadata": {
    "ExecuteTime": {
     "end_time": "2018-09-05T00:53:19.633979Z",
     "start_time": "2018-09-05T00:53:19.621017Z"
    }
   },
   "outputs": [
    {
     "data": {
      "text/plain": [
       "1230"
      ]
     },
     "execution_count": 167,
     "metadata": {},
     "output_type": "execute_result"
    }
   ],
   "source": [
    "len(list(base_nba.GAME_ID.unique()))"
   ]
  },
  {
   "cell_type": "code",
   "execution_count": 170,
   "metadata": {
    "ExecuteTime": {
     "end_time": "2018-09-05T00:54:20.818257Z",
     "start_time": "2018-09-05T00:53:49.116117Z"
    },
    "collapsed": true
   },
   "outputs": [],
   "source": [
    "import missingno"
   ]
  },
  {
   "cell_type": "code",
   "execution_count": 149,
   "metadata": {
    "ExecuteTime": {
     "end_time": "2018-09-05T00:12:51.183788Z",
     "start_time": "2018-09-05T00:12:51.095952Z"
    }
   },
   "outputs": [
    {
     "data": {
      "text/plain": [
       "148"
      ]
     },
     "execution_count": 149,
     "metadata": {},
     "output_type": "execute_result"
    }
   ],
   "source": [
    "import gc\n",
    "gc.collect()"
   ]
  },
  {
   "cell_type": "markdown",
   "metadata": {
    "heading_collapsed": true
   },
   "source": [
    "### ANTIGO"
   ]
  },
  {
   "cell_type": "code",
   "execution_count": 20,
   "metadata": {
    "ExecuteTime": {
     "end_time": "2018-09-01T02:21:11.768559Z",
     "start_time": "2018-09-01T02:21:08.310091Z"
    },
    "collapsed": true,
    "hidden": true
   },
   "outputs": [],
   "source": [
    "#driver = webdriver.Chrome(\"C:/Users/rafae/Downloads/chromedriver_win32/chromedriver.exe\")\n",
    "driver = webdriver.Ie(\"C:/Users/rafae/Downloads/IEDriverServer_x64_3.14.0/IEDriverServer.exe\")"
   ]
  },
  {
   "cell_type": "code",
   "execution_count": 21,
   "metadata": {
    "ExecuteTime": {
     "end_time": "2018-09-01T02:21:17.000487Z",
     "start_time": "2018-09-01T02:21:16.209624Z"
    },
    "collapsed": true,
    "hidden": true
   },
   "outputs": [],
   "source": [
    "driver.get(\"https://stats.nba.com/stats/boxscoretraditionalv2?EndPeriod=10&EndRange=28800&GameID=0021700784&RangeType=0&Season=2017-18&SeasonType=Regular+Season&StartPeriod=1&StartRange=0\")"
   ]
  },
  {
   "cell_type": "code",
   "execution_count": 3,
   "metadata": {
    "ExecuteTime": {
     "end_time": "2018-08-31T03:17:28.864237Z",
     "start_time": "2018-08-31T03:17:28.381419Z"
    },
    "collapsed": true,
    "hidden": true
   },
   "outputs": [],
   "source": [
    "de_para_siglas = pd.read_csv('de_para_siglas.csv').set_index('nome').to_dict()['sigla']"
   ]
  },
  {
   "cell_type": "code",
   "execution_count": 5,
   "metadata": {
    "ExecuteTime": {
     "end_time": "2018-08-31T03:19:20.153353Z",
     "start_time": "2018-08-31T03:19:20.148360Z"
    },
    "collapsed": true,
    "hidden": true
   },
   "outputs": [],
   "source": [
    "def trata_df(table_html):\n",
    "    df = pd.read_html(\"<table>\" + table_html + \"</table>\")\n",
    "    df = pd.concat(df)\n",
    "    return(df)"
   ]
  },
  {
   "cell_type": "code",
   "execution_count": null,
   "metadata": {
    "collapsed": true,
    "hidden": true
   },
   "outputs": [],
   "source": [
    "#https://stats.nba.com/stats/boxscoreusagev2?EndPeriod=10&EndRange=28800&GameID=0021700784&RangeType=0&Season=2017-18&SeasonType=Regular+Season&StartPeriod=1&StartRange=0\n",
    "#https://data.nba.com/data/10s/v2015/json/mobile_teams/nba/2017/scores/gamedetail/0021700784_gamedetail.json\n",
    "#https://stats.nba.com/stats/boxscoretraditionalv2?EndPeriod=10&EndRange=28800&GameID=0021700784&RangeType=0&Season=2017-18&SeasonType=Regular+Season&StartPeriod=1&StartRange=0"
   ]
  },
  {
   "cell_type": "code",
   "execution_count": 10,
   "metadata": {
    "ExecuteTime": {
     "end_time": "2018-08-31T03:20:05.669855Z",
     "start_time": "2018-08-31T03:20:05.662854Z"
    },
    "collapsed": true,
    "hidden": true
   },
   "outputs": [],
   "source": [
    "#game_pages = [\"https://stats.nba.com/game/0021700784/\"]\n",
    "game_pages = []\n",
    "for i in range(1, 1231):\n",
    "    game_pages.append(\"https://stats.nba.com/game/002170\" + ('{0:0>4}'.format(i)) + \"/\")"
   ]
  },
  {
   "cell_type": "code",
   "execution_count": 11,
   "metadata": {
    "ExecuteTime": {
     "end_time": "2018-08-31T03:20:06.315043Z",
     "start_time": "2018-08-31T03:20:06.310055Z"
    },
    "collapsed": true,
    "hidden": true
   },
   "outputs": [],
   "source": [
    "tipo_dados = [\"\", \"advanced\", \"scoring\", \"misc\", \"usage\", \"four-factors\", \"tracking\", \"hustle\", \"defense\"]"
   ]
  },
  {
   "cell_type": "code",
   "execution_count": 12,
   "metadata": {
    "ExecuteTime": {
     "end_time": "2018-08-31T03:20:06.569699Z",
     "start_time": "2018-08-31T03:20:06.558220Z"
    },
    "collapsed": true,
    "hidden": true
   },
   "outputs": [],
   "source": [
    "def junta_df_tipos(df_tipos):\n",
    "    resp = df_tipos[0]\n",
    "    for i in range(1, len(df_tipos)):\n",
    "        junta = df_tipos[i]\n",
    "        colunas_repetidas = list(set(junta.columns).intersection(resp.columns))\n",
    "        junta = junta.drop(colunas_repetidas, axis=1, errors=\"ignore\")\n",
    "        \n",
    "        resp = resp.merge(junta, how=\"left\", \n",
    "                          left_index=True, right_index=True)\n",
    "    return(resp)"
   ]
  },
  {
   "cell_type": "code",
   "execution_count": 16,
   "metadata": {
    "ExecuteTime": {
     "end_time": "2018-08-31T11:25:00.399732Z",
     "start_time": "2018-08-31T11:25:00.371769Z"
    },
    "collapsed": true,
    "hidden": true
   },
   "outputs": [],
   "source": [
    "driver.implicitly_wait(30)\n",
    "driver.set_page_load_timeout(100)"
   ]
  },
  {
   "cell_type": "code",
   "execution_count": null,
   "metadata": {
    "hidden": true
   },
   "outputs": [],
   "source": [
    "resp = []\n",
    "erro = []\n",
    "\n",
    "tent = 0\n",
    "for g in range(33, len(game_pages)):\n",
    "    try:\n",
    "        driver.get(game_pages[g])\n",
    "        time.sleep(5)\n",
    "        \n",
    "        game_date = WebDriverWait(driver, 15).until(EC.presence_of_element_located((By.CLASS_NAME, 'game-summary__date')))\n",
    "\n",
    "        #game_date = driver.find_element_by_class_name(\"game-summary__date\").get_attribute(\"innerHTML\")\n",
    "        game_date = game_date.get_attribute(\"innerHTML\")\n",
    "        game_date = datetime.strptime(game_date, '%b %d, %Y')\n",
    "\n",
    "        game_str = \"\"\n",
    "        team_names_siglas = []\n",
    "\n",
    "        df_tipos = []\n",
    "\n",
    "        for tipo in tipo_dados:\n",
    "            print(str(g) + \"... \" + game_pages[g] + tipo + \"     \", end=\"\\r\")\n",
    "            if(tipo != \"\"):\n",
    "                driver.get(game_pages[g] + tipo)\n",
    "                time.sleep(30)\n",
    "\n",
    "            teams = driver.find_elements_by_tag_name(\"nba-stat-table\")\n",
    "            team_names = driver.find_elements_by_class_name(\"game-summary-team__name\")\n",
    "\n",
    "            df_stats = []\n",
    "\n",
    "            i = 0\n",
    "            for team in teams:\n",
    "                if(tipo == \"\"):                \n",
    "                    team_name = team_names[i].find_element_by_tag_name(\"a\").get_attribute(\"innerHTML\")\n",
    "\n",
    "                    team_name_sigla = team_name\n",
    "                    for key in de_para_siglas.keys():\n",
    "                        team_name_sigla = str(team_name_sigla).replace(key, de_para_siglas[key])\n",
    "\n",
    "                    team_names_siglas.append(team_name_sigla)\n",
    "\n",
    "                tentativas = 0\n",
    "                while(tentativas < 3):\n",
    "                    try:\n",
    "                        tb_stats = team.find_elements_by_tag_name(\"table\")[0].get_attribute('innerHTML')\n",
    "\n",
    "                        if tb_stats is not None:\n",
    "                            break\n",
    "                    except IndexError:\n",
    "                        pass\n",
    "                    time.sleep(2)\n",
    "                    tentativas += 1\n",
    "\n",
    "                df_stat_team = trata_df(tb_stats)\n",
    "                df_stat_team[\"team\"] = np.repeat(team_names_siglas[i], len(df_stat_team))\n",
    "                df_stat_team[\"key\"] = df_stat_team[\"Player\"] + \"_\" +  df_stat_team[\"team\"]\n",
    "                df_stat_team.set_index(\"key\", inplace = True)\n",
    "\n",
    "                df_stats.append(df_stat_team)\n",
    "                i += 1 \n",
    "\n",
    "            df_tipos.append(pd.concat(df_stats))\n",
    "\n",
    "        df_game = junta_df_tipos(df_tipos)\n",
    "\n",
    "        game_str = team_names_siglas[0] + \" @ \" + team_names_siglas[1] + \" \" + game_date.strftime('%Y-%m-%d')\n",
    "        \n",
    "        print(str(g) + \": \" + game_pages[g] + tipo + \" [\" + game_str + \"] \" + str(len(df_game)))\n",
    "        \n",
    "        df_game[\"game\"] = np.repeat(game_str, len(df_game))\n",
    "        df_game.set_index(\"game\")\n",
    "\n",
    "        df_game.to_csv(\"C:/Users/rafae/Google Drive/Projetos/NBA_Games/dfs_nba/\"+ str(g) +\"_\" +game_str+\".csv\")\n",
    "\n",
    "        resp.append(df_game)\n",
    "    except Exception as e:\n",
    "        print(e)\n",
    "        if(tent > 3):\n",
    "            erro.append(game_pages[g])\n",
    "            try:\n",
    "                driver.refresh()\n",
    "            except \n",
    "            tent = -1\n",
    "        else:\n",
    "            driver.quit()\n",
    "            driver = webdriver.Ie(\"C:/Users/rafae/Downloads/IEDriverServer_x64_3.14.0/IEDriverServer.exe\")\n",
    "            driver.implicitly_wait(50)\n",
    "            driver.set_page_load_timeout(100)\n",
    "            time.sleep(60)\n",
    "            g -= 1      \n",
    "        tent += 1"
   ]
  },
  {
   "cell_type": "code",
   "execution_count": null,
   "metadata": {
    "collapsed": true,
    "hidden": true
   },
   "outputs": [],
   "source": []
  }
 ],
 "metadata": {
  "kernelspec": {
   "display_name": "Python 3",
   "language": "python",
   "name": "python3"
  },
  "language_info": {
   "codemirror_mode": {
    "name": "ipython",
    "version": 3
   },
   "file_extension": ".py",
   "mimetype": "text/x-python",
   "name": "python",
   "nbconvert_exporter": "python",
   "pygments_lexer": "ipython3",
   "version": "3.6.3"
  },
  "toc": {
   "base_numbering": 1,
   "nav_menu": {},
   "number_sections": true,
   "sideBar": true,
   "skip_h1_title": false,
   "title_cell": "Table of Contents",
   "title_sidebar": "Contents",
   "toc_cell": false,
   "toc_position": {},
   "toc_section_display": true,
   "toc_window_display": false
  },
  "varInspector": {
   "cols": {
    "lenName": 16,
    "lenType": 16,
    "lenVar": 40
   },
   "kernels_config": {
    "python": {
     "delete_cmd_postfix": "",
     "delete_cmd_prefix": "del ",
     "library": "var_list.py",
     "varRefreshCmd": "print(var_dic_list())"
    },
    "r": {
     "delete_cmd_postfix": ") ",
     "delete_cmd_prefix": "rm(",
     "library": "var_list.r",
     "varRefreshCmd": "cat(var_dic_list()) "
    }
   },
   "types_to_exclude": [
    "module",
    "function",
    "builtin_function_or_method",
    "instance",
    "_Feature"
   ],
   "window_display": false
  }
 },
 "nbformat": 4,
 "nbformat_minor": 2
}
