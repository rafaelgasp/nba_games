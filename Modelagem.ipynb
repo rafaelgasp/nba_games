{
 "cells": [
  {
   "cell_type": "code",
   "execution_count": 1,
   "metadata": {
    "ExecuteTime": {
     "end_time": "2018-10-04T00:13:47.198663Z",
     "start_time": "2018-10-04T00:13:19.946277Z"
    },
    "collapsed": true
   },
   "outputs": [],
   "source": [
    "import pandas as pd\n",
    "import numpy as np\n",
    "import os\n",
    "from datetime import datetime\n",
    "import matplotlib.pyplot as plt\n",
    "%matplotlib inline\n",
    "import seaborn as sns\n",
    "import math"
   ]
  },
  {
   "cell_type": "code",
   "execution_count": 36,
   "metadata": {
    "ExecuteTime": {
     "end_time": "2018-10-04T00:27:55.338673Z",
     "start_time": "2018-10-04T00:27:54.379092Z"
    },
    "collapsed": true
   },
   "outputs": [],
   "source": [
    "base_modelagem = pd.read_csv(\"base_delta_cross.csv\", index_col = 0)"
   ]
  },
  {
   "cell_type": "code",
   "execution_count": 4,
   "metadata": {
    "ExecuteTime": {
     "end_time": "2018-10-04T00:14:16.779941Z",
     "start_time": "2018-10-04T00:14:16.769947Z"
    }
   },
   "outputs": [],
   "source": [
    "base_modelagem.drop([\"PLUS_MINUS_home\",                                 \n",
    "                    \"NET_RATING_home\",                                                                       \n",
    "                    \"OFF_RATING_home\",                                  \n",
    "                    \"DEF_RATING_home\",                                   \n",
    "                    \"PTS_home\"], axis=1, inplace=True)"
   ]
  },
  {
   "cell_type": "code",
   "execution_count": 37,
   "metadata": {
    "ExecuteTime": {
     "end_time": "2018-10-04T00:28:00.964538Z",
     "start_time": "2018-10-04T00:28:00.342850Z"
    },
    "collapsed": true
   },
   "outputs": [],
   "source": [
    "correlations = abs(base_modelagem.corr()[\"fl_home_win\"]).sort_values(ascending=False)"
   ]
  },
  {
   "cell_type": "code",
   "execution_count": 38,
   "metadata": {
    "ExecuteTime": {
     "end_time": "2018-10-04T00:28:07.067682Z",
     "start_time": "2018-10-04T00:28:07.059705Z"
    }
   },
   "outputs": [
    {
     "data": {
      "text/plain": [
       "fl_home_win                                         1.000000\n",
       "delta_as_home_as_away_NET_RATING                    0.295718\n",
       "delta_as_home_as_away_PLUS_MINUS                    0.293741\n",
       "delta_as_home_as_away_win_pct                       0.283734\n",
       "delta_as_home_as_away_num_wins_total                0.283734\n",
       "delta_NET_RATING                                    0.270607\n",
       "delta_PLUS_MINUS                                    0.267477\n",
       "delta_win_pct                                       0.259291\n",
       "delta_num_wins_total                                0.259291\n",
       "delta_as_home_as_away_PIE                           0.243527\n",
       "delta_PIE                                           0.243008\n",
       "delta_num_wins_away                                 0.201389\n",
       "delta_as_home_as_away_num_wins_away                 0.198424\n",
       "delta_win_away_pct                                  0.194356\n",
       "delta_as_home_as_away_OFF_RATING                    0.191599\n",
       "delta_OFF_RATING                                    0.189379\n",
       "delta_as_home_as_away_win_away_pct                  0.188399\n",
       "delta_as_home_as_away_PTS                           0.177690\n",
       "delta_as_home_as_away_EFG_PCT_fourfactors           0.174825\n",
       "delta_as_home_as_away_EFG_PCT                       0.174825\n",
       "delta_as_home_as_away_TS_PCT                        0.174250\n",
       "delta_PTS                                           0.174081\n",
       "delta_EFG_PCT                                       0.170033\n",
       "delta_EFG_PCT_fourfactors                           0.170033\n",
       "delta_TS_PCT                                        0.169740\n",
       "delta_as_home_as_away_num_wins_home                 0.163637\n",
       "delta_win_home_pct                                  0.162264\n",
       "delta_as_home_as_away_win_home_pct                  0.154691\n",
       "delta_as_home_as_away_FG_PCT_playertrack            0.154650\n",
       "delta_as_home_as_away_FG_PCT                        0.154565\n",
       "                                                      ...   \n",
       "delta_as_home_as_away_PTS_2ND_CHANCE                0.004104\n",
       "cross_opponent_home_UFGM                            0.004093\n",
       "cross_opponent_away_PCT_PTS_2PT                     0.004085\n",
       "cross_opponent_away_PCT_FGA_3PT                     0.003612\n",
       "cross_opponent_home_UFGA                            0.003507\n",
       "cross_opponent_away_OPP_OREB_PCT                    0.003282\n",
       "cross_opponent_home_OREB_PCT                        0.003240\n",
       "cross_opponent_home_OREB_PCT_fourfactors            0.003240\n",
       "cross_opponent_away_ORBC                            0.003168\n",
       "delta_num_games_last_2_days                         0.003133\n",
       "cross_opponent_away_AST_playertrack                 0.002991\n",
       "cross_opponent_away_AST                             0.002991\n",
       "cross_opponent_away_UFG_PCT                         0.002608\n",
       "cross_opponent_away_FTA_RATE                        0.002261\n",
       "cross_opponent_home_OPP_FTA_RATE                    0.002261\n",
       "cross_opponent_away_FT_PCT                          0.002033\n",
       "delta_PCT_PTS_FT                                    0.001817\n",
       "delta_as_home_as_away_num_games_home_last_2_days    0.001459\n",
       "cross_opponent_away_OPP_PTS_PAINT                   0.001214\n",
       "cross_opponent_home_PTS_PAINT                       0.001214\n",
       "delta_FGA                                           0.001169\n",
       "cross_opponent_home_FGA                             0.001161\n",
       "cross_opponent_away_UFGM                            0.001099\n",
       "cross_opponent_home_AST_RATIO                       0.000925\n",
       "cross_opponent_away_TCHS                            0.000726\n",
       "cross_opponent_home_SAST                            0.000546\n",
       "cross_opponent_home_PCT_PTS_PAINT                   0.000509\n",
       "cross_opponent_away_REB                             0.000499\n",
       "delta_num_games_home_last_4_days                    0.000304\n",
       "cross_opponent_away_DREB_PCT                        0.000248\n",
       "Name: fl_home_win, Length: 455, dtype: float64"
      ]
     },
     "execution_count": 38,
     "metadata": {},
     "output_type": "execute_result"
    }
   ],
   "source": [
    "correlations"
   ]
  },
  {
   "cell_type": "code",
   "execution_count": 47,
   "metadata": {
    "ExecuteTime": {
     "end_time": "2018-10-04T00:29:59.461521Z",
     "start_time": "2018-10-04T00:29:59.456527Z"
    }
   },
   "outputs": [],
   "source": [
    "to_keep = correlations.head(50).index"
   ]
  },
  {
   "cell_type": "code",
   "execution_count": 40,
   "metadata": {
    "ExecuteTime": {
     "end_time": "2018-10-04T00:28:19.854747Z",
     "start_time": "2018-10-04T00:28:19.845755Z"
    }
   },
   "outputs": [
    {
     "data": {
      "text/plain": [
       "1063"
      ]
     },
     "execution_count": 40,
     "metadata": {},
     "output_type": "execute_result"
    }
   ],
   "source": [
    "filtrada = base_modelagem.iloc[len(base_modelagem)-1063:len(base_modelagem)]\n",
    "len(filtrada)"
   ]
  },
  {
   "cell_type": "code",
   "execution_count": 41,
   "metadata": {
    "ExecuteTime": {
     "end_time": "2018-10-04T00:28:22.860864Z",
     "start_time": "2018-10-04T00:28:22.848870Z"
    }
   },
   "outputs": [
    {
     "data": {
      "text/plain": [
       "1    0.581373\n",
       "0    0.418627\n",
       "Name: fl_home_win, dtype: float64"
      ]
     },
     "execution_count": 41,
     "metadata": {},
     "output_type": "execute_result"
    }
   ],
   "source": [
    "filtrada.fl_home_win.value_counts()/len(filtrada)"
   ]
  },
  {
   "cell_type": "code",
   "execution_count": 29,
   "metadata": {
    "collapsed": true
   },
   "outputs": [],
   "source": [
    "columns_to_drop = ['team_home', 'PTS_home', 'team_away', 'PTS_away', 'date',\n",
    "                   'season', 'team_home_game_num', 'team_away_game_num', 'fl_playoff']\n",
    "filtrada = filtrada.drop(columns_to_drop, axis=1)"
   ]
  },
  {
   "cell_type": "code",
   "execution_count": 41,
   "metadata": {
    "collapsed": true
   },
   "outputs": [],
   "source": [
    "base_modelo = filtrada.iloc[0:(len(filtrada) - 100)]"
   ]
  },
  {
   "cell_type": "code",
   "execution_count": 42,
   "metadata": {
    "collapsed": true
   },
   "outputs": [],
   "source": [
    "out_of_time = filtrada.iloc[(len(filtrada) - 100):len(filtrada)]"
   ]
  },
  {
   "cell_type": "markdown",
   "metadata": {},
   "source": [
    "### Modelagem"
   ]
  },
  {
   "cell_type": "code",
   "execution_count": 16,
   "metadata": {
    "ExecuteTime": {
     "end_time": "2018-10-04T00:16:44.222329Z",
     "start_time": "2018-10-04T00:16:44.050400Z"
    },
    "collapsed": true
   },
   "outputs": [],
   "source": [
    "from modelagem_ale import modelagem"
   ]
  },
  {
   "cell_type": "code",
   "execution_count": 71,
   "metadata": {
    "ExecuteTime": {
     "end_time": "2018-10-04T00:45:59.930464Z",
     "start_time": "2018-10-04T00:45:59.925469Z"
    }
   },
   "outputs": [],
   "source": [
    "from sklearn.model_selection import train_test_split\n",
    "from sklearn.model_selection import GridSearchCV\n",
    "from sklearn.metrics import classification_report\n",
    "from sklearn.metrics import confusion_matrix, accuracy_score\n",
    "from sklearn.svm import SVC\n",
    "from sklearn.tree import DecisionTreeClassifier\n",
    "from sklearn.ensemble import RandomForestClassifier"
   ]
  },
  {
   "cell_type": "code",
   "execution_count": 55,
   "metadata": {
    "ExecuteTime": {
     "end_time": "2018-10-04T00:31:28.727179Z",
     "start_time": "2018-10-04T00:31:28.718186Z"
    }
   },
   "outputs": [],
   "source": [
    "X = filtrada[to_keep].drop(\"fl_home_win\", axis=1)\n",
    "y = filtrada[\"fl_home_win\"]"
   ]
  },
  {
   "cell_type": "code",
   "execution_count": 56,
   "metadata": {
    "ExecuteTime": {
     "end_time": "2018-10-04T00:31:29.597160Z",
     "start_time": "2018-10-04T00:31:29.589166Z"
    }
   },
   "outputs": [
    {
     "name": "stdout",
     "output_type": "stream",
     "text": [
      "956 107\n"
     ]
    }
   ],
   "source": [
    "X_train, X_test, y_train, y_test = train_test_split(\n",
    "    X, y, test_size=0.1, random_state=0)\n",
    "print(len(X_train), len(X_test))"
   ]
  },
  {
   "cell_type": "markdown",
   "metadata": {
    "ExecuteTime": {
     "end_time": "2018-10-04T00:31:32.947530Z",
     "start_time": "2018-10-04T00:31:32.935538Z"
    },
    "collapsed": true
   },
   "source": [
    "#### modelagem = modelagem(\"class\")"
   ]
  },
  {
   "cell_type": "code",
   "execution_count": 79,
   "metadata": {
    "ExecuteTime": {
     "end_time": "2018-10-04T00:51:03.494689Z",
     "start_time": "2018-10-04T00:50:08.610551Z"
    }
   },
   "outputs": [
    {
     "name": "stdout",
     "output_type": "stream",
     "text": [
      "Criando objeto do algoritmo escolhido ...\n",
      "Iniciando treinamento ...\n",
      "Avalidando modelo ...\n",
      "Tempo de execução em h:m:s : 0:00:55\n"
     ]
    }
   ],
   "source": [
    "parametros = {\n",
    "    \"n_estimators\": [200, 150],\n",
    "    \"max_depth\": [13, 10],\n",
    "    \"min_samples_leaf\": [25, 35],\n",
    "    \"n_jobs\": [2]\n",
    "}\n",
    "\n",
    "data, feat, cm_train,cm_test,model,grid = modelagem.model_experiment(parametros, \n",
    "                                                                       X_train, y_train.to_frame(), \n",
    "                                                                       X_test, y_test.to_frame(),\n",
    "                                                                       'regular',\n",
    "                                                                       'acc',\n",
    "                                                                       'rf',\n",
    "                                                                       cv = 10,\n",
    "                                                                      )"
   ]
  },
  {
   "cell_type": "code",
   "execution_count": 80,
   "metadata": {
    "ExecuteTime": {
     "end_time": "2018-10-04T00:51:03.901109Z",
     "start_time": "2018-10-04T00:51:03.892114Z"
    }
   },
   "outputs": [
    {
     "data": {
      "text/plain": [
       "RandomForestClassifier(bootstrap=True, class_weight=None, criterion='gini',\n",
       "            max_depth=13, max_features='auto', max_leaf_nodes=None,\n",
       "            min_impurity_decrease=0.0, min_impurity_split=None,\n",
       "            min_samples_leaf=25, min_samples_split=2,\n",
       "            min_weight_fraction_leaf=0.0, n_estimators=200, n_jobs=2,\n",
       "            oob_score=False, random_state=1234, verbose=0,\n",
       "            warm_start=False)"
      ]
     },
     "execution_count": 80,
     "metadata": {},
     "output_type": "execute_result"
    }
   ],
   "source": [
    "model"
   ]
  },
  {
   "cell_type": "code",
   "execution_count": 81,
   "metadata": {
    "ExecuteTime": {
     "end_time": "2018-10-04T00:51:04.329863Z",
     "start_time": "2018-10-04T00:51:04.321868Z"
    }
   },
   "outputs": [
    {
     "data": {
      "text/plain": [
       "0.6610878661087866"
      ]
     },
     "execution_count": 81,
     "metadata": {},
     "output_type": "execute_result"
    }
   ],
   "source": [
    "grid.best_score_"
   ]
  },
  {
   "cell_type": "code",
   "execution_count": 82,
   "metadata": {
    "ExecuteTime": {
     "end_time": "2018-10-04T00:51:04.768610Z",
     "start_time": "2018-10-04T00:51:04.745624Z"
    }
   },
   "outputs": [
    {
     "data": {
      "text/html": [
       "<div>\n",
       "<style scoped>\n",
       "    .dataframe tbody tr th:only-of-type {\n",
       "        vertical-align: middle;\n",
       "    }\n",
       "\n",
       "    .dataframe tbody tr th {\n",
       "        vertical-align: top;\n",
       "    }\n",
       "\n",
       "    .dataframe thead th {\n",
       "        text-align: right;\n",
       "    }\n",
       "</style>\n",
       "<table border=\"1\" class=\"dataframe\">\n",
       "  <thead>\n",
       "    <tr style=\"text-align: right;\">\n",
       "      <th></th>\n",
       "      <th>rf_Treino</th>\n",
       "      <th>rf_Teste</th>\n",
       "    </tr>\n",
       "  </thead>\n",
       "  <tbody>\n",
       "    <tr>\n",
       "      <th>ROC</th>\n",
       "      <td>0.703235</td>\n",
       "      <td>0.631177</td>\n",
       "    </tr>\n",
       "    <tr>\n",
       "      <th>ACC</th>\n",
       "      <td>0.728033</td>\n",
       "      <td>0.672897</td>\n",
       "    </tr>\n",
       "    <tr>\n",
       "      <th>RECALL</th>\n",
       "      <td>0.859206</td>\n",
       "      <td>0.843750</td>\n",
       "    </tr>\n",
       "    <tr>\n",
       "      <th>PREC</th>\n",
       "      <td>0.723404</td>\n",
       "      <td>0.683544</td>\n",
       "    </tr>\n",
       "    <tr>\n",
       "      <th>F1</th>\n",
       "      <td>0.785479</td>\n",
       "      <td>0.755245</td>\n",
       "    </tr>\n",
       "    <tr>\n",
       "      <th>COHEN KAPPA</th>\n",
       "      <td>0.421426</td>\n",
       "      <td>0.278281</td>\n",
       "    </tr>\n",
       "    <tr>\n",
       "      <th>LOG LOSS</th>\n",
       "      <td>9.393543</td>\n",
       "      <td>11.297917</td>\n",
       "    </tr>\n",
       "  </tbody>\n",
       "</table>\n",
       "</div>"
      ],
      "text/plain": [
       "             rf_Treino   rf_Teste\n",
       "ROC           0.703235   0.631177\n",
       "ACC           0.728033   0.672897\n",
       "RECALL        0.859206   0.843750\n",
       "PREC          0.723404   0.683544\n",
       "F1            0.785479   0.755245\n",
       "COHEN KAPPA   0.421426   0.278281\n",
       "LOG LOSS      9.393543  11.297917"
      ]
     },
     "execution_count": 82,
     "metadata": {},
     "output_type": "execute_result"
    }
   ],
   "source": [
    "data"
   ]
  },
  {
   "cell_type": "code",
   "execution_count": 50,
   "metadata": {
    "ExecuteTime": {
     "end_time": "2018-10-04T00:30:59.546147Z",
     "start_time": "2018-10-04T00:30:13.973770Z"
    }
   },
   "outputs": [
    {
     "data": {
      "text/plain": [
       "GridSearchCV(cv=10, error_score='raise',\n",
       "       estimator=RandomForestClassifier(bootstrap=True, class_weight=None, criterion='gini',\n",
       "            max_depth=None, max_features='auto', max_leaf_nodes=None,\n",
       "            min_impurity_decrease=0.0, min_impurity_split=None,\n",
       "            min_samples_leaf=1, min_samples_split=2,\n",
       "            min_weight_fraction_leaf=0.0, n_estimators=10, n_jobs=1,\n",
       "            oob_score=False, random_state=None, verbose=0,\n",
       "            warm_start=False),\n",
       "       fit_params=None, iid=True, n_jobs=2,\n",
       "       param_grid={'n_estimators': [18, 20, 22, 25], 'max_depth': [13, 15], 'min_samples_leaf': [7, 10, 15], 'n_jobs': [2]},\n",
       "       pre_dispatch='2*n_jobs', refit=True, return_train_score='warn',\n",
       "       scoring='accuracy', verbose=0)"
      ]
     },
     "execution_count": 50,
     "metadata": {},
     "output_type": "execute_result"
    }
   ],
   "source": [
    "clf = GridSearchCV(RandomForestClassifier(), parametros, cv=10,\n",
    "                       scoring='accuracy', n_jobs=2)\n",
    "clf.fit(X_train, y_train)"
   ]
  },
  {
   "cell_type": "code",
   "execution_count": 51,
   "metadata": {
    "ExecuteTime": {
     "end_time": "2018-10-04T00:30:59.957628Z",
     "start_time": "2018-10-04T00:30:59.947632Z"
    }
   },
   "outputs": [
    {
     "data": {
      "text/plain": [
       "RandomForestClassifier(bootstrap=True, class_weight=None, criterion='gini',\n",
       "            max_depth=15, max_features='auto', max_leaf_nodes=None,\n",
       "            min_impurity_decrease=0.0, min_impurity_split=None,\n",
       "            min_samples_leaf=15, min_samples_split=2,\n",
       "            min_weight_fraction_leaf=0.0, n_estimators=25, n_jobs=2,\n",
       "            oob_score=False, random_state=None, verbose=0,\n",
       "            warm_start=False)"
      ]
     },
     "execution_count": 51,
     "metadata": {},
     "output_type": "execute_result"
    }
   ],
   "source": [
    "clf.best_estimator_"
   ]
  },
  {
   "cell_type": "code",
   "execution_count": 72,
   "metadata": {
    "ExecuteTime": {
     "end_time": "2018-10-04T00:46:11.501848Z",
     "start_time": "2018-10-04T00:46:11.391657Z"
    }
   },
   "outputs": [
    {
     "name": "stdout",
     "output_type": "stream",
     "text": [
      "             precision    recall  f1-score   support\n",
      "\n",
      "   away win       0.67      0.47      0.55        43\n",
      "   home win       0.70      0.84      0.77        64\n",
      "\n",
      "avg / total       0.69      0.69      0.68       107\n",
      "\n",
      "0.6915887850467289\n"
     ]
    }
   ],
   "source": [
    "y_true, y_pred = y_test, model.predict(X_test)\n",
    "print(classification_report(y_true, y_pred, target_names=[\"away win\", \"home win\"]))\n",
    "print(accuracy_score(y_true, y_pred))"
   ]
  },
  {
   "cell_type": "code",
   "execution_count": 131,
   "metadata": {},
   "outputs": [
    {
     "data": {
      "text/html": [
       "<div>\n",
       "<style>\n",
       "    .dataframe thead tr:only-child th {\n",
       "        text-align: right;\n",
       "    }\n",
       "\n",
       "    .dataframe thead th {\n",
       "        text-align: left;\n",
       "    }\n",
       "\n",
       "    .dataframe tbody tr th {\n",
       "        vertical-align: top;\n",
       "    }\n",
       "</style>\n",
       "<table border=\"1\" class=\"dataframe\">\n",
       "  <thead>\n",
       "    <tr style=\"text-align: right;\">\n",
       "      <th></th>\n",
       "      <th>0</th>\n",
       "      <th>1</th>\n",
       "    </tr>\n",
       "  </thead>\n",
       "  <tbody>\n",
       "    <tr>\n",
       "      <th>0</th>\n",
       "      <td>65</td>\n",
       "      <td>104</td>\n",
       "    </tr>\n",
       "    <tr>\n",
       "      <th>1</th>\n",
       "      <td>45</td>\n",
       "      <td>170</td>\n",
       "    </tr>\n",
       "  </tbody>\n",
       "</table>\n",
       "</div>"
      ],
      "text/plain": [
       "    0    1\n",
       "0  65  104\n",
       "1  45  170"
      ]
     },
     "execution_count": 131,
     "metadata": {},
     "output_type": "execute_result"
    }
   ],
   "source": [
    "pd.DataFrame(confusion_matrix(y_true, y_pred))"
   ]
  }
 ],
 "metadata": {
  "kernelspec": {
   "display_name": "Python 3",
   "language": "python",
   "name": "python3"
  },
  "language_info": {
   "codemirror_mode": {
    "name": "ipython",
    "version": 3
   },
   "file_extension": ".py",
   "mimetype": "text/x-python",
   "name": "python",
   "nbconvert_exporter": "python",
   "pygments_lexer": "ipython3",
   "version": "3.6.3"
  },
  "toc": {
   "base_numbering": 1,
   "nav_menu": {},
   "number_sections": true,
   "sideBar": true,
   "skip_h1_title": false,
   "title_cell": "Table of Contents",
   "title_sidebar": "Contents",
   "toc_cell": false,
   "toc_position": {},
   "toc_section_display": true,
   "toc_window_display": false
  },
  "varInspector": {
   "cols": {
    "lenName": 16,
    "lenType": 16,
    "lenVar": 40
   },
   "kernels_config": {
    "python": {
     "delete_cmd_postfix": "",
     "delete_cmd_prefix": "del ",
     "library": "var_list.py",
     "varRefreshCmd": "print(var_dic_list())"
    },
    "r": {
     "delete_cmd_postfix": ") ",
     "delete_cmd_prefix": "rm(",
     "library": "var_list.r",
     "varRefreshCmd": "cat(var_dic_list()) "
    }
   },
   "types_to_exclude": [
    "module",
    "function",
    "builtin_function_or_method",
    "instance",
    "_Feature"
   ],
   "window_display": true
  }
 },
 "nbformat": 4,
 "nbformat_minor": 2
}
