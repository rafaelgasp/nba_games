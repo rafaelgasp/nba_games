{
 "cells": [
  {
   "cell_type": "code",
   "execution_count": 26,
   "metadata": {
    "ExecuteTime": {
     "end_time": "2018-09-05T01:31:20.373569Z",
     "start_time": "2018-09-05T01:31:20.368561Z"
    }
   },
   "outputs": [],
   "source": [
    "import pandas as pd\n",
    "import numpy as np\n",
    "import os\n",
    "from datetime import datetime"
   ]
  },
  {
   "cell_type": "code",
   "execution_count": 2,
   "metadata": {
    "ExecuteTime": {
     "end_time": "2018-09-05T01:21:21.143155Z",
     "start_time": "2018-09-05T01:21:20.569862Z"
    },
    "collapsed": true
   },
   "outputs": [],
   "source": [
    "de_para_siglas = pd.read_csv('de_para_siglas.csv').set_index(\"sigla\").to_dict()['nome']"
   ]
  },
  {
   "cell_type": "code",
   "execution_count": 5,
   "metadata": {
    "ExecuteTime": {
     "end_time": "2018-09-05T01:21:57.618203Z",
     "start_time": "2018-09-05T01:21:56.642015Z"
    },
    "collapsed": true
   },
   "outputs": [],
   "source": [
    "base_nba = pd.read_csv(\"base_nba_full_17_18.csv\", index_col=0)"
   ]
  },
  {
   "cell_type": "code",
   "execution_count": 27,
   "metadata": {
    "ExecuteTime": {
     "end_time": "2018-09-05T01:32:18.135286Z",
     "start_time": "2018-09-05T01:32:18.130793Z"
    }
   },
   "outputs": [],
   "source": [
    "glossario_basic = \"MIN Minutes Played FGM Field Goals Made FGA Field Goals Attempted FG% Field Goal Percentage 3PM Three Pointers Made 3PA Three Pointers Attempted 3P% Three Point Percentage FTM Free Throws Made FTA Free Throws Attempted FT% Free Throw Percentage OREB Offensive Rebounds DREB Defensive Rebounds REB Rebounds AST Assists TOV Turnovers STL Steals BLK Blocked Shots PF Personal Foul FP Fantasy Points PTS Points +/- Plus-Minus\".split()\n",
    "glossario_adv = \"MIN Minutes Played OFFRTG Offensive Rating DEFRTG Defensive Rating NETRTG Net Rating AST% Assist Percentage AST/TO Assist to Turnover Ratio AST RATIO Assist Ratio OREB% Offensive Rebound Percentage DREB% Defensive Rebound Percentage REB% Rebound Percentage TO RATIO Turnover Percentage EFG% Effective Field Goal Percentage TS% True Shooting Percentage USG% Usage Percentage PACE Pace PIE Player Impact Estimate\".split()\n",
    "glossario_misc = \"MIN Minutes Played PTS OFF TO Points off Turnover 2ND PTS Second Chance Points FBPS Fast Break Points PITP Points in the Paint OPP PTS OFF TO Opponents Points Off Turnover OPP 2ND PTS Opponents Second Chance Points OPP FBPS Opponents Fast Break Points OPP PITP Opponents Points in the Paint BLK Blocked Shots BLKA Blocks Against PF Personal Foul PFD Personal Fouls Drawn\".split()\n",
    "glossario_scoring = \"MIN Minutes Played %FGA 2PT Percent of Field Goals Attempted (2 Pointers) %FGA 3PT Percent Field Goals Attempted (3 Pointers) %PTS 2PT Percent of Points (2 Pointers) %PTS 2PT-MR Percent of Points (Mid-Range) %PTS 3PT Percent of Points (3 Pointers) %PTS FBPS Percent of Points (Fast Break Points) %PTS FT Percent of Points (Free Throws) %PTS OFFTO Percent of Points (Off Turnovers) %PTS (PITP) Percent of Points (Points in the Paint) 2FGM %AST Percent of 2 Point Field Goals Made Assisted 2FGM %UAST Percent of 2 Point Field Goals Made Unassisted 3FGM %AST Percent of 3 Point Field Goals Made Assisted 3FGM %UAST Percent of 3 Point Field Goals Made Unassisted FGM %AST Percent of Field Goals Made Assisted FGM %UAST Percent of Field Goals Made Unassisted\".split()\n",
    "glossario_usage = \"MIN Minutes Played USG% Usage Percentage %FGM Percent of Team's Field Goals Made %FGA Percent of Team's Field Goals Attempted %3PM Percent of Team's 3 Point Field Goals Made %3PA Percent of Team's 3 Point Field Goals Attempted %FTM Percent of Team's Free Throws Made %FTA Percent of Team's Free Throws Attempted %OREB Percent of Team's Offensive Rebounds %DREB Percent of Team's Defensive Rebounds %REB Percent of Team's Rebounds %AST Percent of Team's Assists %TO Percent of Team's Turnovers %STL Percent of Team's Steals %BLK Percent of Team's Blocks %BLKA Percent of Team's Blocked Field Goal Attempts %PF Percent of Team's Personal Fouls %PFD Percent of Team's Personal Fouls Drawn %PTS Percent of Team's Points\".split()\n",
    "glossario_four = \"MIN Minutes Played EFG% Effective Field Goal Percentage FTA RATE Free Throws Attempted Rate TO RATIO Team Turnover Percentage OREB% Offensive Rebound Percentage OPP EFG% Oppontent Effective Field Goal Percentage OPP FTA RATE Opponents Free Throws Attempted Rate OPP TO RATIO Opponents Team Turnover Percentage OPP OREB% Opponents Offensive Rebound Percentage\".split()\n",
    "glossario_track = \"MIN Minutes Played DIST Distance Run (Miles) SPD Average Speed (MPH) TCHS Touches PASS Passes Made AST Assists SAST Secondary Assists DFGM Field Goals Defended at Rim Made DFGA Field Goals Defended at Rim Defended DFG% Field Goals Defended at Rim Percentage ORBC Offensive Rebound Chances DRBC Defensive Rebound Chances RBC Rebound Chances FG% Field Goal Percentage CFGM Contested Field Goals Made CFGA Contested Field Goals Attempted CFG% Contested Field Goal Percentage UFGM Uncontested Field Goals Made UFGA Uncontested Field Goals Attempted UFG% Uncontested Field Goal Percentage\".split()\n",
    "glossario_defense = \"POSS:Number of Possessions in which a defensive player was assigned a matchup :PLAYER PTS:The number of points a defensive player allowed his matchups to score :TEAM PTS:Number of points the opposing team scored during a defensive player’s matchup possessions :AST:The number of assists a defensive player allowed his matchups to have TOVThe number of turnovers a defensive player forced his matchups to commit DREBThe number of rebounds a player grabs while on defense during a game STLThe number of Steals a player registers during a game BLKThe number of Blocks a player registers during a game FGMThe number of field goals a defensive player allowed his matchups to make FGAThe number of field goals a defensive player allowed his matchups to take FG%The percentage of field goal attempts a defensive player allowed his matchups to make 3PMThe number of three-point field goals a defensive player allowed his matchups to make 3PAThe number of three-point field goals a defensive player allowed his matchups to take 3P%The percentage of three-point field goal attempts a defensive player allowed his matchups to make FTMThe number of free throws a defensive player allowed his matchups to make SFLThe number of shooting fouls a defensive player committed against his matchups DEF FLSThe number of non-shooting defensive fouls a defensive player committed against his matchups CFGMThe number of field goals the opposing players made while a defensive player was contesting CFGAThe number of field goals the opposing players took while a defensive player was contesting CFG%The percentage of field goals the opposing players made while a defensive player was contesting C3PMThe number of three-point field goals the opposing players made while a defensive player was contesting C3PAThe number of three-point field goals the opposing players took while a defensive player was contesting C3P%The percentage of three-point field goals the opposing players made while a defensive player was contesting\""
   ]
  },
  {
   "cell_type": "code",
   "execution_count": 23,
   "metadata": {
    "ExecuteTime": {
     "end_time": "2018-09-05T01:27:36.671180Z",
     "start_time": "2018-09-05T01:27:36.665689Z"
    }
   },
   "outputs": [
    {
     "name": "stdout",
     "output_type": "stream",
     "text": [
      "['GAME_ID', 'TEAM_ID', 'TEAM_ABBREVIATION', 'TEAM_CITY', 'PLAYER_ID', 'PLAYER_NAME', 'START_POSITION', 'COMMENT', 'MIN', 'FGM', 'FGA', 'FG_PCT', 'FG3M', 'FG3A', 'FG3_PCT', 'FTM', 'FTA', 'FT_PCT', 'OREB', 'DREB', 'REB', 'AST', 'STL', 'BLK', 'TO', 'PF', 'PTS', 'PLUS_MINUS', 'OFF_RATING', 'DEF_RATING', 'NET_RATING', 'AST_PCT', 'AST_TOV', 'AST_RATIO', 'OREB_PCT', 'DREB_PCT', 'REB_PCT', 'TM_TOV_PCT', 'EFG_PCT', 'TS_PCT', 'USG_PCT', 'PACE', 'PIE', 'PCT_FGA_2PT', 'PCT_FGA_3PT', 'PCT_PTS_2PT', 'PCT_PTS_2PT_MR', 'PCT_PTS_3PT', 'PCT_PTS_FB', 'PCT_PTS_FT', 'PCT_PTS_OFF_TOV', 'PCT_PTS_PAINT', 'PCT_AST_2PM', 'PCT_UAST_2PM', 'PCT_AST_3PM', 'PCT_UAST_3PM', 'PCT_AST_FGM', 'PCT_UAST_FGM', 'PTS_OFF_TOV', 'PTS_2ND_CHANCE', 'PTS_FB', 'PTS_PAINT', 'OPP_PTS_OFF_TOV', 'OPP_PTS_2ND_CHANCE', 'OPP_PTS_FB', 'OPP_PTS_PAINT', 'BLKA', 'PFD', 'PCT_FGM', 'PCT_FGA', 'PCT_FG3M', 'PCT_FG3A', 'PCT_FTM', 'PCT_FTA', 'PCT_OREB', 'PCT_DREB', 'PCT_REB', 'PCT_AST', 'PCT_TOV', 'PCT_STL', 'PCT_BLK', 'PCT_BLKA', 'PCT_PF', 'PCT_PFD', 'PCT_PTS', 'FTA_RATE', 'OPP_EFG_PCT', 'OPP_FTA_RATE', 'OPP_TOV_PCT', 'OPP_OREB_PCT', 'SPD', 'DIST', 'ORBC', 'DRBC', 'RBC', 'TCHS', 'SAST', 'FTAST', 'PASS', 'CFGM', 'CFGA', 'CFG_PCT', 'UFGM', 'UFGA', 'UFG_PCT', 'DFGM', 'DFGA', 'DFG_PCT', 'HUSTLE_STATUS', 'TEAM_NICKNAME', 'POSS', 'PLAYER_PTS', 'TEAM_PTS', 'TOV', 'SFL', 'DEF_FLS', 'CFG3M', 'CFG3A', 'CFG3_PCT', 'GAME_DATE', 'GAME_PLACE']\n"
     ]
    }
   ],
   "source": [
    "print(list(base_nba.columns))"
   ]
  },
  {
   "cell_type": "code",
   "execution_count": 20,
   "metadata": {
    "ExecuteTime": {
     "end_time": "2018-09-05T01:27:11.452033Z",
     "start_time": "2018-09-05T01:27:11.447044Z"
    }
   },
   "outputs": [
    {
     "name": "stdout",
     "output_type": "stream",
     "text": [
      "[dtype('int64'), dtype('int64'), dtype('O'), dtype('O'), dtype('int64'), dtype('O'), dtype('O'), dtype('O'), dtype('O'), dtype('float64'), dtype('float64'), dtype('float64'), dtype('float64'), dtype('float64'), dtype('float64'), dtype('float64'), dtype('float64'), dtype('float64'), dtype('float64'), dtype('float64'), dtype('float64'), dtype('float64'), dtype('float64'), dtype('float64'), dtype('float64'), dtype('float64'), dtype('float64'), dtype('float64'), dtype('float64'), dtype('float64'), dtype('float64'), dtype('float64'), dtype('float64'), dtype('float64'), dtype('float64'), dtype('float64'), dtype('float64'), dtype('float64'), dtype('float64'), dtype('float64'), dtype('float64'), dtype('float64'), dtype('float64'), dtype('float64'), dtype('float64'), dtype('float64'), dtype('float64'), dtype('float64'), dtype('float64'), dtype('float64'), dtype('float64'), dtype('float64'), dtype('float64'), dtype('float64'), dtype('float64'), dtype('float64'), dtype('float64'), dtype('float64'), dtype('float64'), dtype('float64'), dtype('float64'), dtype('float64'), dtype('float64'), dtype('float64'), dtype('float64'), dtype('float64'), dtype('float64'), dtype('float64'), dtype('float64'), dtype('float64'), dtype('float64'), dtype('float64'), dtype('float64'), dtype('float64'), dtype('float64'), dtype('float64'), dtype('float64'), dtype('float64'), dtype('float64'), dtype('float64'), dtype('float64'), dtype('float64'), dtype('float64'), dtype('float64'), dtype('float64'), dtype('float64'), dtype('float64'), dtype('float64'), dtype('float64'), dtype('float64'), dtype('float64'), dtype('float64'), dtype('int64'), dtype('int64'), dtype('int64'), dtype('int64'), dtype('int64'), dtype('int64'), dtype('int64'), dtype('int64'), dtype('int64'), dtype('float64'), dtype('int64'), dtype('int64'), dtype('float64'), dtype('int64'), dtype('int64'), dtype('float64'), dtype('float64'), dtype('O'), dtype('int64'), dtype('int64'), dtype('int64'), dtype('int64'), dtype('int64'), dtype('int64'), dtype('int64'), dtype('int64'), dtype('float64'), dtype('O'), dtype('O')]\n"
     ]
    }
   ],
   "source": [
    "print(list(base_nba.dtypes))"
   ]
  },
  {
   "cell_type": "code",
   "execution_count": 15,
   "metadata": {
    "ExecuteTime": {
     "end_time": "2018-09-05T01:25:54.582487Z",
     "start_time": "2018-09-05T01:25:54.544058Z"
    }
   },
   "outputs": [
    {
     "data": {
      "text/html": [
       "<div>\n",
       "<style scoped>\n",
       "    .dataframe tbody tr th:only-of-type {\n",
       "        vertical-align: middle;\n",
       "    }\n",
       "\n",
       "    .dataframe tbody tr th {\n",
       "        vertical-align: top;\n",
       "    }\n",
       "\n",
       "    .dataframe thead th {\n",
       "        text-align: right;\n",
       "    }\n",
       "</style>\n",
       "<table border=\"1\" class=\"dataframe\">\n",
       "  <thead>\n",
       "    <tr style=\"text-align: right;\">\n",
       "      <th></th>\n",
       "      <th></th>\n",
       "      <th>TEAM_ID</th>\n",
       "      <th>PLAYER_ID</th>\n",
       "      <th>FGM</th>\n",
       "      <th>FGA</th>\n",
       "      <th>FG_PCT</th>\n",
       "      <th>FG3M</th>\n",
       "      <th>FG3A</th>\n",
       "      <th>FG3_PCT</th>\n",
       "      <th>FTM</th>\n",
       "      <th>FTA</th>\n",
       "      <th>...</th>\n",
       "      <th>HUSTLE_STATUS</th>\n",
       "      <th>POSS</th>\n",
       "      <th>PLAYER_PTS</th>\n",
       "      <th>TEAM_PTS</th>\n",
       "      <th>TOV</th>\n",
       "      <th>SFL</th>\n",
       "      <th>DEF_FLS</th>\n",
       "      <th>CFG3M</th>\n",
       "      <th>CFG3A</th>\n",
       "      <th>CFG3_PCT</th>\n",
       "    </tr>\n",
       "    <tr>\n",
       "      <th>GAME_ID</th>\n",
       "      <th>TEAM_ABBREVIATION</th>\n",
       "      <th></th>\n",
       "      <th></th>\n",
       "      <th></th>\n",
       "      <th></th>\n",
       "      <th></th>\n",
       "      <th></th>\n",
       "      <th></th>\n",
       "      <th></th>\n",
       "      <th></th>\n",
       "      <th></th>\n",
       "      <th></th>\n",
       "      <th></th>\n",
       "      <th></th>\n",
       "      <th></th>\n",
       "      <th></th>\n",
       "      <th></th>\n",
       "      <th></th>\n",
       "      <th></th>\n",
       "      <th></th>\n",
       "      <th></th>\n",
       "      <th></th>\n",
       "    </tr>\n",
       "  </thead>\n",
       "  <tbody>\n",
       "    <tr>\n",
       "      <th rowspan=\"2\" valign=\"top\">21700001</th>\n",
       "      <th>BOS</th>\n",
       "      <td>19327352856</td>\n",
       "      <td>10983987</td>\n",
       "      <td>36.0</td>\n",
       "      <td>88.0</td>\n",
       "      <td>3.798</td>\n",
       "      <td>8.0</td>\n",
       "      <td>32.0</td>\n",
       "      <td>1.499</td>\n",
       "      <td>19.0</td>\n",
       "      <td>25.0</td>\n",
       "      <td>...</td>\n",
       "      <td>1.0</td>\n",
       "      <td>479</td>\n",
       "      <td>96</td>\n",
       "      <td>499</td>\n",
       "      <td>15</td>\n",
       "      <td>9</td>\n",
       "      <td>3</td>\n",
       "      <td>0</td>\n",
       "      <td>1</td>\n",
       "      <td>0.0</td>\n",
       "    </tr>\n",
       "    <tr>\n",
       "      <th>CLE</th>\n",
       "      <td>20937965607</td>\n",
       "      <td>3051717</td>\n",
       "      <td>38.0</td>\n",
       "      <td>83.0</td>\n",
       "      <td>4.313</td>\n",
       "      <td>5.0</td>\n",
       "      <td>22.0</td>\n",
       "      <td>1.316</td>\n",
       "      <td>21.0</td>\n",
       "      <td>25.0</td>\n",
       "      <td>...</td>\n",
       "      <td>0.0</td>\n",
       "      <td>492</td>\n",
       "      <td>94</td>\n",
       "      <td>488</td>\n",
       "      <td>10</td>\n",
       "      <td>10</td>\n",
       "      <td>3</td>\n",
       "      <td>1</td>\n",
       "      <td>2</td>\n",
       "      <td>1.0</td>\n",
       "    </tr>\n",
       "  </tbody>\n",
       "</table>\n",
       "<p>2 rows × 111 columns</p>\n",
       "</div>"
      ],
      "text/plain": [
       "                                TEAM_ID  PLAYER_ID   FGM   FGA  FG_PCT  FG3M  \\\n",
       "GAME_ID  TEAM_ABBREVIATION                                                     \n",
       "21700001 BOS                19327352856   10983987  36.0  88.0   3.798   8.0   \n",
       "         CLE                20937965607    3051717  38.0  83.0   4.313   5.0   \n",
       "\n",
       "                            FG3A  FG3_PCT   FTM   FTA    ...     \\\n",
       "GAME_ID  TEAM_ABBREVIATION                               ...      \n",
       "21700001 BOS                32.0    1.499  19.0  25.0    ...      \n",
       "         CLE                22.0    1.316  21.0  25.0    ...      \n",
       "\n",
       "                            HUSTLE_STATUS  POSS  PLAYER_PTS  TEAM_PTS  TOV  \\\n",
       "GAME_ID  TEAM_ABBREVIATION                                                   \n",
       "21700001 BOS                          1.0   479          96       499   15   \n",
       "         CLE                          0.0   492          94       488   10   \n",
       "\n",
       "                            SFL  DEF_FLS  CFG3M  CFG3A  CFG3_PCT  \n",
       "GAME_ID  TEAM_ABBREVIATION                                        \n",
       "21700001 BOS                  9        3      0      1       0.0  \n",
       "         CLE                 10        3      1      2       1.0  \n",
       "\n",
       "[2 rows x 111 columns]"
      ]
     },
     "execution_count": 15,
     "metadata": {},
     "output_type": "execute_result"
    }
   ],
   "source": [
    "base_nba[base_nba.GAME_ID == 21700001].groupby([\"GAME_ID\", \"TEAM_ABBREVIATION\"]).agg(\"sum\")"
   ]
  },
  {
   "cell_type": "code",
   "execution_count": null,
   "metadata": {
    "collapsed": true
   },
   "outputs": [],
   "source": []
  }
 ],
 "metadata": {
  "kernelspec": {
   "display_name": "Python 3",
   "language": "python",
   "name": "python3"
  },
  "language_info": {
   "codemirror_mode": {
    "name": "ipython",
    "version": 3
   },
   "file_extension": ".py",
   "mimetype": "text/x-python",
   "name": "python",
   "nbconvert_exporter": "python",
   "pygments_lexer": "ipython3",
   "version": "3.6.3"
  },
  "toc": {
   "base_numbering": 1,
   "nav_menu": {},
   "number_sections": true,
   "sideBar": true,
   "skip_h1_title": false,
   "title_cell": "Table of Contents",
   "title_sidebar": "Contents",
   "toc_cell": false,
   "toc_position": {},
   "toc_section_display": true,
   "toc_window_display": false
  },
  "varInspector": {
   "cols": {
    "lenName": 16,
    "lenType": 16,
    "lenVar": 40
   },
   "kernels_config": {
    "python": {
     "delete_cmd_postfix": "",
     "delete_cmd_prefix": "del ",
     "library": "var_list.py",
     "varRefreshCmd": "print(var_dic_list())"
    },
    "r": {
     "delete_cmd_postfix": ") ",
     "delete_cmd_prefix": "rm(",
     "library": "var_list.r",
     "varRefreshCmd": "cat(var_dic_list()) "
    }
   },
   "types_to_exclude": [
    "module",
    "function",
    "builtin_function_or_method",
    "instance",
    "_Feature"
   ],
   "window_display": true
  }
 },
 "nbformat": 4,
 "nbformat_minor": 2
}
