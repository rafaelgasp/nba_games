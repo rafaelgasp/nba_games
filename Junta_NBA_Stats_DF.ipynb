{
 "cells": [
  {
   "cell_type": "code",
   "execution_count": 1,
   "metadata": {
    "ExecuteTime": {
     "end_time": "2018-09-10T00:31:10.899996Z",
     "start_time": "2018-09-10T00:31:01.803188Z"
    },
    "collapsed": true
   },
   "outputs": [],
   "source": [
    "import pandas as pd\n",
    "import numpy as np\n",
    "import os\n",
    "from datetime import datetime"
   ]
  },
  {
   "cell_type": "code",
   "execution_count": 2,
   "metadata": {
    "ExecuteTime": {
     "end_time": "2018-09-10T00:31:11.292794Z",
     "start_time": "2018-09-10T00:31:10.928443Z"
    },
    "collapsed": true
   },
   "outputs": [],
   "source": [
    "de_para_siglas = pd.read_csv('de_para_siglas.csv').set_index(\"sigla\").to_dict()['nome']"
   ]
  },
  {
   "cell_type": "code",
   "execution_count": 3,
   "metadata": {
    "ExecuteTime": {
     "end_time": "2018-09-10T00:31:13.407021Z",
     "start_time": "2018-09-10T00:31:11.318235Z"
    },
    "collapsed": true
   },
   "outputs": [],
   "source": [
    "base_nba = pd.read_csv(\"base_nba_per_player_17_18.csv\", index_col=0)"
   ]
  },
  {
   "cell_type": "code",
   "execution_count": 27,
   "metadata": {
    "ExecuteTime": {
     "end_time": "2018-09-05T01:32:18.135286Z",
     "start_time": "2018-09-05T01:32:18.130793Z"
    },
    "collapsed": true
   },
   "outputs": [],
   "source": [
    "glossario_basic = \"MIN Minutes Played FGM Field Goals Made FGA Field Goals Attempted FG% Field Goal Percentage 3PM Three Pointers Made 3PA Three Pointers Attempted 3P% Three Point Percentage FTM Free Throws Made FTA Free Throws Attempted FT% Free Throw Percentage OREB Offensive Rebounds DREB Defensive Rebounds REB Rebounds AST Assists TOV Turnovers STL Steals BLK Blocked Shots PF Personal Foul FP Fantasy Points PTS Points +/- Plus-Minus\".split()\n",
    "glossario_adv = \"MIN Minutes Played OFFRTG Offensive Rating DEFRTG Defensive Rating NETRTG Net Rating AST% Assist Percentage AST/TO Assist to Turnover Ratio AST RATIO Assist Ratio OREB% Offensive Rebound Percentage DREB% Defensive Rebound Percentage REB% Rebound Percentage TO RATIO Turnover Percentage EFG% Effective Field Goal Percentage TS% True Shooting Percentage USG% Usage Percentage PACE Pace PIE Player Impact Estimate\".split()\n",
    "glossario_misc = \"MIN Minutes Played PTS OFF TO Points off Turnover 2ND PTS Second Chance Points FBPS Fast Break Points PITP Points in the Paint OPP PTS OFF TO Opponents Points Off Turnover OPP 2ND PTS Opponents Second Chance Points OPP FBPS Opponents Fast Break Points OPP PITP Opponents Points in the Paint BLK Blocked Shots BLKA Blocks Against PF Personal Foul PFD Personal Fouls Drawn\".split()\n",
    "glossario_scoring = \"MIN Minutes Played %FGA 2PT Percent of Field Goals Attempted (2 Pointers) %FGA 3PT Percent Field Goals Attempted (3 Pointers) %PTS 2PT Percent of Points (2 Pointers) %PTS 2PT-MR Percent of Points (Mid-Range) %PTS 3PT Percent of Points (3 Pointers) %PTS FBPS Percent of Points (Fast Break Points) %PTS FT Percent of Points (Free Throws) %PTS OFFTO Percent of Points (Off Turnovers) %PTS (PITP) Percent of Points (Points in the Paint) 2FGM %AST Percent of 2 Point Field Goals Made Assisted 2FGM %UAST Percent of 2 Point Field Goals Made Unassisted 3FGM %AST Percent of 3 Point Field Goals Made Assisted 3FGM %UAST Percent of 3 Point Field Goals Made Unassisted FGM %AST Percent of Field Goals Made Assisted FGM %UAST Percent of Field Goals Made Unassisted\".split()\n",
    "glossario_usage = \"MIN Minutes Played USG% Usage Percentage %FGM Percent of Team's Field Goals Made %FGA Percent of Team's Field Goals Attempted %3PM Percent of Team's 3 Point Field Goals Made %3PA Percent of Team's 3 Point Field Goals Attempted %FTM Percent of Team's Free Throws Made %FTA Percent of Team's Free Throws Attempted %OREB Percent of Team's Offensive Rebounds %DREB Percent of Team's Defensive Rebounds %REB Percent of Team's Rebounds %AST Percent of Team's Assists %TO Percent of Team's Turnovers %STL Percent of Team's Steals %BLK Percent of Team's Blocks %BLKA Percent of Team's Blocked Field Goal Attempts %PF Percent of Team's Personal Fouls %PFD Percent of Team's Personal Fouls Drawn %PTS Percent of Team's Points\".split()\n",
    "glossario_four = \"MIN Minutes Played EFG% Effective Field Goal Percentage FTA RATE Free Throws Attempted Rate TO RATIO Team Turnover Percentage OREB% Offensive Rebound Percentage OPP EFG% Oppontent Effective Field Goal Percentage OPP FTA RATE Opponents Free Throws Attempted Rate OPP TO RATIO Opponents Team Turnover Percentage OPP OREB% Opponents Offensive Rebound Percentage\".split()\n",
    "glossario_track = \"MIN Minutes Played DIST Distance Run (Miles) SPD Average Speed (MPH) TCHS Touches PASS Passes Made AST Assists SAST Secondary Assists DFGM Field Goals Defended at Rim Made DFGA Field Goals Defended at Rim Defended DFG% Field Goals Defended at Rim Percentage ORBC Offensive Rebound Chances DRBC Defensive Rebound Chances RBC Rebound Chances FG% Field Goal Percentage CFGM Contested Field Goals Made CFGA Contested Field Goals Attempted CFG% Contested Field Goal Percentage UFGM Uncontested Field Goals Made UFGA Uncontested Field Goals Attempted UFG% Uncontested Field Goal Percentage\".split()\n",
    "glossario_defense = \"POSS:Number of Possessions in which a defensive player was assigned a matchup :PLAYER PTS:The number of points a defensive player allowed his matchups to score :TEAM PTS:Number of points the opposing team scored during a defensive player’s matchup possessions :AST:The number of assists a defensive player allowed his matchups to have TOVThe number of turnovers a defensive player forced his matchups to commit DREBThe number of rebounds a player grabs while on defense during a game STLThe number of Steals a player registers during a game BLKThe number of Blocks a player registers during a game FGMThe number of field goals a defensive player allowed his matchups to make FGAThe number of field goals a defensive player allowed his matchups to take FG%The percentage of field goal attempts a defensive player allowed his matchups to make 3PMThe number of three-point field goals a defensive player allowed his matchups to make 3PAThe number of three-point field goals a defensive player allowed his matchups to take 3P%The percentage of three-point field goal attempts a defensive player allowed his matchups to make FTMThe number of free throws a defensive player allowed his matchups to make SFLThe number of shooting fouls a defensive player committed against his matchups DEF FLSThe number of non-shooting defensive fouls a defensive player committed against his matchups CFGMThe number of field goals the opposing players made while a defensive player was contesting CFGAThe number of field goals the opposing players took while a defensive player was contesting CFG%The percentage of field goals the opposing players made while a defensive player was contesting C3PMThe number of three-point field goals the opposing players made while a defensive player was contesting C3PAThe number of three-point field goals the opposing players took while a defensive player was contesting C3P%The percentage of three-point field goals the opposing players made while a defensive player was contesting\""
   ]
  },
  {
   "cell_type": "code",
   "execution_count": null,
   "metadata": {
    "collapsed": true
   },
   "outputs": [],
   "source": [
    "list(base_nba.columns)"
   ]
  },
  {
   "cell_type": "code",
   "execution_count": 203,
   "metadata": {
    "ExecuteTime": {
     "end_time": "2018-09-10T02:33:18.907042Z",
     "start_time": "2018-09-10T02:33:18.876359Z"
    }
   },
   "outputs": [
    {
     "data": {
      "text/html": [
       "<div>\n",
       "<style scoped>\n",
       "    .dataframe tbody tr th:only-of-type {\n",
       "        vertical-align: middle;\n",
       "    }\n",
       "\n",
       "    .dataframe tbody tr th {\n",
       "        vertical-align: top;\n",
       "    }\n",
       "\n",
       "    .dataframe thead th {\n",
       "        text-align: right;\n",
       "    }\n",
       "</style>\n",
       "<table border=\"1\" class=\"dataframe\">\n",
       "  <thead>\n",
       "    <tr style=\"text-align: right;\">\n",
       "      <th></th>\n",
       "      <th>PLAYER_NAME</th>\n",
       "      <th>PTS</th>\n",
       "      <th>PLAYER_PTS</th>\n",
       "      <th>TEAM_PTS</th>\n",
       "      <th>FTAST</th>\n",
       "    </tr>\n",
       "    <tr>\n",
       "      <th>GAME</th>\n",
       "      <th></th>\n",
       "      <th></th>\n",
       "      <th></th>\n",
       "      <th></th>\n",
       "      <th></th>\n",
       "    </tr>\n",
       "  </thead>\n",
       "  <tbody>\n",
       "    <tr>\n",
       "      <th>BOS @ CLE 2017-10-17</th>\n",
       "      <td>Gordon Hayward</td>\n",
       "      <td>2.0</td>\n",
       "      <td>2</td>\n",
       "      <td>9</td>\n",
       "      <td>0</td>\n",
       "    </tr>\n",
       "    <tr>\n",
       "      <th>BOS @ CLE 2017-10-17</th>\n",
       "      <td>Jayson Tatum</td>\n",
       "      <td>14.0</td>\n",
       "      <td>13</td>\n",
       "      <td>73</td>\n",
       "      <td>0</td>\n",
       "    </tr>\n",
       "    <tr>\n",
       "      <th>BOS @ CLE 2017-10-17</th>\n",
       "      <td>Al Horford</td>\n",
       "      <td>9.0</td>\n",
       "      <td>8</td>\n",
       "      <td>67</td>\n",
       "      <td>0</td>\n",
       "    </tr>\n",
       "    <tr>\n",
       "      <th>BOS @ CLE 2017-10-17</th>\n",
       "      <td>Jaylen Brown</td>\n",
       "      <td>25.0</td>\n",
       "      <td>23</td>\n",
       "      <td>85</td>\n",
       "      <td>0</td>\n",
       "    </tr>\n",
       "    <tr>\n",
       "      <th>BOS @ CLE 2017-10-17</th>\n",
       "      <td>Kyrie Irving</td>\n",
       "      <td>22.0</td>\n",
       "      <td>14</td>\n",
       "      <td>81</td>\n",
       "      <td>1</td>\n",
       "    </tr>\n",
       "    <tr>\n",
       "      <th>BOS @ CLE 2017-10-17</th>\n",
       "      <td>Marcus Smart</td>\n",
       "      <td>12.0</td>\n",
       "      <td>16</td>\n",
       "      <td>74</td>\n",
       "      <td>0</td>\n",
       "    </tr>\n",
       "    <tr>\n",
       "      <th>BOS @ CLE 2017-10-17</th>\n",
       "      <td>Aron Baynes</td>\n",
       "      <td>6.0</td>\n",
       "      <td>8</td>\n",
       "      <td>41</td>\n",
       "      <td>0</td>\n",
       "    </tr>\n",
       "    <tr>\n",
       "      <th>BOS @ CLE 2017-10-17</th>\n",
       "      <td>Semi Ojeleye</td>\n",
       "      <td>0.0</td>\n",
       "      <td>2</td>\n",
       "      <td>20</td>\n",
       "      <td>0</td>\n",
       "    </tr>\n",
       "    <tr>\n",
       "      <th>BOS @ CLE 2017-10-17</th>\n",
       "      <td>Terry Rozier</td>\n",
       "      <td>9.0</td>\n",
       "      <td>7</td>\n",
       "      <td>40</td>\n",
       "      <td>0</td>\n",
       "    </tr>\n",
       "    <tr>\n",
       "      <th>BOS @ CLE 2017-10-17</th>\n",
       "      <td>Shane Larkin</td>\n",
       "      <td>0.0</td>\n",
       "      <td>3</td>\n",
       "      <td>9</td>\n",
       "      <td>0</td>\n",
       "    </tr>\n",
       "    <tr>\n",
       "      <th>BOS @ CLE 2017-10-17</th>\n",
       "      <td>Abdel Nader</td>\n",
       "      <td>NaN</td>\n",
       "      <td>0</td>\n",
       "      <td>0</td>\n",
       "      <td>0</td>\n",
       "    </tr>\n",
       "    <tr>\n",
       "      <th>BOS @ CLE 2017-10-17</th>\n",
       "      <td>Daniel Theis</td>\n",
       "      <td>NaN</td>\n",
       "      <td>0</td>\n",
       "      <td>0</td>\n",
       "      <td>0</td>\n",
       "    </tr>\n",
       "    <tr>\n",
       "      <th>BOS @ CLE 2017-10-17</th>\n",
       "      <td>LeBron James</td>\n",
       "      <td>29.0</td>\n",
       "      <td>14</td>\n",
       "      <td>87</td>\n",
       "      <td>0</td>\n",
       "    </tr>\n",
       "    <tr>\n",
       "      <th>BOS @ CLE 2017-10-17</th>\n",
       "      <td>Jae Crowder</td>\n",
       "      <td>11.0</td>\n",
       "      <td>11</td>\n",
       "      <td>68</td>\n",
       "      <td>0</td>\n",
       "    </tr>\n",
       "    <tr>\n",
       "      <th>BOS @ CLE 2017-10-17</th>\n",
       "      <td>Kevin Love</td>\n",
       "      <td>15.0</td>\n",
       "      <td>14</td>\n",
       "      <td>58</td>\n",
       "      <td>0</td>\n",
       "    </tr>\n",
       "    <tr>\n",
       "      <th>BOS @ CLE 2017-10-17</th>\n",
       "      <td>Dwyane Wade</td>\n",
       "      <td>8.0</td>\n",
       "      <td>5</td>\n",
       "      <td>59</td>\n",
       "      <td>0</td>\n",
       "    </tr>\n",
       "    <tr>\n",
       "      <th>BOS @ CLE 2017-10-17</th>\n",
       "      <td>Derrick Rose</td>\n",
       "      <td>14.0</td>\n",
       "      <td>17</td>\n",
       "      <td>71</td>\n",
       "      <td>0</td>\n",
       "    </tr>\n",
       "    <tr>\n",
       "      <th>BOS @ CLE 2017-10-17</th>\n",
       "      <td>Tristan Thompson</td>\n",
       "      <td>5.0</td>\n",
       "      <td>7</td>\n",
       "      <td>41</td>\n",
       "      <td>0</td>\n",
       "    </tr>\n",
       "    <tr>\n",
       "      <th>BOS @ CLE 2017-10-17</th>\n",
       "      <td>JR Smith</td>\n",
       "      <td>10.0</td>\n",
       "      <td>3</td>\n",
       "      <td>39</td>\n",
       "      <td>0</td>\n",
       "    </tr>\n",
       "    <tr>\n",
       "      <th>BOS @ CLE 2017-10-17</th>\n",
       "      <td>Iman Shumpert</td>\n",
       "      <td>4.0</td>\n",
       "      <td>12</td>\n",
       "      <td>22</td>\n",
       "      <td>0</td>\n",
       "    </tr>\n",
       "    <tr>\n",
       "      <th>BOS @ CLE 2017-10-17</th>\n",
       "      <td>Jeff Green</td>\n",
       "      <td>6.0</td>\n",
       "      <td>4</td>\n",
       "      <td>28</td>\n",
       "      <td>0</td>\n",
       "    </tr>\n",
       "    <tr>\n",
       "      <th>BOS @ CLE 2017-10-17</th>\n",
       "      <td>Kyle Korver</td>\n",
       "      <td>0.0</td>\n",
       "      <td>7</td>\n",
       "      <td>15</td>\n",
       "      <td>0</td>\n",
       "    </tr>\n",
       "    <tr>\n",
       "      <th>BOS @ CLE 2017-10-17</th>\n",
       "      <td>Jose Calderon</td>\n",
       "      <td>NaN</td>\n",
       "      <td>0</td>\n",
       "      <td>0</td>\n",
       "      <td>0</td>\n",
       "    </tr>\n",
       "    <tr>\n",
       "      <th>BOS @ CLE 2017-10-17</th>\n",
       "      <td>Channing Frye</td>\n",
       "      <td>NaN</td>\n",
       "      <td>0</td>\n",
       "      <td>0</td>\n",
       "      <td>0</td>\n",
       "    </tr>\n",
       "    <tr>\n",
       "      <th>BOS @ CLE 2017-10-17</th>\n",
       "      <td>Cedi Osman</td>\n",
       "      <td>NaN</td>\n",
       "      <td>0</td>\n",
       "      <td>0</td>\n",
       "      <td>0</td>\n",
       "    </tr>\n",
       "    <tr>\n",
       "      <th>HOU @ GSW 2017-10-17</th>\n",
       "      <td>Trevor Ariza</td>\n",
       "      <td>8.0</td>\n",
       "      <td>15</td>\n",
       "      <td>100</td>\n",
       "      <td>0</td>\n",
       "    </tr>\n",
       "    <tr>\n",
       "      <th>HOU @ GSW 2017-10-17</th>\n",
       "      <td>Ryan Anderson</td>\n",
       "      <td>13.0</td>\n",
       "      <td>13</td>\n",
       "      <td>87</td>\n",
       "      <td>0</td>\n",
       "    </tr>\n",
       "    <tr>\n",
       "      <th>HOU @ GSW 2017-10-17</th>\n",
       "      <td>Clint Capela</td>\n",
       "      <td>12.0</td>\n",
       "      <td>9</td>\n",
       "      <td>62</td>\n",
       "      <td>0</td>\n",
       "    </tr>\n",
       "    <tr>\n",
       "      <th>HOU @ GSW 2017-10-17</th>\n",
       "      <td>James Harden</td>\n",
       "      <td>27.0</td>\n",
       "      <td>14</td>\n",
       "      <td>96</td>\n",
       "      <td>0</td>\n",
       "    </tr>\n",
       "    <tr>\n",
       "      <th>HOU @ GSW 2017-10-17</th>\n",
       "      <td>Chris Paul</td>\n",
       "      <td>4.0</td>\n",
       "      <td>38</td>\n",
       "      <td>90</td>\n",
       "      <td>0</td>\n",
       "    </tr>\n",
       "    <tr>\n",
       "      <th>...</th>\n",
       "      <td>...</td>\n",
       "      <td>...</td>\n",
       "      <td>...</td>\n",
       "      <td>...</td>\n",
       "      <td>...</td>\n",
       "    </tr>\n",
       "    <tr>\n",
       "      <th>UTA @ POR 2018-04-11</th>\n",
       "      <td>Shabazz Napier</td>\n",
       "      <td>9.0</td>\n",
       "      <td>11</td>\n",
       "      <td>25</td>\n",
       "      <td>0</td>\n",
       "    </tr>\n",
       "    <tr>\n",
       "      <th>UTA @ POR 2018-04-11</th>\n",
       "      <td>Jake Layman</td>\n",
       "      <td>0.0</td>\n",
       "      <td>0</td>\n",
       "      <td>0</td>\n",
       "      <td>0</td>\n",
       "    </tr>\n",
       "    <tr>\n",
       "      <th>UTA @ POR 2018-04-11</th>\n",
       "      <td>Caleb Swanigan</td>\n",
       "      <td>0.0</td>\n",
       "      <td>0</td>\n",
       "      <td>3</td>\n",
       "      <td>0</td>\n",
       "    </tr>\n",
       "    <tr>\n",
       "      <th>UTA @ POR 2018-04-11</th>\n",
       "      <td>Meyers Leonard</td>\n",
       "      <td>NaN</td>\n",
       "      <td>0</td>\n",
       "      <td>0</td>\n",
       "      <td>0</td>\n",
       "    </tr>\n",
       "    <tr>\n",
       "      <th>HOU @ SAC 2018-04-11</th>\n",
       "      <td>Gerald Green</td>\n",
       "      <td>31.0</td>\n",
       "      <td>6</td>\n",
       "      <td>49</td>\n",
       "      <td>1</td>\n",
       "    </tr>\n",
       "    <tr>\n",
       "      <th>HOU @ SAC 2018-04-11</th>\n",
       "      <td>PJ Tucker</td>\n",
       "      <td>3.0</td>\n",
       "      <td>14</td>\n",
       "      <td>69</td>\n",
       "      <td>0</td>\n",
       "    </tr>\n",
       "    <tr>\n",
       "      <th>HOU @ SAC 2018-04-11</th>\n",
       "      <td>Tarik Black</td>\n",
       "      <td>12.0</td>\n",
       "      <td>17</td>\n",
       "      <td>77</td>\n",
       "      <td>0</td>\n",
       "    </tr>\n",
       "    <tr>\n",
       "      <th>HOU @ SAC 2018-04-11</th>\n",
       "      <td>Joe Johnson</td>\n",
       "      <td>4.0</td>\n",
       "      <td>14</td>\n",
       "      <td>67</td>\n",
       "      <td>0</td>\n",
       "    </tr>\n",
       "    <tr>\n",
       "      <th>HOU @ SAC 2018-04-11</th>\n",
       "      <td>RJ Hunter</td>\n",
       "      <td>19.0</td>\n",
       "      <td>12</td>\n",
       "      <td>52</td>\n",
       "      <td>0</td>\n",
       "    </tr>\n",
       "    <tr>\n",
       "      <th>HOU @ SAC 2018-04-11</th>\n",
       "      <td>Aaron Jackson</td>\n",
       "      <td>8.0</td>\n",
       "      <td>0</td>\n",
       "      <td>0</td>\n",
       "      <td>0</td>\n",
       "    </tr>\n",
       "    <tr>\n",
       "      <th>HOU @ SAC 2018-04-11</th>\n",
       "      <td>Zhou Qi</td>\n",
       "      <td>2.0</td>\n",
       "      <td>16</td>\n",
       "      <td>59</td>\n",
       "      <td>0</td>\n",
       "    </tr>\n",
       "    <tr>\n",
       "      <th>HOU @ SAC 2018-04-11</th>\n",
       "      <td>Chinanu Onuaku</td>\n",
       "      <td>4.0</td>\n",
       "      <td>5</td>\n",
       "      <td>44</td>\n",
       "      <td>0</td>\n",
       "    </tr>\n",
       "    <tr>\n",
       "      <th>HOU @ SAC 2018-04-11</th>\n",
       "      <td>Clint Capela</td>\n",
       "      <td>NaN</td>\n",
       "      <td>0</td>\n",
       "      <td>0</td>\n",
       "      <td>0</td>\n",
       "    </tr>\n",
       "    <tr>\n",
       "      <th>HOU @ SAC 2018-04-11</th>\n",
       "      <td>Eric Gordon</td>\n",
       "      <td>NaN</td>\n",
       "      <td>0</td>\n",
       "      <td>0</td>\n",
       "      <td>0</td>\n",
       "    </tr>\n",
       "    <tr>\n",
       "      <th>HOU @ SAC 2018-04-11</th>\n",
       "      <td>James Harden</td>\n",
       "      <td>NaN</td>\n",
       "      <td>0</td>\n",
       "      <td>0</td>\n",
       "      <td>0</td>\n",
       "    </tr>\n",
       "    <tr>\n",
       "      <th>HOU @ SAC 2018-04-11</th>\n",
       "      <td>Nene</td>\n",
       "      <td>NaN</td>\n",
       "      <td>0</td>\n",
       "      <td>0</td>\n",
       "      <td>0</td>\n",
       "    </tr>\n",
       "    <tr>\n",
       "      <th>HOU @ SAC 2018-04-11</th>\n",
       "      <td>Chris Paul</td>\n",
       "      <td>NaN</td>\n",
       "      <td>0</td>\n",
       "      <td>0</td>\n",
       "      <td>0</td>\n",
       "    </tr>\n",
       "    <tr>\n",
       "      <th>HOU @ SAC 2018-04-11</th>\n",
       "      <td>Justin Jackson</td>\n",
       "      <td>0.0</td>\n",
       "      <td>11</td>\n",
       "      <td>58</td>\n",
       "      <td>0</td>\n",
       "    </tr>\n",
       "    <tr>\n",
       "      <th>HOU @ SAC 2018-04-11</th>\n",
       "      <td>JaKarr Sampson</td>\n",
       "      <td>11.0</td>\n",
       "      <td>11</td>\n",
       "      <td>44</td>\n",
       "      <td>0</td>\n",
       "    </tr>\n",
       "    <tr>\n",
       "      <th>HOU @ SAC 2018-04-11</th>\n",
       "      <td>Willie Cauley-Stein</td>\n",
       "      <td>22.0</td>\n",
       "      <td>9</td>\n",
       "      <td>55</td>\n",
       "      <td>0</td>\n",
       "    </tr>\n",
       "    <tr>\n",
       "      <th>HOU @ SAC 2018-04-11</th>\n",
       "      <td>Bogdan Bogdanovic</td>\n",
       "      <td>12.0</td>\n",
       "      <td>11</td>\n",
       "      <td>48</td>\n",
       "      <td>2</td>\n",
       "    </tr>\n",
       "    <tr>\n",
       "      <th>HOU @ SAC 2018-04-11</th>\n",
       "      <td>De'Aaron Fox</td>\n",
       "      <td>11.0</td>\n",
       "      <td>10</td>\n",
       "      <td>55</td>\n",
       "      <td>0</td>\n",
       "    </tr>\n",
       "    <tr>\n",
       "      <th>HOU @ SAC 2018-04-11</th>\n",
       "      <td>Buddy Hield</td>\n",
       "      <td>14.0</td>\n",
       "      <td>10</td>\n",
       "      <td>47</td>\n",
       "      <td>1</td>\n",
       "    </tr>\n",
       "    <tr>\n",
       "      <th>HOU @ SAC 2018-04-11</th>\n",
       "      <td>Jack Cooley</td>\n",
       "      <td>10.0</td>\n",
       "      <td>7</td>\n",
       "      <td>31</td>\n",
       "      <td>0</td>\n",
       "    </tr>\n",
       "    <tr>\n",
       "      <th>HOU @ SAC 2018-04-11</th>\n",
       "      <td>Nigel Hayes</td>\n",
       "      <td>4.0</td>\n",
       "      <td>6</td>\n",
       "      <td>39</td>\n",
       "      <td>0</td>\n",
       "    </tr>\n",
       "    <tr>\n",
       "      <th>HOU @ SAC 2018-04-11</th>\n",
       "      <td>Vince Carter</td>\n",
       "      <td>12.0</td>\n",
       "      <td>8</td>\n",
       "      <td>38</td>\n",
       "      <td>0</td>\n",
       "    </tr>\n",
       "    <tr>\n",
       "      <th>HOU @ SAC 2018-04-11</th>\n",
       "      <td>Bruno Caboclo</td>\n",
       "      <td>NaN</td>\n",
       "      <td>0</td>\n",
       "      <td>0</td>\n",
       "      <td>0</td>\n",
       "    </tr>\n",
       "    <tr>\n",
       "      <th>HOU @ SAC 2018-04-11</th>\n",
       "      <td>Kosta Koufos</td>\n",
       "      <td>NaN</td>\n",
       "      <td>0</td>\n",
       "      <td>0</td>\n",
       "      <td>0</td>\n",
       "    </tr>\n",
       "    <tr>\n",
       "      <th>HOU @ SAC 2018-04-11</th>\n",
       "      <td>Zach Randolph</td>\n",
       "      <td>NaN</td>\n",
       "      <td>0</td>\n",
       "      <td>0</td>\n",
       "      <td>0</td>\n",
       "    </tr>\n",
       "    <tr>\n",
       "      <th>HOU @ SAC 2018-04-11</th>\n",
       "      <td>Garrett Temple</td>\n",
       "      <td>NaN</td>\n",
       "      <td>0</td>\n",
       "      <td>0</td>\n",
       "      <td>0</td>\n",
       "    </tr>\n",
       "  </tbody>\n",
       "</table>\n",
       "<p>30980 rows × 5 columns</p>\n",
       "</div>"
      ],
      "text/plain": [
       "                              PLAYER_NAME   PTS  PLAYER_PTS  TEAM_PTS  FTAST\n",
       "GAME                                                                        \n",
       "BOS @ CLE 2017-10-17       Gordon Hayward   2.0           2         9      0\n",
       "BOS @ CLE 2017-10-17         Jayson Tatum  14.0          13        73      0\n",
       "BOS @ CLE 2017-10-17           Al Horford   9.0           8        67      0\n",
       "BOS @ CLE 2017-10-17         Jaylen Brown  25.0          23        85      0\n",
       "BOS @ CLE 2017-10-17         Kyrie Irving  22.0          14        81      1\n",
       "BOS @ CLE 2017-10-17         Marcus Smart  12.0          16        74      0\n",
       "BOS @ CLE 2017-10-17          Aron Baynes   6.0           8        41      0\n",
       "BOS @ CLE 2017-10-17         Semi Ojeleye   0.0           2        20      0\n",
       "BOS @ CLE 2017-10-17         Terry Rozier   9.0           7        40      0\n",
       "BOS @ CLE 2017-10-17         Shane Larkin   0.0           3         9      0\n",
       "BOS @ CLE 2017-10-17          Abdel Nader   NaN           0         0      0\n",
       "BOS @ CLE 2017-10-17         Daniel Theis   NaN           0         0      0\n",
       "BOS @ CLE 2017-10-17         LeBron James  29.0          14        87      0\n",
       "BOS @ CLE 2017-10-17          Jae Crowder  11.0          11        68      0\n",
       "BOS @ CLE 2017-10-17           Kevin Love  15.0          14        58      0\n",
       "BOS @ CLE 2017-10-17          Dwyane Wade   8.0           5        59      0\n",
       "BOS @ CLE 2017-10-17         Derrick Rose  14.0          17        71      0\n",
       "BOS @ CLE 2017-10-17     Tristan Thompson   5.0           7        41      0\n",
       "BOS @ CLE 2017-10-17             JR Smith  10.0           3        39      0\n",
       "BOS @ CLE 2017-10-17        Iman Shumpert   4.0          12        22      0\n",
       "BOS @ CLE 2017-10-17           Jeff Green   6.0           4        28      0\n",
       "BOS @ CLE 2017-10-17          Kyle Korver   0.0           7        15      0\n",
       "BOS @ CLE 2017-10-17        Jose Calderon   NaN           0         0      0\n",
       "BOS @ CLE 2017-10-17        Channing Frye   NaN           0         0      0\n",
       "BOS @ CLE 2017-10-17           Cedi Osman   NaN           0         0      0\n",
       "HOU @ GSW 2017-10-17         Trevor Ariza   8.0          15       100      0\n",
       "HOU @ GSW 2017-10-17        Ryan Anderson  13.0          13        87      0\n",
       "HOU @ GSW 2017-10-17         Clint Capela  12.0           9        62      0\n",
       "HOU @ GSW 2017-10-17         James Harden  27.0          14        96      0\n",
       "HOU @ GSW 2017-10-17           Chris Paul   4.0          38        90      0\n",
       "...                                   ...   ...         ...       ...    ...\n",
       "UTA @ POR 2018-04-11       Shabazz Napier   9.0          11        25      0\n",
       "UTA @ POR 2018-04-11          Jake Layman   0.0           0         0      0\n",
       "UTA @ POR 2018-04-11       Caleb Swanigan   0.0           0         3      0\n",
       "UTA @ POR 2018-04-11       Meyers Leonard   NaN           0         0      0\n",
       "HOU @ SAC 2018-04-11         Gerald Green  31.0           6        49      1\n",
       "HOU @ SAC 2018-04-11            PJ Tucker   3.0          14        69      0\n",
       "HOU @ SAC 2018-04-11          Tarik Black  12.0          17        77      0\n",
       "HOU @ SAC 2018-04-11          Joe Johnson   4.0          14        67      0\n",
       "HOU @ SAC 2018-04-11            RJ Hunter  19.0          12        52      0\n",
       "HOU @ SAC 2018-04-11        Aaron Jackson   8.0           0         0      0\n",
       "HOU @ SAC 2018-04-11              Zhou Qi   2.0          16        59      0\n",
       "HOU @ SAC 2018-04-11       Chinanu Onuaku   4.0           5        44      0\n",
       "HOU @ SAC 2018-04-11         Clint Capela   NaN           0         0      0\n",
       "HOU @ SAC 2018-04-11          Eric Gordon   NaN           0         0      0\n",
       "HOU @ SAC 2018-04-11         James Harden   NaN           0         0      0\n",
       "HOU @ SAC 2018-04-11                 Nene   NaN           0         0      0\n",
       "HOU @ SAC 2018-04-11           Chris Paul   NaN           0         0      0\n",
       "HOU @ SAC 2018-04-11       Justin Jackson   0.0          11        58      0\n",
       "HOU @ SAC 2018-04-11       JaKarr Sampson  11.0          11        44      0\n",
       "HOU @ SAC 2018-04-11  Willie Cauley-Stein  22.0           9        55      0\n",
       "HOU @ SAC 2018-04-11    Bogdan Bogdanovic  12.0          11        48      2\n",
       "HOU @ SAC 2018-04-11         De'Aaron Fox  11.0          10        55      0\n",
       "HOU @ SAC 2018-04-11          Buddy Hield  14.0          10        47      1\n",
       "HOU @ SAC 2018-04-11          Jack Cooley  10.0           7        31      0\n",
       "HOU @ SAC 2018-04-11          Nigel Hayes   4.0           6        39      0\n",
       "HOU @ SAC 2018-04-11         Vince Carter  12.0           8        38      0\n",
       "HOU @ SAC 2018-04-11        Bruno Caboclo   NaN           0         0      0\n",
       "HOU @ SAC 2018-04-11         Kosta Koufos   NaN           0         0      0\n",
       "HOU @ SAC 2018-04-11        Zach Randolph   NaN           0         0      0\n",
       "HOU @ SAC 2018-04-11       Garrett Temple   NaN           0         0      0\n",
       "\n",
       "[30980 rows x 5 columns]"
      ]
     },
     "execution_count": 203,
     "metadata": {},
     "output_type": "execute_result"
    }
   ],
   "source": [
    "base_nba[['PLAYER_NAME', 'PTS', 'PLAYER_PTS', 'TEAM_PTS', \"FTAST\"]]"
   ]
  },
  {
   "cell_type": "code",
   "execution_count": 67,
   "metadata": {
    "ExecuteTime": {
     "end_time": "2018-09-10T01:09:20.267461Z",
     "start_time": "2018-09-10T01:09:20.260964Z"
    },
    "collapsed": true
   },
   "outputs": [],
   "source": [
    "pcts_columns = [x for x in base_nba.columns if \"PCT\" in x]\n",
    "min_columns = ['GAME_ID', 'TEAM_ID', 'TEAM_ABBREVIATION', 'TEAM_CITY', 'PLAYER_ID', \"GAME\",\n",
    "              'PLAYER_NAME', 'START_POSITION', 'COMMENT', 'GAME_DATE', 'GAME_PLACE', 'TEAM_NICKNAME', \"MIN\"]\n",
    "sum_columns = [x for x in base_nba.columns if \"PCT\" not in x and x not in min_columns]"
   ]
  },
  {
   "cell_type": "code",
   "execution_count": 68,
   "metadata": {
    "ExecuteTime": {
     "end_time": "2018-09-10T01:09:20.721612Z",
     "start_time": "2018-09-10T01:09:20.700648Z"
    }
   },
   "outputs": [
    {
     "data": {
      "text/plain": [
       "Index(['GAME_ID', 'TEAM_ID', 'TEAM_ABBREVIATION', 'TEAM_CITY', 'PLAYER_ID',\n",
       "       'PLAYER_NAME', 'START_POSITION', 'COMMENT', 'MIN', 'FGM',\n",
       "       ...\n",
       "       'SFL', 'DEF_FLS', 'CFGM_defensive', 'CFGA_defensive',\n",
       "       'CFG_PCT_defensive', 'CFG3M', 'CFG3A', 'CFG3_PCT', 'GAME_DATE',\n",
       "       'GAME_PLACE'],\n",
       "      dtype='object', length=151)"
      ]
     },
     "execution_count": 68,
     "metadata": {},
     "output_type": "execute_result"
    }
   ],
   "source": [
    "base_nba.columns"
   ]
  },
  {
   "cell_type": "code",
   "execution_count": 69,
   "metadata": {
    "ExecuteTime": {
     "end_time": "2018-09-10T01:09:21.142828Z",
     "start_time": "2018-09-10T01:09:21.131348Z"
    },
    "collapsed": true
   },
   "outputs": [],
   "source": [
    "aggregation_dict = {}\n",
    "\n",
    "for column in pcts_columns:\n",
    "    aggregation_dict[column] = \"mean\"\n",
    "    \n",
    "for column in sum_columns:\n",
    "    aggregation_dict[column] = \"sum\"\n",
    "    \n",
    "for column in min_columns:\n",
    "    aggregation_dict[column] = (lambda x : str(x.unique()[0]))"
   ]
  },
  {
   "cell_type": "code",
   "execution_count": 70,
   "metadata": {
    "ExecuteTime": {
     "end_time": "2018-09-10T01:09:24.619869Z",
     "start_time": "2018-09-10T01:09:21.634414Z"
    },
    "collapsed": true
   },
   "outputs": [],
   "source": [
    "base_nba_group = base_nba.reset_index().groupby([\"GAME_ID\", \"TEAM_ABBREVIATION\"]).agg(aggregation_dict)"
   ]
  },
  {
   "cell_type": "code",
   "execution_count": 71,
   "metadata": {
    "ExecuteTime": {
     "end_time": "2018-09-10T01:09:24.955306Z",
     "start_time": "2018-09-10T01:09:24.942830Z"
    },
    "collapsed": true
   },
   "outputs": [],
   "source": [
    "to_drop = [\"PLAYER_ID\", \"PLAYER_NAME\", \"START_POSITION\", \"COMMENT\", \"MIN\", \"TEAM_ID\"]\n",
    "base_nba_group.drop(to_drop, axis=1, inplace=True)"
   ]
  },
  {
   "cell_type": "code",
   "execution_count": 72,
   "metadata": {
    "ExecuteTime": {
     "end_time": "2018-09-10T01:09:25.467359Z",
     "start_time": "2018-09-10T01:09:25.428427Z"
    }
   },
   "outputs": [
    {
     "data": {
      "text/html": [
       "<div>\n",
       "<style scoped>\n",
       "    .dataframe tbody tr th:only-of-type {\n",
       "        vertical-align: middle;\n",
       "    }\n",
       "\n",
       "    .dataframe tbody tr th {\n",
       "        vertical-align: top;\n",
       "    }\n",
       "\n",
       "    .dataframe thead th {\n",
       "        text-align: right;\n",
       "    }\n",
       "</style>\n",
       "<table border=\"1\" class=\"dataframe\">\n",
       "  <thead>\n",
       "    <tr style=\"text-align: right;\">\n",
       "      <th></th>\n",
       "      <th></th>\n",
       "      <th>FG_PCT</th>\n",
       "      <th>FG3_PCT</th>\n",
       "      <th>FT_PCT</th>\n",
       "      <th>AST_PCT</th>\n",
       "      <th>OREB_PCT</th>\n",
       "      <th>DREB_PCT</th>\n",
       "      <th>REB_PCT</th>\n",
       "      <th>TM_TOV_PCT</th>\n",
       "      <th>EFG_PCT</th>\n",
       "      <th>TS_PCT</th>\n",
       "      <th>...</th>\n",
       "      <th>CFGA_defensive</th>\n",
       "      <th>CFG3M</th>\n",
       "      <th>CFG3A</th>\n",
       "      <th>GAME_ID</th>\n",
       "      <th>TEAM_ABBREVIATION</th>\n",
       "      <th>TEAM_CITY</th>\n",
       "      <th>GAME</th>\n",
       "      <th>GAME_DATE</th>\n",
       "      <th>GAME_PLACE</th>\n",
       "      <th>TEAM_NICKNAME</th>\n",
       "    </tr>\n",
       "    <tr>\n",
       "      <th>GAME_ID</th>\n",
       "      <th>TEAM_ABBREVIATION</th>\n",
       "      <th></th>\n",
       "      <th></th>\n",
       "      <th></th>\n",
       "      <th></th>\n",
       "      <th></th>\n",
       "      <th></th>\n",
       "      <th></th>\n",
       "      <th></th>\n",
       "      <th></th>\n",
       "      <th></th>\n",
       "      <th></th>\n",
       "      <th></th>\n",
       "      <th></th>\n",
       "      <th></th>\n",
       "      <th></th>\n",
       "      <th></th>\n",
       "      <th></th>\n",
       "      <th></th>\n",
       "      <th></th>\n",
       "      <th></th>\n",
       "      <th></th>\n",
       "    </tr>\n",
       "  </thead>\n",
       "  <tbody>\n",
       "    <tr>\n",
       "      <th rowspan=\"2\" valign=\"top\">21700001</th>\n",
       "      <th>BOS</th>\n",
       "      <td>0.3798</td>\n",
       "      <td>0.149900</td>\n",
       "      <td>0.538100</td>\n",
       "      <td>0.125000</td>\n",
       "      <td>0.026300</td>\n",
       "      <td>0.156800</td>\n",
       "      <td>0.091700</td>\n",
       "      <td>6.2300</td>\n",
       "      <td>0.408400</td>\n",
       "      <td>0.433400</td>\n",
       "      <td>...</td>\n",
       "      <td>35</td>\n",
       "      <td>0</td>\n",
       "      <td>1</td>\n",
       "      <td>21700001</td>\n",
       "      <td>BOS</td>\n",
       "      <td>Boston</td>\n",
       "      <td>BOS @ CLE 2017-10-17</td>\n",
       "      <td>2017-10-17</td>\n",
       "      <td>Quicken Loans Arena</td>\n",
       "      <td>Celtics</td>\n",
       "    </tr>\n",
       "    <tr>\n",
       "      <th>CLE</th>\n",
       "      <td>0.4313</td>\n",
       "      <td>0.131600</td>\n",
       "      <td>0.594000</td>\n",
       "      <td>0.097000</td>\n",
       "      <td>0.038400</td>\n",
       "      <td>0.132300</td>\n",
       "      <td>0.087700</td>\n",
       "      <td>12.5400</td>\n",
       "      <td>0.455300</td>\n",
       "      <td>0.489200</td>\n",
       "      <td>...</td>\n",
       "      <td>38</td>\n",
       "      <td>1</td>\n",
       "      <td>2</td>\n",
       "      <td>21700001</td>\n",
       "      <td>CLE</td>\n",
       "      <td>Cleveland</td>\n",
       "      <td>BOS @ CLE 2017-10-17</td>\n",
       "      <td>2017-10-17</td>\n",
       "      <td>Quicken Loans Arena</td>\n",
       "      <td>Cavaliers</td>\n",
       "    </tr>\n",
       "    <tr>\n",
       "      <th rowspan=\"2\" valign=\"top\">21700002</th>\n",
       "      <th>GSW</th>\n",
       "      <td>0.5080</td>\n",
       "      <td>0.221750</td>\n",
       "      <td>0.608333</td>\n",
       "      <td>0.143250</td>\n",
       "      <td>0.029167</td>\n",
       "      <td>0.155083</td>\n",
       "      <td>0.102167</td>\n",
       "      <td>8.7000</td>\n",
       "      <td>0.567083</td>\n",
       "      <td>0.742417</td>\n",
       "      <td>...</td>\n",
       "      <td>50</td>\n",
       "      <td>1</td>\n",
       "      <td>5</td>\n",
       "      <td>21700002</td>\n",
       "      <td>GSW</td>\n",
       "      <td>Golden State</td>\n",
       "      <td>HOU @ GSW 2017-10-17</td>\n",
       "      <td>2017-10-17</td>\n",
       "      <td>ORACLE Arena</td>\n",
       "      <td>Warriors</td>\n",
       "    </tr>\n",
       "    <tr>\n",
       "      <th>HOU</th>\n",
       "      <td>0.4880</td>\n",
       "      <td>0.319125</td>\n",
       "      <td>0.270875</td>\n",
       "      <td>0.124875</td>\n",
       "      <td>0.047625</td>\n",
       "      <td>0.173375</td>\n",
       "      <td>0.103125</td>\n",
       "      <td>8.8125</td>\n",
       "      <td>0.570000</td>\n",
       "      <td>0.572500</td>\n",
       "      <td>...</td>\n",
       "      <td>31</td>\n",
       "      <td>3</td>\n",
       "      <td>4</td>\n",
       "      <td>21700002</td>\n",
       "      <td>HOU</td>\n",
       "      <td>Houston</td>\n",
       "      <td>HOU @ GSW 2017-10-17</td>\n",
       "      <td>2017-10-17</td>\n",
       "      <td>ORACLE Arena</td>\n",
       "      <td>Rockets</td>\n",
       "    </tr>\n",
       "    <tr>\n",
       "      <th>21700003</th>\n",
       "      <th>CHA</th>\n",
       "      <td>0.4307</td>\n",
       "      <td>0.266700</td>\n",
       "      <td>0.422100</td>\n",
       "      <td>0.147800</td>\n",
       "      <td>0.012200</td>\n",
       "      <td>0.157900</td>\n",
       "      <td>0.095000</td>\n",
       "      <td>13.6500</td>\n",
       "      <td>0.522600</td>\n",
       "      <td>0.563800</td>\n",
       "      <td>...</td>\n",
       "      <td>40</td>\n",
       "      <td>0</td>\n",
       "      <td>0</td>\n",
       "      <td>21700003</td>\n",
       "      <td>CHA</td>\n",
       "      <td>Charlotte</td>\n",
       "      <td>CHA @ DET 2017-10-18</td>\n",
       "      <td>2017-10-18</td>\n",
       "      <td>Little Caesars Arena</td>\n",
       "      <td>Hornets</td>\n",
       "    </tr>\n",
       "  </tbody>\n",
       "</table>\n",
       "<p>5 rows × 146 columns</p>\n",
       "</div>"
      ],
      "text/plain": [
       "                            FG_PCT   FG3_PCT    FT_PCT   AST_PCT  OREB_PCT  \\\n",
       "GAME_ID  TEAM_ABBREVIATION                                                   \n",
       "21700001 BOS                0.3798  0.149900  0.538100  0.125000  0.026300   \n",
       "         CLE                0.4313  0.131600  0.594000  0.097000  0.038400   \n",
       "21700002 GSW                0.5080  0.221750  0.608333  0.143250  0.029167   \n",
       "         HOU                0.4880  0.319125  0.270875  0.124875  0.047625   \n",
       "21700003 CHA                0.4307  0.266700  0.422100  0.147800  0.012200   \n",
       "\n",
       "                            DREB_PCT   REB_PCT  TM_TOV_PCT   EFG_PCT  \\\n",
       "GAME_ID  TEAM_ABBREVIATION                                             \n",
       "21700001 BOS                0.156800  0.091700      6.2300  0.408400   \n",
       "         CLE                0.132300  0.087700     12.5400  0.455300   \n",
       "21700002 GSW                0.155083  0.102167      8.7000  0.567083   \n",
       "         HOU                0.173375  0.103125      8.8125  0.570000   \n",
       "21700003 CHA                0.157900  0.095000     13.6500  0.522600   \n",
       "\n",
       "                              TS_PCT      ...        CFGA_defensive  CFG3M  \\\n",
       "GAME_ID  TEAM_ABBREVIATION                ...                                \n",
       "21700001 BOS                0.433400      ...                    35      0   \n",
       "         CLE                0.489200      ...                    38      1   \n",
       "21700002 GSW                0.742417      ...                    50      1   \n",
       "         HOU                0.572500      ...                    31      3   \n",
       "21700003 CHA                0.563800      ...                    40      0   \n",
       "\n",
       "                            CFG3A   GAME_ID  TEAM_ABBREVIATION     TEAM_CITY  \\\n",
       "GAME_ID  TEAM_ABBREVIATION                                                     \n",
       "21700001 BOS                    1  21700001                BOS        Boston   \n",
       "         CLE                    2  21700001                CLE     Cleveland   \n",
       "21700002 GSW                    5  21700002                GSW  Golden State   \n",
       "         HOU                    4  21700002                HOU       Houston   \n",
       "21700003 CHA                    0  21700003                CHA     Charlotte   \n",
       "\n",
       "                                            GAME   GAME_DATE  \\\n",
       "GAME_ID  TEAM_ABBREVIATION                                     \n",
       "21700001 BOS                BOS @ CLE 2017-10-17  2017-10-17   \n",
       "         CLE                BOS @ CLE 2017-10-17  2017-10-17   \n",
       "21700002 GSW                HOU @ GSW 2017-10-17  2017-10-17   \n",
       "         HOU                HOU @ GSW 2017-10-17  2017-10-17   \n",
       "21700003 CHA                CHA @ DET 2017-10-18  2017-10-18   \n",
       "\n",
       "                                      GAME_PLACE  TEAM_NICKNAME  \n",
       "GAME_ID  TEAM_ABBREVIATION                                       \n",
       "21700001 BOS                 Quicken Loans Arena        Celtics  \n",
       "         CLE                 Quicken Loans Arena      Cavaliers  \n",
       "21700002 GSW                        ORACLE Arena       Warriors  \n",
       "         HOU                        ORACLE Arena        Rockets  \n",
       "21700003 CHA                Little Caesars Arena        Hornets  \n",
       "\n",
       "[5 rows x 146 columns]"
      ]
     },
     "execution_count": 72,
     "metadata": {},
     "output_type": "execute_result"
    }
   ],
   "source": [
    "base_nba_group.head()"
   ]
  },
  {
   "cell_type": "code",
   "execution_count": 76,
   "metadata": {
    "ExecuteTime": {
     "end_time": "2018-09-10T01:09:33.266121Z",
     "start_time": "2018-09-10T01:09:33.257636Z"
    },
    "collapsed": true
   },
   "outputs": [],
   "source": [
    "base_nba_group[\"fl_home\"] = np.where(base_nba_group[\"GAME\"].str[6:9] == base_nba_group[\"TEAM_ABBREVIATION\"], 1, 0)"
   ]
  },
  {
   "cell_type": "code",
   "execution_count": 77,
   "metadata": {
    "ExecuteTime": {
     "end_time": "2018-09-10T01:09:33.666379Z",
     "start_time": "2018-09-10T01:09:33.646413Z"
    },
    "collapsed": true
   },
   "outputs": [],
   "source": [
    "home_games = base_nba_group[base_nba_group[\"fl_home\"] == 1].set_index(\"GAME\")\n",
    "away_games = base_nba_group[base_nba_group[\"fl_home\"] == 0].set_index(\"GAME\")"
   ]
  },
  {
   "cell_type": "code",
   "execution_count": 78,
   "metadata": {
    "ExecuteTime": {
     "end_time": "2018-09-10T01:09:34.023714Z",
     "start_time": "2018-09-10T01:09:34.013235Z"
    }
   },
   "outputs": [
    {
     "name": "stdout",
     "output_type": "stream",
     "text": [
      "Home (1230, 146)\n",
      "Away (1230, 146)\n"
     ]
    }
   ],
   "source": [
    "print(\"Home\", home_games.shape)\n",
    "print(\"Away\", away_games.shape)"
   ]
  },
  {
   "cell_type": "code",
   "execution_count": 80,
   "metadata": {
    "ExecuteTime": {
     "end_time": "2018-09-10T01:10:45.608790Z",
     "start_time": "2018-09-10T01:10:45.599306Z"
    }
   },
   "outputs": [
    {
     "data": {
      "text/plain": [
       "['FG_PCT',\n",
       " 'FG3_PCT',\n",
       " 'FT_PCT',\n",
       " 'AST_PCT',\n",
       " 'OREB_PCT',\n",
       " 'DREB_PCT',\n",
       " 'REB_PCT',\n",
       " 'TM_TOV_PCT',\n",
       " 'EFG_PCT',\n",
       " 'TS_PCT',\n",
       " 'USG_PCT',\n",
       " 'PCT_FGA_2PT',\n",
       " 'PCT_FGA_3PT',\n",
       " 'PCT_PTS_2PT',\n",
       " 'PCT_PTS_2PT_MR',\n",
       " 'PCT_PTS_3PT',\n",
       " 'PCT_PTS_FB',\n",
       " 'PCT_PTS_FT',\n",
       " 'PCT_PTS_OFF_TOV',\n",
       " 'PCT_PTS_PAINT',\n",
       " 'PCT_AST_2PM',\n",
       " 'PCT_UAST_2PM',\n",
       " 'PCT_AST_3PM',\n",
       " 'PCT_UAST_3PM',\n",
       " 'PCT_AST_FGM',\n",
       " 'PCT_UAST_FGM',\n",
       " 'USG_PCT_usage',\n",
       " 'PCT_FGM',\n",
       " 'PCT_FGA',\n",
       " 'PCT_FG3M',\n",
       " 'PCT_FG3A',\n",
       " 'PCT_FTM',\n",
       " 'PCT_FTA',\n",
       " 'PCT_OREB',\n",
       " 'PCT_DREB',\n",
       " 'PCT_REB',\n",
       " 'PCT_AST',\n",
       " 'PCT_TOV',\n",
       " 'PCT_STL',\n",
       " 'PCT_BLK',\n",
       " 'PCT_BLKA',\n",
       " 'PCT_PF',\n",
       " 'PCT_PFD',\n",
       " 'PCT_PTS',\n",
       " 'EFG_PCT_fourfactors',\n",
       " 'TM_TOV_PCT_fourfactors',\n",
       " 'OREB_PCT_fourfactors',\n",
       " 'OPP_EFG_PCT',\n",
       " 'OPP_TOV_PCT',\n",
       " 'OPP_OREB_PCT',\n",
       " 'CFG_PCT',\n",
       " 'UFG_PCT',\n",
       " 'FG_PCT_playertrack',\n",
       " 'DFG_PCT',\n",
       " 'FG_PCT_defensive',\n",
       " 'FG3_PCT_defensive',\n",
       " 'CFG_PCT_defensive',\n",
       " 'CFG3_PCT',\n",
       " 'FGM',\n",
       " 'FGA',\n",
       " 'FG3M',\n",
       " 'FG3A',\n",
       " 'FTM',\n",
       " 'FTA',\n",
       " 'OREB',\n",
       " 'DREB',\n",
       " 'REB',\n",
       " 'AST',\n",
       " 'STL',\n",
       " 'BLK',\n",
       " 'TO',\n",
       " 'PF',\n",
       " 'PTS',\n",
       " 'PLUS_MINUS',\n",
       " 'OFF_RATING',\n",
       " 'DEF_RATING',\n",
       " 'NET_RATING',\n",
       " 'AST_TOV',\n",
       " 'AST_RATIO',\n",
       " 'PACE',\n",
       " 'PIE',\n",
       " 'PTS_OFF_TOV',\n",
       " 'PTS_2ND_CHANCE',\n",
       " 'PTS_FB',\n",
       " 'PTS_PAINT',\n",
       " 'OPP_PTS_OFF_TOV',\n",
       " 'OPP_PTS_2ND_CHANCE',\n",
       " 'OPP_PTS_FB',\n",
       " 'OPP_PTS_PAINT',\n",
       " 'BLK_misc',\n",
       " 'BLKA',\n",
       " 'PF_misc',\n",
       " 'PFD',\n",
       " 'FTA_RATE',\n",
       " 'OPP_FTA_RATE',\n",
       " 'SPD',\n",
       " 'DIST',\n",
       " 'ORBC',\n",
       " 'DRBC',\n",
       " 'RBC',\n",
       " 'TCHS',\n",
       " 'SAST',\n",
       " 'FTAST',\n",
       " 'PASS',\n",
       " 'AST_playertrack',\n",
       " 'CFGM',\n",
       " 'CFGA',\n",
       " 'UFGM',\n",
       " 'UFGA',\n",
       " 'DFGM',\n",
       " 'DFGA',\n",
       " 'CONTESTED_SHOTS',\n",
       " 'CONTESTED_SHOTS_2PT',\n",
       " 'CONTESTED_SHOTS_3PT',\n",
       " 'DEFLECTIONS',\n",
       " 'LOOSE_BALLS_RECOVERED',\n",
       " 'CHARGES_DRAWN',\n",
       " 'SCREEN_ASSISTS',\n",
       " 'BOX_OUTS',\n",
       " 'PTS_hustle',\n",
       " 'POSS',\n",
       " 'PLAYER_PTS',\n",
       " 'TEAM_PTS',\n",
       " 'DREB_defensive',\n",
       " 'AST_defensive',\n",
       " 'TOV',\n",
       " 'STL_defensive',\n",
       " 'BLK_defensive',\n",
       " 'FGM_defensive',\n",
       " 'FGA_defensive',\n",
       " 'FG3M_defensive',\n",
       " 'FG3A_defensive',\n",
       " 'FTM_defensive',\n",
       " 'SFL',\n",
       " 'DEF_FLS',\n",
       " 'CFGM_defensive',\n",
       " 'CFGA_defensive',\n",
       " 'CFG3M',\n",
       " 'CFG3A',\n",
       " 'GAME_ID',\n",
       " 'TEAM_ABBREVIATION',\n",
       " 'TEAM_CITY',\n",
       " 'GAME_DATE',\n",
       " 'GAME_PLACE',\n",
       " 'TEAM_NICKNAME',\n",
       " 'fl_home']"
      ]
     },
     "execution_count": 80,
     "metadata": {},
     "output_type": "execute_result"
    }
   ],
   "source": [
    "list(away_games.columns)"
   ]
  },
  {
   "cell_type": "code",
   "execution_count": 139,
   "metadata": {
    "ExecuteTime": {
     "end_time": "2018-09-10T01:30:24.446898Z",
     "start_time": "2018-09-10T01:30:24.426936Z"
    },
    "collapsed": true
   },
   "outputs": [],
   "source": [
    "all_games = home_games.join(away_games, how=\"inner\", lsuffix=\"_home\", rsuffix=\"_away\")\n",
    "all_games.drop([\"GAME_ID_away\", \"GAME_DATE_away\", \"GAME_PLACE_away\",\n",
    "                \"fl_home_away\", \"fl_home_home\"], axis=1, inplace=True)"
   ]
  },
  {
   "cell_type": "code",
   "execution_count": 140,
   "metadata": {
    "ExecuteTime": {
     "end_time": "2018-09-10T01:30:25.097916Z",
     "start_time": "2018-09-10T01:30:25.080961Z"
    }
   },
   "outputs": [
    {
     "data": {
      "text/html": [
       "<div>\n",
       "<style scoped>\n",
       "    .dataframe tbody tr th:only-of-type {\n",
       "        vertical-align: middle;\n",
       "    }\n",
       "\n",
       "    .dataframe tbody tr th {\n",
       "        vertical-align: top;\n",
       "    }\n",
       "\n",
       "    .dataframe thead th {\n",
       "        text-align: right;\n",
       "    }\n",
       "</style>\n",
       "<table border=\"1\" class=\"dataframe\">\n",
       "  <thead>\n",
       "    <tr style=\"text-align: right;\">\n",
       "      <th></th>\n",
       "      <th>TEAM_ABBREVIATION_away</th>\n",
       "      <th>PTS_away</th>\n",
       "      <th>TEAM_ABBREVIATION_home</th>\n",
       "      <th>PTS_home</th>\n",
       "    </tr>\n",
       "    <tr>\n",
       "      <th>GAME</th>\n",
       "      <th></th>\n",
       "      <th></th>\n",
       "      <th></th>\n",
       "      <th></th>\n",
       "    </tr>\n",
       "  </thead>\n",
       "  <tbody>\n",
       "    <tr>\n",
       "      <th>BOS @ CLE 2017-10-17</th>\n",
       "      <td>BOS</td>\n",
       "      <td>99.0</td>\n",
       "      <td>CLE</td>\n",
       "      <td>102.0</td>\n",
       "    </tr>\n",
       "    <tr>\n",
       "      <th>HOU @ GSW 2017-10-17</th>\n",
       "      <td>HOU</td>\n",
       "      <td>122.0</td>\n",
       "      <td>GSW</td>\n",
       "      <td>121.0</td>\n",
       "    </tr>\n",
       "    <tr>\n",
       "      <th>CHA @ DET 2017-10-18</th>\n",
       "      <td>CHA</td>\n",
       "      <td>90.0</td>\n",
       "      <td>DET</td>\n",
       "      <td>102.0</td>\n",
       "    </tr>\n",
       "    <tr>\n",
       "      <th>BKN @ IND 2017-10-18</th>\n",
       "      <td>BKN</td>\n",
       "      <td>131.0</td>\n",
       "      <td>IND</td>\n",
       "      <td>140.0</td>\n",
       "    </tr>\n",
       "    <tr>\n",
       "      <th>MIA @ ORL 2017-10-18</th>\n",
       "      <td>MIA</td>\n",
       "      <td>109.0</td>\n",
       "      <td>ORL</td>\n",
       "      <td>116.0</td>\n",
       "    </tr>\n",
       "  </tbody>\n",
       "</table>\n",
       "</div>"
      ],
      "text/plain": [
       "                     TEAM_ABBREVIATION_away  PTS_away TEAM_ABBREVIATION_home  \\\n",
       "GAME                                                                           \n",
       "BOS @ CLE 2017-10-17                    BOS      99.0                    CLE   \n",
       "HOU @ GSW 2017-10-17                    HOU     122.0                    GSW   \n",
       "CHA @ DET 2017-10-18                    CHA      90.0                    DET   \n",
       "BKN @ IND 2017-10-18                    BKN     131.0                    IND   \n",
       "MIA @ ORL 2017-10-18                    MIA     109.0                    ORL   \n",
       "\n",
       "                      PTS_home  \n",
       "GAME                            \n",
       "BOS @ CLE 2017-10-17     102.0  \n",
       "HOU @ GSW 2017-10-17     121.0  \n",
       "CHA @ DET 2017-10-18     102.0  \n",
       "BKN @ IND 2017-10-18     140.0  \n",
       "MIA @ ORL 2017-10-18     116.0  "
      ]
     },
     "execution_count": 140,
     "metadata": {},
     "output_type": "execute_result"
    }
   ],
   "source": [
    "all_games[[\"TEAM_ABBREVIATION_away\", \"PTS_away\", \"TEAM_ABBREVIATION_home\", \"PTS_home\"]].head()"
   ]
  },
  {
   "cell_type": "code",
   "execution_count": 141,
   "metadata": {
    "ExecuteTime": {
     "end_time": "2018-09-10T01:30:25.828629Z",
     "start_time": "2018-09-10T01:30:25.805670Z"
    },
    "collapsed": true
   },
   "outputs": [],
   "source": [
    "def get_season(date):\n",
    "    ano = date.year\n",
    "    if(date.month >= 10):\n",
    "        return ano + 1\n",
    "    return ano\n",
    "\n",
    "def is_playoff(date):\n",
    "    # Playoffs 2016\n",
    "    if date >= datetime(2016, 4, 16) and date < datetime(2016, 6, 30):\n",
    "        return 1\n",
    "    \n",
    "    # Playoffs 2017\n",
    "    elif date >= datetime(2017, 4, 15) and date < datetime(2017, 6, 30):\n",
    "        return 1\n",
    "    \n",
    "     # Playoffs 2018\n",
    "    elif date >= datetime(2018, 4, 14) and date < datetime(2018, 6, 30):\n",
    "        return 1\n",
    "    \n",
    "    return 0"
   ]
  },
  {
   "cell_type": "code",
   "execution_count": 151,
   "metadata": {
    "ExecuteTime": {
     "end_time": "2018-09-10T01:32:36.514551Z",
     "start_time": "2018-09-10T01:32:36.507082Z"
    },
    "collapsed": true
   },
   "outputs": [],
   "source": [
    "all_games.loc['MIN @ PHX NaN', \"GAME_DATE_home\"] = \"2017-12-11\""
   ]
  },
  {
   "cell_type": "code",
   "execution_count": 156,
   "metadata": {
    "ExecuteTime": {
     "end_time": "2018-09-10T01:34:53.714323Z",
     "start_time": "2018-09-10T01:34:53.704319Z"
    },
    "collapsed": true
   },
   "outputs": [],
   "source": [
    "all_games = all_games.rename(index={'MIN @ PHX NaN':\"MIN @ PHX 2017-12-11\"})"
   ]
  },
  {
   "cell_type": "code",
   "execution_count": 158,
   "metadata": {
    "ExecuteTime": {
     "end_time": "2018-09-10T01:34:59.523294Z",
     "start_time": "2018-09-10T01:34:59.393057Z"
    },
    "collapsed": true
   },
   "outputs": [],
   "source": [
    "all_games[\"DATE\"] = [datetime.strptime(x, '%Y-%m-%d') for x in all_games.GAME_DATE_home]\n",
    "all_games[\"SEASON\"] = [get_season(x) for x in all_games.DATE]\n",
    "all_games[\"fl_playoff\"] = [is_playoff(x) for x in all_games.DATE]\n",
    "all_games = all_games.sort_values('DATE')"
   ]
  },
  {
   "cell_type": "code",
   "execution_count": 96,
   "metadata": {
    "ExecuteTime": {
     "end_time": "2018-09-10T01:19:21.476565Z",
     "start_time": "2018-09-10T01:19:20.862864Z"
    },
    "collapsed": true
   },
   "outputs": [],
   "source": [
    "all_games[\"team_home_game_num\"] = all_games.groupby(['TEAM_ABBREVIATION_home']).cumcount() + 1\n",
    "all_games[\"team_away_game_num\"] = all_games.groupby(['TEAM_ABBREVIATION_away']).cumcount() + 1"
   ]
  },
  {
   "cell_type": "code",
   "execution_count": 159,
   "metadata": {
    "ExecuteTime": {
     "end_time": "2018-09-10T01:35:11.947555Z",
     "start_time": "2018-09-10T01:35:11.937090Z"
    },
    "collapsed": true
   },
   "outputs": [],
   "source": [
    "all_games = all_games.rename(columns={'TEAM_ABBREVIATION_home': \"team_home\",\n",
    "                                     'TEAM_ABBREVIATION_away': \"team_away\"})"
   ]
  },
  {
   "cell_type": "code",
   "execution_count": 160,
   "metadata": {
    "ExecuteTime": {
     "end_time": "2018-09-10T01:35:14.004892Z",
     "start_time": "2018-09-10T01:35:13.499644Z"
    },
    "collapsed": true
   },
   "outputs": [],
   "source": [
    "all_games.to_csv(\"all_games_nba_17_18.csv\")"
   ]
  },
  {
   "cell_type": "markdown",
   "metadata": {},
   "source": [
    "### Últimos 5 jogos"
   ]
  },
  {
   "cell_type": "code",
   "execution_count": 183,
   "metadata": {
    "ExecuteTime": {
     "end_time": "2018-09-10T01:44:55.969529Z",
     "start_time": "2018-09-10T01:44:55.963540Z"
    },
    "collapsed": true
   },
   "outputs": [],
   "source": [
    "home_columns = [x for x in all_games.columns if x.endswith(\"_home\") and x not in ['GAME_ID_home', 'TEAM_CITY_home', 'GAME_DATE_home', 'GAME_PLACE_home', 'TEAM_NICKNAME_home']]\n",
    "away_columns = [x for x in all_games.columns if x.endswith(\"_away\") and x not in ['TEAM_CITY_away', 'TEAM_NICKNAME_away']]"
   ]
  },
  {
   "cell_type": "code",
   "execution_count": 185,
   "metadata": {
    "ExecuteTime": {
     "end_time": "2018-09-10T01:44:57.711813Z",
     "start_time": "2018-09-10T01:44:57.592515Z"
    },
    "collapsed": true
   },
   "outputs": [],
   "source": [
    "def get_last_games(df, data, team_name, n = 5, filter=\"all\", verbose=False):\n",
    "    if(filter == \"all\"):\n",
    "        last_games = df[(df[\"DATE\"] < data) & \n",
    "                        ((df[\"team_home\"] == team_name) | (df[\"team_away\"] == team_name))].tail(n)\n",
    "        \n",
    "    elif(filter == \"home\"):\n",
    "        last_games = df[(df[\"DATE\"] < data) & (df[\"team_home\"] == team_name)].tail(n)\n",
    "    elif(filter == \"away\"):\n",
    "        last_games = df[(df[\"DATE\"] < data) & (df[\"team_away\"] == team_name)].tail(n)\n",
    "    \n",
    "    if(verbose):\n",
    "        print(last_games[[\"team_home\", \"team_away\", \"PTS_home\", \"PTS_away\"]])\n",
    "    \n",
    "    return(last_games)\n",
    "\n",
    "def get_avg_last_games(last_games, team_name, n = 5, rivals = False):\n",
    "    \n",
    "    if(rivals == False):\n",
    "        last_games_home = last_games[last_games[\"team_home\"] == team_name][home_columns].groupby([\"team_home\"]).sum()\n",
    "        last_games_away = last_games[last_games[\"team_away\"] == team_name][away_columns].groupby([\"team_away\"]).sum()\n",
    "        last_games_home.columns = [x.replace(\"_home\",\"\") for x in last_games_home.columns]\n",
    "        last_games_away.columns = [x.replace(\"_away\",\"\") for x in last_games_away.columns]\n",
    "    else:\n",
    "        last_games_home = last_games[last_games[\"team_home\"] != team_name][home_columns].drop(\"team_home\", axis = 1).sum()\n",
    "        last_games_away = last_games[last_games[\"team_away\"] != team_name][away_columns].drop(\"team_away\", axis = 1).sum()\n",
    "        last_games_home.index = [x.replace(\"_home\",\"_against\") for x in last_games_home.index]\n",
    "        last_games_away.index = [x.replace(\"_away\",\"_against\") for x in last_games_away.index]\n",
    "    \n",
    "    if(len(last_games_home) == 0):\n",
    "        if(rivals):\n",
    "            return (last_games_away/n).to_frame().transpose()\n",
    "        else:\n",
    "            return (last_games_away/n)\n",
    "    \n",
    "    if(len(last_games_away) == 0):\n",
    "        if(rivals):\n",
    "            return(last_games_home/n).to_frame().transpose()\n",
    "        else:\n",
    "            return(last_games_home/n)\n",
    "    \n",
    "    if(rivals):\n",
    "        return((last_games_home + last_games_away) / n).to_frame().transpose()\n",
    "    else:\n",
    "        return((last_games_home + last_games_away) / n)    "
   ]
  },
  {
   "cell_type": "code",
   "execution_count": 186,
   "metadata": {
    "ExecuteTime": {
     "end_time": "2018-09-10T01:48:25.876798Z",
     "start_time": "2018-09-10T01:44:58.365214Z"
    }
   },
   "outputs": [
    {
     "name": "stdout",
     "output_type": "stream",
     "text": [
      "HOU @ SAC 2018-04-11\r"
     ]
    }
   ],
   "source": [
    "resp = []\n",
    "season = all_games.reset_index()\n",
    "\n",
    "for index, row in season.iterrows():\n",
    "#for index, row in regular_season.groupby(\"season\").first().iterrows():\n",
    "        # Home team\n",
    "        home_last_games = get_last_games(season, row[\"DATE\"], row[\"team_home\"])\n",
    "        home_avg_last_games = get_avg_last_games(home_last_games, row[\"team_home\"])\n",
    "        home_rivals_last_games = get_avg_last_games(home_last_games, row[\"team_home\"], rivals=True)\n",
    "\n",
    "        home_avg_last_games[\"game_ref\"] = [row.GAME]\n",
    "        home_avg_last_games.set_index(\"game_ref\", inplace=True)\n",
    "        home_avg_last_games.drop([\"team_home\", \"team_away\"],axis=1 ,errors=\"ignore\", inplace=True)\n",
    "\n",
    "        home_rivals_last_games[\"game_ref\"] = [row.GAME]\n",
    "        home_rivals_last_games.set_index(\"game_ref\", inplace=True)\n",
    "        home_rivals_last_games.drop([\"team_home\", \"team_away\"],axis=1 ,errors=\"ignore\", inplace=True)\n",
    "\n",
    "        #print(home_rivals_last_games.index, home_avg_last_games.index)\n",
    "\n",
    "        # Away team\n",
    "        away_last_games = get_last_games(season, row[\"DATE\"], row[\"team_away\"]).reset_index()\n",
    "        away_avg_last_games = get_avg_last_games(away_last_games, row[\"team_away\"])\n",
    "        away_rivals_last_games = get_avg_last_games(away_last_games, row[\"team_away\"], rivals=True)\n",
    "\n",
    "        away_avg_last_games[\"game_ref\"] = [row.GAME]\n",
    "        away_avg_last_games.set_index(\"game_ref\", inplace=True)\n",
    "        away_avg_last_games.drop([\"team_home\", \"team_away\"],axis=1 ,errors=\"ignore\", inplace=True)\n",
    "\n",
    "        away_rivals_last_games[\"game_ref\"] = [row.GAME]\n",
    "        away_rivals_last_games.set_index(\"game_ref\", inplace=True)\n",
    "        away_rivals_last_games.drop([\"team_home\", \"team_away\"],axis=1 ,errors=\"ignore\", inplace=True)\n",
    "\n",
    "        #print(away_rivals_last_games.index, away_avg_last_games.index)\n",
    "\n",
    "        # Junta bases \n",
    "        rivals_last_games = home_rivals_last_games.join(away_rivals_last_games, how=\"inner\",\n",
    "                                            lsuffix='_home_last_5_games', rsuffix='_away_last_5_games')\n",
    "\n",
    "        avg_last_games = home_avg_last_games.join(away_avg_last_games, how=\"inner\", \n",
    "                             lsuffix='_home_last_5_games', rsuffix='_away_last_5_games')\n",
    "\n",
    "\n",
    "        game_line = avg_last_games.join(rivals_last_games,\n",
    "                                        how=\"inner\")\n",
    "\n",
    "        game_line = pd.concat([row.to_frame().transpose().set_index(\"GAME\"), game_line], axis=1)\n",
    "\n",
    "        print(str(row.GAME), end=\"\\r\")\n",
    "        \n",
    "        resp.append(game_line)"
   ]
  },
  {
   "cell_type": "code",
   "execution_count": 187,
   "metadata": {
    "ExecuteTime": {
     "end_time": "2018-09-10T01:48:53.180008Z",
     "start_time": "2018-09-10T01:48:52.793726Z"
    },
    "collapsed": true
   },
   "outputs": [],
   "source": [
    "last_all_games = pd.concat(resp)"
   ]
  },
  {
   "cell_type": "code",
   "execution_count": 189,
   "metadata": {
    "ExecuteTime": {
     "end_time": "2018-09-10T01:50:02.000024Z",
     "start_time": "2018-09-10T01:50:01.989540Z"
    }
   },
   "outputs": [
    {
     "data": {
      "text/plain": [
       "(1230, 846)"
      ]
     },
     "execution_count": 189,
     "metadata": {},
     "output_type": "execute_result"
    }
   ],
   "source": [
    "last_all_games.shape"
   ]
  },
  {
   "cell_type": "code",
   "execution_count": 192,
   "metadata": {
    "ExecuteTime": {
     "end_time": "2018-09-10T01:51:31.823677Z",
     "start_time": "2018-09-10T01:51:31.817203Z"
    },
    "collapsed": true
   },
   "outputs": [],
   "source": [
    "last_all_games['fl_home_win'] = np.where(last_all_games['PTS_home'] > last_all_games['PTS_away'], 1, 0)"
   ]
  },
  {
   "cell_type": "code",
   "execution_count": 194,
   "metadata": {
    "ExecuteTime": {
     "end_time": "2018-09-10T01:52:37.443618Z",
     "start_time": "2018-09-10T01:52:35.821591Z"
    },
    "collapsed": true
   },
   "outputs": [],
   "source": [
    "last_all_games.to_csv(\"base_full_nba_17_18.csv\")"
   ]
  },
  {
   "cell_type": "markdown",
   "metadata": {},
   "source": [
    "### Exporta a base truncada 4 dígitos"
   ]
  },
  {
   "cell_type": "code",
   "execution_count": 195,
   "metadata": {
    "ExecuteTime": {
     "end_time": "2018-09-10T01:55:57.046679Z",
     "start_time": "2018-09-10T01:55:57.041691Z"
    },
    "collapsed": true
   },
   "outputs": [],
   "source": [
    "base_truncada = last_all_games"
   ]
  },
  {
   "cell_type": "code",
   "execution_count": 196,
   "metadata": {
    "ExecuteTime": {
     "end_time": "2018-09-10T01:56:28.378890Z",
     "start_time": "2018-09-10T01:56:25.490035Z"
    },
    "collapsed": true
   },
   "outputs": [],
   "source": [
    "base_truncada[base_truncada.select_dtypes(include=['float64']).columns] = base_truncada[base_truncada.select_dtypes(include=['float64']).columns].applymap('{:,.4f}'.format)"
   ]
  },
  {
   "cell_type": "code",
   "execution_count": 197,
   "metadata": {
    "ExecuteTime": {
     "end_time": "2018-09-10T01:57:02.242935Z",
     "start_time": "2018-09-10T01:57:00.942387Z"
    },
    "collapsed": true
   },
   "outputs": [],
   "source": [
    "base_truncada.to_csv(\"base_full_nba_17_18_4digitos.csv\")"
   ]
  },
  {
   "cell_type": "markdown",
   "metadata": {},
   "source": [
    "### Base Modelagem"
   ]
  },
  {
   "cell_type": "code",
   "execution_count": 199,
   "metadata": {
    "ExecuteTime": {
     "end_time": "2018-09-10T02:05:29.522686Z",
     "start_time": "2018-09-10T02:05:29.250690Z"
    },
    "collapsed": true
   },
   "outputs": [],
   "source": [
    "drop_modelagem = ['FG_PCT_home', 'FG3_PCT_home', 'FT_PCT_home', 'AST_PCT_home', 'OREB_PCT_home', \n",
    "                  'DREB_PCT_home', 'REB_PCT_home', 'TM_TOV_PCT_home', 'EFG_PCT_home', 'TS_PCT_home',\n",
    "                  'USG_PCT_home', 'PCT_FGA_2PT_home', 'PCT_FGA_3PT_home', 'PCT_PTS_2PT_home', \n",
    "                  'PCT_PTS_2PT_MR_home', 'PCT_PTS_3PT_home', 'PCT_PTS_FB_home', 'PCT_PTS_FT_home', \n",
    "                  'PCT_PTS_OFF_TOV_home', 'PCT_PTS_PAINT_home', 'PCT_AST_2PM_home', 'PCT_UAST_2PM_home', \n",
    "                  'PCT_AST_3PM_home', 'PCT_UAST_3PM_home', 'PCT_AST_FGM_home', 'PCT_UAST_FGM_home', \n",
    "                  'USG_PCT_usage_home', 'PCT_FGM_home', 'PCT_FGA_home', 'PCT_FG3M_home', 'PCT_FG3A_home',\n",
    "                  'PCT_FTM_home', 'PCT_FTA_home', 'PCT_OREB_home', 'PCT_DREB_home', 'PCT_REB_home', \n",
    "                  'PCT_AST_home', 'PCT_TOV_home', 'PCT_STL_home', 'PCT_BLK_home', 'PCT_BLKA_home', \n",
    "                  'PCT_PF_home', 'PCT_PFD_home', 'PCT_PTS_home', 'EFG_PCT_fourfactors_home', \n",
    "                  'TM_TOV_PCT_fourfactors_home', 'OREB_PCT_fourfactors_home', 'OPP_EFG_PCT_home', 'OPP_TOV_PCT_home',\n",
    "                  'OPP_OREB_PCT_home', 'CFG_PCT_home', 'UFG_PCT_home', 'FG_PCT_playertrack_home', 'DFG_PCT_home',\n",
    "                  'FG_PCT_defensive_home', 'FG3_PCT_defensive_home', 'CFG_PCT_defensive_home', 'CFG3_PCT_home', \n",
    "                  'FGM_home', 'FGA_home', 'FG3M_home', 'FG3A_home', 'FTM_home', 'FTA_home', 'OREB_home', 'DREB_home',\n",
    "                  'REB_home', 'AST_home', 'STL_home', 'BLK_home', 'TO_home', 'PF_home', 'PTS_home', \n",
    "                  'PLUS_MINUS_home', 'OFF_RATING_home', 'DEF_RATING_home', 'NET_RATING_home', 'AST_TOV_home', \n",
    "                  'AST_RATIO_home', 'PACE_home', 'PIE_home', 'PTS_OFF_TOV_home', 'PTS_2ND_CHANCE_home', 'PTS_FB_home', \n",
    "                  'PTS_PAINT_home', 'OPP_PTS_OFF_TOV_home', 'OPP_PTS_2ND_CHANCE_home', 'OPP_PTS_FB_home', \n",
    "                  'OPP_PTS_PAINT_home', 'BLK_misc_home', 'BLKA_home', 'PF_misc_home', 'PFD_home', 'FTA_RATE_home', \n",
    "                  'OPP_FTA_RATE_home', 'SPD_home', 'DIST_home', 'ORBC_home', 'DRBC_home', 'RBC_home', 'TCHS_home', \n",
    "                  'SAST_home', 'FTAST_home', 'PASS_home', 'AST_playertrack_home', 'CFGM_home', 'CFGA_home', 'UFGM_home',\n",
    "                  'UFGA_home', 'DFGM_home', 'DFGA_home', 'CONTESTED_SHOTS_home', 'CONTESTED_SHOTS_2PT_home', \n",
    "                  'CONTESTED_SHOTS_3PT_home', 'DEFLECTIONS_home', 'LOOSE_BALLS_RECOVERED_home', 'CHARGES_DRAWN_home', \n",
    "                  'SCREEN_ASSISTS_home', 'BOX_OUTS_home', 'PTS_hustle_home', 'POSS_home', 'PLAYER_PTS_home', \n",
    "                  'TEAM_PTS_home', 'DREB_defensive_home', 'AST_defensive_home', 'TOV_home', 'STL_defensive_home',\n",
    "                  'BLK_defensive_home', 'FGM_defensive_home', 'FGA_defensive_home', 'FG3M_defensive_home', \n",
    "                  'FG3A_defensive_home', 'FTM_defensive_home', 'SFL_home', 'DEF_FLS_home', 'CFGM_defensive_home', \n",
    "                  'CFGA_defensive_home', 'CFG3M_home', 'CFG3A_home', 'GAME_ID_home', 'team_home', 'TEAM_CITY_home',\n",
    "                  'GAME_DATE_home', 'GAME_PLACE_home', 'TEAM_NICKNAME_home', 'FG_PCT_away', 'FG3_PCT_away', \n",
    "                  'FT_PCT_away', 'AST_PCT_away', 'OREB_PCT_away', 'DREB_PCT_away', 'REB_PCT_away', 'TM_TOV_PCT_away', \n",
    "                  'EFG_PCT_away', 'TS_PCT_away', 'USG_PCT_away', 'PCT_FGA_2PT_away', 'PCT_FGA_3PT_away', 'PCT_PTS_2PT_away',\n",
    "                  'PCT_PTS_2PT_MR_away', 'PCT_PTS_3PT_away', 'PCT_PTS_FB_away', 'PCT_PTS_FT_away', 'PCT_PTS_OFF_TOV_away',\n",
    "                  'PCT_PTS_PAINT_away', 'PCT_AST_2PM_away', 'PCT_UAST_2PM_away', 'PCT_AST_3PM_away', 'PCT_UAST_3PM_away', \n",
    "                  'PCT_AST_FGM_away', 'PCT_UAST_FGM_away', 'USG_PCT_usage_away', 'PCT_FGM_away', 'PCT_FGA_away',\n",
    "                  'PCT_FG3M_away', 'PCT_FG3A_away', 'PCT_FTM_away', 'PCT_FTA_away', 'PCT_OREB_away', 'PCT_DREB_away', \n",
    "                  'PCT_REB_away', 'PCT_AST_away', 'PCT_TOV_away', 'PCT_STL_away', 'PCT_BLK_away', 'PCT_BLKA_away', \n",
    "                  'PCT_PF_away', 'PCT_PFD_away', 'PCT_PTS_away', 'EFG_PCT_fourfactors_away', 'TM_TOV_PCT_fourfactors_away',\n",
    "                  'OREB_PCT_fourfactors_away', 'OPP_EFG_PCT_away', 'OPP_TOV_PCT_away', 'OPP_OREB_PCT_away', 'CFG_PCT_away', \n",
    "                  'UFG_PCT_away', 'FG_PCT_playertrack_away', 'DFG_PCT_away', 'FG_PCT_defensive_away',\n",
    "                  'FG3_PCT_defensive_away', 'CFG_PCT_defensive_away', 'CFG3_PCT_away', 'FGM_away', 'FGA_away',\n",
    "                  'FG3M_away', 'FG3A_away', 'FTM_away', 'FTA_away', 'OREB_away', 'DREB_away', 'REB_away', 'AST_away',\n",
    "                  'STL_away', 'BLK_away', 'TO_away', 'PF_away', 'PTS_away', 'PLUS_MINUS_away', 'OFF_RATING_away', \n",
    "                  'DEF_RATING_away', 'NET_RATING_away', 'AST_TOV_away', 'AST_RATIO_away', 'PACE_away', 'PIE_away', \n",
    "                  'PTS_OFF_TOV_away', 'PTS_2ND_CHANCE_away', 'PTS_FB_away', 'PTS_PAINT_away', 'OPP_PTS_OFF_TOV_away', \n",
    "                  'OPP_PTS_2ND_CHANCE_away', 'OPP_PTS_FB_away', 'OPP_PTS_PAINT_away', 'BLK_misc_away', 'BLKA_away', \n",
    "                  'PF_misc_away', 'PFD_away', 'FTA_RATE_away', 'OPP_FTA_RATE_away', 'SPD_away', 'DIST_away', 'ORBC_away', \n",
    "                  'DRBC_away', 'RBC_away', 'TCHS_away', 'SAST_away', 'FTAST_away', 'PASS_away', 'AST_playertrack_away', \n",
    "                  'CFGM_away', 'CFGA_away', 'UFGM_away', 'UFGA_away', 'DFGM_away', 'DFGA_away', 'CONTESTED_SHOTS_away', \n",
    "                  'CONTESTED_SHOTS_2PT_away', 'CONTESTED_SHOTS_3PT_away', 'DEFLECTIONS_away', 'LOOSE_BALLS_RECOVERED_away', \n",
    "                  'CHARGES_DRAWN_away', 'SCREEN_ASSISTS_away', 'BOX_OUTS_away', 'PTS_hustle_away', 'POSS_away', \n",
    "                  'PLAYER_PTS_away', 'TEAM_PTS_away', 'DREB_defensive_away', 'AST_defensive_away', 'TOV_away', \n",
    "                  'STL_defensive_away', 'BLK_defensive_away', 'FGM_defensive_away', 'FGA_defensive_away', \n",
    "                  'FG3M_defensive_away', 'FG3A_defensive_away', 'FTM_defensive_away', 'SFL_away', 'DEF_FLS_away', \n",
    "                  'CFGM_defensive_away', 'CFGA_defensive_away', 'CFG3M_away', 'CFG3A_away', 'team_away', 'TEAM_CITY_away', \n",
    "                  'TEAM_NICKNAME_away']\n",
    "base_modelagem = last_all_games.drop(drop_modelagem, axis=1)"
   ]
  },
  {
   "cell_type": "code",
   "execution_count": 200,
   "metadata": {
    "ExecuteTime": {
     "end_time": "2018-09-10T02:06:35.224544Z",
     "start_time": "2018-09-10T02:06:34.886174Z"
    },
    "collapsed": true
   },
   "outputs": [],
   "source": [
    "base_modelagem.to_csv(\"base_modelagem_nba_17_18.csv\")"
   ]
  },
  {
   "cell_type": "markdown",
   "metadata": {},
   "source": [
    "### Carrega Descrição das Colunas"
   ]
  },
  {
   "cell_type": "code",
   "execution_count": 204,
   "metadata": {
    "ExecuteTime": {
     "end_time": "2018-09-10T02:43:14.562372Z",
     "start_time": "2018-09-10T02:43:14.492001Z"
    },
    "collapsed": true
   },
   "outputs": [],
   "source": [
    "descricao_colunas = pd.read_excel(\"descricao_colunas.xlsx\")"
   ]
  },
  {
   "cell_type": "code",
   "execution_count": 205,
   "metadata": {
    "ExecuteTime": {
     "end_time": "2018-09-10T02:43:42.212527Z",
     "start_time": "2018-09-10T02:43:42.189570Z"
    }
   },
   "outputs": [
    {
     "data": {
      "text/html": [
       "<div>\n",
       "<style scoped>\n",
       "    .dataframe tbody tr th:only-of-type {\n",
       "        vertical-align: middle;\n",
       "    }\n",
       "\n",
       "    .dataframe tbody tr th {\n",
       "        vertical-align: top;\n",
       "    }\n",
       "\n",
       "    .dataframe thead th {\n",
       "        text-align: right;\n",
       "    }\n",
       "</style>\n",
       "<table border=\"1\" class=\"dataframe\">\n",
       "  <thead>\n",
       "    <tr style=\"text-align: right;\">\n",
       "      <th></th>\n",
       "      <th>column_name</th>\n",
       "      <th>original_name</th>\n",
       "      <th>description</th>\n",
       "      <th>book</th>\n",
       "    </tr>\n",
       "  </thead>\n",
       "  <tbody>\n",
       "    <tr>\n",
       "      <th>0</th>\n",
       "      <td>MIN</td>\n",
       "      <td>MIN</td>\n",
       "      <td>Minutes Played</td>\n",
       "      <td>traditional</td>\n",
       "    </tr>\n",
       "    <tr>\n",
       "      <th>1</th>\n",
       "      <td>FGM</td>\n",
       "      <td>FGM</td>\n",
       "      <td>Field Goals Made</td>\n",
       "      <td>traditional</td>\n",
       "    </tr>\n",
       "    <tr>\n",
       "      <th>2</th>\n",
       "      <td>FGA</td>\n",
       "      <td>FGA</td>\n",
       "      <td>Field Goals Attempted</td>\n",
       "      <td>traditional</td>\n",
       "    </tr>\n",
       "    <tr>\n",
       "      <th>3</th>\n",
       "      <td>FG_PCT</td>\n",
       "      <td>FG%</td>\n",
       "      <td>Field Goal Percentage</td>\n",
       "      <td>traditional</td>\n",
       "    </tr>\n",
       "    <tr>\n",
       "      <th>4</th>\n",
       "      <td>FG3M</td>\n",
       "      <td>3PM</td>\n",
       "      <td>Three Pointers Made</td>\n",
       "      <td>traditional</td>\n",
       "    </tr>\n",
       "  </tbody>\n",
       "</table>\n",
       "</div>"
      ],
      "text/plain": [
       "  column_name original_name            description         book\n",
       "0         MIN           MIN         Minutes Played  traditional\n",
       "1         FGM           FGM       Field Goals Made  traditional\n",
       "2         FGA           FGA  Field Goals Attempted  traditional\n",
       "3      FG_PCT           FG%  Field Goal Percentage  traditional\n",
       "4        FG3M           3PM    Three Pointers Made  traditional"
      ]
     },
     "execution_count": 205,
     "metadata": {},
     "output_type": "execute_result"
    }
   ],
   "source": [
    "descricao_colunas.head()"
   ]
  },
  {
   "cell_type": "code",
   "execution_count": 214,
   "metadata": {
    "ExecuteTime": {
     "end_time": "2018-09-10T02:48:18.416457Z",
     "start_time": "2018-09-10T02:48:18.393997Z"
    },
    "collapsed": true
   },
   "outputs": [],
   "source": [
    "descreve_coluna = {}\n",
    "for index, row in descricao_colunas.iterrows():\n",
    "    descreve_coluna[row.column_name.strip()] = row.description"
   ]
  },
  {
   "cell_type": "code",
   "execution_count": 216,
   "metadata": {
    "ExecuteTime": {
     "end_time": "2018-09-10T02:48:34.383757Z",
     "start_time": "2018-09-10T02:48:34.377267Z"
    }
   },
   "outputs": [
    {
     "data": {
      "text/plain": [
       "'Minutes Played'"
      ]
     },
     "execution_count": 216,
     "metadata": {},
     "output_type": "execute_result"
    }
   ],
   "source": [
    "descreve_coluna[\"MIN\"]"
   ]
  },
  {
   "cell_type": "code",
   "execution_count": null,
   "metadata": {
    "collapsed": true
   },
   "outputs": [],
   "source": []
  }
 ],
 "metadata": {
  "kernelspec": {
   "display_name": "Python 3",
   "language": "python",
   "name": "python3"
  },
  "language_info": {
   "codemirror_mode": {
    "name": "ipython",
    "version": 3
   },
   "file_extension": ".py",
   "mimetype": "text/x-python",
   "name": "python",
   "nbconvert_exporter": "python",
   "pygments_lexer": "ipython3",
   "version": "3.6.3"
  },
  "toc": {
   "base_numbering": 1,
   "nav_menu": {},
   "number_sections": true,
   "sideBar": true,
   "skip_h1_title": false,
   "title_cell": "Table of Contents",
   "title_sidebar": "Contents",
   "toc_cell": false,
   "toc_position": {},
   "toc_section_display": true,
   "toc_window_display": false
  },
  "varInspector": {
   "cols": {
    "lenName": 16,
    "lenType": 16,
    "lenVar": 40
   },
   "kernels_config": {
    "python": {
     "delete_cmd_postfix": "",
     "delete_cmd_prefix": "del ",
     "library": "var_list.py",
     "varRefreshCmd": "print(var_dic_list())"
    },
    "r": {
     "delete_cmd_postfix": ") ",
     "delete_cmd_prefix": "rm(",
     "library": "var_list.r",
     "varRefreshCmd": "cat(var_dic_list()) "
    }
   },
   "types_to_exclude": [
    "module",
    "function",
    "builtin_function_or_method",
    "instance",
    "_Feature"
   ],
   "window_display": false
  }
 },
 "nbformat": 4,
 "nbformat_minor": 2
}
