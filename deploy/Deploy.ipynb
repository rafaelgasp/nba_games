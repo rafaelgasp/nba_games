{
 "cells": [
  {
   "cell_type": "code",
   "execution_count": 1,
   "metadata": {
    "ExecuteTime": {
     "end_time": "2018-10-24T01:14:08.284087Z",
     "start_time": "2018-10-24T01:14:07.751227Z"
    },
    "collapsed": true
   },
   "outputs": [],
   "source": [
    "import pandas as pd\n",
    "import numpy as np\n",
    "from datetime import datetime, timedelta\n",
    "import geopy.distance\n",
    "import gc\n",
    "import warnings\n",
    "warnings.filterwarnings(\"ignore\")\n",
    "\n",
    "import data_prep_functions"
   ]
  },
  {
   "cell_type": "code",
   "execution_count": 57,
   "metadata": {
    "ExecuteTime": {
     "end_time": "2018-10-24T01:48:31.822246Z",
     "start_time": "2018-10-24T01:48:31.710311Z"
    },
    "collapsed": true
   },
   "outputs": [],
   "source": [
    "import pandas as pd\n",
    "import numpy as np\n",
    "import os\n",
    "import time\n",
    "from datetime import datetime\n",
    "import json\n",
    "import requests\n",
    "import pickle\n",
    "\n",
    "NBA_STATS_HEADERS = {\n",
    "    'User-Agent': 'Mozilla/5.0 (Macintosh; Intel Mac OS X 10_11_6) AppleWebKit/537.36 (KHTML, like Gecko) Chrome/61.0.3163.100 Safari/537.36'\n",
    "}\n",
    "\n",
    "def get_date_place(game_id, year = \"2017\"):\n",
    "    #0021700784\n",
    "    try:\n",
    "        resp = requests.get(url=\"https://data.nba.com/data/10s/v2015/json/mobile_teams/nba/\" + str(year) + \"/scores/gamedetail/\"+ str(game_id) +\"_gamedetail.json\",\n",
    "                            headers=NBA_STATS_HEADERS)\n",
    "        data = resp.json()[\"g\"][\"gdte\"]\n",
    "        place = resp.json()[\"g\"][\"an\"]\n",
    "    except Exception as e:\n",
    "        print(e)\n",
    "        data = np.nan\n",
    "        place = np.nan\n",
    "    \n",
    "    return(data, place)\n",
    "\n",
    "def get_df_nba_json(resp_json, date_place = False, rs=0):\n",
    "    dict_resp = resp_json['resultSets'][rs]\n",
    "    df_resp = pd.DataFrame(dict_resp[\"rowSet\"])\n",
    "    df_resp.columns = dict_resp[\"headers\"]\n",
    "    \n",
    "    if(date_place):\n",
    "        game_date, game_place = get_date_place(df_resp.GAME_ID.iloc[0])\n",
    "\n",
    "        df_resp[\"GAME_DATE\"] = np.repeat(game_date, len(df_resp))\n",
    "        df_resp[\"GAME_PLACE\"] = np.repeat(game_place, len(df_resp))\n",
    "\n",
    "        teams = df_resp.TEAM_ABBREVIATION.unique()\n",
    "\n",
    "        df_resp[\"GAME\"] = np.repeat(teams[0] + \" @ \" + teams[1] + \" \" + game_date, len(df_resp))\n",
    "    \n",
    "    return(df_resp)\n",
    "\n",
    "def junta_df_tipos(df_tipos, cols_drop = ['GAME_ID', 'TEAM_ID', 'TEAM_ABBREVIATION', 'TEAM_CITY', \n",
    "                                          'PLAYER_ID', 'PLAYER_NAME', 'START_POSITION', \n",
    "                                          'COMMENT', 'MIN', 'MINUTES']):\n",
    "    resp = df_tipos[0]\n",
    "    for i in range(1, len(df_tipos)):\n",
    "        junta = df_tipos[i]\n",
    "        colunas_repetidas = list(set(junta.columns).intersection(resp.columns))\n",
    "        \n",
    "        junta = junta.drop(cols_drop, axis=1, errors=\"ignore\")\n",
    "        junta.columns = [str(col) + '_' + lista_sites[i]\n",
    "                         if col in colunas_repetidas else str(col) \n",
    "                         for col in junta.columns]\n",
    "        \n",
    "        resp = resp.merge(junta, how=\"left\", \n",
    "                          left_index=True, right_index=True)\n",
    "    return(resp)"
   ]
  },
  {
   "cell_type": "code",
   "execution_count": 19,
   "metadata": {
    "ExecuteTime": {
     "end_time": "2018-10-24T01:37:39.544959Z",
     "start_time": "2018-10-24T01:37:39.430448Z"
    }
   },
   "outputs": [
    {
     "data": {
      "text/plain": [
       "datetime.datetime(2018, 11, 23, 0, 0)"
      ]
     },
     "execution_count": 19,
     "metadata": {},
     "output_type": "execute_result"
    }
   ],
   "source": [
    "datetime.strptime(str(get_date_place(\"0021800270\", year = \"2018\")[0]), '%Y-%m-%d')"
   ]
  },
  {
   "cell_type": "code",
   "execution_count": 45,
   "metadata": {
    "ExecuteTime": {
     "end_time": "2018-10-24T01:44:25.618647Z",
     "start_time": "2018-10-24T01:44:08.127969Z"
    },
    "scrolled": true
   },
   "outputs": [
    {
     "name": "stdout",
     "output_type": "stream",
     "text": [
      "('0021800049', '2018-10-23')\r"
     ]
    }
   ],
   "source": [
    "games_ids = get_list_gameids_until() "
   ]
  },
  {
   "cell_type": "code",
   "execution_count": 44,
   "metadata": {
    "ExecuteTime": {
     "end_time": "2018-10-24T01:44:03.071483Z",
     "start_time": "2018-10-24T01:44:03.054493Z"
    }
   },
   "outputs": [],
   "source": [
    "def get_list_gameids_until(date_ref = datetime.today() - timedelta(1), year = '2018'):\n",
    "    game_ids = []\n",
    "    for i in range(1, 1231):\n",
    "        gameid = \"002\" + year[-2:] + \"0\" + ('{0:0>4}'.format(i))\n",
    "        \n",
    "        game_date = get_date_place(gameid, year = \"2018\")[0]\n",
    "        print((gameid, game_date), end=\"\\r\")\n",
    "        if(datetime.strptime(game_date, '%Y-%m-%d') > date_ref):\n",
    "            break\n",
    "        \n",
    "        game_ids.append(gameid)\n",
    "    return(game_ids)"
   ]
  },
  {
   "cell_type": "code",
   "execution_count": null,
   "metadata": {},
   "outputs": [],
   "source": [
    "df_full, df_full_jogo, erros = get_nba_stats_data(games_ids)"
   ]
  },
  {
   "cell_type": "code",
   "execution_count": 58,
   "metadata": {
    "ExecuteTime": {
     "end_time": "2018-10-24T01:48:47.041227Z",
     "start_time": "2018-10-24T01:48:46.882309Z"
    },
    "collapsed": true
   },
   "outputs": [],
   "source": [
    "def get_nba_stats_data(game_ids, lista_sites = [\"traditional\", \"advanced\", \"scoring\", \n",
    "                                                \"misc\", \"usage\", \"fourfactors\", \"playertrack\", \n",
    "                                                \"hustle\", \"defensive\"]):    \n",
    "    params = {}\n",
    "    \n",
    "    df_full = []\n",
    "    df_full_jogo = []\n",
    "    erros = []\n",
    "    \n",
    "    year = \"20\" + games_ids[0][3:5]\n",
    "\n",
    "    for game_id in game_ids:\n",
    "\n",
    "        df_tipos = []\n",
    "        df_tipos_jogo = []\n",
    "\n",
    "        try:\n",
    "            game_date, game_place = get_date_place(game_id, year)\n",
    "\n",
    "            for site in lista_sites:\n",
    "                if(site == \"hustle\"):\n",
    "                    url = \"https://stats.nba.com/stats/hustlestatsboxscore\"\n",
    "                    rs = 1\n",
    "\n",
    "                elif(site == \"defensive\"):\n",
    "                    url = \"https://stats.nba.com/stats/boxscore\" + site\n",
    "                    rs = -1\n",
    "\n",
    "                else:\n",
    "                    url = \"https://stats.nba.com/stats/boxscore\" + site + \"v2\"\n",
    "                    rs = 0\n",
    "\n",
    "                print(game_id + \" \" + str(game_date) + \" - \" + site + \"              \", end=\"\\r\")\n",
    "\n",
    "                params[\"GameID\"] = game_id\n",
    "\n",
    "                resp = requests.get(url=url, params=params, headers=NBA_STATS_HEADERS)\n",
    "                #time.sleep(0.5)\n",
    "\n",
    "                if(rs == 0):\n",
    "                    df_tipos.append(get_df_nba_json(resp.json(), rs=0))\n",
    "                    df_tipos_jogo.append(get_df_nba_json(resp.json(), rs=1))\n",
    "                elif(rs == 1):\n",
    "                    df_tipos.append(get_df_nba_json(resp.json(), rs=1))\n",
    "                    df_tipos_jogo.append(get_df_nba_json(resp.json(), rs=2))\n",
    "                elif(rs == -1):\n",
    "                    df_tipos.append(get_df_nba_json(resp.json(), rs=0))\n",
    "\n",
    "            df_resp = junta_df_tipos(df_tipos)\n",
    "            df_resp_jogo = junta_df_tipos(df_tipos_jogo)\n",
    "\n",
    "            df_resp[\"GAME_DATE\"] = np.repeat(game_date, len(df_resp))\n",
    "            df_resp[\"GAME_PLACE\"] = np.repeat(game_place, len(df_resp))\n",
    "\n",
    "            df_resp_jogo[\"GAME_DATE\"] = np.repeat(game_date, len(df_resp_jogo))\n",
    "            df_resp_jogo[\"GAME_PLACE\"] = np.repeat(game_place, len(df_resp_jogo))\n",
    "\n",
    "            teams = df_resp.TEAM_ABBREVIATION.unique()\n",
    "            game_str = teams[0] + \" @ \" + teams[1] + \" \" + game_date\n",
    "\n",
    "            df_resp[\"GAME\"] = np.repeat(game_str, len(df_resp))\n",
    "            df_resp_jogo[\"GAME\"] = np.repeat(game_str, len(df_resp_jogo))\n",
    "\n",
    "            df_full.append(df_resp.set_index(\"GAME\"))\n",
    "            df_full_jogo.append(df_resp_jogo.set_index(\"GAME\"))\n",
    "\n",
    "            #pickle.dump(df_full, open(\"df_full.p\", \"wb\"))\n",
    "            #pickle.dump(df_full_jogo, open(\"df_full_jogo.p\", \"wb\"))\n",
    "        except Exception as e:\n",
    "            erros.append(game_id)\n",
    "            print(e)\n",
    "            time.sleep(3)\n",
    "    \n",
    "    return(df_full, df_full_jogo, erros)"
   ]
  },
  {
   "cell_type": "code",
   "execution_count": 52,
   "metadata": {
    "ExecuteTime": {
     "end_time": "2018-10-24T00:24:12.202767Z",
     "start_time": "2018-10-24T00:24:11.972978Z"
    },
    "collapsed": true
   },
   "outputs": [],
   "source": [
    "base_nba_per_game = pd.read_csv(\"../bases_nba_stats/base_nba_per_game_15_16.csv\")"
   ]
  },
  {
   "cell_type": "code",
   "execution_count": 53,
   "metadata": {
    "ExecuteTime": {
     "end_time": "2018-10-24T00:24:20.095948Z",
     "start_time": "2018-10-24T00:24:19.988974Z"
    },
    "collapsed": true
   },
   "outputs": [],
   "source": [
    "all_games = prepara_base(base_nba_per_game)"
   ]
  },
  {
   "cell_type": "code",
   "execution_count": 54,
   "metadata": {
    "ExecuteTime": {
     "end_time": "2018-10-24T00:24:35.296345Z",
     "start_time": "2018-10-24T00:24:21.243352Z"
    },
    "collapsed": true
   },
   "outputs": [],
   "source": [
    "cria_features(all_games)"
   ]
  },
  {
   "cell_type": "code",
   "execution_count": 55,
   "metadata": {
    "ExecuteTime": {
     "end_time": "2018-10-24T00:36:32.137173Z",
     "start_time": "2018-10-24T00:24:38.836905Z"
    }
   },
   "outputs": [
    {
     "name": "stdout",
     "output_type": "stream",
     "text": [
      "DEN @ POR 2016-04-13 5\r"
     ]
    }
   ],
   "source": [
    "resp = gera_last_N_games(all_games, N=[5])"
   ]
  },
  {
   "cell_type": "code",
   "execution_count": 56,
   "metadata": {
    "ExecuteTime": {
     "end_time": "2018-10-24T00:37:06.732668Z",
     "start_time": "2018-10-24T00:37:06.068538Z"
    }
   },
   "outputs": [
    {
     "name": "stdout",
     "output_type": "stream",
     "text": [
      "5 N_GAMES_AWAY                                  \r"
     ]
    }
   ],
   "source": [
    "delta_L5 = variaveis_delta(resp)"
   ]
  },
  {
   "cell_type": "code",
   "execution_count": 58,
   "metadata": {
    "ExecuteTime": {
     "end_time": "2018-10-24T00:37:38.670497Z",
     "start_time": "2018-10-24T00:37:37.728605Z"
    }
   },
   "outputs": [],
   "source": [
    "delta_L5.to_csv(\"../bases_nba_stats/delta_cross_L5_nba_15_16.csv\", sep=\";\")"
   ]
  }
 ],
 "metadata": {
  "kernelspec": {
   "display_name": "Python 3",
   "language": "python",
   "name": "python3"
  },
  "toc": {
   "base_numbering": 1,
   "nav_menu": {},
   "number_sections": true,
   "sideBar": true,
   "skip_h1_title": false,
   "title_cell": "Table of Contents",
   "title_sidebar": "Contents",
   "toc_cell": false,
   "toc_position": {},
   "toc_section_display": true,
   "toc_window_display": false
  },
  "varInspector": {
   "cols": {
    "lenName": 16,
    "lenType": 16,
    "lenVar": 40
   },
   "kernels_config": {
    "python": {
     "delete_cmd_postfix": "",
     "delete_cmd_prefix": "del ",
     "library": "var_list.py",
     "varRefreshCmd": "print(var_dic_list())"
    },
    "r": {
     "delete_cmd_postfix": ") ",
     "delete_cmd_prefix": "rm(",
     "library": "var_list.r",
     "varRefreshCmd": "cat(var_dic_list()) "
    }
   },
   "types_to_exclude": [
    "module",
    "function",
    "builtin_function_or_method",
    "instance",
    "_Feature"
   ],
   "window_display": false
  }
 },
 "nbformat": 4,
 "nbformat_minor": 2
}
