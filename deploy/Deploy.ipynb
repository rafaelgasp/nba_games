{
 "cells": [
  {
   "cell_type": "code",
   "execution_count": 109,
   "metadata": {
    "ExecuteTime": {
     "end_time": "2018-10-26T01:02:39.438794Z",
     "start_time": "2018-10-26T01:02:39.266910Z"
    }
   },
   "outputs": [
    {
     "name": "stdout",
     "output_type": "stream",
     "text": [
      "The autoreload extension is already loaded. To reload it, use:\n",
      "  %reload_ext autoreload\n"
     ]
    }
   ],
   "source": [
    "import pandas as pd\n",
    "import numpy as np\n",
    "from datetime import datetime, timedelta\n",
    "import geopy.distance\n",
    "import gc\n",
    "import warnings\n",
    "warnings.filterwarnings(\"ignore\")\n",
    "\n",
    "%load_ext autoreload\n",
    "%autoreload 2\n",
    "\n",
    "import data_prep_functions"
   ]
  },
  {
   "cell_type": "code",
   "execution_count": 19,
   "metadata": {
    "ExecuteTime": {
     "end_time": "2018-10-25T21:37:07.915617Z",
     "start_time": "2018-10-25T21:37:07.776697Z"
    },
    "collapsed": true
   },
   "outputs": [],
   "source": [
    "import pandas as pd\n",
    "import numpy as np\n",
    "import os\n",
    "import time\n",
    "from datetime import datetime\n",
    "import json\n",
    "import requests\n",
    "import pickle\n",
    "\n",
    "NBA_STATS_HEADERS = {\n",
    "    'User-Agent': 'Mozilla/5.0 (Macintosh; Intel Mac OS X 10_11_6) AppleWebKit/537.36 (KHTML, like Gecko) Chrome/61.0.3163.100 Safari/537.36'\n",
    "}\n",
    "\n",
    "def get_date_place(game_id, year = \"2017\"):\n",
    "    #0021700784\n",
    "    try:\n",
    "        resp = requests.get(url=\"https://data.nba.com/data/10s/v2015/json/mobile_teams/nba/\" + str(year) + \"/scores/gamedetail/\"+ str(game_id) +\"_gamedetail.json\",\n",
    "                            headers=NBA_STATS_HEADERS)\n",
    "        data = resp.json()[\"g\"][\"gdte\"]\n",
    "        place = resp.json()[\"g\"][\"an\"]\n",
    "    except Exception as e:\n",
    "        print(e)\n",
    "        data = np.nan\n",
    "        place = np.nan\n",
    "    \n",
    "    return(data, place)\n",
    "\n",
    "def get_df_nba_json(resp_json, date_place = False, rs=0):\n",
    "    dict_resp = resp_json['resultSets'][rs]\n",
    "    df_resp = pd.DataFrame(dict_resp[\"rowSet\"])\n",
    "    df_resp.columns = dict_resp[\"headers\"]\n",
    "    \n",
    "    if(date_place):\n",
    "        game_date, game_place = get_date_place(df_resp.GAME_ID.iloc[0])\n",
    "\n",
    "        df_resp[\"GAME_DATE\"] = np.repeat(game_date, len(df_resp))\n",
    "        df_resp[\"GAME_PLACE\"] = np.repeat(game_place, len(df_resp))\n",
    "\n",
    "        teams = df_resp.TEAM_ABBREVIATION.unique()\n",
    "\n",
    "        df_resp[\"GAME\"] = np.repeat(teams[0] + \" @ \" + teams[1] + \" \" + game_date, len(df_resp))\n",
    "    \n",
    "    return(df_resp)\n",
    "\n",
    "def junta_df_tipos(df_tipos, cols_drop = ['GAME_ID', 'TEAM_ID', 'TEAM_ABBREVIATION', 'TEAM_CITY', \n",
    "                                          'PLAYER_ID', 'PLAYER_NAME', 'START_POSITION', \n",
    "                                          'COMMENT', 'MIN', 'MINUTES'],\n",
    "                              lista_sites = [\"traditional\", \"advanced\", \"scoring\", \n",
    "                                                \"misc\", \"usage\", \"fourfactors\", \"playertrack\", \n",
    "                                                \"hustle\", \"defensive\"]):\n",
    "    resp = df_tipos[0]\n",
    "    for i in range(1, len(df_tipos)):\n",
    "        junta = df_tipos[i]\n",
    "        colunas_repetidas = list(set(junta.columns).intersection(resp.columns))\n",
    "        \n",
    "        junta = junta.drop(cols_drop, axis=1, errors=\"ignore\")\n",
    "        junta.columns = [str(col) + '_' + lista_sites[i]\n",
    "                         if col in colunas_repetidas else str(col) \n",
    "                         for col in junta.columns]\n",
    "        \n",
    "        resp = resp.merge(junta, how=\"left\", \n",
    "                          left_index=True, right_index=True)\n",
    "    return(resp)"
   ]
  },
  {
   "cell_type": "code",
   "execution_count": 5,
   "metadata": {
    "ExecuteTime": {
     "end_time": "2018-10-25T21:11:25.045544Z",
     "start_time": "2018-10-25T21:11:23.673589Z"
    }
   },
   "outputs": [
    {
     "data": {
      "text/plain": [
       "datetime.datetime(2018, 11, 23, 0, 0)"
      ]
     },
     "execution_count": 5,
     "metadata": {},
     "output_type": "execute_result"
    }
   ],
   "source": [
    "datetime.strptime(str(get_date_place(\"0021800270\", year = \"2018\")[0]), '%Y-%m-%d')"
   ]
  },
  {
   "cell_type": "code",
   "execution_count": 50,
   "metadata": {
    "ExecuteTime": {
     "end_time": "2018-10-25T23:30:02.015889Z",
     "start_time": "2018-10-25T23:30:02.001895Z"
    },
    "collapsed": true
   },
   "outputs": [],
   "source": [
    "def get_list_gameids(max_date = datetime.today() - timedelta(1), year = '2018', start_at=1):\n",
    "    game_ids = []\n",
    "    for i in range(start_at, 1231):\n",
    "        gameid = \"002\" + year[-2:] + \"0\" + ('{0:0>4}'.format(i))\n",
    "        \n",
    "        game_date = get_date_place(gameid, year = \"2018\")[0]\n",
    "        print((gameid, game_date), end=\"\\r\")\n",
    "        if(datetime.strptime(game_date, '%Y-%m-%d') > max_date):\n",
    "            break\n",
    "        \n",
    "        game_ids.append(gameid)\n",
    "    return(game_ids)"
   ]
  },
  {
   "cell_type": "code",
   "execution_count": 8,
   "metadata": {
    "ExecuteTime": {
     "end_time": "2018-10-25T21:12:07.658953Z",
     "start_time": "2018-10-25T21:11:36.777369Z"
    },
    "scrolled": true
   },
   "outputs": [
    {
     "name": "stdout",
     "output_type": "stream",
     "text": [
      "('0021800063', '2018-10-25')\r"
     ]
    }
   ],
   "source": [
    "games_ids = get_list_gameids_until() "
   ]
  },
  {
   "cell_type": "code",
   "execution_count": 22,
   "metadata": {
    "ExecuteTime": {
     "end_time": "2018-10-25T23:19:01.416803Z",
     "start_time": "2018-10-25T23:19:01.146964Z"
    },
    "collapsed": true
   },
   "outputs": [],
   "source": [
    "def get_nba_stats_data(game_ids, lista_sites = [\"traditional\", \"advanced\", \"scoring\", \n",
    "                                                \"misc\", \"usage\", \"fourfactors\", \"playertrack\", \n",
    "                                                \"hustle\", \"defensive\"]):    \n",
    "    params = {\n",
    "        'EndPeriod':10,\n",
    "        'EndRange':28800,\n",
    "        'GameID':'',\n",
    "        'RangeType':0,\n",
    "        'Season':2018-19,\n",
    "        'SeasonType':'Regular+Season',\n",
    "        'StartPeriod':1,\n",
    "        'StartRange':0\n",
    "    }\n",
    "    \n",
    "    df_full = []\n",
    "    df_full_jogo = []\n",
    "    erros = []\n",
    "    \n",
    "    year = \"20\" + games_ids[0][3:5]\n",
    "\n",
    "    for game_id in game_ids:\n",
    "\n",
    "        df_tipos = []\n",
    "        df_tipos_jogo = []\n",
    "\n",
    "        try:\n",
    "            game_date, game_place = get_date_place(game_id, year)\n",
    "    \n",
    "            for site in lista_sites:\n",
    "                if(site == \"hustle\"):\n",
    "                    url = \"https://stats.nba.com/stats/hustlestatsboxscore\"\n",
    "                    rs = 1\n",
    "\n",
    "                elif(site == \"defensive\"):\n",
    "                    url = \"https://stats.nba.com/stats/boxscore\" + site\n",
    "                    rs = -1\n",
    "\n",
    "                else:\n",
    "                    url = \"https://stats.nba.com/stats/boxscore\" + site + \"v2\"\n",
    "                    rs = 0\n",
    "\n",
    "                print(game_id + \" \" + str(game_date) + \" - \" + site + \"              \", end=\"\\r\")\n",
    "                #print(game_id + \" \" + str(game_date) + \" - \" + site)\n",
    "                \n",
    "                params[\"GameID\"] = game_id\n",
    "\n",
    "                resp = requests.get(url=url, params=params, headers=NBA_STATS_HEADERS)\n",
    "                #time.sleep(0.5)\n",
    "\n",
    "                if(rs == 0):\n",
    "                    df_tipos.append(get_df_nba_json(resp.json(), rs=0))\n",
    "                    df_tipos_jogo.append(get_df_nba_json(resp.json(), rs=1))\n",
    "                elif(rs == 1):\n",
    "                    df_tipos.append(get_df_nba_json(resp.json(), rs=1))\n",
    "                    df_tipos_jogo.append(get_df_nba_json(resp.json(), rs=2))\n",
    "                elif(rs == -1):\n",
    "                    df_tipos.append(get_df_nba_json(resp.json(), rs=0))\n",
    "\n",
    "            df_resp = junta_df_tipos(df_tipos, lista_sites=lista_sites)\n",
    "            df_resp_jogo = junta_df_tipos(df_tipos_jogo, lista_sites=lista_sites)\n",
    "\n",
    "            df_resp[\"GAME_DATE\"] = np.repeat(game_date, len(df_resp))\n",
    "            df_resp[\"GAME_PLACE\"] = np.repeat(game_place, len(df_resp))\n",
    "\n",
    "            df_resp_jogo[\"GAME_DATE\"] = np.repeat(game_date, len(df_resp_jogo))\n",
    "            df_resp_jogo[\"GAME_PLACE\"] = np.repeat(game_place, len(df_resp_jogo))\n",
    "\n",
    "            teams = df_resp.TEAM_ABBREVIATION.unique()\n",
    "            game_str = teams[0] + \" @ \" + teams[1] + \" \" + game_date\n",
    "\n",
    "            df_resp[\"GAME\"] = np.repeat(game_str, len(df_resp))\n",
    "            df_resp_jogo[\"GAME\"] = np.repeat(game_str, len(df_resp_jogo))\n",
    "\n",
    "            df_full.append(df_resp.set_index(\"GAME\"))\n",
    "            df_full_jogo.append(df_resp_jogo.set_index(\"GAME\"))\n",
    "\n",
    "            #pickle.dump(df_full, open(\"df_full.p\", \"wb\"))\n",
    "            #pickle.dump(df_full_jogo, open(\"df_full_jogo.p\", \"wb\"))\n",
    "        except Exception as e:\n",
    "            erros.append(game_id)\n",
    "            print(e)\n",
    "            time.sleep(3)\n",
    "    \n",
    "    return(df_full, df_full_jogo, erros)"
   ]
  },
  {
   "cell_type": "code",
   "execution_count": null,
   "metadata": {
    "scrolled": true
   },
   "outputs": [],
   "source": [
    "df_full, df_full_jogo, erros = get_nba_stats_data(games_ids)"
   ]
  },
  {
   "cell_type": "code",
   "execution_count": 36,
   "metadata": {
    "ExecuteTime": {
     "end_time": "2018-10-25T23:22:00.160494Z",
     "start_time": "2018-10-25T23:21:59.894358Z"
    }
   },
   "outputs": [],
   "source": [
    "base_nba_2018 = pd.concat(df_full_jogo).reset_index()"
   ]
  },
  {
   "cell_type": "code",
   "execution_count": 37,
   "metadata": {
    "ExecuteTime": {
     "end_time": "2018-10-25T23:22:00.856540Z",
     "start_time": "2018-10-25T23:22:00.814562Z"
    },
    "collapsed": true
   },
   "outputs": [],
   "source": [
    "base_nba_2018.to_csv(\"base_nba_2018_raw.csv\")"
   ]
  },
  {
   "cell_type": "code",
   "execution_count": 38,
   "metadata": {
    "ExecuteTime": {
     "end_time": "2018-10-25T23:22:04.114789Z",
     "start_time": "2018-10-25T23:22:03.462638Z"
    }
   },
   "outputs": [],
   "source": [
    "all_games = data_prep_functions.prepara_base(base_nba_2018)"
   ]
  },
  {
   "cell_type": "code",
   "execution_count": 41,
   "metadata": {
    "ExecuteTime": {
     "end_time": "2018-10-25T23:22:34.299759Z",
     "start_time": "2018-10-25T23:22:33.280527Z"
    }
   },
   "outputs": [],
   "source": [
    "data_prep_functions.cria_features(all_games)"
   ]
  },
  {
   "cell_type": "code",
   "execution_count": 43,
   "metadata": {
    "ExecuteTime": {
     "end_time": "2018-10-25T23:23:25.561486Z",
     "start_time": "2018-10-25T23:22:51.972133Z"
    }
   },
   "outputs": [
    {
     "name": "stdout",
     "output_type": "stream",
     "text": [
      "WAS @ GSW 2018-10-24 5\r"
     ]
    }
   ],
   "source": [
    "resp = data_prep_functions.gera_last_N_games(all_games, N=[5])"
   ]
  },
  {
   "cell_type": "code",
   "execution_count": 46,
   "metadata": {
    "ExecuteTime": {
     "end_time": "2018-10-25T23:25:31.467395Z",
     "start_time": "2018-10-25T23:25:30.958341Z"
    }
   },
   "outputs": [
    {
     "name": "stdout",
     "output_type": "stream",
     "text": [
      "5 CFGM                                          \r"
     ]
    }
   ],
   "source": [
    "delta_L5_2018 = data_prep_functions.variaveis_delta(resp)"
   ]
  },
  {
   "cell_type": "code",
   "execution_count": 62,
   "metadata": {
    "ExecuteTime": {
     "end_time": "2018-10-25T23:34:34.130124Z",
     "start_time": "2018-10-25T23:34:34.021071Z"
    },
    "collapsed": true
   },
   "outputs": [],
   "source": [
    "delta_L5_2018.to_csv(\"delta_cross_L5_nba_18_19.csv\")"
   ]
  },
  {
   "cell_type": "markdown",
   "metadata": {},
   "source": [
    "### Fluxo Predição no Dia"
   ]
  },
  {
   "cell_type": "code",
   "execution_count": 53,
   "metadata": {
    "ExecuteTime": {
     "end_time": "2018-10-25T23:30:36.007056Z",
     "start_time": "2018-10-25T23:30:34.274366Z"
    }
   },
   "outputs": [
    {
     "name": "stdout",
     "output_type": "stream",
     "text": [
      "('0021800067', '2018-10-26')\r"
     ]
    }
   ],
   "source": [
    "new_games = get_list_gameids(max_date = datetime.today(), year = '2018', start_at=len(all_games))"
   ]
  },
  {
   "cell_type": "code",
   "execution_count": 54,
   "metadata": {
    "ExecuteTime": {
     "end_time": "2018-10-25T23:31:55.561363Z",
     "start_time": "2018-10-25T23:31:23.528581Z"
    }
   },
   "outputs": [
    {
     "name": "stdout",
     "output_type": "stream",
     "text": [
      "2018\n",
      "Length mismatch: Expected axis has 0 elements, new values have 28 elements\n",
      "Length mismatch: Expected axis has 0 elements, new values have 28 elements\n"
     ]
    }
   ],
   "source": [
    "df_full, df_full_jogo, erros = get_nba_stats_data(new_games)"
   ]
  },
  {
   "cell_type": "code",
   "execution_count": 96,
   "metadata": {
    "ExecuteTime": {
     "end_time": "2018-10-26T00:56:44.873723Z",
     "start_time": "2018-10-26T00:56:44.715770Z"
    },
    "collapsed": true
   },
   "outputs": [],
   "source": [
    "new_games = pd.concat(df_full_jogo).reset_index()"
   ]
  },
  {
   "cell_type": "code",
   "execution_count": 97,
   "metadata": {
    "ExecuteTime": {
     "end_time": "2018-10-26T00:56:45.287748Z",
     "start_time": "2018-10-26T00:56:45.108849Z"
    }
   },
   "outputs": [],
   "source": [
    "new_games = data_prep_functions.prepara_base(new_games).reset_index()"
   ]
  },
  {
   "cell_type": "code",
   "execution_count": 108,
   "metadata": {
    "ExecuteTime": {
     "end_time": "2018-10-26T01:00:33.665659Z",
     "start_time": "2018-10-26T01:00:33.511478Z"
    }
   },
   "outputs": [
    {
     "data": {
      "text/html": [
       "<div>\n",
       "<style scoped>\n",
       "    .dataframe tbody tr th:only-of-type {\n",
       "        vertical-align: middle;\n",
       "    }\n",
       "\n",
       "    .dataframe tbody tr th {\n",
       "        vertical-align: top;\n",
       "    }\n",
       "\n",
       "    .dataframe thead th {\n",
       "        text-align: right;\n",
       "    }\n",
       "</style>\n",
       "<table border=\"1\" class=\"dataframe\">\n",
       "  <thead>\n",
       "    <tr style=\"text-align: right;\">\n",
       "      <th></th>\n",
       "      <th>GAME</th>\n",
       "      <th>GAME_ID_home</th>\n",
       "      <th>TEAM_ID_home</th>\n",
       "      <th>TEAM_NAME_home</th>\n",
       "      <th>team_home</th>\n",
       "      <th>TEAM_CITY_home</th>\n",
       "      <th>FGM_home</th>\n",
       "      <th>FGA_home</th>\n",
       "      <th>FG_PCT_home</th>\n",
       "      <th>FG3M_home</th>\n",
       "      <th>...</th>\n",
       "      <th>DATE</th>\n",
       "      <th>SEASON</th>\n",
       "      <th>fl_playoff</th>\n",
       "      <th>fl_home_win</th>\n",
       "      <th>team_home_game_num</th>\n",
       "      <th>team_away_game_num</th>\n",
       "      <th>DISTANCE_KM_home</th>\n",
       "      <th>DISTANCE_KM_away</th>\n",
       "      <th>DAYS_FROM_LAST_GAME_home</th>\n",
       "      <th>DAYS_FROM_LAST_GAME_away</th>\n",
       "    </tr>\n",
       "  </thead>\n",
       "  <tbody>\n",
       "    <tr>\n",
       "      <th>0</th>\n",
       "      <td>WAS @ GSW 2018-10-24</td>\n",
       "      <td>0021800062</td>\n",
       "      <td>1610612744</td>\n",
       "      <td>Warriors</td>\n",
       "      <td>GSW</td>\n",
       "      <td>Golden State</td>\n",
       "      <td>53</td>\n",
       "      <td>92</td>\n",
       "      <td>0.576</td>\n",
       "      <td>15</td>\n",
       "      <td>...</td>\n",
       "      <td>2018-10-24</td>\n",
       "      <td>2019</td>\n",
       "      <td>0</td>\n",
       "      <td>1</td>\n",
       "      <td>1</td>\n",
       "      <td>1</td>\n",
       "      <td>0.000000</td>\n",
       "      <td>3912.001793</td>\n",
       "      <td>2</td>\n",
       "      <td>2</td>\n",
       "    </tr>\n",
       "    <tr>\n",
       "      <th>1</th>\n",
       "      <td>CLE @ DET 2018-10-25</td>\n",
       "      <td>0021800063</td>\n",
       "      <td>1610612765</td>\n",
       "      <td>Pistons</td>\n",
       "      <td>DET</td>\n",
       "      <td>Detroit</td>\n",
       "      <td>None</td>\n",
       "      <td>None</td>\n",
       "      <td>None</td>\n",
       "      <td>None</td>\n",
       "      <td>...</td>\n",
       "      <td>2018-10-25</td>\n",
       "      <td>2019</td>\n",
       "      <td>0</td>\n",
       "      <td>0</td>\n",
       "      <td>1</td>\n",
       "      <td>1</td>\n",
       "      <td>0.000000</td>\n",
       "      <td>185.392825</td>\n",
       "      <td>2</td>\n",
       "      <td>1</td>\n",
       "    </tr>\n",
       "    <tr>\n",
       "      <th>2</th>\n",
       "      <td>POR @ ORL 2018-10-25</td>\n",
       "      <td>0021800064</td>\n",
       "      <td>1610612753</td>\n",
       "      <td>Magic</td>\n",
       "      <td>ORL</td>\n",
       "      <td>Orlando</td>\n",
       "      <td>None</td>\n",
       "      <td>None</td>\n",
       "      <td>None</td>\n",
       "      <td>None</td>\n",
       "      <td>...</td>\n",
       "      <td>2018-10-25</td>\n",
       "      <td>2019</td>\n",
       "      <td>0</td>\n",
       "      <td>0</td>\n",
       "      <td>1</td>\n",
       "      <td>1</td>\n",
       "      <td>1794.410551</td>\n",
       "      <td>4069.325464</td>\n",
       "      <td>3</td>\n",
       "      <td>3</td>\n",
       "    </tr>\n",
       "  </tbody>\n",
       "</table>\n",
       "<p>3 rows × 276 columns</p>\n",
       "</div>"
      ],
      "text/plain": [
       "                   GAME GAME_ID_home  TEAM_ID_home TEAM_NAME_home team_home  \\\n",
       "0  WAS @ GSW 2018-10-24   0021800062    1610612744       Warriors       GSW   \n",
       "1  CLE @ DET 2018-10-25   0021800063    1610612765        Pistons       DET   \n",
       "2  POR @ ORL 2018-10-25   0021800064    1610612753          Magic       ORL   \n",
       "\n",
       "  TEAM_CITY_home FGM_home FGA_home FG_PCT_home FG3M_home  \\\n",
       "0   Golden State       53       92       0.576        15   \n",
       "1        Detroit     None     None        None      None   \n",
       "2        Orlando     None     None        None      None   \n",
       "\n",
       "            ...                  DATE SEASON fl_playoff fl_home_win  \\\n",
       "0           ...            2018-10-24   2019          0           1   \n",
       "1           ...            2018-10-25   2019          0           0   \n",
       "2           ...            2018-10-25   2019          0           0   \n",
       "\n",
       "  team_home_game_num team_away_game_num DISTANCE_KM_home DISTANCE_KM_away  \\\n",
       "0                  1                  1         0.000000      3912.001793   \n",
       "1                  1                  1         0.000000       185.392825   \n",
       "2                  1                  1      1794.410551      4069.325464   \n",
       "\n",
       "  DAYS_FROM_LAST_GAME_home DAYS_FROM_LAST_GAME_away  \n",
       "0                        2                        2  \n",
       "1                        2                        1  \n",
       "2                        3                        3  \n",
       "\n",
       "[3 rows x 276 columns]"
      ]
     },
     "execution_count": 108,
     "metadata": {},
     "output_type": "execute_result"
    }
   ],
   "source": [
    "new_games"
   ]
  },
  {
   "cell_type": "code",
   "execution_count": 107,
   "metadata": {
    "ExecuteTime": {
     "end_time": "2018-10-26T01:00:29.412591Z",
     "start_time": "2018-10-26T01:00:29.231857Z"
    },
    "collapsed": true
   },
   "outputs": [],
   "source": [
    "new_games = data_prep_functions.cria_features(new_games, all_games)"
   ]
  },
  {
   "cell_type": "code",
   "execution_count": 110,
   "metadata": {
    "ExecuteTime": {
     "end_time": "2018-10-26T01:02:52.133742Z",
     "start_time": "2018-10-26T01:02:50.149368Z"
    }
   },
   "outputs": [
    {
     "name": "stdout",
     "output_type": "stream",
     "text": [
      "POR @ ORL 2018-10-25 5\r"
     ]
    }
   ],
   "source": [
    "to_predict = data_prep_functions.gera_last_N_games(new_games, all_games)"
   ]
  },
  {
   "cell_type": "code",
   "execution_count": 111,
   "metadata": {
    "ExecuteTime": {
     "end_time": "2018-10-26T01:02:57.333068Z",
     "start_time": "2018-10-26T01:02:56.789378Z"
    }
   },
   "outputs": [
    {
     "name": "stdout",
     "output_type": "stream",
     "text": [
      "5 CFGM                                          \r"
     ]
    }
   ],
   "source": [
    "to_predict = data_prep_functions.variaveis_delta(to_predict)"
   ]
  },
  {
   "cell_type": "code",
   "execution_count": 112,
   "metadata": {
    "ExecuteTime": {
     "end_time": "2018-10-26T01:02:59.537446Z",
     "start_time": "2018-10-26T01:02:59.378522Z"
    }
   },
   "outputs": [
    {
     "data": {
      "text/html": [
       "<div>\n",
       "<style scoped>\n",
       "    .dataframe tbody tr th:only-of-type {\n",
       "        vertical-align: middle;\n",
       "    }\n",
       "\n",
       "    .dataframe tbody tr th {\n",
       "        vertical-align: top;\n",
       "    }\n",
       "\n",
       "    .dataframe thead th {\n",
       "        text-align: right;\n",
       "    }\n",
       "</style>\n",
       "<table border=\"1\" class=\"dataframe\">\n",
       "  <thead>\n",
       "    <tr style=\"text-align: right;\">\n",
       "      <th></th>\n",
       "      <th>D2_PFD_L5</th>\n",
       "      <th>D2_NET_RATING_L5</th>\n",
       "      <th>D2_EFG_PCT_L5</th>\n",
       "      <th>C1_TO_L5</th>\n",
       "    </tr>\n",
       "  </thead>\n",
       "  <tbody>\n",
       "    <tr>\n",
       "      <th>WAS @ GSW 2018-10-24</th>\n",
       "      <td>4.0</td>\n",
       "      <td>5.26</td>\n",
       "      <td>0.1168</td>\n",
       "      <td>4.8</td>\n",
       "    </tr>\n",
       "    <tr>\n",
       "      <th>CLE @ DET 2018-10-25</th>\n",
       "      <td>-0.6</td>\n",
       "      <td>4.88</td>\n",
       "      <td>0.0034</td>\n",
       "      <td>-4.8</td>\n",
       "    </tr>\n",
       "    <tr>\n",
       "      <th>POR @ ORL 2018-10-25</th>\n",
       "      <td>9.0</td>\n",
       "      <td>-5.36</td>\n",
       "      <td>0.1734</td>\n",
       "      <td>1.2</td>\n",
       "    </tr>\n",
       "  </tbody>\n",
       "</table>\n",
       "</div>"
      ],
      "text/plain": [
       "                      D2_PFD_L5  D2_NET_RATING_L5  D2_EFG_PCT_L5 C1_TO_L5\n",
       "WAS @ GSW 2018-10-24        4.0              5.26         0.1168      4.8\n",
       "CLE @ DET 2018-10-25       -0.6              4.88         0.0034     -4.8\n",
       "POR @ ORL 2018-10-25        9.0             -5.36         0.1734      1.2"
      ]
     },
     "execution_count": 112,
     "metadata": {},
     "output_type": "execute_result"
    }
   ],
   "source": [
    "to_predict[['D2_PFD_L5', 'D2_NET_RATING_L5', 'D2_EFG_PCT_L5', 'C1_TO_L5']]"
   ]
  }
 ],
 "metadata": {
  "kernelspec": {
   "display_name": "Python 3",
   "language": "python",
   "name": "python3"
  },
  "language_info": {
   "codemirror_mode": {
    "name": "ipython",
    "version": 3
   },
   "file_extension": ".py",
   "mimetype": "text/x-python",
   "name": "python",
   "nbconvert_exporter": "python",
   "pygments_lexer": "ipython3",
   "version": "3.6.3"
  },
  "toc": {
   "base_numbering": 1,
   "nav_menu": {},
   "number_sections": true,
   "sideBar": true,
   "skip_h1_title": false,
   "title_cell": "Table of Contents",
   "title_sidebar": "Contents",
   "toc_cell": false,
   "toc_position": {},
   "toc_section_display": true,
   "toc_window_display": false
  },
  "varInspector": {
   "cols": {
    "lenName": 16,
    "lenType": 16,
    "lenVar": 40
   },
   "kernels_config": {
    "python": {
     "delete_cmd_postfix": "",
     "delete_cmd_prefix": "del ",
     "library": "var_list.py",
     "varRefreshCmd": "print(var_dic_list())"
    },
    "r": {
     "delete_cmd_postfix": ") ",
     "delete_cmd_prefix": "rm(",
     "library": "var_list.r",
     "varRefreshCmd": "cat(var_dic_list()) "
    }
   },
   "types_to_exclude": [
    "module",
    "function",
    "builtin_function_or_method",
    "instance",
    "_Feature"
   ],
   "window_display": false
  }
 },
 "nbformat": 4,
 "nbformat_minor": 2
}
