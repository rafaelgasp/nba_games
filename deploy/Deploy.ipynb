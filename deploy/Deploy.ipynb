{
 "cells": [
  {
   "cell_type": "code",
   "execution_count": 1,
   "metadata": {
    "ExecuteTime": {
     "end_time": "2018-10-24T01:14:08.284087Z",
     "start_time": "2018-10-24T01:14:07.751227Z"
    },
    "collapsed": true
   },
   "outputs": [],
   "source": [
    "import pandas as pd\n",
    "import numpy as np\n",
    "from datetime import datetime, timedelta\n",
    "import geopy.distance\n",
    "import gc\n",
    "import warnings\n",
    "warnings.filterwarnings(\"ignore\")\n",
    "\n",
    "import data_prep_functions"
   ]
  },
  {
   "cell_type": "code",
   "execution_count": 52,
   "metadata": {
    "ExecuteTime": {
     "end_time": "2018-10-24T00:24:12.202767Z",
     "start_time": "2018-10-24T00:24:11.972978Z"
    },
    "collapsed": true
   },
   "outputs": [],
   "source": [
    "base_nba_per_game = pd.read_csv(\"../bases_nba_stats/base_nba_per_game_15_16.csv\")"
   ]
  },
  {
   "cell_type": "code",
   "execution_count": 53,
   "metadata": {
    "ExecuteTime": {
     "end_time": "2018-10-24T00:24:20.095948Z",
     "start_time": "2018-10-24T00:24:19.988974Z"
    },
    "collapsed": true
   },
   "outputs": [],
   "source": [
    "all_games = prepara_base(base_nba_per_game)"
   ]
  },
  {
   "cell_type": "code",
   "execution_count": 54,
   "metadata": {
    "ExecuteTime": {
     "end_time": "2018-10-24T00:24:35.296345Z",
     "start_time": "2018-10-24T00:24:21.243352Z"
    },
    "collapsed": true
   },
   "outputs": [],
   "source": [
    "cria_features(all_games)"
   ]
  },
  {
   "cell_type": "code",
   "execution_count": 55,
   "metadata": {
    "ExecuteTime": {
     "end_time": "2018-10-24T00:36:32.137173Z",
     "start_time": "2018-10-24T00:24:38.836905Z"
    }
   },
   "outputs": [
    {
     "name": "stdout",
     "output_type": "stream",
     "text": [
      "DEN @ POR 2016-04-13 5\r"
     ]
    }
   ],
   "source": [
    "resp = gera_last_N_games(all_games, N=[5])"
   ]
  },
  {
   "cell_type": "code",
   "execution_count": 56,
   "metadata": {
    "ExecuteTime": {
     "end_time": "2018-10-24T00:37:06.732668Z",
     "start_time": "2018-10-24T00:37:06.068538Z"
    }
   },
   "outputs": [
    {
     "name": "stdout",
     "output_type": "stream",
     "text": [
      "5 N_GAMES_AWAY                                  \r"
     ]
    }
   ],
   "source": [
    "delta_L5 = variaveis_delta(resp)"
   ]
  },
  {
   "cell_type": "code",
   "execution_count": 58,
   "metadata": {
    "ExecuteTime": {
     "end_time": "2018-10-24T00:37:38.670497Z",
     "start_time": "2018-10-24T00:37:37.728605Z"
    }
   },
   "outputs": [],
   "source": [
    "delta_L5.to_csv(\"../bases_nba_stats/delta_cross_L5_nba_15_16.csv\", sep=\";\")"
   ]
  }
 ],
 "metadata": {
  "kernelspec": {
   "display_name": "Python 3",
   "language": "python",
   "name": "python3"
  },
  "language_info": {
   "codemirror_mode": {
    "name": "ipython",
    "version": 3
   },
   "file_extension": ".py",
   "mimetype": "text/x-python",
   "name": "python",
   "nbconvert_exporter": "python",
   "pygments_lexer": "ipython3",
   "version": "3.6.3"
  },
  "toc": {
   "base_numbering": 1,
   "nav_menu": {},
   "number_sections": true,
   "sideBar": true,
   "skip_h1_title": false,
   "title_cell": "Table of Contents",
   "title_sidebar": "Contents",
   "toc_cell": false,
   "toc_position": {},
   "toc_section_display": true,
   "toc_window_display": false
  },
  "varInspector": {
   "cols": {
    "lenName": 16,
    "lenType": 16,
    "lenVar": 40
   },
   "kernels_config": {
    "python": {
     "delete_cmd_postfix": "",
     "delete_cmd_prefix": "del ",
     "library": "var_list.py",
     "varRefreshCmd": "print(var_dic_list())"
    },
    "r": {
     "delete_cmd_postfix": ") ",
     "delete_cmd_prefix": "rm(",
     "library": "var_list.r",
     "varRefreshCmd": "cat(var_dic_list()) "
    }
   },
   "types_to_exclude": [
    "module",
    "function",
    "builtin_function_or_method",
    "instance",
    "_Feature"
   ],
   "window_display": false
  }
 },
 "nbformat": 4,
 "nbformat_minor": 2
}
