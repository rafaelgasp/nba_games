{
 "cells": [
  {
   "cell_type": "code",
   "execution_count": 67,
   "metadata": {
    "ExecuteTime": {
     "end_time": "2018-11-05T00:44:33.996712Z",
     "start_time": "2018-11-05T00:44:33.788831Z"
    }
   },
   "outputs": [
    {
     "name": "stdout",
     "output_type": "stream",
     "text": [
      "The autoreload extension is already loaded. To reload it, use:\n",
      "  %reload_ext autoreload\n"
     ]
    }
   ],
   "source": [
    "import pandas as pd\n",
    "import numpy as np\n",
    "import time\n",
    "from time import mktime\n",
    "from datetime import datetime, timedelta\n",
    "import geopy.distance\n",
    "import gc\n",
    "import warnings\n",
    "warnings.filterwarnings(\"ignore\")\n",
    "\n",
    "%load_ext autoreload\n",
    "%autoreload 2\n",
    "\n",
    "import data_prep_functions\n",
    "import request_api_nba_stats"
   ]
  },
  {
   "cell_type": "code",
   "execution_count": 2,
   "metadata": {
    "ExecuteTime": {
     "end_time": "2018-11-01T04:20:17.052319Z",
     "start_time": "2018-11-01T04:20:15.600410Z"
    },
    "collapsed": true
   },
   "outputs": [],
   "source": [
    "base_ini = pd.read_csv(\"../bases_nba_stats/aux_files/base_nba_per_game_16_17.csv\")"
   ]
  },
  {
   "cell_type": "code",
   "execution_count": 3,
   "metadata": {
    "ExecuteTime": {
     "end_time": "2018-11-01T04:20:18.195196Z",
     "start_time": "2018-11-01T04:20:17.518438Z"
    },
    "collapsed": true
   },
   "outputs": [],
   "source": [
    "all_games_16_17 = data_prep_functions.prepara_base(base_ini)"
   ]
  },
  {
   "cell_type": "code",
   "execution_count": 4,
   "metadata": {
    "ExecuteTime": {
     "end_time": "2018-11-01T04:20:33.992031Z",
     "start_time": "2018-11-01T04:20:18.616397Z"
    },
    "collapsed": true
   },
   "outputs": [],
   "source": [
    "all_games_16_17 = data_prep_functions.cria_features(all_games_16_17)"
   ]
  },
  {
   "cell_type": "code",
   "execution_count": 5,
   "metadata": {
    "ExecuteTime": {
     "end_time": "2018-11-01T04:33:10.835930Z",
     "start_time": "2018-11-01T04:20:33.994028Z"
    }
   },
   "outputs": [
    {
     "name": "stdout",
     "output_type": "stream",
     "text": [
      "NOP @ POR 2017-04-12 5\r"
     ]
    }
   ],
   "source": [
    "geral_16_17 = data_prep_functions.gera_last_N_games(all_games_16_17)"
   ]
  },
  {
   "cell_type": "code",
   "execution_count": 6,
   "metadata": {
    "ExecuteTime": {
     "end_time": "2018-11-01T04:33:11.064815Z",
     "start_time": "2018-11-01T04:33:10.838926Z"
    }
   },
   "outputs": [
    {
     "data": {
      "text/html": [
       "<div>\n",
       "<style scoped>\n",
       "    .dataframe tbody tr th:only-of-type {\n",
       "        vertical-align: middle;\n",
       "    }\n",
       "\n",
       "    .dataframe tbody tr th {\n",
       "        vertical-align: top;\n",
       "    }\n",
       "\n",
       "    .dataframe thead th {\n",
       "        text-align: right;\n",
       "    }\n",
       "</style>\n",
       "<table border=\"1\" class=\"dataframe\">\n",
       "  <thead>\n",
       "    <tr style=\"text-align: right;\">\n",
       "      <th></th>\n",
       "      <th>team_home</th>\n",
       "      <th>team_away</th>\n",
       "      <th>PTS_home</th>\n",
       "      <th>PTS_away</th>\n",
       "      <th>FGA_home</th>\n",
       "      <th>FGA_away</th>\n",
       "      <th>fl_home_win</th>\n",
       "    </tr>\n",
       "    <tr>\n",
       "      <th>GAME</th>\n",
       "      <th></th>\n",
       "      <th></th>\n",
       "      <th></th>\n",
       "      <th></th>\n",
       "      <th></th>\n",
       "      <th></th>\n",
       "      <th></th>\n",
       "    </tr>\n",
       "  </thead>\n",
       "  <tbody>\n",
       "    <tr>\n",
       "      <th>IND @ CLE 2017-04-02</th>\n",
       "      <td>CLE</td>\n",
       "      <td>IND</td>\n",
       "      <td>135</td>\n",
       "      <td>130</td>\n",
       "      <td>95</td>\n",
       "      <td>105</td>\n",
       "      <td>1</td>\n",
       "    </tr>\n",
       "    <tr>\n",
       "      <th>TOR @ IND 2017-04-04</th>\n",
       "      <td>IND</td>\n",
       "      <td>TOR</td>\n",
       "      <td>108</td>\n",
       "      <td>90</td>\n",
       "      <td>89</td>\n",
       "      <td>76</td>\n",
       "      <td>1</td>\n",
       "    </tr>\n",
       "    <tr>\n",
       "      <th>MIL @ IND 2017-04-06</th>\n",
       "      <td>IND</td>\n",
       "      <td>MIL</td>\n",
       "      <td>104</td>\n",
       "      <td>89</td>\n",
       "      <td>80</td>\n",
       "      <td>71</td>\n",
       "      <td>1</td>\n",
       "    </tr>\n",
       "    <tr>\n",
       "      <th>IND @ ORL 2017-04-08</th>\n",
       "      <td>ORL</td>\n",
       "      <td>IND</td>\n",
       "      <td>112</td>\n",
       "      <td>127</td>\n",
       "      <td>84</td>\n",
       "      <td>86</td>\n",
       "      <td>0</td>\n",
       "    </tr>\n",
       "    <tr>\n",
       "      <th>IND @ PHI 2017-04-10</th>\n",
       "      <td>PHI</td>\n",
       "      <td>IND</td>\n",
       "      <td>111</td>\n",
       "      <td>120</td>\n",
       "      <td>75</td>\n",
       "      <td>85</td>\n",
       "      <td>0</td>\n",
       "    </tr>\n",
       "  </tbody>\n",
       "</table>\n",
       "</div>"
      ],
      "text/plain": [
       "                     team_home team_away  PTS_home  PTS_away  FGA_home  \\\n",
       "GAME                                                                     \n",
       "IND @ CLE 2017-04-02       CLE       IND       135       130        95   \n",
       "TOR @ IND 2017-04-04       IND       TOR       108        90        89   \n",
       "MIL @ IND 2017-04-06       IND       MIL       104        89        80   \n",
       "IND @ ORL 2017-04-08       ORL       IND       112       127        84   \n",
       "IND @ PHI 2017-04-10       PHI       IND       111       120        75   \n",
       "\n",
       "                      FGA_away  fl_home_win  \n",
       "GAME                                         \n",
       "IND @ CLE 2017-04-02       105            1  \n",
       "TOR @ IND 2017-04-04        76            1  \n",
       "MIL @ IND 2017-04-06        71            1  \n",
       "IND @ ORL 2017-04-08        86            0  \n",
       "IND @ PHI 2017-04-10        85            0  "
      ]
     },
     "execution_count": 6,
     "metadata": {},
     "output_type": "execute_result"
    }
   ],
   "source": [
    "data_prep_functions.get_last_games(all_games_16_17, \n",
    "                                   geral_16_17[geral_16_17.TEAM_NAME_home == \"Pacers\"].tail(1).DATE.iloc[0]\n",
    "                                   , \"IND\")[[\"team_home\", \"team_away\", \"PTS_home\", \"PTS_away\", \n",
    "                                             \"FGA_home\", \"FGA_away\", \"fl_home_win\"]]"
   ]
  },
  {
   "cell_type": "code",
   "execution_count": 7,
   "metadata": {
    "ExecuteTime": {
     "end_time": "2018-11-01T04:33:11.248692Z",
     "start_time": "2018-11-01T04:33:11.066795Z"
    }
   },
   "outputs": [
    {
     "data": {
      "text/plain": [
       "ATL @ IND 2017-04-12    89.0\n",
       "Name: FGA_home_L5, dtype: float64"
      ]
     },
     "execution_count": 7,
     "metadata": {},
     "output_type": "execute_result"
    }
   ],
   "source": [
    "geral_16_17[geral_16_17.TEAM_NAME_home == \"Pacers\"].tail(1)[\"FGA_home_L5\"]"
   ]
  },
  {
   "cell_type": "code",
   "execution_count": 8,
   "metadata": {
    "ExecuteTime": {
     "end_time": "2018-11-01T04:33:11.989268Z",
     "start_time": "2018-11-01T04:33:11.251690Z"
    }
   },
   "outputs": [
    {
     "name": "stdout",
     "output_type": "stream",
     "text": [
      "5 AVG_DAYS_FROM_LG                              \r"
     ]
    }
   ],
   "source": [
    "cross_16_17 = data_prep_functions.variaveis_delta(geral_16_17)"
   ]
  },
  {
   "cell_type": "code",
   "execution_count": 9,
   "metadata": {
    "ExecuteTime": {
     "end_time": "2018-11-01T04:33:16.585032Z",
     "start_time": "2018-11-01T04:33:11.991267Z"
    },
    "collapsed": true
   },
   "outputs": [],
   "source": [
    "cross_16_17.to_csv(\"../bases_nba_stats/delta_cross_L5_nba_16_17.csv\")"
   ]
  },
  {
   "cell_type": "code",
   "execution_count": 11,
   "metadata": {
    "ExecuteTime": {
     "end_time": "2018-11-01T04:43:37.894068Z",
     "start_time": "2018-11-01T04:43:37.715160Z"
    }
   },
   "outputs": [
    {
     "data": {
      "text/plain": [
       "0.583739837398374"
      ]
     },
     "execution_count": 11,
     "metadata": {},
     "output_type": "execute_result"
    }
   ],
   "source": [
    "cross_16_17.fl_home_win.mean()"
   ]
  },
  {
   "cell_type": "code",
   "execution_count": 115,
   "metadata": {
    "ExecuteTime": {
     "end_time": "2018-10-28T22:39:27.037853Z",
     "start_time": "2018-10-28T22:39:25.080514Z"
    }
   },
   "outputs": [
    {
     "data": {
      "text/plain": [
       "datetime.datetime(2018, 11, 23, 0, 0)"
      ]
     },
     "execution_count": 115,
     "metadata": {},
     "output_type": "execute_result"
    }
   ],
   "source": [
    "datetime.strptime(str(get_date_place(\"0021800270\", year = \"2018\")[0]), '%Y-%m-%d')"
   ]
  },
  {
   "cell_type": "code",
   "execution_count": 9,
   "metadata": {
    "ExecuteTime": {
     "end_time": "2018-11-04T23:44:10.767812Z",
     "start_time": "2018-11-04T23:43:04.006019Z"
    },
    "scrolled": true
   },
   "outputs": [
    {
     "name": "stdout",
     "output_type": "stream",
     "text": [
      "('0021800140', '2018-11-05')\r"
     ]
    }
   ],
   "source": [
    "games_ids = request_api_nba_stats.get_list_gameids(datetime.today()) "
   ]
  },
  {
   "cell_type": "code",
   "execution_count": 14,
   "metadata": {
    "ExecuteTime": {
     "end_time": "2018-11-05T00:04:01.287004Z",
     "start_time": "2018-11-04T23:45:39.886576Z"
    },
    "scrolled": true
   },
   "outputs": [
    {
     "name": "stdout",
     "output_type": "stream",
     "text": [
      "Length mismatch: Expected axis has 0 elements, new values have 28 elements\n",
      "Length mismatch: Expected axis has 0 elements, new values have 28 elements\n"
     ]
    }
   ],
   "source": [
    "df_full, df_full_jogo, erros = request_api_nba_stats.get_nba_stats_data(games_ids)"
   ]
  },
  {
   "cell_type": "code",
   "execution_count": 16,
   "metadata": {
    "ExecuteTime": {
     "end_time": "2018-11-05T00:12:47.392691Z",
     "start_time": "2018-11-05T00:12:45.899548Z"
    },
    "collapsed": true
   },
   "outputs": [],
   "source": [
    "base_nba_2018 = pd.concat(df_full_jogo).reset_index()"
   ]
  },
  {
   "cell_type": "code",
   "execution_count": 17,
   "metadata": {
    "ExecuteTime": {
     "end_time": "2018-11-05T00:12:53.605135Z",
     "start_time": "2018-11-05T00:12:47.897404Z"
    },
    "collapsed": true
   },
   "outputs": [],
   "source": [
    "base_nba_2018.to_csv(\"base_nba_2018_raw.csv\")"
   ]
  },
  {
   "cell_type": "code",
   "execution_count": 22,
   "metadata": {
    "ExecuteTime": {
     "end_time": "2018-11-05T00:14:37.733379Z",
     "start_time": "2018-11-05T00:14:30.366597Z"
    },
    "collapsed": true
   },
   "outputs": [],
   "source": [
    "all_games = data_prep_functions.prepara_base(base_nba_2018)"
   ]
  },
  {
   "cell_type": "code",
   "execution_count": 23,
   "metadata": {
    "ExecuteTime": {
     "end_time": "2018-11-05T00:14:45.542907Z",
     "start_time": "2018-11-05T00:14:42.163842Z"
    }
   },
   "outputs": [],
   "source": [
    "all_games = data_prep_functions.cria_features(all_games)"
   ]
  },
  {
   "cell_type": "code",
   "execution_count": 24,
   "metadata": {
    "ExecuteTime": {
     "end_time": "2018-11-05T00:16:07.931308Z",
     "start_time": "2018-11-05T00:14:48.828029Z"
    }
   },
   "outputs": [
    {
     "name": "stdout",
     "output_type": "stream",
     "text": [
      "ORL @ SAS 2018-11-04 5\r"
     ]
    }
   ],
   "source": [
    "resp = data_prep_functions.gera_last_N_games(all_games, N=[5])"
   ]
  },
  {
   "cell_type": "code",
   "execution_count": 26,
   "metadata": {
    "ExecuteTime": {
     "end_time": "2018-11-05T00:28:27.514935Z",
     "start_time": "2018-11-05T00:28:26.951242Z"
    }
   },
   "outputs": [
    {
     "name": "stdout",
     "output_type": "stream",
     "text": [
      "5 PTS                                           \r"
     ]
    }
   ],
   "source": [
    "delta_L5_2018 = data_prep_functions.variaveis_delta(resp)"
   ]
  },
  {
   "cell_type": "code",
   "execution_count": 28,
   "metadata": {
    "ExecuteTime": {
     "end_time": "2018-11-05T00:28:47.892021Z",
     "start_time": "2018-11-05T00:28:47.609132Z"
    },
    "collapsed": true
   },
   "outputs": [],
   "source": [
    "delta_L5_2018.to_csv(\"delta_cross_L5_nba_18_19.csv\")"
   ]
  },
  {
   "cell_type": "code",
   "execution_count": 29,
   "metadata": {
    "ExecuteTime": {
     "end_time": "2018-11-05T00:29:06.606065Z",
     "start_time": "2018-11-05T00:29:06.384195Z"
    },
    "collapsed": true
   },
   "outputs": [],
   "source": [
    "all_games.to_csv(\"all_games_nba_18_19.csv\")"
   ]
  },
  {
   "cell_type": "markdown",
   "metadata": {},
   "source": [
    "### Fluxo Predição no Dia"
   ]
  },
  {
   "cell_type": "code",
   "execution_count": 60,
   "metadata": {
    "ExecuteTime": {
     "end_time": "2018-11-05T00:38:09.005253Z",
     "start_time": "2018-11-05T00:38:03.314580Z"
    }
   },
   "outputs": [
    {
     "name": "stdout",
     "output_type": "stream",
     "text": [
      "('0021800149', '2018-11-06')\r"
     ]
    }
   ],
   "source": [
    "new_games_ids = request_api_nba_stats.get_list_gameids(max_date = datetime.fromtimestamp(mktime(time.localtime(time.time() + 24*3600)))\n",
    "                                                   , year = '2018', start_at=len(all_games))"
   ]
  },
  {
   "cell_type": "code",
   "execution_count": 73,
   "metadata": {
    "ExecuteTime": {
     "end_time": "2018-11-05T00:45:53.109706Z",
     "start_time": "2018-11-05T00:45:52.924803Z"
    }
   },
   "outputs": [
    {
     "data": {
      "text/plain": [
       "False"
      ]
     },
     "execution_count": 73,
     "metadata": {},
     "output_type": "execute_result"
    }
   ],
   "source": [
    "new_games.empty"
   ]
  },
  {
   "cell_type": "code",
   "execution_count": 83,
   "metadata": {
    "ExecuteTime": {
     "end_time": "2018-11-05T00:56:01.783236Z",
     "start_time": "2018-11-05T00:55:57.310840Z"
    }
   },
   "outputs": [],
   "source": [
    "new_games = request_api_nba_stats.get_game_infos_dates(new_games_ids)"
   ]
  },
  {
   "cell_type": "code",
   "execution_count": 75,
   "metadata": {
    "ExecuteTime": {
     "end_time": "2018-11-05T00:49:45.932585Z",
     "start_time": "2018-11-05T00:48:33.617013Z"
    }
   },
   "outputs": [
    {
     "name": "stdout",
     "output_type": "stream",
     "text": [
      "0021800148 2018-11-05 - defensive                \r"
     ]
    }
   ],
   "source": [
    "df_full, df_full_jogo, erros = request_api_nba_stats.get_nba_stats_data(new_games_ids)"
   ]
  },
  {
   "cell_type": "code",
   "execution_count": 76,
   "metadata": {
    "ExecuteTime": {
     "end_time": "2018-11-05T00:49:48.418974Z",
     "start_time": "2018-11-05T00:49:48.192111Z"
    },
    "collapsed": true
   },
   "outputs": [],
   "source": [
    "new_games = pd.concat(df_full_jogo).reset_index()"
   ]
  },
  {
   "cell_type": "code",
   "execution_count": 77,
   "metadata": {
    "ExecuteTime": {
     "end_time": "2018-11-05T00:49:49.862802Z",
     "start_time": "2018-11-05T00:49:49.658902Z"
    },
    "collapsed": true
   },
   "outputs": [],
   "source": [
    "new_games = data_prep_functions.prepara_base(new_games).reset_index()"
   ]
  },
  {
   "cell_type": "code",
   "execution_count": 91,
   "metadata": {
    "ExecuteTime": {
     "end_time": "2018-11-05T00:58:10.336365Z",
     "start_time": "2018-11-05T00:58:09.893535Z"
    }
   },
   "outputs": [],
   "source": [
    "new_games = data_prep_functions.cria_features(new_games, all_games)"
   ]
  },
  {
   "cell_type": "code",
   "execution_count": 93,
   "metadata": {
    "ExecuteTime": {
     "end_time": "2018-11-05T00:58:59.095816Z",
     "start_time": "2018-11-05T00:58:51.851440Z"
    }
   },
   "outputs": [
    {
     "name": "stdout",
     "output_type": "stream",
     "text": [
      "MIN @ LAC 2018-11-05 5\r"
     ]
    }
   ],
   "source": [
    "to_predict = data_prep_functions.gera_last_N_games(new_games, all_games)"
   ]
  },
  {
   "cell_type": "code",
   "execution_count": 95,
   "metadata": {
    "ExecuteTime": {
     "end_time": "2018-11-05T00:59:10.526031Z",
     "start_time": "2018-11-05T00:59:10.317168Z"
    }
   },
   "outputs": [
    {
     "data": {
      "text/html": [
       "<div>\n",
       "<style scoped>\n",
       "    .dataframe tbody tr th:only-of-type {\n",
       "        vertical-align: middle;\n",
       "    }\n",
       "\n",
       "    .dataframe tbody tr th {\n",
       "        vertical-align: top;\n",
       "    }\n",
       "\n",
       "    .dataframe thead th {\n",
       "        text-align: right;\n",
       "    }\n",
       "</style>\n",
       "<table border=\"1\" class=\"dataframe\">\n",
       "  <thead>\n",
       "    <tr style=\"text-align: right;\">\n",
       "      <th></th>\n",
       "      <th>index</th>\n",
       "      <th>DATE</th>\n",
       "      <th>PLACE</th>\n",
       "      <th>team_home</th>\n",
       "      <th>team_away</th>\n",
       "      <th>DISTANCE_KM_home</th>\n",
       "      <th>DISTANCE_KM_away</th>\n",
       "      <th>DAYS_FROM_LAST_GAME_home</th>\n",
       "      <th>DAYS_FROM_LAST_GAME_away</th>\n",
       "      <th>FGM_home_L5</th>\n",
       "      <th>...</th>\n",
       "      <th>N_GAMES_AWAY_L4_days_away_L5_AWAY</th>\n",
       "      <th>N_GAMES_AWAY_L6_days_away_L5_AWAY</th>\n",
       "      <th>N_GAMES_AWAY_L8_days_away_L5_AWAY</th>\n",
       "      <th>N_GAMES_AWAY_L10_days_away_L5_AWAY</th>\n",
       "      <th>SUM_DIST_KM_away_L5_AWAY</th>\n",
       "      <th>AVG_DIST_KM_away_L5_AWAY</th>\n",
       "      <th>BACK_TO_BACK_away_L5_AWAY</th>\n",
       "      <th>AVG_DAYS_FROM_LG_away_L5_AWAY</th>\n",
       "      <th>STD_DAYS_FROM_LG_away_L5_AWAY</th>\n",
       "      <th>MIN_DAYS_FROM_LG_away_L5_AWAY</th>\n",
       "    </tr>\n",
       "  </thead>\n",
       "  <tbody>\n",
       "    <tr>\n",
       "      <th>ORL @ SAS 2018-11-04</th>\n",
       "      <td>0</td>\n",
       "      <td>2018-11-04 00:00:00</td>\n",
       "      <td>AT&amp;T Center</td>\n",
       "      <td>SAS</td>\n",
       "      <td>ORL</td>\n",
       "      <td>0</td>\n",
       "      <td>1663.41</td>\n",
       "      <td>1</td>\n",
       "      <td>2</td>\n",
       "      <td>42.4</td>\n",
       "      <td>...</td>\n",
       "      <td>0.0</td>\n",
       "      <td>0.0</td>\n",
       "      <td>0.0</td>\n",
       "      <td>0.0</td>\n",
       "      <td>4890.564204</td>\n",
       "      <td>1630.188068</td>\n",
       "      <td>0.0</td>\n",
       "      <td>1.666667</td>\n",
       "      <td>0.471405</td>\n",
       "      <td>1.0</td>\n",
       "    </tr>\n",
       "    <tr>\n",
       "      <th>MIN @ POR 2018-11-04</th>\n",
       "      <td>1</td>\n",
       "      <td>2018-11-04 00:00:00</td>\n",
       "      <td>Moda Center</td>\n",
       "      <td>POR</td>\n",
       "      <td>MIN</td>\n",
       "      <td>0</td>\n",
       "      <td>2294.94</td>\n",
       "      <td>1</td>\n",
       "      <td>2</td>\n",
       "      <td>40.2</td>\n",
       "      <td>...</td>\n",
       "      <td>0.0</td>\n",
       "      <td>0.0</td>\n",
       "      <td>0.0</td>\n",
       "      <td>0.0</td>\n",
       "      <td>6823.280027</td>\n",
       "      <td>1705.820007</td>\n",
       "      <td>0.0</td>\n",
       "      <td>0.000000</td>\n",
       "      <td>0.000000</td>\n",
       "      <td>0.0</td>\n",
       "    </tr>\n",
       "    <tr>\n",
       "      <th>TOR @ LAL 2018-11-04</th>\n",
       "      <td>2</td>\n",
       "      <td>2018-11-04 00:00:00</td>\n",
       "      <td>Staples Center</td>\n",
       "      <td>LAL</td>\n",
       "      <td>TOR</td>\n",
       "      <td>1329.52</td>\n",
       "      <td>3504.19</td>\n",
       "      <td>1</td>\n",
       "      <td>2</td>\n",
       "      <td>44.8</td>\n",
       "      <td>...</td>\n",
       "      <td>0.0</td>\n",
       "      <td>0.0</td>\n",
       "      <td>0.0</td>\n",
       "      <td>0.0</td>\n",
       "      <td>4300.093938</td>\n",
       "      <td>1433.364646</td>\n",
       "      <td>0.0</td>\n",
       "      <td>2.333333</td>\n",
       "      <td>0.942809</td>\n",
       "      <td>1.0</td>\n",
       "    </tr>\n",
       "    <tr>\n",
       "      <th>MIA @ DET 2018-11-05</th>\n",
       "      <td>3</td>\n",
       "      <td>2018-11-05 00:00:00</td>\n",
       "      <td>Little Caesars Arena</td>\n",
       "      <td>DET</td>\n",
       "      <td>MIA</td>\n",
       "      <td>743.675</td>\n",
       "      <td>1897.09</td>\n",
       "      <td>2</td>\n",
       "      <td>2</td>\n",
       "      <td>36.6</td>\n",
       "      <td>...</td>\n",
       "      <td>0.0</td>\n",
       "      <td>0.0</td>\n",
       "      <td>0.0</td>\n",
       "      <td>0.0</td>\n",
       "      <td>3834.028333</td>\n",
       "      <td>958.507083</td>\n",
       "      <td>0.0</td>\n",
       "      <td>0.000000</td>\n",
       "      <td>0.000000</td>\n",
       "      <td>0.0</td>\n",
       "    </tr>\n",
       "    <tr>\n",
       "      <th>HOU @ IND 2018-11-05</th>\n",
       "      <td>4</td>\n",
       "      <td>2018-11-05 00:00:00</td>\n",
       "      <td>Bankers Life Fieldhouse</td>\n",
       "      <td>IND</td>\n",
       "      <td>HOU</td>\n",
       "      <td>0</td>\n",
       "      <td>1392.67</td>\n",
       "      <td>2</td>\n",
       "      <td>2</td>\n",
       "      <td>41.2</td>\n",
       "      <td>...</td>\n",
       "      <td>0.0</td>\n",
       "      <td>0.0</td>\n",
       "      <td>0.0</td>\n",
       "      <td>0.0</td>\n",
       "      <td>8224.335454</td>\n",
       "      <td>2056.083863</td>\n",
       "      <td>0.0</td>\n",
       "      <td>2.000000</td>\n",
       "      <td>1.000000</td>\n",
       "      <td>1.0</td>\n",
       "    </tr>\n",
       "    <tr>\n",
       "      <th>CLE @ ORL 2018-11-05</th>\n",
       "      <td>5</td>\n",
       "      <td>2018-11-05 00:00:00</td>\n",
       "      <td>Amway Center</td>\n",
       "      <td>ORL</td>\n",
       "      <td>CLE</td>\n",
       "      <td>1663.41</td>\n",
       "      <td>1437.8</td>\n",
       "      <td>1</td>\n",
       "      <td>2</td>\n",
       "      <td>30.4</td>\n",
       "      <td>...</td>\n",
       "      <td>0.0</td>\n",
       "      <td>0.0</td>\n",
       "      <td>0.0</td>\n",
       "      <td>0.0</td>\n",
       "      <td>2206.627104</td>\n",
       "      <td>551.656776</td>\n",
       "      <td>0.0</td>\n",
       "      <td>0.000000</td>\n",
       "      <td>0.000000</td>\n",
       "      <td>0.0</td>\n",
       "    </tr>\n",
       "    <tr>\n",
       "      <th>CHI @ NYK 2018-11-05</th>\n",
       "      <td>6</td>\n",
       "      <td>2018-11-05 00:00:00</td>\n",
       "      <td>Madison Square Garden</td>\n",
       "      <td>NYK</td>\n",
       "      <td>CHI</td>\n",
       "      <td>330.844</td>\n",
       "      <td>1151.12</td>\n",
       "      <td>1</td>\n",
       "      <td>2</td>\n",
       "      <td>32.8</td>\n",
       "      <td>...</td>\n",
       "      <td>0.0</td>\n",
       "      <td>0.0</td>\n",
       "      <td>0.0</td>\n",
       "      <td>0.0</td>\n",
       "      <td>4262.042310</td>\n",
       "      <td>1065.510578</td>\n",
       "      <td>0.0</td>\n",
       "      <td>0.000000</td>\n",
       "      <td>0.000000</td>\n",
       "      <td>0.0</td>\n",
       "    </tr>\n",
       "    <tr>\n",
       "      <th>NOP @ OKC 2018-11-05</th>\n",
       "      <td>7</td>\n",
       "      <td>2018-11-05 00:00:00</td>\n",
       "      <td>Chesapeake Energy Arena</td>\n",
       "      <td>OKC</td>\n",
       "      <td>NOP</td>\n",
       "      <td>1855.15</td>\n",
       "      <td>926.626</td>\n",
       "      <td>3</td>\n",
       "      <td>2</td>\n",
       "      <td>43.6</td>\n",
       "      <td>...</td>\n",
       "      <td>0.0</td>\n",
       "      <td>0.0</td>\n",
       "      <td>0.0</td>\n",
       "      <td>0.0</td>\n",
       "      <td>9459.565630</td>\n",
       "      <td>1891.913126</td>\n",
       "      <td>0.0</td>\n",
       "      <td>0.000000</td>\n",
       "      <td>0.000000</td>\n",
       "      <td>0.0</td>\n",
       "    </tr>\n",
       "    <tr>\n",
       "      <th>BOS @ DEN 2018-11-05</th>\n",
       "      <td>8</td>\n",
       "      <td>2018-11-05 00:00:00</td>\n",
       "      <td>Pepsi Center</td>\n",
       "      <td>DEN</td>\n",
       "      <td>BOS</td>\n",
       "      <td>0</td>\n",
       "      <td>2849.26</td>\n",
       "      <td>2</td>\n",
       "      <td>2</td>\n",
       "      <td>43.0</td>\n",
       "      <td>...</td>\n",
       "      <td>0.0</td>\n",
       "      <td>0.0</td>\n",
       "      <td>0.0</td>\n",
       "      <td>0.0</td>\n",
       "      <td>5702.959074</td>\n",
       "      <td>1140.591815</td>\n",
       "      <td>0.0</td>\n",
       "      <td>2.200000</td>\n",
       "      <td>0.748331</td>\n",
       "      <td>1.0</td>\n",
       "    </tr>\n",
       "    <tr>\n",
       "      <th>TOR @ UTA 2018-11-05</th>\n",
       "      <td>9</td>\n",
       "      <td>2018-11-05 00:00:00</td>\n",
       "      <td>Vivint Smart Home Arena</td>\n",
       "      <td>UTA</td>\n",
       "      <td>TOR</td>\n",
       "      <td>597.057</td>\n",
       "      <td>2687.29</td>\n",
       "      <td>2</td>\n",
       "      <td>3</td>\n",
       "      <td>40.8</td>\n",
       "      <td>...</td>\n",
       "      <td>0.0</td>\n",
       "      <td>0.0</td>\n",
       "      <td>0.0</td>\n",
       "      <td>0.0</td>\n",
       "      <td>4300.093938</td>\n",
       "      <td>1433.364646</td>\n",
       "      <td>0.0</td>\n",
       "      <td>2.333333</td>\n",
       "      <td>0.942809</td>\n",
       "      <td>1.0</td>\n",
       "    </tr>\n",
       "    <tr>\n",
       "      <th>MEM @ GSW 2018-11-05</th>\n",
       "      <td>10</td>\n",
       "      <td>2018-11-05 00:00:00</td>\n",
       "      <td>ORACLE Arena</td>\n",
       "      <td>GSW</td>\n",
       "      <td>MEM</td>\n",
       "      <td>0</td>\n",
       "      <td>2882.97</td>\n",
       "      <td>3</td>\n",
       "      <td>1</td>\n",
       "      <td>47.6</td>\n",
       "      <td>...</td>\n",
       "      <td>0.0</td>\n",
       "      <td>0.0</td>\n",
       "      <td>0.0</td>\n",
       "      <td>0.0</td>\n",
       "      <td>9494.253731</td>\n",
       "      <td>1898.850746</td>\n",
       "      <td>0.0</td>\n",
       "      <td>0.000000</td>\n",
       "      <td>0.000000</td>\n",
       "      <td>0.0</td>\n",
       "    </tr>\n",
       "    <tr>\n",
       "      <th>MIN @ LAC 2018-11-05</th>\n",
       "      <td>11</td>\n",
       "      <td>2018-11-05 00:00:00</td>\n",
       "      <td>Staples Center</td>\n",
       "      <td>LAC</td>\n",
       "      <td>MIN</td>\n",
       "      <td>3544.97</td>\n",
       "      <td>2453.72</td>\n",
       "      <td>3</td>\n",
       "      <td>3</td>\n",
       "      <td>42.6</td>\n",
       "      <td>...</td>\n",
       "      <td>0.0</td>\n",
       "      <td>0.0</td>\n",
       "      <td>0.0</td>\n",
       "      <td>0.0</td>\n",
       "      <td>6823.280027</td>\n",
       "      <td>1705.820007</td>\n",
       "      <td>0.0</td>\n",
       "      <td>0.000000</td>\n",
       "      <td>0.000000</td>\n",
       "      <td>0.0</td>\n",
       "    </tr>\n",
       "  </tbody>\n",
       "</table>\n",
       "<p>12 rows × 849 columns</p>\n",
       "</div>"
      ],
      "text/plain": [
       "                     index                 DATE                    PLACE  \\\n",
       "ORL @ SAS 2018-11-04     0  2018-11-04 00:00:00              AT&T Center   \n",
       "MIN @ POR 2018-11-04     1  2018-11-04 00:00:00              Moda Center   \n",
       "TOR @ LAL 2018-11-04     2  2018-11-04 00:00:00           Staples Center   \n",
       "MIA @ DET 2018-11-05     3  2018-11-05 00:00:00     Little Caesars Arena   \n",
       "HOU @ IND 2018-11-05     4  2018-11-05 00:00:00  Bankers Life Fieldhouse   \n",
       "CLE @ ORL 2018-11-05     5  2018-11-05 00:00:00             Amway Center   \n",
       "CHI @ NYK 2018-11-05     6  2018-11-05 00:00:00    Madison Square Garden   \n",
       "NOP @ OKC 2018-11-05     7  2018-11-05 00:00:00  Chesapeake Energy Arena   \n",
       "BOS @ DEN 2018-11-05     8  2018-11-05 00:00:00             Pepsi Center   \n",
       "TOR @ UTA 2018-11-05     9  2018-11-05 00:00:00  Vivint Smart Home Arena   \n",
       "MEM @ GSW 2018-11-05    10  2018-11-05 00:00:00             ORACLE Arena   \n",
       "MIN @ LAC 2018-11-05    11  2018-11-05 00:00:00           Staples Center   \n",
       "\n",
       "                     team_home team_away DISTANCE_KM_home DISTANCE_KM_away  \\\n",
       "ORL @ SAS 2018-11-04       SAS       ORL                0          1663.41   \n",
       "MIN @ POR 2018-11-04       POR       MIN                0          2294.94   \n",
       "TOR @ LAL 2018-11-04       LAL       TOR          1329.52          3504.19   \n",
       "MIA @ DET 2018-11-05       DET       MIA          743.675          1897.09   \n",
       "HOU @ IND 2018-11-05       IND       HOU                0          1392.67   \n",
       "CLE @ ORL 2018-11-05       ORL       CLE          1663.41           1437.8   \n",
       "CHI @ NYK 2018-11-05       NYK       CHI          330.844          1151.12   \n",
       "NOP @ OKC 2018-11-05       OKC       NOP          1855.15          926.626   \n",
       "BOS @ DEN 2018-11-05       DEN       BOS                0          2849.26   \n",
       "TOR @ UTA 2018-11-05       UTA       TOR          597.057          2687.29   \n",
       "MEM @ GSW 2018-11-05       GSW       MEM                0          2882.97   \n",
       "MIN @ LAC 2018-11-05       LAC       MIN          3544.97          2453.72   \n",
       "\n",
       "                     DAYS_FROM_LAST_GAME_home DAYS_FROM_LAST_GAME_away  \\\n",
       "ORL @ SAS 2018-11-04                        1                        2   \n",
       "MIN @ POR 2018-11-04                        1                        2   \n",
       "TOR @ LAL 2018-11-04                        1                        2   \n",
       "MIA @ DET 2018-11-05                        2                        2   \n",
       "HOU @ IND 2018-11-05                        2                        2   \n",
       "CLE @ ORL 2018-11-05                        1                        2   \n",
       "CHI @ NYK 2018-11-05                        1                        2   \n",
       "NOP @ OKC 2018-11-05                        3                        2   \n",
       "BOS @ DEN 2018-11-05                        2                        2   \n",
       "TOR @ UTA 2018-11-05                        2                        3   \n",
       "MEM @ GSW 2018-11-05                        3                        1   \n",
       "MIN @ LAC 2018-11-05                        3                        3   \n",
       "\n",
       "                      FGM_home_L5              ...                \\\n",
       "ORL @ SAS 2018-11-04         42.4              ...                 \n",
       "MIN @ POR 2018-11-04         40.2              ...                 \n",
       "TOR @ LAL 2018-11-04         44.8              ...                 \n",
       "MIA @ DET 2018-11-05         36.6              ...                 \n",
       "HOU @ IND 2018-11-05         41.2              ...                 \n",
       "CLE @ ORL 2018-11-05         30.4              ...                 \n",
       "CHI @ NYK 2018-11-05         32.8              ...                 \n",
       "NOP @ OKC 2018-11-05         43.6              ...                 \n",
       "BOS @ DEN 2018-11-05         43.0              ...                 \n",
       "TOR @ UTA 2018-11-05         40.8              ...                 \n",
       "MEM @ GSW 2018-11-05         47.6              ...                 \n",
       "MIN @ LAC 2018-11-05         42.6              ...                 \n",
       "\n",
       "                      N_GAMES_AWAY_L4_days_away_L5_AWAY  \\\n",
       "ORL @ SAS 2018-11-04                                0.0   \n",
       "MIN @ POR 2018-11-04                                0.0   \n",
       "TOR @ LAL 2018-11-04                                0.0   \n",
       "MIA @ DET 2018-11-05                                0.0   \n",
       "HOU @ IND 2018-11-05                                0.0   \n",
       "CLE @ ORL 2018-11-05                                0.0   \n",
       "CHI @ NYK 2018-11-05                                0.0   \n",
       "NOP @ OKC 2018-11-05                                0.0   \n",
       "BOS @ DEN 2018-11-05                                0.0   \n",
       "TOR @ UTA 2018-11-05                                0.0   \n",
       "MEM @ GSW 2018-11-05                                0.0   \n",
       "MIN @ LAC 2018-11-05                                0.0   \n",
       "\n",
       "                      N_GAMES_AWAY_L6_days_away_L5_AWAY  \\\n",
       "ORL @ SAS 2018-11-04                                0.0   \n",
       "MIN @ POR 2018-11-04                                0.0   \n",
       "TOR @ LAL 2018-11-04                                0.0   \n",
       "MIA @ DET 2018-11-05                                0.0   \n",
       "HOU @ IND 2018-11-05                                0.0   \n",
       "CLE @ ORL 2018-11-05                                0.0   \n",
       "CHI @ NYK 2018-11-05                                0.0   \n",
       "NOP @ OKC 2018-11-05                                0.0   \n",
       "BOS @ DEN 2018-11-05                                0.0   \n",
       "TOR @ UTA 2018-11-05                                0.0   \n",
       "MEM @ GSW 2018-11-05                                0.0   \n",
       "MIN @ LAC 2018-11-05                                0.0   \n",
       "\n",
       "                      N_GAMES_AWAY_L8_days_away_L5_AWAY  \\\n",
       "ORL @ SAS 2018-11-04                                0.0   \n",
       "MIN @ POR 2018-11-04                                0.0   \n",
       "TOR @ LAL 2018-11-04                                0.0   \n",
       "MIA @ DET 2018-11-05                                0.0   \n",
       "HOU @ IND 2018-11-05                                0.0   \n",
       "CLE @ ORL 2018-11-05                                0.0   \n",
       "CHI @ NYK 2018-11-05                                0.0   \n",
       "NOP @ OKC 2018-11-05                                0.0   \n",
       "BOS @ DEN 2018-11-05                                0.0   \n",
       "TOR @ UTA 2018-11-05                                0.0   \n",
       "MEM @ GSW 2018-11-05                                0.0   \n",
       "MIN @ LAC 2018-11-05                                0.0   \n",
       "\n",
       "                      N_GAMES_AWAY_L10_days_away_L5_AWAY  \\\n",
       "ORL @ SAS 2018-11-04                                 0.0   \n",
       "MIN @ POR 2018-11-04                                 0.0   \n",
       "TOR @ LAL 2018-11-04                                 0.0   \n",
       "MIA @ DET 2018-11-05                                 0.0   \n",
       "HOU @ IND 2018-11-05                                 0.0   \n",
       "CLE @ ORL 2018-11-05                                 0.0   \n",
       "CHI @ NYK 2018-11-05                                 0.0   \n",
       "NOP @ OKC 2018-11-05                                 0.0   \n",
       "BOS @ DEN 2018-11-05                                 0.0   \n",
       "TOR @ UTA 2018-11-05                                 0.0   \n",
       "MEM @ GSW 2018-11-05                                 0.0   \n",
       "MIN @ LAC 2018-11-05                                 0.0   \n",
       "\n",
       "                      SUM_DIST_KM_away_L5_AWAY  AVG_DIST_KM_away_L5_AWAY  \\\n",
       "ORL @ SAS 2018-11-04               4890.564204               1630.188068   \n",
       "MIN @ POR 2018-11-04               6823.280027               1705.820007   \n",
       "TOR @ LAL 2018-11-04               4300.093938               1433.364646   \n",
       "MIA @ DET 2018-11-05               3834.028333                958.507083   \n",
       "HOU @ IND 2018-11-05               8224.335454               2056.083863   \n",
       "CLE @ ORL 2018-11-05               2206.627104                551.656776   \n",
       "CHI @ NYK 2018-11-05               4262.042310               1065.510578   \n",
       "NOP @ OKC 2018-11-05               9459.565630               1891.913126   \n",
       "BOS @ DEN 2018-11-05               5702.959074               1140.591815   \n",
       "TOR @ UTA 2018-11-05               4300.093938               1433.364646   \n",
       "MEM @ GSW 2018-11-05               9494.253731               1898.850746   \n",
       "MIN @ LAC 2018-11-05               6823.280027               1705.820007   \n",
       "\n",
       "                      BACK_TO_BACK_away_L5_AWAY  \\\n",
       "ORL @ SAS 2018-11-04                        0.0   \n",
       "MIN @ POR 2018-11-04                        0.0   \n",
       "TOR @ LAL 2018-11-04                        0.0   \n",
       "MIA @ DET 2018-11-05                        0.0   \n",
       "HOU @ IND 2018-11-05                        0.0   \n",
       "CLE @ ORL 2018-11-05                        0.0   \n",
       "CHI @ NYK 2018-11-05                        0.0   \n",
       "NOP @ OKC 2018-11-05                        0.0   \n",
       "BOS @ DEN 2018-11-05                        0.0   \n",
       "TOR @ UTA 2018-11-05                        0.0   \n",
       "MEM @ GSW 2018-11-05                        0.0   \n",
       "MIN @ LAC 2018-11-05                        0.0   \n",
       "\n",
       "                      AVG_DAYS_FROM_LG_away_L5_AWAY  \\\n",
       "ORL @ SAS 2018-11-04                       1.666667   \n",
       "MIN @ POR 2018-11-04                       0.000000   \n",
       "TOR @ LAL 2018-11-04                       2.333333   \n",
       "MIA @ DET 2018-11-05                       0.000000   \n",
       "HOU @ IND 2018-11-05                       2.000000   \n",
       "CLE @ ORL 2018-11-05                       0.000000   \n",
       "CHI @ NYK 2018-11-05                       0.000000   \n",
       "NOP @ OKC 2018-11-05                       0.000000   \n",
       "BOS @ DEN 2018-11-05                       2.200000   \n",
       "TOR @ UTA 2018-11-05                       2.333333   \n",
       "MEM @ GSW 2018-11-05                       0.000000   \n",
       "MIN @ LAC 2018-11-05                       0.000000   \n",
       "\n",
       "                      STD_DAYS_FROM_LG_away_L5_AWAY  \\\n",
       "ORL @ SAS 2018-11-04                       0.471405   \n",
       "MIN @ POR 2018-11-04                       0.000000   \n",
       "TOR @ LAL 2018-11-04                       0.942809   \n",
       "MIA @ DET 2018-11-05                       0.000000   \n",
       "HOU @ IND 2018-11-05                       1.000000   \n",
       "CLE @ ORL 2018-11-05                       0.000000   \n",
       "CHI @ NYK 2018-11-05                       0.000000   \n",
       "NOP @ OKC 2018-11-05                       0.000000   \n",
       "BOS @ DEN 2018-11-05                       0.748331   \n",
       "TOR @ UTA 2018-11-05                       0.942809   \n",
       "MEM @ GSW 2018-11-05                       0.000000   \n",
       "MIN @ LAC 2018-11-05                       0.000000   \n",
       "\n",
       "                      MIN_DAYS_FROM_LG_away_L5_AWAY  \n",
       "ORL @ SAS 2018-11-04                            1.0  \n",
       "MIN @ POR 2018-11-04                            0.0  \n",
       "TOR @ LAL 2018-11-04                            1.0  \n",
       "MIA @ DET 2018-11-05                            0.0  \n",
       "HOU @ IND 2018-11-05                            1.0  \n",
       "CLE @ ORL 2018-11-05                            0.0  \n",
       "CHI @ NYK 2018-11-05                            0.0  \n",
       "NOP @ OKC 2018-11-05                            0.0  \n",
       "BOS @ DEN 2018-11-05                            1.0  \n",
       "TOR @ UTA 2018-11-05                            1.0  \n",
       "MEM @ GSW 2018-11-05                            0.0  \n",
       "MIN @ LAC 2018-11-05                            0.0  \n",
       "\n",
       "[12 rows x 849 columns]"
      ]
     },
     "execution_count": 95,
     "metadata": {},
     "output_type": "execute_result"
    }
   ],
   "source": [
    "to_predict"
   ]
  },
  {
   "cell_type": "code",
   "execution_count": 96,
   "metadata": {
    "ExecuteTime": {
     "end_time": "2018-11-05T01:00:58.690598Z",
     "start_time": "2018-11-05T01:00:57.901679Z"
    }
   },
   "outputs": [
    {
     "name": "stdout",
     "output_type": "stream",
     "text": [
      "5 PTS                                           \r"
     ]
    }
   ],
   "source": [
    "to_predict = data_prep_functions.variaveis_delta(to_predict)"
   ]
  },
  {
   "cell_type": "code",
   "execution_count": 97,
   "metadata": {
    "ExecuteTime": {
     "end_time": "2018-11-05T01:01:18.965367Z",
     "start_time": "2018-11-05T01:01:18.732500Z"
    }
   },
   "outputs": [
    {
     "data": {
      "text/html": [
       "<div>\n",
       "<style scoped>\n",
       "    .dataframe tbody tr th:only-of-type {\n",
       "        vertical-align: middle;\n",
       "    }\n",
       "\n",
       "    .dataframe tbody tr th {\n",
       "        vertical-align: top;\n",
       "    }\n",
       "\n",
       "    .dataframe thead th {\n",
       "        text-align: right;\n",
       "    }\n",
       "</style>\n",
       "<table border=\"1\" class=\"dataframe\">\n",
       "  <thead>\n",
       "    <tr style=\"text-align: right;\">\n",
       "      <th></th>\n",
       "      <th>D2_PLUS_MINUS_L5</th>\n",
       "      <th>D1_WIN_PCT_L5</th>\n",
       "    </tr>\n",
       "  </thead>\n",
       "  <tbody>\n",
       "    <tr>\n",
       "      <th>ORL @ SAS 2018-11-04</th>\n",
       "      <td>5.4</td>\n",
       "      <td>0.6</td>\n",
       "    </tr>\n",
       "    <tr>\n",
       "      <th>MIN @ POR 2018-11-04</th>\n",
       "      <td>12.4</td>\n",
       "      <td>0.2</td>\n",
       "    </tr>\n",
       "    <tr>\n",
       "      <th>TOR @ LAL 2018-11-04</th>\n",
       "      <td>0.0</td>\n",
       "      <td>-0.2</td>\n",
       "    </tr>\n",
       "    <tr>\n",
       "      <th>MIA @ DET 2018-11-05</th>\n",
       "      <td>2.0</td>\n",
       "      <td>-0.2</td>\n",
       "    </tr>\n",
       "    <tr>\n",
       "      <th>HOU @ IND 2018-11-05</th>\n",
       "      <td>3.4</td>\n",
       "      <td>0.4</td>\n",
       "    </tr>\n",
       "    <tr>\n",
       "      <th>CLE @ ORL 2018-11-05</th>\n",
       "      <td>-3.4</td>\n",
       "      <td>0.0</td>\n",
       "    </tr>\n",
       "    <tr>\n",
       "      <th>CHI @ NYK 2018-11-05</th>\n",
       "      <td>8.8</td>\n",
       "      <td>0.4</td>\n",
       "    </tr>\n",
       "    <tr>\n",
       "      <th>NOP @ OKC 2018-11-05</th>\n",
       "      <td>6.2</td>\n",
       "      <td>0.8</td>\n",
       "    </tr>\n",
       "    <tr>\n",
       "      <th>BOS @ DEN 2018-11-05</th>\n",
       "      <td>9.8</td>\n",
       "      <td>0.0</td>\n",
       "    </tr>\n",
       "    <tr>\n",
       "      <th>TOR @ UTA 2018-11-05</th>\n",
       "      <td>-3.4</td>\n",
       "      <td>-0.4</td>\n",
       "    </tr>\n",
       "    <tr>\n",
       "      <th>MEM @ GSW 2018-11-05</th>\n",
       "      <td>18.4</td>\n",
       "      <td>0.2</td>\n",
       "    </tr>\n",
       "    <tr>\n",
       "      <th>MIN @ LAC 2018-11-05</th>\n",
       "      <td>14.8</td>\n",
       "      <td>0.2</td>\n",
       "    </tr>\n",
       "  </tbody>\n",
       "</table>\n",
       "</div>"
      ],
      "text/plain": [
       "                      D2_PLUS_MINUS_L5  D1_WIN_PCT_L5\n",
       "ORL @ SAS 2018-11-04               5.4            0.6\n",
       "MIN @ POR 2018-11-04              12.4            0.2\n",
       "TOR @ LAL 2018-11-04               0.0           -0.2\n",
       "MIA @ DET 2018-11-05               2.0           -0.2\n",
       "HOU @ IND 2018-11-05               3.4            0.4\n",
       "CLE @ ORL 2018-11-05              -3.4            0.0\n",
       "CHI @ NYK 2018-11-05               8.8            0.4\n",
       "NOP @ OKC 2018-11-05               6.2            0.8\n",
       "BOS @ DEN 2018-11-05               9.8            0.0\n",
       "TOR @ UTA 2018-11-05              -3.4           -0.4\n",
       "MEM @ GSW 2018-11-05              18.4            0.2\n",
       "MIN @ LAC 2018-11-05              14.8            0.2"
      ]
     },
     "execution_count": 97,
     "metadata": {},
     "output_type": "execute_result"
    }
   ],
   "source": [
    "to_predict[['D2_PLUS_MINUS_L5', 'D1_WIN_PCT_L5']]"
   ]
  }
 ],
 "metadata": {
  "kernelspec": {
   "display_name": "Python 3",
   "language": "python",
   "name": "python3"
  },
  "language_info": {
   "codemirror_mode": {
    "name": "ipython",
    "version": 3
   },
   "file_extension": ".py",
   "mimetype": "text/x-python",
   "name": "python",
   "nbconvert_exporter": "python",
   "pygments_lexer": "ipython3",
   "version": "3.6.3"
  },
  "toc": {
   "base_numbering": 1,
   "nav_menu": {},
   "number_sections": true,
   "sideBar": true,
   "skip_h1_title": false,
   "title_cell": "Table of Contents",
   "title_sidebar": "Contents",
   "toc_cell": false,
   "toc_position": {},
   "toc_section_display": true,
   "toc_window_display": false
  },
  "varInspector": {
   "cols": {
    "lenName": 16,
    "lenType": 16,
    "lenVar": 40
   },
   "kernels_config": {
    "python": {
     "delete_cmd_postfix": "",
     "delete_cmd_prefix": "del ",
     "library": "var_list.py",
     "varRefreshCmd": "print(var_dic_list())"
    },
    "r": {
     "delete_cmd_postfix": ") ",
     "delete_cmd_prefix": "rm(",
     "library": "var_list.r",
     "varRefreshCmd": "cat(var_dic_list()) "
    }
   },
   "types_to_exclude": [
    "module",
    "function",
    "builtin_function_or_method",
    "instance",
    "_Feature"
   ],
   "window_display": false
  }
 },
 "nbformat": 4,
 "nbformat_minor": 2
}
