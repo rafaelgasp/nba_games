{
 "cells": [
  {
   "cell_type": "code",
   "execution_count": 1,
   "metadata": {
    "ExecuteTime": {
     "end_time": "2018-11-01T04:20:05.807793Z",
     "start_time": "2018-11-01T04:19:50.167383Z"
    },
    "collapsed": true
   },
   "outputs": [],
   "source": [
    "import pandas as pd\n",
    "import numpy as np\n",
    "from datetime import datetime, timedelta\n",
    "import geopy.distance\n",
    "import gc\n",
    "import warnings\n",
    "warnings.filterwarnings(\"ignore\")\n",
    "\n",
    "%load_ext autoreload\n",
    "%autoreload 2\n",
    "\n",
    "import data_prep_functions\n",
    "import request_api_nba_stats"
   ]
  },
  {
   "cell_type": "code",
   "execution_count": 2,
   "metadata": {
    "ExecuteTime": {
     "end_time": "2018-11-01T04:20:17.052319Z",
     "start_time": "2018-11-01T04:20:15.600410Z"
    },
    "collapsed": true
   },
   "outputs": [],
   "source": [
    "base_ini = pd.read_csv(\"../bases_nba_stats/aux_files/base_nba_per_game_16_17.csv\")"
   ]
  },
  {
   "cell_type": "code",
   "execution_count": 3,
   "metadata": {
    "ExecuteTime": {
     "end_time": "2018-11-01T04:20:18.195196Z",
     "start_time": "2018-11-01T04:20:17.518438Z"
    },
    "collapsed": true
   },
   "outputs": [],
   "source": [
    "all_games_16_17 = data_prep_functions.prepara_base(base_ini)"
   ]
  },
  {
   "cell_type": "code",
   "execution_count": 4,
   "metadata": {
    "ExecuteTime": {
     "end_time": "2018-11-01T04:20:33.992031Z",
     "start_time": "2018-11-01T04:20:18.616397Z"
    },
    "collapsed": true
   },
   "outputs": [],
   "source": [
    "all_games_16_17 = data_prep_functions.cria_features(all_games_16_17)"
   ]
  },
  {
   "cell_type": "code",
   "execution_count": 5,
   "metadata": {
    "ExecuteTime": {
     "end_time": "2018-11-01T04:33:10.835930Z",
     "start_time": "2018-11-01T04:20:33.994028Z"
    }
   },
   "outputs": [
    {
     "name": "stdout",
     "output_type": "stream",
     "text": [
      "NOP @ POR 2017-04-12 5\r"
     ]
    }
   ],
   "source": [
    "geral_16_17 = data_prep_functions.gera_last_N_games(all_games_16_17)"
   ]
  },
  {
   "cell_type": "code",
   "execution_count": 6,
   "metadata": {
    "ExecuteTime": {
     "end_time": "2018-11-01T04:33:11.064815Z",
     "start_time": "2018-11-01T04:33:10.838926Z"
    }
   },
   "outputs": [
    {
     "data": {
      "text/html": [
       "<div>\n",
       "<style scoped>\n",
       "    .dataframe tbody tr th:only-of-type {\n",
       "        vertical-align: middle;\n",
       "    }\n",
       "\n",
       "    .dataframe tbody tr th {\n",
       "        vertical-align: top;\n",
       "    }\n",
       "\n",
       "    .dataframe thead th {\n",
       "        text-align: right;\n",
       "    }\n",
       "</style>\n",
       "<table border=\"1\" class=\"dataframe\">\n",
       "  <thead>\n",
       "    <tr style=\"text-align: right;\">\n",
       "      <th></th>\n",
       "      <th>team_home</th>\n",
       "      <th>team_away</th>\n",
       "      <th>PTS_home</th>\n",
       "      <th>PTS_away</th>\n",
       "      <th>FGA_home</th>\n",
       "      <th>FGA_away</th>\n",
       "      <th>fl_home_win</th>\n",
       "    </tr>\n",
       "    <tr>\n",
       "      <th>GAME</th>\n",
       "      <th></th>\n",
       "      <th></th>\n",
       "      <th></th>\n",
       "      <th></th>\n",
       "      <th></th>\n",
       "      <th></th>\n",
       "      <th></th>\n",
       "    </tr>\n",
       "  </thead>\n",
       "  <tbody>\n",
       "    <tr>\n",
       "      <th>IND @ CLE 2017-04-02</th>\n",
       "      <td>CLE</td>\n",
       "      <td>IND</td>\n",
       "      <td>135</td>\n",
       "      <td>130</td>\n",
       "      <td>95</td>\n",
       "      <td>105</td>\n",
       "      <td>1</td>\n",
       "    </tr>\n",
       "    <tr>\n",
       "      <th>TOR @ IND 2017-04-04</th>\n",
       "      <td>IND</td>\n",
       "      <td>TOR</td>\n",
       "      <td>108</td>\n",
       "      <td>90</td>\n",
       "      <td>89</td>\n",
       "      <td>76</td>\n",
       "      <td>1</td>\n",
       "    </tr>\n",
       "    <tr>\n",
       "      <th>MIL @ IND 2017-04-06</th>\n",
       "      <td>IND</td>\n",
       "      <td>MIL</td>\n",
       "      <td>104</td>\n",
       "      <td>89</td>\n",
       "      <td>80</td>\n",
       "      <td>71</td>\n",
       "      <td>1</td>\n",
       "    </tr>\n",
       "    <tr>\n",
       "      <th>IND @ ORL 2017-04-08</th>\n",
       "      <td>ORL</td>\n",
       "      <td>IND</td>\n",
       "      <td>112</td>\n",
       "      <td>127</td>\n",
       "      <td>84</td>\n",
       "      <td>86</td>\n",
       "      <td>0</td>\n",
       "    </tr>\n",
       "    <tr>\n",
       "      <th>IND @ PHI 2017-04-10</th>\n",
       "      <td>PHI</td>\n",
       "      <td>IND</td>\n",
       "      <td>111</td>\n",
       "      <td>120</td>\n",
       "      <td>75</td>\n",
       "      <td>85</td>\n",
       "      <td>0</td>\n",
       "    </tr>\n",
       "  </tbody>\n",
       "</table>\n",
       "</div>"
      ],
      "text/plain": [
       "                     team_home team_away  PTS_home  PTS_away  FGA_home  \\\n",
       "GAME                                                                     \n",
       "IND @ CLE 2017-04-02       CLE       IND       135       130        95   \n",
       "TOR @ IND 2017-04-04       IND       TOR       108        90        89   \n",
       "MIL @ IND 2017-04-06       IND       MIL       104        89        80   \n",
       "IND @ ORL 2017-04-08       ORL       IND       112       127        84   \n",
       "IND @ PHI 2017-04-10       PHI       IND       111       120        75   \n",
       "\n",
       "                      FGA_away  fl_home_win  \n",
       "GAME                                         \n",
       "IND @ CLE 2017-04-02       105            1  \n",
       "TOR @ IND 2017-04-04        76            1  \n",
       "MIL @ IND 2017-04-06        71            1  \n",
       "IND @ ORL 2017-04-08        86            0  \n",
       "IND @ PHI 2017-04-10        85            0  "
      ]
     },
     "execution_count": 6,
     "metadata": {},
     "output_type": "execute_result"
    }
   ],
   "source": [
    "data_prep_functions.get_last_games(all_games_16_17, \n",
    "                                   geral_16_17[geral_16_17.TEAM_NAME_home == \"Pacers\"].tail(1).DATE.iloc[0]\n",
    "                                   , \"IND\")[[\"team_home\", \"team_away\", \"PTS_home\", \"PTS_away\", \n",
    "                                             \"FGA_home\", \"FGA_away\", \"fl_home_win\"]]"
   ]
  },
  {
   "cell_type": "code",
   "execution_count": 7,
   "metadata": {
    "ExecuteTime": {
     "end_time": "2018-11-01T04:33:11.248692Z",
     "start_time": "2018-11-01T04:33:11.066795Z"
    }
   },
   "outputs": [
    {
     "data": {
      "text/plain": [
       "ATL @ IND 2017-04-12    89.0\n",
       "Name: FGA_home_L5, dtype: float64"
      ]
     },
     "execution_count": 7,
     "metadata": {},
     "output_type": "execute_result"
    }
   ],
   "source": [
    "geral_16_17[geral_16_17.TEAM_NAME_home == \"Pacers\"].tail(1)[\"FGA_home_L5\"]"
   ]
  },
  {
   "cell_type": "code",
   "execution_count": 8,
   "metadata": {
    "ExecuteTime": {
     "end_time": "2018-11-01T04:33:11.989268Z",
     "start_time": "2018-11-01T04:33:11.251690Z"
    }
   },
   "outputs": [
    {
     "name": "stdout",
     "output_type": "stream",
     "text": [
      "5 AVG_DAYS_FROM_LG                              \r"
     ]
    }
   ],
   "source": [
    "cross_16_17 = data_prep_functions.variaveis_delta(geral_16_17)"
   ]
  },
  {
   "cell_type": "code",
   "execution_count": 9,
   "metadata": {
    "ExecuteTime": {
     "end_time": "2018-11-01T04:33:16.585032Z",
     "start_time": "2018-11-01T04:33:11.991267Z"
    },
    "collapsed": true
   },
   "outputs": [],
   "source": [
    "cross_16_17.to_csv(\"../bases_nba_stats/delta_cross_L5_nba_16_17.csv\")"
   ]
  },
  {
   "cell_type": "code",
   "execution_count": 11,
   "metadata": {
    "ExecuteTime": {
     "end_time": "2018-11-01T04:43:37.894068Z",
     "start_time": "2018-11-01T04:43:37.715160Z"
    }
   },
   "outputs": [
    {
     "data": {
      "text/plain": [
       "0.583739837398374"
      ]
     },
     "execution_count": 11,
     "metadata": {},
     "output_type": "execute_result"
    }
   ],
   "source": [
    "cross_16_17.fl_home_win.mean()"
   ]
  },
  {
   "cell_type": "code",
   "execution_count": 115,
   "metadata": {
    "ExecuteTime": {
     "end_time": "2018-10-28T22:39:27.037853Z",
     "start_time": "2018-10-28T22:39:25.080514Z"
    }
   },
   "outputs": [
    {
     "data": {
      "text/plain": [
       "datetime.datetime(2018, 11, 23, 0, 0)"
      ]
     },
     "execution_count": 115,
     "metadata": {},
     "output_type": "execute_result"
    }
   ],
   "source": [
    "datetime.strptime(str(get_date_place(\"0021800270\", year = \"2018\")[0]), '%Y-%m-%d')"
   ]
  },
  {
   "cell_type": "code",
   "execution_count": 8,
   "metadata": {
    "ExecuteTime": {
     "end_time": "2018-10-25T21:12:07.658953Z",
     "start_time": "2018-10-25T21:11:36.777369Z"
    },
    "scrolled": true
   },
   "outputs": [
    {
     "name": "stdout",
     "output_type": "stream",
     "text": [
      "('0021800063', '2018-10-25')\r"
     ]
    }
   ],
   "source": [
    "games_ids = get_list_gameids_until() "
   ]
  },
  {
   "cell_type": "code",
   "execution_count": null,
   "metadata": {
    "collapsed": true,
    "scrolled": true
   },
   "outputs": [],
   "source": [
    "df_full, df_full_jogo, erros = get_nba_stats_data(games_ids)"
   ]
  },
  {
   "cell_type": "code",
   "execution_count": 36,
   "metadata": {
    "ExecuteTime": {
     "end_time": "2018-10-25T23:22:00.160494Z",
     "start_time": "2018-10-25T23:21:59.894358Z"
    },
    "collapsed": true
   },
   "outputs": [],
   "source": [
    "base_nba_2018 = pd.concat(df_full_jogo).reset_index()"
   ]
  },
  {
   "cell_type": "code",
   "execution_count": 37,
   "metadata": {
    "ExecuteTime": {
     "end_time": "2018-10-25T23:22:00.856540Z",
     "start_time": "2018-10-25T23:22:00.814562Z"
    },
    "collapsed": true
   },
   "outputs": [],
   "source": [
    "base_nba_2018.to_csv(\"base_nba_2018_raw.csv\")"
   ]
  },
  {
   "cell_type": "code",
   "execution_count": 38,
   "metadata": {
    "ExecuteTime": {
     "end_time": "2018-10-25T23:22:04.114789Z",
     "start_time": "2018-10-25T23:22:03.462638Z"
    },
    "collapsed": true
   },
   "outputs": [],
   "source": [
    "all_games = data_prep_functions.prepara_base(base_nba_2018)"
   ]
  },
  {
   "cell_type": "code",
   "execution_count": 41,
   "metadata": {
    "ExecuteTime": {
     "end_time": "2018-10-25T23:22:34.299759Z",
     "start_time": "2018-10-25T23:22:33.280527Z"
    },
    "collapsed": true
   },
   "outputs": [],
   "source": [
    "data_prep_functions.cria_features(all_games)"
   ]
  },
  {
   "cell_type": "code",
   "execution_count": 43,
   "metadata": {
    "ExecuteTime": {
     "end_time": "2018-10-25T23:23:25.561486Z",
     "start_time": "2018-10-25T23:22:51.972133Z"
    }
   },
   "outputs": [
    {
     "name": "stdout",
     "output_type": "stream",
     "text": [
      "WAS @ GSW 2018-10-24 5\r"
     ]
    }
   ],
   "source": [
    "resp = data_prep_functions.gera_last_N_games(all_games, N=[5])"
   ]
  },
  {
   "cell_type": "code",
   "execution_count": 46,
   "metadata": {
    "ExecuteTime": {
     "end_time": "2018-10-25T23:25:31.467395Z",
     "start_time": "2018-10-25T23:25:30.958341Z"
    }
   },
   "outputs": [
    {
     "name": "stdout",
     "output_type": "stream",
     "text": [
      "5 CFGM                                          \r"
     ]
    }
   ],
   "source": [
    "delta_L5_2018 = data_prep_functions.variaveis_delta(resp)"
   ]
  },
  {
   "cell_type": "code",
   "execution_count": 62,
   "metadata": {
    "ExecuteTime": {
     "end_time": "2018-10-25T23:34:34.130124Z",
     "start_time": "2018-10-25T23:34:34.021071Z"
    },
    "collapsed": true
   },
   "outputs": [],
   "source": [
    "delta_L5_2018.to_csv(\"delta_cross_L5_nba_18_19.csv\")"
   ]
  },
  {
   "cell_type": "markdown",
   "metadata": {},
   "source": [
    "### Fluxo Predição no Dia"
   ]
  },
  {
   "cell_type": "code",
   "execution_count": 53,
   "metadata": {
    "ExecuteTime": {
     "end_time": "2018-10-25T23:30:36.007056Z",
     "start_time": "2018-10-25T23:30:34.274366Z"
    }
   },
   "outputs": [
    {
     "name": "stdout",
     "output_type": "stream",
     "text": [
      "('0021800067', '2018-10-26')\r"
     ]
    }
   ],
   "source": [
    "new_games = get_list_gameids(max_date = datetime.today(), year = '2018', start_at=len(all_games))"
   ]
  },
  {
   "cell_type": "code",
   "execution_count": 54,
   "metadata": {
    "ExecuteTime": {
     "end_time": "2018-10-25T23:31:55.561363Z",
     "start_time": "2018-10-25T23:31:23.528581Z"
    }
   },
   "outputs": [
    {
     "name": "stdout",
     "output_type": "stream",
     "text": [
      "2018\n",
      "Length mismatch: Expected axis has 0 elements, new values have 28 elements\n",
      "Length mismatch: Expected axis has 0 elements, new values have 28 elements\n"
     ]
    }
   ],
   "source": [
    "df_full, df_full_jogo, erros = get_nba_stats_data(new_games)"
   ]
  },
  {
   "cell_type": "code",
   "execution_count": 96,
   "metadata": {
    "ExecuteTime": {
     "end_time": "2018-10-26T00:56:44.873723Z",
     "start_time": "2018-10-26T00:56:44.715770Z"
    },
    "collapsed": true
   },
   "outputs": [],
   "source": [
    "new_games = pd.concat(df_full_jogo).reset_index()"
   ]
  },
  {
   "cell_type": "code",
   "execution_count": 97,
   "metadata": {
    "ExecuteTime": {
     "end_time": "2018-10-26T00:56:45.287748Z",
     "start_time": "2018-10-26T00:56:45.108849Z"
    },
    "collapsed": true
   },
   "outputs": [],
   "source": [
    "new_games = data_prep_functions.prepara_base(new_games).reset_index()"
   ]
  },
  {
   "cell_type": "code",
   "execution_count": 108,
   "metadata": {
    "ExecuteTime": {
     "end_time": "2018-10-26T01:00:33.665659Z",
     "start_time": "2018-10-26T01:00:33.511478Z"
    }
   },
   "outputs": [
    {
     "data": {
      "text/html": [
       "<div>\n",
       "<style scoped>\n",
       "    .dataframe tbody tr th:only-of-type {\n",
       "        vertical-align: middle;\n",
       "    }\n",
       "\n",
       "    .dataframe tbody tr th {\n",
       "        vertical-align: top;\n",
       "    }\n",
       "\n",
       "    .dataframe thead th {\n",
       "        text-align: right;\n",
       "    }\n",
       "</style>\n",
       "<table border=\"1\" class=\"dataframe\">\n",
       "  <thead>\n",
       "    <tr style=\"text-align: right;\">\n",
       "      <th></th>\n",
       "      <th>GAME</th>\n",
       "      <th>GAME_ID_home</th>\n",
       "      <th>TEAM_ID_home</th>\n",
       "      <th>TEAM_NAME_home</th>\n",
       "      <th>team_home</th>\n",
       "      <th>TEAM_CITY_home</th>\n",
       "      <th>FGM_home</th>\n",
       "      <th>FGA_home</th>\n",
       "      <th>FG_PCT_home</th>\n",
       "      <th>FG3M_home</th>\n",
       "      <th>...</th>\n",
       "      <th>DATE</th>\n",
       "      <th>SEASON</th>\n",
       "      <th>fl_playoff</th>\n",
       "      <th>fl_home_win</th>\n",
       "      <th>team_home_game_num</th>\n",
       "      <th>team_away_game_num</th>\n",
       "      <th>DISTANCE_KM_home</th>\n",
       "      <th>DISTANCE_KM_away</th>\n",
       "      <th>DAYS_FROM_LAST_GAME_home</th>\n",
       "      <th>DAYS_FROM_LAST_GAME_away</th>\n",
       "    </tr>\n",
       "  </thead>\n",
       "  <tbody>\n",
       "    <tr>\n",
       "      <th>0</th>\n",
       "      <td>WAS @ GSW 2018-10-24</td>\n",
       "      <td>0021800062</td>\n",
       "      <td>1610612744</td>\n",
       "      <td>Warriors</td>\n",
       "      <td>GSW</td>\n",
       "      <td>Golden State</td>\n",
       "      <td>53</td>\n",
       "      <td>92</td>\n",
       "      <td>0.576</td>\n",
       "      <td>15</td>\n",
       "      <td>...</td>\n",
       "      <td>2018-10-24</td>\n",
       "      <td>2019</td>\n",
       "      <td>0</td>\n",
       "      <td>1</td>\n",
       "      <td>1</td>\n",
       "      <td>1</td>\n",
       "      <td>0.000000</td>\n",
       "      <td>3912.001793</td>\n",
       "      <td>2</td>\n",
       "      <td>2</td>\n",
       "    </tr>\n",
       "    <tr>\n",
       "      <th>1</th>\n",
       "      <td>CLE @ DET 2018-10-25</td>\n",
       "      <td>0021800063</td>\n",
       "      <td>1610612765</td>\n",
       "      <td>Pistons</td>\n",
       "      <td>DET</td>\n",
       "      <td>Detroit</td>\n",
       "      <td>None</td>\n",
       "      <td>None</td>\n",
       "      <td>None</td>\n",
       "      <td>None</td>\n",
       "      <td>...</td>\n",
       "      <td>2018-10-25</td>\n",
       "      <td>2019</td>\n",
       "      <td>0</td>\n",
       "      <td>0</td>\n",
       "      <td>1</td>\n",
       "      <td>1</td>\n",
       "      <td>0.000000</td>\n",
       "      <td>185.392825</td>\n",
       "      <td>2</td>\n",
       "      <td>1</td>\n",
       "    </tr>\n",
       "    <tr>\n",
       "      <th>2</th>\n",
       "      <td>POR @ ORL 2018-10-25</td>\n",
       "      <td>0021800064</td>\n",
       "      <td>1610612753</td>\n",
       "      <td>Magic</td>\n",
       "      <td>ORL</td>\n",
       "      <td>Orlando</td>\n",
       "      <td>None</td>\n",
       "      <td>None</td>\n",
       "      <td>None</td>\n",
       "      <td>None</td>\n",
       "      <td>...</td>\n",
       "      <td>2018-10-25</td>\n",
       "      <td>2019</td>\n",
       "      <td>0</td>\n",
       "      <td>0</td>\n",
       "      <td>1</td>\n",
       "      <td>1</td>\n",
       "      <td>1794.410551</td>\n",
       "      <td>4069.325464</td>\n",
       "      <td>3</td>\n",
       "      <td>3</td>\n",
       "    </tr>\n",
       "  </tbody>\n",
       "</table>\n",
       "<p>3 rows × 276 columns</p>\n",
       "</div>"
      ],
      "text/plain": [
       "                   GAME GAME_ID_home  TEAM_ID_home TEAM_NAME_home team_home  \\\n",
       "0  WAS @ GSW 2018-10-24   0021800062    1610612744       Warriors       GSW   \n",
       "1  CLE @ DET 2018-10-25   0021800063    1610612765        Pistons       DET   \n",
       "2  POR @ ORL 2018-10-25   0021800064    1610612753          Magic       ORL   \n",
       "\n",
       "  TEAM_CITY_home FGM_home FGA_home FG_PCT_home FG3M_home  \\\n",
       "0   Golden State       53       92       0.576        15   \n",
       "1        Detroit     None     None        None      None   \n",
       "2        Orlando     None     None        None      None   \n",
       "\n",
       "            ...                  DATE SEASON fl_playoff fl_home_win  \\\n",
       "0           ...            2018-10-24   2019          0           1   \n",
       "1           ...            2018-10-25   2019          0           0   \n",
       "2           ...            2018-10-25   2019          0           0   \n",
       "\n",
       "  team_home_game_num team_away_game_num DISTANCE_KM_home DISTANCE_KM_away  \\\n",
       "0                  1                  1         0.000000      3912.001793   \n",
       "1                  1                  1         0.000000       185.392825   \n",
       "2                  1                  1      1794.410551      4069.325464   \n",
       "\n",
       "  DAYS_FROM_LAST_GAME_home DAYS_FROM_LAST_GAME_away  \n",
       "0                        2                        2  \n",
       "1                        2                        1  \n",
       "2                        3                        3  \n",
       "\n",
       "[3 rows x 276 columns]"
      ]
     },
     "execution_count": 108,
     "metadata": {},
     "output_type": "execute_result"
    }
   ],
   "source": [
    "new_games"
   ]
  },
  {
   "cell_type": "code",
   "execution_count": 107,
   "metadata": {
    "ExecuteTime": {
     "end_time": "2018-10-26T01:00:29.412591Z",
     "start_time": "2018-10-26T01:00:29.231857Z"
    },
    "collapsed": true
   },
   "outputs": [],
   "source": [
    "new_games = data_prep_functions.cria_features(new_games, all_games)"
   ]
  },
  {
   "cell_type": "code",
   "execution_count": 110,
   "metadata": {
    "ExecuteTime": {
     "end_time": "2018-10-26T01:02:52.133742Z",
     "start_time": "2018-10-26T01:02:50.149368Z"
    }
   },
   "outputs": [
    {
     "name": "stdout",
     "output_type": "stream",
     "text": [
      "POR @ ORL 2018-10-25 5\r"
     ]
    }
   ],
   "source": [
    "to_predict = data_prep_functions.gera_last_N_games(new_games, all_games)"
   ]
  },
  {
   "cell_type": "code",
   "execution_count": 111,
   "metadata": {
    "ExecuteTime": {
     "end_time": "2018-10-26T01:02:57.333068Z",
     "start_time": "2018-10-26T01:02:56.789378Z"
    }
   },
   "outputs": [
    {
     "name": "stdout",
     "output_type": "stream",
     "text": [
      "5 CFGM                                          \r"
     ]
    }
   ],
   "source": [
    "to_predict = data_prep_functions.variaveis_delta(to_predict)"
   ]
  },
  {
   "cell_type": "code",
   "execution_count": 112,
   "metadata": {
    "ExecuteTime": {
     "end_time": "2018-10-26T01:02:59.537446Z",
     "start_time": "2018-10-26T01:02:59.378522Z"
    }
   },
   "outputs": [
    {
     "data": {
      "text/html": [
       "<div>\n",
       "<style scoped>\n",
       "    .dataframe tbody tr th:only-of-type {\n",
       "        vertical-align: middle;\n",
       "    }\n",
       "\n",
       "    .dataframe tbody tr th {\n",
       "        vertical-align: top;\n",
       "    }\n",
       "\n",
       "    .dataframe thead th {\n",
       "        text-align: right;\n",
       "    }\n",
       "</style>\n",
       "<table border=\"1\" class=\"dataframe\">\n",
       "  <thead>\n",
       "    <tr style=\"text-align: right;\">\n",
       "      <th></th>\n",
       "      <th>D2_PFD_L5</th>\n",
       "      <th>D2_NET_RATING_L5</th>\n",
       "      <th>D2_EFG_PCT_L5</th>\n",
       "      <th>C1_TO_L5</th>\n",
       "    </tr>\n",
       "  </thead>\n",
       "  <tbody>\n",
       "    <tr>\n",
       "      <th>WAS @ GSW 2018-10-24</th>\n",
       "      <td>4.0</td>\n",
       "      <td>5.26</td>\n",
       "      <td>0.1168</td>\n",
       "      <td>4.8</td>\n",
       "    </tr>\n",
       "    <tr>\n",
       "      <th>CLE @ DET 2018-10-25</th>\n",
       "      <td>-0.6</td>\n",
       "      <td>4.88</td>\n",
       "      <td>0.0034</td>\n",
       "      <td>-4.8</td>\n",
       "    </tr>\n",
       "    <tr>\n",
       "      <th>POR @ ORL 2018-10-25</th>\n",
       "      <td>9.0</td>\n",
       "      <td>-5.36</td>\n",
       "      <td>0.1734</td>\n",
       "      <td>1.2</td>\n",
       "    </tr>\n",
       "  </tbody>\n",
       "</table>\n",
       "</div>"
      ],
      "text/plain": [
       "                      D2_PFD_L5  D2_NET_RATING_L5  D2_EFG_PCT_L5 C1_TO_L5\n",
       "WAS @ GSW 2018-10-24        4.0              5.26         0.1168      4.8\n",
       "CLE @ DET 2018-10-25       -0.6              4.88         0.0034     -4.8\n",
       "POR @ ORL 2018-10-25        9.0             -5.36         0.1734      1.2"
      ]
     },
     "execution_count": 112,
     "metadata": {},
     "output_type": "execute_result"
    }
   ],
   "source": [
    "to_predict[['D2_PFD_L5', 'D2_NET_RATING_L5', 'D2_EFG_PCT_L5', 'C1_TO_L5']]"
   ]
  }
 ],
 "metadata": {
  "kernelspec": {
   "display_name": "Python 3",
   "language": "python",
   "name": "python3"
  },
  "language_info": {
   "codemirror_mode": {
    "name": "ipython",
    "version": 3
   },
   "file_extension": ".py",
   "mimetype": "text/x-python",
   "name": "python",
   "nbconvert_exporter": "python",
   "pygments_lexer": "ipython3",
   "version": "3.6.3"
  },
  "toc": {
   "base_numbering": 1,
   "nav_menu": {},
   "number_sections": true,
   "sideBar": true,
   "skip_h1_title": false,
   "title_cell": "Table of Contents",
   "title_sidebar": "Contents",
   "toc_cell": false,
   "toc_position": {},
   "toc_section_display": true,
   "toc_window_display": false
  },
  "varInspector": {
   "cols": {
    "lenName": 16,
    "lenType": 16,
    "lenVar": 40
   },
   "kernels_config": {
    "python": {
     "delete_cmd_postfix": "",
     "delete_cmd_prefix": "del ",
     "library": "var_list.py",
     "varRefreshCmd": "print(var_dic_list())"
    },
    "r": {
     "delete_cmd_postfix": ") ",
     "delete_cmd_prefix": "rm(",
     "library": "var_list.r",
     "varRefreshCmd": "cat(var_dic_list()) "
    }
   },
   "types_to_exclude": [
    "module",
    "function",
    "builtin_function_or_method",
    "instance",
    "_Feature"
   ],
   "window_display": false
  }
 },
 "nbformat": 4,
 "nbformat_minor": 2
}
