{
 "cells": [
  {
   "cell_type": "code",
   "execution_count": 130,
   "metadata": {
    "ExecuteTime": {
     "end_time": "2018-11-06T00:58:11.912260Z",
     "start_time": "2018-11-06T00:58:11.711374Z"
    }
   },
   "outputs": [
    {
     "name": "stdout",
     "output_type": "stream",
     "text": [
      "The autoreload extension is already loaded. To reload it, use:\n",
      "  %reload_ext autoreload\n"
     ]
    }
   ],
   "source": [
    "import pandas as pd\n",
    "import numpy as np\n",
    "import time\n",
    "from time import mktime\n",
    "from datetime import datetime, timedelta\n",
    "import geopy.distance\n",
    "import gc\n",
    "import warnings\n",
    "warnings.filterwarnings(\"ignore\")\n",
    "\n",
    "%load_ext autoreload\n",
    "%autoreload 2\n",
    "\n",
    "import data_prep_functions\n",
    "import request_api_nba_stats"
   ]
  },
  {
   "cell_type": "code",
   "execution_count": 2,
   "metadata": {
    "ExecuteTime": {
     "end_time": "2018-11-01T04:20:17.052319Z",
     "start_time": "2018-11-01T04:20:15.600410Z"
    },
    "collapsed": true
   },
   "outputs": [],
   "source": [
    "base_ini = pd.read_csv(\"../bases_nba_stats/aux_files/base_nba_per_game_16_17.csv\")"
   ]
  },
  {
   "cell_type": "code",
   "execution_count": 3,
   "metadata": {
    "ExecuteTime": {
     "end_time": "2018-11-01T04:20:18.195196Z",
     "start_time": "2018-11-01T04:20:17.518438Z"
    },
    "collapsed": true
   },
   "outputs": [],
   "source": [
    "all_games_16_17 = data_prep_functions.prepara_base(base_ini)"
   ]
  },
  {
   "cell_type": "code",
   "execution_count": 4,
   "metadata": {
    "ExecuteTime": {
     "end_time": "2018-11-01T04:20:33.992031Z",
     "start_time": "2018-11-01T04:20:18.616397Z"
    },
    "collapsed": true
   },
   "outputs": [],
   "source": [
    "all_games_16_17 = data_prep_functions.cria_features(all_games_16_17)"
   ]
  },
  {
   "cell_type": "code",
   "execution_count": 5,
   "metadata": {
    "ExecuteTime": {
     "end_time": "2018-11-01T04:33:10.835930Z",
     "start_time": "2018-11-01T04:20:33.994028Z"
    }
   },
   "outputs": [
    {
     "name": "stdout",
     "output_type": "stream",
     "text": [
      "NOP @ POR 2017-04-12 5\r"
     ]
    }
   ],
   "source": [
    "geral_16_17 = data_prep_functions.gera_last_N_games(all_games_16_17)"
   ]
  },
  {
   "cell_type": "code",
   "execution_count": 6,
   "metadata": {
    "ExecuteTime": {
     "end_time": "2018-11-01T04:33:11.064815Z",
     "start_time": "2018-11-01T04:33:10.838926Z"
    }
   },
   "outputs": [
    {
     "data": {
      "text/html": [
       "<div>\n",
       "<style scoped>\n",
       "    .dataframe tbody tr th:only-of-type {\n",
       "        vertical-align: middle;\n",
       "    }\n",
       "\n",
       "    .dataframe tbody tr th {\n",
       "        vertical-align: top;\n",
       "    }\n",
       "\n",
       "    .dataframe thead th {\n",
       "        text-align: right;\n",
       "    }\n",
       "</style>\n",
       "<table border=\"1\" class=\"dataframe\">\n",
       "  <thead>\n",
       "    <tr style=\"text-align: right;\">\n",
       "      <th></th>\n",
       "      <th>team_home</th>\n",
       "      <th>team_away</th>\n",
       "      <th>PTS_home</th>\n",
       "      <th>PTS_away</th>\n",
       "      <th>FGA_home</th>\n",
       "      <th>FGA_away</th>\n",
       "      <th>fl_home_win</th>\n",
       "    </tr>\n",
       "    <tr>\n",
       "      <th>GAME</th>\n",
       "      <th></th>\n",
       "      <th></th>\n",
       "      <th></th>\n",
       "      <th></th>\n",
       "      <th></th>\n",
       "      <th></th>\n",
       "      <th></th>\n",
       "    </tr>\n",
       "  </thead>\n",
       "  <tbody>\n",
       "    <tr>\n",
       "      <th>IND @ CLE 2017-04-02</th>\n",
       "      <td>CLE</td>\n",
       "      <td>IND</td>\n",
       "      <td>135</td>\n",
       "      <td>130</td>\n",
       "      <td>95</td>\n",
       "      <td>105</td>\n",
       "      <td>1</td>\n",
       "    </tr>\n",
       "    <tr>\n",
       "      <th>TOR @ IND 2017-04-04</th>\n",
       "      <td>IND</td>\n",
       "      <td>TOR</td>\n",
       "      <td>108</td>\n",
       "      <td>90</td>\n",
       "      <td>89</td>\n",
       "      <td>76</td>\n",
       "      <td>1</td>\n",
       "    </tr>\n",
       "    <tr>\n",
       "      <th>MIL @ IND 2017-04-06</th>\n",
       "      <td>IND</td>\n",
       "      <td>MIL</td>\n",
       "      <td>104</td>\n",
       "      <td>89</td>\n",
       "      <td>80</td>\n",
       "      <td>71</td>\n",
       "      <td>1</td>\n",
       "    </tr>\n",
       "    <tr>\n",
       "      <th>IND @ ORL 2017-04-08</th>\n",
       "      <td>ORL</td>\n",
       "      <td>IND</td>\n",
       "      <td>112</td>\n",
       "      <td>127</td>\n",
       "      <td>84</td>\n",
       "      <td>86</td>\n",
       "      <td>0</td>\n",
       "    </tr>\n",
       "    <tr>\n",
       "      <th>IND @ PHI 2017-04-10</th>\n",
       "      <td>PHI</td>\n",
       "      <td>IND</td>\n",
       "      <td>111</td>\n",
       "      <td>120</td>\n",
       "      <td>75</td>\n",
       "      <td>85</td>\n",
       "      <td>0</td>\n",
       "    </tr>\n",
       "  </tbody>\n",
       "</table>\n",
       "</div>"
      ],
      "text/plain": [
       "                     team_home team_away  PTS_home  PTS_away  FGA_home  \\\n",
       "GAME                                                                     \n",
       "IND @ CLE 2017-04-02       CLE       IND       135       130        95   \n",
       "TOR @ IND 2017-04-04       IND       TOR       108        90        89   \n",
       "MIL @ IND 2017-04-06       IND       MIL       104        89        80   \n",
       "IND @ ORL 2017-04-08       ORL       IND       112       127        84   \n",
       "IND @ PHI 2017-04-10       PHI       IND       111       120        75   \n",
       "\n",
       "                      FGA_away  fl_home_win  \n",
       "GAME                                         \n",
       "IND @ CLE 2017-04-02       105            1  \n",
       "TOR @ IND 2017-04-04        76            1  \n",
       "MIL @ IND 2017-04-06        71            1  \n",
       "IND @ ORL 2017-04-08        86            0  \n",
       "IND @ PHI 2017-04-10        85            0  "
      ]
     },
     "execution_count": 6,
     "metadata": {},
     "output_type": "execute_result"
    }
   ],
   "source": [
    "data_prep_functions.get_last_games(all_games_16_17, \n",
    "                                   geral_16_17[geral_16_17.TEAM_NAME_home == \"Pacers\"].tail(1).DATE.iloc[0]\n",
    "                                   , \"IND\")[[\"team_home\", \"team_away\", \"PTS_home\", \"PTS_away\", \n",
    "                                             \"FGA_home\", \"FGA_away\", \"fl_home_win\"]]"
   ]
  },
  {
   "cell_type": "code",
   "execution_count": 7,
   "metadata": {
    "ExecuteTime": {
     "end_time": "2018-11-01T04:33:11.248692Z",
     "start_time": "2018-11-01T04:33:11.066795Z"
    }
   },
   "outputs": [
    {
     "data": {
      "text/plain": [
       "ATL @ IND 2017-04-12    89.0\n",
       "Name: FGA_home_L5, dtype: float64"
      ]
     },
     "execution_count": 7,
     "metadata": {},
     "output_type": "execute_result"
    }
   ],
   "source": [
    "geral_16_17[geral_16_17.TEAM_NAME_home == \"Pacers\"].tail(1)[\"FGA_home_L5\"]"
   ]
  },
  {
   "cell_type": "code",
   "execution_count": 8,
   "metadata": {
    "ExecuteTime": {
     "end_time": "2018-11-01T04:33:11.989268Z",
     "start_time": "2018-11-01T04:33:11.251690Z"
    }
   },
   "outputs": [
    {
     "name": "stdout",
     "output_type": "stream",
     "text": [
      "5 AVG_DAYS_FROM_LG                              \r"
     ]
    }
   ],
   "source": [
    "cross_16_17 = data_prep_functions.variaveis_delta(geral_16_17)"
   ]
  },
  {
   "cell_type": "code",
   "execution_count": 9,
   "metadata": {
    "ExecuteTime": {
     "end_time": "2018-11-01T04:33:16.585032Z",
     "start_time": "2018-11-01T04:33:11.991267Z"
    },
    "collapsed": true
   },
   "outputs": [],
   "source": [
    "cross_16_17.to_csv(\"../bases_nba_stats/delta_cross_L5_nba_16_17.csv\")"
   ]
  },
  {
   "cell_type": "code",
   "execution_count": 11,
   "metadata": {
    "ExecuteTime": {
     "end_time": "2018-11-01T04:43:37.894068Z",
     "start_time": "2018-11-01T04:43:37.715160Z"
    }
   },
   "outputs": [
    {
     "data": {
      "text/plain": [
       "0.583739837398374"
      ]
     },
     "execution_count": 11,
     "metadata": {},
     "output_type": "execute_result"
    }
   ],
   "source": [
    "cross_16_17.fl_home_win.mean()"
   ]
  },
  {
   "cell_type": "markdown",
   "metadata": {},
   "source": [
    "### BASES PARA PREDICT"
   ]
  },
  {
   "cell_type": "code",
   "execution_count": null,
   "metadata": {
    "collapsed": true
   },
   "outputs": [],
   "source": [
    "all_games = pd.read_csv(\"all_games_nba_18_19.csv\")"
   ]
  },
  {
   "cell_type": "code",
   "execution_count": 137,
   "metadata": {
    "ExecuteTime": {
     "end_time": "2018-11-06T01:03:01.403502Z",
     "start_time": "2018-11-06T01:01:52.296996Z"
    },
    "scrolled": true
   },
   "outputs": [
    {
     "name": "stdout",
     "output_type": "stream",
     "text": [
      "('0021800149', '2018-11-06')\r"
     ]
    }
   ],
   "source": [
    "games_ids = request_api_nba_stats.get_list_gameids(datetime.today(), start_at=len(all_games)) "
   ]
  },
  {
   "cell_type": "code",
   "execution_count": 138,
   "metadata": {
    "ExecuteTime": {
     "end_time": "2018-11-06T01:22:40.242910Z",
     "start_time": "2018-11-06T01:03:23.618131Z"
    },
    "scrolled": true
   },
   "outputs": [
    {
     "name": "stdout",
     "output_type": "stream",
     "text": [
      "0021800148 2018-11-05 - defensive                \r"
     ]
    }
   ],
   "source": [
    "df_full, df_full_jogo, erros = request_api_nba_stats.get_nba_stats_data(games_ids)"
   ]
  },
  {
   "cell_type": "code",
   "execution_count": 139,
   "metadata": {
    "ExecuteTime": {
     "end_time": "2018-11-06T01:22:41.214352Z",
     "start_time": "2018-11-06T01:22:40.245906Z"
    },
    "collapsed": true
   },
   "outputs": [],
   "source": [
    "base_nba_2018 = pd.concat(df_full_jogo).reset_index()"
   ]
  },
  {
   "cell_type": "code",
   "execution_count": 140,
   "metadata": {
    "ExecuteTime": {
     "end_time": "2018-11-06T09:55:06.935319Z",
     "start_time": "2018-11-06T09:55:05.214261Z"
    },
    "collapsed": true
   },
   "outputs": [],
   "source": [
    "new_all_games = data_prep_functions.prepara_base(base_nba_2018)\n",
    "new_all_games = data_prep_functions.cria_features(new_all_games, all_games)"
   ]
  },
  {
   "cell_type": "code",
   "execution_count": 110,
   "metadata": {
    "ExecuteTime": {
     "end_time": "2018-11-06T00:48:42.906108Z",
     "start_time": "2018-11-06T00:48:42.674222Z"
    }
   },
   "outputs": [],
   "source": [
    "all_games = pd.concat([all_games, new_all_games])"
   ]
  },
  {
   "cell_type": "code",
   "execution_count": 145,
   "metadata": {
    "ExecuteTime": {
     "end_time": "2018-11-06T09:59:21.067840Z",
     "start_time": "2018-11-06T09:58:13.053655Z"
    }
   },
   "outputs": [
    {
     "name": "stdout",
     "output_type": "stream",
     "text": [
      "NYK @ WAS 2018-11-04 5\r"
     ]
    }
   ],
   "source": [
    "resp = data_prep_functions.gera_last_N_games(all_games, N=[5])"
   ]
  },
  {
   "cell_type": "code",
   "execution_count": 146,
   "metadata": {
    "ExecuteTime": {
     "end_time": "2018-11-06T09:59:21.697478Z",
     "start_time": "2018-11-06T09:59:21.070836Z"
    }
   },
   "outputs": [
    {
     "name": "stdout",
     "output_type": "stream",
     "text": [
      "5 PTS                                           \r"
     ]
    }
   ],
   "source": [
    "delta_L5_2018 = data_prep_functions.variaveis_delta(resp)"
   ]
  },
  {
   "cell_type": "code",
   "execution_count": 147,
   "metadata": {
    "ExecuteTime": {
     "end_time": "2018-11-06T09:59:22.304165Z",
     "start_time": "2018-11-06T09:59:21.703477Z"
    },
    "collapsed": true
   },
   "outputs": [],
   "source": [
    "delta_L5_2018.to_csv(\"delta_cross_L5_nba_18_19.csv\")"
   ]
  },
  {
   "cell_type": "code",
   "execution_count": 144,
   "metadata": {
    "ExecuteTime": {
     "end_time": "2018-11-06T09:58:08.510123Z",
     "start_time": "2018-11-06T09:58:08.278239Z"
    },
    "collapsed": true
   },
   "outputs": [],
   "source": [
    "all_games.to_csv(\"all_games_nba_18_19.csv\")"
   ]
  },
  {
   "cell_type": "markdown",
   "metadata": {},
   "source": [
    "### Fluxo Predição no Dia"
   ]
  },
  {
   "cell_type": "code",
   "execution_count": 115,
   "metadata": {
    "ExecuteTime": {
     "end_time": "2018-11-06T00:50:26.092028Z",
     "start_time": "2018-11-06T00:50:21.010187Z"
    }
   },
   "outputs": [
    {
     "name": "stdout",
     "output_type": "stream",
     "text": [
      "('0021800153', '2018-11-07')\r"
     ]
    }
   ],
   "source": [
    "new_games_ids = request_api_nba_stats.get_list_gameids(max_date = datetime.fromtimestamp(mktime(time.localtime(time.time() + 24*3600)))\n",
    "                                                   , year = '2018', start_at=len(all_games))"
   ]
  },
  {
   "cell_type": "code",
   "execution_count": 132,
   "metadata": {
    "ExecuteTime": {
     "end_time": "2018-11-06T00:59:09.329996Z",
     "start_time": "2018-11-06T00:59:06.026479Z"
    }
   },
   "outputs": [
    {
     "name": "stdout",
     "output_type": "stream",
     "text": [
      "MIL @ POR 2018-11-06              \r"
     ]
    }
   ],
   "source": [
    "new_games = request_api_nba_stats.get_game_infos_dates(new_games_ids)"
   ]
  },
  {
   "cell_type": "code",
   "execution_count": 133,
   "metadata": {
    "ExecuteTime": {
     "end_time": "2018-11-06T00:59:11.439696Z",
     "start_time": "2018-11-06T00:59:11.133885Z"
    }
   },
   "outputs": [],
   "source": [
    "new_games = data_prep_functions.cria_features(new_games, all_games)"
   ]
  },
  {
   "cell_type": "code",
   "execution_count": 134,
   "metadata": {
    "ExecuteTime": {
     "end_time": "2018-11-06T00:59:17.665176Z",
     "start_time": "2018-11-06T00:59:12.478548Z"
    }
   },
   "outputs": [
    {
     "name": "stdout",
     "output_type": "stream",
     "text": [
      "MIL @ POR 2018-11-06 5\r"
     ]
    }
   ],
   "source": [
    "to_predict = data_prep_functions.gera_last_N_games(new_games, all_games)"
   ]
  },
  {
   "cell_type": "code",
   "execution_count": 135,
   "metadata": {
    "ExecuteTime": {
     "end_time": "2018-11-06T00:59:19.209314Z",
     "start_time": "2018-11-06T00:59:18.607671Z"
    }
   },
   "outputs": [
    {
     "name": "stdout",
     "output_type": "stream",
     "text": [
      "5 PTS                                           \r"
     ]
    }
   ],
   "source": [
    "to_predict = data_prep_functions.variaveis_delta(to_predict)"
   ]
  },
  {
   "cell_type": "code",
   "execution_count": 136,
   "metadata": {
    "ExecuteTime": {
     "end_time": "2018-11-06T00:59:20.840023Z",
     "start_time": "2018-11-06T00:59:20.640138Z"
    }
   },
   "outputs": [
    {
     "data": {
      "text/html": [
       "<div>\n",
       "<style scoped>\n",
       "    .dataframe tbody tr th:only-of-type {\n",
       "        vertical-align: middle;\n",
       "    }\n",
       "\n",
       "    .dataframe tbody tr th {\n",
       "        vertical-align: top;\n",
       "    }\n",
       "\n",
       "    .dataframe thead th {\n",
       "        text-align: right;\n",
       "    }\n",
       "</style>\n",
       "<table border=\"1\" class=\"dataframe\">\n",
       "  <thead>\n",
       "    <tr style=\"text-align: right;\">\n",
       "      <th></th>\n",
       "      <th>D2_PLUS_MINUS_L5</th>\n",
       "      <th>D1_WIN_PCT_L5</th>\n",
       "    </tr>\n",
       "  </thead>\n",
       "  <tbody>\n",
       "    <tr>\n",
       "      <th>BOS @ DEN 2018-11-05</th>\n",
       "      <td>9.8</td>\n",
       "      <td>0.0</td>\n",
       "    </tr>\n",
       "    <tr>\n",
       "      <th>TOR @ UTA 2018-11-05</th>\n",
       "      <td>-6.2</td>\n",
       "      <td>-0.4</td>\n",
       "    </tr>\n",
       "    <tr>\n",
       "      <th>MEM @ GSW 2018-11-05</th>\n",
       "      <td>18.4</td>\n",
       "      <td>0.2</td>\n",
       "    </tr>\n",
       "    <tr>\n",
       "      <th>MIN @ LAC 2018-11-05</th>\n",
       "      <td>20.8</td>\n",
       "      <td>0.2</td>\n",
       "    </tr>\n",
       "    <tr>\n",
       "      <th>ATL @ CHA 2018-11-06</th>\n",
       "      <td>24.4</td>\n",
       "      <td>0.4</td>\n",
       "    </tr>\n",
       "    <tr>\n",
       "      <th>WAS @ DAL 2018-11-06</th>\n",
       "      <td>11.6</td>\n",
       "      <td>0.0</td>\n",
       "    </tr>\n",
       "    <tr>\n",
       "      <th>BKN @ PHX 2018-11-06</th>\n",
       "      <td>-1.6</td>\n",
       "      <td>-0.2</td>\n",
       "    </tr>\n",
       "    <tr>\n",
       "      <th>MIL @ POR 2018-11-06</th>\n",
       "      <td>4.8</td>\n",
       "      <td>0.0</td>\n",
       "    </tr>\n",
       "  </tbody>\n",
       "</table>\n",
       "</div>"
      ],
      "text/plain": [
       "                      D2_PLUS_MINUS_L5  D1_WIN_PCT_L5\n",
       "BOS @ DEN 2018-11-05               9.8            0.0\n",
       "TOR @ UTA 2018-11-05              -6.2           -0.4\n",
       "MEM @ GSW 2018-11-05              18.4            0.2\n",
       "MIN @ LAC 2018-11-05              20.8            0.2\n",
       "ATL @ CHA 2018-11-06              24.4            0.4\n",
       "WAS @ DAL 2018-11-06              11.6            0.0\n",
       "BKN @ PHX 2018-11-06              -1.6           -0.2\n",
       "MIL @ POR 2018-11-06               4.8            0.0"
      ]
     },
     "execution_count": 136,
     "metadata": {},
     "output_type": "execute_result"
    }
   ],
   "source": [
    "to_predict[['D2_PLUS_MINUS_L5', 'D1_WIN_PCT_L5']]"
   ]
  }
 ],
 "metadata": {
  "kernelspec": {
   "display_name": "Python 3",
   "language": "python",
   "name": "python3"
  },
  "language_info": {
   "codemirror_mode": {
    "name": "ipython",
    "version": 3
   },
   "file_extension": ".py",
   "mimetype": "text/x-python",
   "name": "python",
   "nbconvert_exporter": "python",
   "pygments_lexer": "ipython3",
   "version": "3.6.3"
  },
  "toc": {
   "base_numbering": 1,
   "nav_menu": {},
   "number_sections": true,
   "sideBar": true,
   "skip_h1_title": false,
   "title_cell": "Table of Contents",
   "title_sidebar": "Contents",
   "toc_cell": false,
   "toc_position": {},
   "toc_section_display": true,
   "toc_window_display": false
  },
  "varInspector": {
   "cols": {
    "lenName": 16,
    "lenType": 16,
    "lenVar": 40
   },
   "kernels_config": {
    "python": {
     "delete_cmd_postfix": "",
     "delete_cmd_prefix": "del ",
     "library": "var_list.py",
     "varRefreshCmd": "print(var_dic_list())"
    },
    "r": {
     "delete_cmd_postfix": ") ",
     "delete_cmd_prefix": "rm(",
     "library": "var_list.r",
     "varRefreshCmd": "cat(var_dic_list()) "
    }
   },
   "types_to_exclude": [
    "module",
    "function",
    "builtin_function_or_method",
    "instance",
    "_Feature"
   ],
   "window_display": false
  }
 },
 "nbformat": 4,
 "nbformat_minor": 2
}
